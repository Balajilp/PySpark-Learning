{
  "nbformat": 4,
  "nbformat_minor": 0,
  "metadata": {
    "colab": {
      "name": "Datagrokr_Assessment.ipynb",
      "provenance": [],
      "authorship_tag": "ABX9TyPnEF/eqwY1VpSWdavcYEPM",
      "include_colab_link": true
    },
    "kernelspec": {
      "name": "python3",
      "display_name": "Python 3"
    },
    "language_info": {
      "name": "python"
    }
  },
  "cells": [
    {
      "cell_type": "markdown",
      "metadata": {
        "id": "view-in-github",
        "colab_type": "text"
      },
      "source": [
        "<a href=\"https://colab.research.google.com/github/Balajilp/PySpark-Learning/blob/main/Datagrokr_Assessment.ipynb\" target=\"_parent\"><img src=\"https://colab.research.google.com/assets/colab-badge.svg\" alt=\"Open In Colab\"/></a>"
      ]
    },
    {
      "cell_type": "markdown",
      "source": [
        "# **SECTION 1**\n",
        "\n"
      ],
      "metadata": {
        "id": "ZF01HHILapNb"
      }
    },
    {
      "cell_type": "code",
      "source": [
        "!apt-get install openjdk-8-jdk-headless -qq > /dev/null"
      ],
      "metadata": {
        "id": "zhIcTXh-aqED"
      },
      "execution_count": null,
      "outputs": []
    },
    {
      "cell_type": "code",
      "source": [
        "!wget -q https://archive.apache.org/dist/spark/spark-3.1.2/spark-3.1.2-bin-hadoop2.7.tgz"
      ],
      "metadata": {
        "id": "3Pz3YVziRZ-5"
      },
      "execution_count": null,
      "outputs": []
    },
    {
      "cell_type": "code",
      "source": [
        "!tar xf spark-3.1.2-bin-hadoop2.7.tgz"
      ],
      "metadata": {
        "id": "_w1OPEbuTXbF"
      },
      "execution_count": null,
      "outputs": []
    },
    {
      "cell_type": "code",
      "source": [
        "import os\n",
        "os.environ[\"JAVA_HOME\"] = \"/usr/lib/jvm/java-8-openjdk-amd64\"\n",
        "\n",
        "os.environ[\"SPARK_HOME\"] = \"/content/spark-3.1.2-bin-hadoop2.7\""
      ],
      "metadata": {
        "id": "-0YV050kTkJR"
      },
      "execution_count": null,
      "outputs": []
    },
    {
      "cell_type": "code",
      "source": [
        "!pip install -q findspark\n",
        "import findspark\n",
        "findspark.init()"
      ],
      "metadata": {
        "id": "4v69owcgTv0C"
      },
      "execution_count": null,
      "outputs": []
    },
    {
      "cell_type": "code",
      "source": [
        "# integrating google colab with drive\n",
        "from google.colab import drive\n",
        "drive.mount('/content/drive/')"
      ],
      "metadata": {
        "colab": {
          "base_uri": "https://localhost:8080/"
        },
        "id": "OFeqTo4qXdXq",
        "outputId": "54b9c0ee-ca63-4066-c0dd-a5c2d8a5c2f6"
      },
      "execution_count": null,
      "outputs": [
        {
          "output_type": "stream",
          "name": "stdout",
          "text": [
            "Drive already mounted at /content/drive/; to attempt to forcibly remount, call drive.mount(\"/content/drive/\", force_remount=True).\n"
          ]
        }
      ]
    },
    {
      "cell_type": "code",
      "source": [
        "# Creating sparksession\n",
        "from pyspark.sql import SparkSession\n",
        "spark = (SparkSession\n",
        ".builder\n",
        ".appName(\"My_work\")\n",
        ".getOrCreate())"
      ],
      "metadata": {
        "id": "4AasLixyT6fJ"
      },
      "execution_count": null,
      "outputs": []
    },
    {
      "cell_type": "code",
      "source": [
        "# Reading the Venue Csv file\n",
        "df_venue = spark.read.csv('/content/drive/MyDrive/Colab Notebooks/DataSet/ipl_venue.csv', header=True, inferSchema=True)\n",
        "\n",
        "# printing the Schema\n",
        "df_venue.printSchema()"
      ],
      "metadata": {
        "colab": {
          "base_uri": "https://localhost:8080/"
        },
        "id": "UeouJAJaUSd2",
        "outputId": "b88e0bd8-e920-4c0e-a698-67fd1d2bf4c4"
      },
      "execution_count": null,
      "outputs": [
        {
          "output_type": "stream",
          "name": "stdout",
          "text": [
            "root\n",
            " |-- venue_id: integer (nullable = true)\n",
            " |-- venue: string (nullable = true)\n",
            " |-- city: string (nullable = true)\n",
            "\n"
          ]
        }
      ]
    },
    {
      "cell_type": "code",
      "source": [
        "# printing the top five records\n",
        "df_venue.show(5)"
      ],
      "metadata": {
        "colab": {
          "base_uri": "https://localhost:8080/"
        },
        "id": "6F9n7rXRYVkT",
        "outputId": "68db071b-bc99-4f14-ab8b-c6dfc0aa0ad1"
      },
      "execution_count": null,
      "outputs": [
        {
          "output_type": "stream",
          "name": "stdout",
          "text": [
            "+--------+--------------------+-------------+\n",
            "|venue_id|               venue|         city|\n",
            "+--------+--------------------+-------------+\n",
            "|       1|Dr. Y.S. Rajasekh...|Visakhapatnam|\n",
            "|       2|Sharjah Cricket S...|      Sharjah|\n",
            "|       3|JSCA Internationa...|       Ranchi|\n",
            "|       4|Saurashtra Cricke...|       Rajkot|\n",
            "|       5|Shaheed Veer Nara...|       Raipur|\n",
            "+--------+--------------------+-------------+\n",
            "only showing top 5 rows\n",
            "\n"
          ]
        }
      ]
    },
    {
      "cell_type": "code",
      "source": [
        "# Reading the Ball by Ball csv file\n",
        "df_ipl_ball = spark.read.csv('/content/drive/MyDrive/Colab Notebooks/DataSet/ipl_ball_by_ball.csv', header=True, inferSchema=True)\n",
        "\n",
        "# printing Schema\n",
        "df_ipl_ball.printSchema()"
      ],
      "metadata": {
        "colab": {
          "base_uri": "https://localhost:8080/"
        },
        "id": "BV9fBJdCW_UP",
        "outputId": "0819868c-ce21-4451-f9cf-c7acd5023f28"
      },
      "execution_count": null,
      "outputs": [
        {
          "output_type": "stream",
          "name": "stdout",
          "text": [
            "root\n",
            " |-- match_id: integer (nullable = true)\n",
            " |-- inning: integer (nullable = true)\n",
            " |-- overs: integer (nullable = true)\n",
            " |-- ball: integer (nullable = true)\n",
            " |-- batsman: string (nullable = true)\n",
            " |-- non_striker: string (nullable = true)\n",
            " |-- bowler: string (nullable = true)\n",
            " |-- batsman_runs: integer (nullable = true)\n",
            " |-- extra_runs: integer (nullable = true)\n",
            " |-- total_runs: integer (nullable = true)\n",
            " |-- non_boundary: integer (nullable = true)\n",
            " |-- is_wicket: integer (nullable = true)\n",
            " |-- dismissal_kind: string (nullable = true)\n",
            " |-- player_dismissed: string (nullable = true)\n",
            " |-- fielder: string (nullable = true)\n",
            " |-- extras_type: string (nullable = true)\n",
            " |-- batting_team: string (nullable = true)\n",
            " |-- bowling_team: string (nullable = true)\n",
            "\n"
          ]
        }
      ]
    },
    {
      "cell_type": "code",
      "source": [
        "# printing the top 5 records\n",
        "df_ipl_ball.show(5)"
      ],
      "metadata": {
        "colab": {
          "base_uri": "https://localhost:8080/"
        },
        "id": "g1S6YmYAYTXd",
        "outputId": "95662da4-a9fe-4f66-bbf9-0fe9cd260414"
      },
      "execution_count": null,
      "outputs": [
        {
          "output_type": "stream",
          "name": "stdout",
          "text": [
            "+--------+------+-----+----+-------------+-------------+------------+------------+----------+----------+------------+---------+--------------+----------------+-------+-----------+--------------------+--------------+\n",
            "|match_id|inning|overs|ball|      batsman|  non_striker|      bowler|batsman_runs|extra_runs|total_runs|non_boundary|is_wicket|dismissal_kind|player_dismissed|fielder|extras_type|        batting_team|  bowling_team|\n",
            "+--------+------+-----+----+-------------+-------------+------------+------------+----------+----------+------------+---------+--------------+----------------+-------+-----------+--------------------+--------------+\n",
            "|  419157|     2|   16|   4|      V Kohli|R Vinay Kumar|CRD Fernando|           0|         0|         0|           0|        0|            NA|              NA|     NA|         NA|Royal Challengers...|Mumbai Indians|\n",
            "|  419157|     2|   16|   5|      V Kohli|R Vinay Kumar|CRD Fernando|           1|         0|         1|           0|        0|            NA|              NA|     NA|         NA|Royal Challengers...|Mumbai Indians|\n",
            "|  419157|     2|   16|   6|R Vinay Kumar|      V Kohli|CRD Fernando|           1|         0|         1|           0|        0|            NA|              NA|     NA|         NA|Royal Challengers...|Mumbai Indians|\n",
            "|  419157|     2|   17|   1|R Vinay Kumar|      V Kohli|   R McLaren|           1|         0|         1|           0|        0|            NA|              NA|     NA|         NA|Royal Challengers...|Mumbai Indians|\n",
            "|  419157|     2|   17|   2|      V Kohli|R Vinay Kumar|   R McLaren|           1|         0|         1|           0|        0|            NA|              NA|     NA|         NA|Royal Challengers...|Mumbai Indians|\n",
            "+--------+------+-----+----+-------------+-------------+------------+------------+----------+----------+------------+---------+--------------+----------------+-------+-----------+--------------------+--------------+\n",
            "only showing top 5 rows\n",
            "\n"
          ]
        }
      ]
    },
    {
      "cell_type": "code",
      "source": [
        "# Reading the matches DataFrame\n",
        "df_matches = spark.read.csv('/content/drive/MyDrive/Colab Notebooks/DataSet/ipl_matches.csv', header=True, inferSchema=True)\n",
        "\n",
        "# printing the Schema\n",
        "df_matches.printSchema()"
      ],
      "metadata": {
        "colab": {
          "base_uri": "https://localhost:8080/"
        },
        "id": "87-ggdz0Ypa5",
        "outputId": "62fed90d-93bc-4447-cd28-d278645672c9"
      },
      "execution_count": null,
      "outputs": [
        {
          "output_type": "stream",
          "name": "stdout",
          "text": [
            "root\n",
            " |-- match_id: integer (nullable = true)\n",
            " |-- date: string (nullable = true)\n",
            " |-- player_of_match: string (nullable = true)\n",
            " |-- venue_id: integer (nullable = true)\n",
            " |-- neutral_venue: integer (nullable = true)\n",
            " |-- team1: string (nullable = true)\n",
            " |-- team2: string (nullable = true)\n",
            " |-- toss_winner: string (nullable = true)\n",
            " |-- toss_decision: string (nullable = true)\n",
            " |-- winner: string (nullable = true)\n",
            " |-- result: string (nullable = true)\n",
            " |-- result_margin: string (nullable = true)\n",
            " |-- eliminator: string (nullable = true)\n",
            " |-- method: string (nullable = true)\n",
            " |-- umpire1: string (nullable = true)\n",
            " |-- umpire2: string (nullable = true)\n",
            "\n"
          ]
        }
      ]
    },
    {
      "cell_type": "code",
      "source": [
        "# Printing the top 5 records\n",
        "df_matches.show(5)"
      ],
      "metadata": {
        "colab": {
          "base_uri": "https://localhost:8080/"
        },
        "id": "nnY5aQ0zZAOk",
        "outputId": "fe3de044-21ff-4352-beed-b1819323e6bc"
      },
      "execution_count": null,
      "outputs": [
        {
          "output_type": "stream",
          "name": "stdout",
          "text": [
            "+--------+----------+---------------+--------+-------------+--------------------+--------------------+--------------------+-------------+--------------------+-------+-------------+----------+------+---------+--------------+\n",
            "|match_id|      date|player_of_match|venue_id|neutral_venue|               team1|               team2|         toss_winner|toss_decision|              winner| result|result_margin|eliminator|method|  umpire1|       umpire2|\n",
            "+--------+----------+---------------+--------+-------------+--------------------+--------------------+--------------------+-------------+--------------------+-------+-------------+----------+------+---------+--------------+\n",
            "|  335982|2008-04-18|    BB McCullum|      35|            0|Royal Challengers...|Kolkata Knight Ri...|Royal Challengers...|        field|Kolkata Knight Ri...|   runs|          140|         N|    NA|Asad Rauf|   RE Koertzen|\n",
            "|  335983|2008-04-19|     MEK Hussey|      31|            0|     Kings XI Punjab| Chennai Super Kings| Chennai Super Kings|          bat| Chennai Super Kings|   runs|           33|         N|    NA|MR Benson|    SL Shastri|\n",
            "|  335984|2008-04-19|    MF Maharoof|      27|            0|    Delhi Daredevils|    Rajasthan Royals|    Rajasthan Royals|          bat|    Delhi Daredevils|wickets|            9|         N|    NA|Aleem Dar|GA Pratapkumar|\n",
            "|  335985|2008-04-20|     MV Boucher|      14|            0|      Mumbai Indians|Royal Challengers...|      Mumbai Indians|          bat|Royal Challengers...|wickets|            5|         N|    NA| SJ Davis|     DJ Harper|\n",
            "|  335986|2008-04-20|      DJ Hussey|      15|            0|Kolkata Knight Ri...|     Deccan Chargers|     Deccan Chargers|          bat|Kolkata Knight Ri...|wickets|            5|         N|    NA|BF Bowden|   K Hariharan|\n",
            "+--------+----------+---------------+--------+-------------+--------------------+--------------------+--------------------+-------------+--------------------+-------+-------------+----------+------+---------+--------------+\n",
            "only showing top 5 rows\n",
            "\n"
          ]
        }
      ]
    },
    {
      "cell_type": "code",
      "source": [
        "# adding a venue dataframe into a cluster\n",
        "df_venue.createOrReplaceTempView('venue_df')"
      ],
      "metadata": {
        "id": "OBh_NLoHZuDC"
      },
      "execution_count": null,
      "outputs": []
    },
    {
      "cell_type": "code",
      "source": [
        "# adding a ipl dataframe into a cluster\n",
        "df_ipl_ball.createOrReplaceTempView('ipl_df')"
      ],
      "metadata": {
        "id": "bBGGzzSRZ_o2"
      },
      "execution_count": null,
      "outputs": []
    },
    {
      "cell_type": "code",
      "source": [
        "# adding a match dataframe into a cluster\n",
        "df_matches.createOrReplaceTempView('match_df')"
      ],
      "metadata": {
        "id": "Z3rf0c5gaH7f"
      },
      "execution_count": null,
      "outputs": []
    },
    {
      "cell_type": "code",
      "source": [
        "# printing the list of dataframe inside the catalog cluster\n",
        "spark.catalog.listTables()"
      ],
      "metadata": {
        "colab": {
          "base_uri": "https://localhost:8080/"
        },
        "id": "_70aUtKJaNr2",
        "outputId": "33ca4fb2-1b50-4454-d28b-b24df7e81db4"
      },
      "execution_count": null,
      "outputs": [
        {
          "output_type": "execute_result",
          "data": {
            "text/plain": [
              "[Table(name='ipl_df', database=None, description=None, tableType='TEMPORARY', isTemporary=True),\n",
              " Table(name='match_df', database=None, description=None, tableType='TEMPORARY', isTemporary=True),\n",
              " Table(name='venue_df', database=None, description=None, tableType='TEMPORARY', isTemporary=True)]"
            ]
          },
          "metadata": {},
          "execution_count": 86
        }
      ]
    },
    {
      "cell_type": "code",
      "source": [
        "# importing plotly library for visualization\n",
        "import plotly.express as px"
      ],
      "metadata": {
        "id": "PMmLhJ-oHVGf"
      },
      "execution_count": null,
      "outputs": []
    },
    {
      "cell_type": "markdown",
      "source": [
        "# **SECTION 2**"
      ],
      "metadata": {
        "id": "7uW4ZVdfaxUn"
      }
    },
    {
      "cell_type": "markdown",
      "source": [
        "## Question 1:\n",
        "Fine the top 3 venues which hosted the most number of eliminators?"
      ],
      "metadata": {
        "id": "8s9_TdeaiBb8"
      }
    },
    {
      "cell_type": "code",
      "source": [
        "# joining mathces and venue dataframes\n",
        "new_df = df_venue.join(df_matches, on='venue_id', how='inner')"
      ],
      "metadata": {
        "id": "CjxE2Mybhe1b"
      },
      "execution_count": null,
      "outputs": []
    },
    {
      "cell_type": "code",
      "source": [
        "# filtering where the eliminator is yes\n",
        "# selecting venue and eliminator features only\n",
        "# groupby count based on venue and add to to new dataframe\n",
        "new_ans_df1 = new_df.filter(new_df['eliminator']=='Y').select(['venue', 'eliminator']).groupBy('venue').count()\n",
        "\n",
        "# visualizing the five records from the dataframe\n",
        "new_ans_df1.show(5)"
      ],
      "metadata": {
        "colab": {
          "base_uri": "https://localhost:8080/"
        },
        "id": "HNXSVw1ihe6y",
        "outputId": "43bbf885-db8c-4ed9-bf85-c098419dc291"
      },
      "execution_count": null,
      "outputs": [
        {
          "output_type": "stream",
          "name": "stdout",
          "text": [
            "+--------------------+-----+\n",
            "|               venue|count|\n",
            "+--------------------+-----+\n",
            "|Dubai Internation...|    3|\n",
            "|Sardar Patel Stad...|    1|\n",
            "|    Feroz Shah Kotla|    1|\n",
            "|Rajiv Gandhi Inte...|    1|\n",
            "|M.Chinnaswamy Sta...|    1|\n",
            "+--------------------+-----+\n",
            "only showing top 5 rows\n",
            "\n"
          ]
        }
      ]
    },
    {
      "cell_type": "code",
      "source": [
        "panda1_plot = new_ans_df1.sort('count', ascending=False).toPandas()\n",
        "fig = px.bar(panda1_plot, x='venue', y='count', title='Top most hosted venues')\n",
        "fig.show()"
      ],
      "metadata": {
        "colab": {
          "base_uri": "https://localhost:8080/"
        },
        "id": "b78cJADPQMNu",
        "outputId": "f4312405-c661-429b-841f-34269242f024"
      },
      "execution_count": null,
      "outputs": [
        {
          "output_type": "display_data",
          "data": {
            "text/html": [
              "<html>\n",
              "<head><meta charset=\"utf-8\" /></head>\n",
              "<body>\n",
              "    <div>            <script src=\"https://cdnjs.cloudflare.com/ajax/libs/mathjax/2.7.5/MathJax.js?config=TeX-AMS-MML_SVG\"></script><script type=\"text/javascript\">if (window.MathJax) {MathJax.Hub.Config({SVG: {font: \"STIX-Web\"}});}</script>                <script type=\"text/javascript\">window.PlotlyConfig = {MathJaxConfig: 'local'};</script>\n",
              "        <script src=\"https://cdn.plot.ly/plotly-2.8.3.min.js\"></script>                <div id=\"fc540854-eb9e-4978-8dea-00e8d638bd21\" class=\"plotly-graph-div\" style=\"height:525px; width:100%;\"></div>            <script type=\"text/javascript\">                                    window.PLOTLYENV=window.PLOTLYENV || {};                                    if (document.getElementById(\"fc540854-eb9e-4978-8dea-00e8d638bd21\")) {                    Plotly.newPlot(                        \"fc540854-eb9e-4978-8dea-00e8d638bd21\",                        [{\"alignmentgroup\":\"True\",\"hovertemplate\":\"venue=%{x}<br>count=%{y}<extra></extra>\",\"legendgroup\":\"\",\"marker\":{\"color\":\"#636efa\",\"pattern\":{\"shape\":\"\"}},\"name\":\"\",\"offsetgroup\":\"\",\"orientation\":\"v\",\"showlegend\":false,\"textposition\":\"auto\",\"x\":[\"Dubai International Cricket Stadium\",\"Sheikh Zayed Stadium\",\"Sardar Patel Stadium, Motera\",\"Feroz Shah Kotla\",\"Rajiv Gandhi International Stadium, Uppal\",\"M.Chinnaswamy Stadium\",\"Wankhede Stadium\",\"Newlands\",\"Saurashtra Cricket Association Stadium\",\"MA Chidambaram Stadium, Chepauk\"],\"xaxis\":\"x\",\"y\":[3,2,1,1,1,1,1,1,1,1],\"yaxis\":\"y\",\"type\":\"bar\"}],                        {\"template\":{\"data\":{\"bar\":[{\"error_x\":{\"color\":\"#2a3f5f\"},\"error_y\":{\"color\":\"#2a3f5f\"},\"marker\":{\"line\":{\"color\":\"#E5ECF6\",\"width\":0.5},\"pattern\":{\"fillmode\":\"overlay\",\"size\":10,\"solidity\":0.2}},\"type\":\"bar\"}],\"barpolar\":[{\"marker\":{\"line\":{\"color\":\"#E5ECF6\",\"width\":0.5},\"pattern\":{\"fillmode\":\"overlay\",\"size\":10,\"solidity\":0.2}},\"type\":\"barpolar\"}],\"carpet\":[{\"aaxis\":{\"endlinecolor\":\"#2a3f5f\",\"gridcolor\":\"white\",\"linecolor\":\"white\",\"minorgridcolor\":\"white\",\"startlinecolor\":\"#2a3f5f\"},\"baxis\":{\"endlinecolor\":\"#2a3f5f\",\"gridcolor\":\"white\",\"linecolor\":\"white\",\"minorgridcolor\":\"white\",\"startlinecolor\":\"#2a3f5f\"},\"type\":\"carpet\"}],\"choropleth\":[{\"colorbar\":{\"outlinewidth\":0,\"ticks\":\"\"},\"type\":\"choropleth\"}],\"contour\":[{\"colorbar\":{\"outlinewidth\":0,\"ticks\":\"\"},\"colorscale\":[[0.0,\"#0d0887\"],[0.1111111111111111,\"#46039f\"],[0.2222222222222222,\"#7201a8\"],[0.3333333333333333,\"#9c179e\"],[0.4444444444444444,\"#bd3786\"],[0.5555555555555556,\"#d8576b\"],[0.6666666666666666,\"#ed7953\"],[0.7777777777777778,\"#fb9f3a\"],[0.8888888888888888,\"#fdca26\"],[1.0,\"#f0f921\"]],\"type\":\"contour\"}],\"contourcarpet\":[{\"colorbar\":{\"outlinewidth\":0,\"ticks\":\"\"},\"type\":\"contourcarpet\"}],\"heatmap\":[{\"colorbar\":{\"outlinewidth\":0,\"ticks\":\"\"},\"colorscale\":[[0.0,\"#0d0887\"],[0.1111111111111111,\"#46039f\"],[0.2222222222222222,\"#7201a8\"],[0.3333333333333333,\"#9c179e\"],[0.4444444444444444,\"#bd3786\"],[0.5555555555555556,\"#d8576b\"],[0.6666666666666666,\"#ed7953\"],[0.7777777777777778,\"#fb9f3a\"],[0.8888888888888888,\"#fdca26\"],[1.0,\"#f0f921\"]],\"type\":\"heatmap\"}],\"heatmapgl\":[{\"colorbar\":{\"outlinewidth\":0,\"ticks\":\"\"},\"colorscale\":[[0.0,\"#0d0887\"],[0.1111111111111111,\"#46039f\"],[0.2222222222222222,\"#7201a8\"],[0.3333333333333333,\"#9c179e\"],[0.4444444444444444,\"#bd3786\"],[0.5555555555555556,\"#d8576b\"],[0.6666666666666666,\"#ed7953\"],[0.7777777777777778,\"#fb9f3a\"],[0.8888888888888888,\"#fdca26\"],[1.0,\"#f0f921\"]],\"type\":\"heatmapgl\"}],\"histogram\":[{\"marker\":{\"pattern\":{\"fillmode\":\"overlay\",\"size\":10,\"solidity\":0.2}},\"type\":\"histogram\"}],\"histogram2d\":[{\"colorbar\":{\"outlinewidth\":0,\"ticks\":\"\"},\"colorscale\":[[0.0,\"#0d0887\"],[0.1111111111111111,\"#46039f\"],[0.2222222222222222,\"#7201a8\"],[0.3333333333333333,\"#9c179e\"],[0.4444444444444444,\"#bd3786\"],[0.5555555555555556,\"#d8576b\"],[0.6666666666666666,\"#ed7953\"],[0.7777777777777778,\"#fb9f3a\"],[0.8888888888888888,\"#fdca26\"],[1.0,\"#f0f921\"]],\"type\":\"histogram2d\"}],\"histogram2dcontour\":[{\"colorbar\":{\"outlinewidth\":0,\"ticks\":\"\"},\"colorscale\":[[0.0,\"#0d0887\"],[0.1111111111111111,\"#46039f\"],[0.2222222222222222,\"#7201a8\"],[0.3333333333333333,\"#9c179e\"],[0.4444444444444444,\"#bd3786\"],[0.5555555555555556,\"#d8576b\"],[0.6666666666666666,\"#ed7953\"],[0.7777777777777778,\"#fb9f3a\"],[0.8888888888888888,\"#fdca26\"],[1.0,\"#f0f921\"]],\"type\":\"histogram2dcontour\"}],\"mesh3d\":[{\"colorbar\":{\"outlinewidth\":0,\"ticks\":\"\"},\"type\":\"mesh3d\"}],\"parcoords\":[{\"line\":{\"colorbar\":{\"outlinewidth\":0,\"ticks\":\"\"}},\"type\":\"parcoords\"}],\"pie\":[{\"automargin\":true,\"type\":\"pie\"}],\"scatter\":[{\"marker\":{\"colorbar\":{\"outlinewidth\":0,\"ticks\":\"\"}},\"type\":\"scatter\"}],\"scatter3d\":[{\"line\":{\"colorbar\":{\"outlinewidth\":0,\"ticks\":\"\"}},\"marker\":{\"colorbar\":{\"outlinewidth\":0,\"ticks\":\"\"}},\"type\":\"scatter3d\"}],\"scattercarpet\":[{\"marker\":{\"colorbar\":{\"outlinewidth\":0,\"ticks\":\"\"}},\"type\":\"scattercarpet\"}],\"scattergeo\":[{\"marker\":{\"colorbar\":{\"outlinewidth\":0,\"ticks\":\"\"}},\"type\":\"scattergeo\"}],\"scattergl\":[{\"marker\":{\"colorbar\":{\"outlinewidth\":0,\"ticks\":\"\"}},\"type\":\"scattergl\"}],\"scattermapbox\":[{\"marker\":{\"colorbar\":{\"outlinewidth\":0,\"ticks\":\"\"}},\"type\":\"scattermapbox\"}],\"scatterpolar\":[{\"marker\":{\"colorbar\":{\"outlinewidth\":0,\"ticks\":\"\"}},\"type\":\"scatterpolar\"}],\"scatterpolargl\":[{\"marker\":{\"colorbar\":{\"outlinewidth\":0,\"ticks\":\"\"}},\"type\":\"scatterpolargl\"}],\"scatterternary\":[{\"marker\":{\"colorbar\":{\"outlinewidth\":0,\"ticks\":\"\"}},\"type\":\"scatterternary\"}],\"surface\":[{\"colorbar\":{\"outlinewidth\":0,\"ticks\":\"\"},\"colorscale\":[[0.0,\"#0d0887\"],[0.1111111111111111,\"#46039f\"],[0.2222222222222222,\"#7201a8\"],[0.3333333333333333,\"#9c179e\"],[0.4444444444444444,\"#bd3786\"],[0.5555555555555556,\"#d8576b\"],[0.6666666666666666,\"#ed7953\"],[0.7777777777777778,\"#fb9f3a\"],[0.8888888888888888,\"#fdca26\"],[1.0,\"#f0f921\"]],\"type\":\"surface\"}],\"table\":[{\"cells\":{\"fill\":{\"color\":\"#EBF0F8\"},\"line\":{\"color\":\"white\"}},\"header\":{\"fill\":{\"color\":\"#C8D4E3\"},\"line\":{\"color\":\"white\"}},\"type\":\"table\"}]},\"layout\":{\"annotationdefaults\":{\"arrowcolor\":\"#2a3f5f\",\"arrowhead\":0,\"arrowwidth\":1},\"autotypenumbers\":\"strict\",\"coloraxis\":{\"colorbar\":{\"outlinewidth\":0,\"ticks\":\"\"}},\"colorscale\":{\"diverging\":[[0,\"#8e0152\"],[0.1,\"#c51b7d\"],[0.2,\"#de77ae\"],[0.3,\"#f1b6da\"],[0.4,\"#fde0ef\"],[0.5,\"#f7f7f7\"],[0.6,\"#e6f5d0\"],[0.7,\"#b8e186\"],[0.8,\"#7fbc41\"],[0.9,\"#4d9221\"],[1,\"#276419\"]],\"sequential\":[[0.0,\"#0d0887\"],[0.1111111111111111,\"#46039f\"],[0.2222222222222222,\"#7201a8\"],[0.3333333333333333,\"#9c179e\"],[0.4444444444444444,\"#bd3786\"],[0.5555555555555556,\"#d8576b\"],[0.6666666666666666,\"#ed7953\"],[0.7777777777777778,\"#fb9f3a\"],[0.8888888888888888,\"#fdca26\"],[1.0,\"#f0f921\"]],\"sequentialminus\":[[0.0,\"#0d0887\"],[0.1111111111111111,\"#46039f\"],[0.2222222222222222,\"#7201a8\"],[0.3333333333333333,\"#9c179e\"],[0.4444444444444444,\"#bd3786\"],[0.5555555555555556,\"#d8576b\"],[0.6666666666666666,\"#ed7953\"],[0.7777777777777778,\"#fb9f3a\"],[0.8888888888888888,\"#fdca26\"],[1.0,\"#f0f921\"]]},\"colorway\":[\"#636efa\",\"#EF553B\",\"#00cc96\",\"#ab63fa\",\"#FFA15A\",\"#19d3f3\",\"#FF6692\",\"#B6E880\",\"#FF97FF\",\"#FECB52\"],\"font\":{\"color\":\"#2a3f5f\"},\"geo\":{\"bgcolor\":\"white\",\"lakecolor\":\"white\",\"landcolor\":\"#E5ECF6\",\"showlakes\":true,\"showland\":true,\"subunitcolor\":\"white\"},\"hoverlabel\":{\"align\":\"left\"},\"hovermode\":\"closest\",\"mapbox\":{\"style\":\"light\"},\"paper_bgcolor\":\"white\",\"plot_bgcolor\":\"#E5ECF6\",\"polar\":{\"angularaxis\":{\"gridcolor\":\"white\",\"linecolor\":\"white\",\"ticks\":\"\"},\"bgcolor\":\"#E5ECF6\",\"radialaxis\":{\"gridcolor\":\"white\",\"linecolor\":\"white\",\"ticks\":\"\"}},\"scene\":{\"xaxis\":{\"backgroundcolor\":\"#E5ECF6\",\"gridcolor\":\"white\",\"gridwidth\":2,\"linecolor\":\"white\",\"showbackground\":true,\"ticks\":\"\",\"zerolinecolor\":\"white\"},\"yaxis\":{\"backgroundcolor\":\"#E5ECF6\",\"gridcolor\":\"white\",\"gridwidth\":2,\"linecolor\":\"white\",\"showbackground\":true,\"ticks\":\"\",\"zerolinecolor\":\"white\"},\"zaxis\":{\"backgroundcolor\":\"#E5ECF6\",\"gridcolor\":\"white\",\"gridwidth\":2,\"linecolor\":\"white\",\"showbackground\":true,\"ticks\":\"\",\"zerolinecolor\":\"white\"}},\"shapedefaults\":{\"line\":{\"color\":\"#2a3f5f\"}},\"ternary\":{\"aaxis\":{\"gridcolor\":\"white\",\"linecolor\":\"white\",\"ticks\":\"\"},\"baxis\":{\"gridcolor\":\"white\",\"linecolor\":\"white\",\"ticks\":\"\"},\"bgcolor\":\"#E5ECF6\",\"caxis\":{\"gridcolor\":\"white\",\"linecolor\":\"white\",\"ticks\":\"\"}},\"title\":{\"x\":0.05},\"xaxis\":{\"automargin\":true,\"gridcolor\":\"white\",\"linecolor\":\"white\",\"ticks\":\"\",\"title\":{\"standoff\":15},\"zerolinecolor\":\"white\",\"zerolinewidth\":2},\"yaxis\":{\"automargin\":true,\"gridcolor\":\"white\",\"linecolor\":\"white\",\"ticks\":\"\",\"title\":{\"standoff\":15},\"zerolinecolor\":\"white\",\"zerolinewidth\":2}}},\"xaxis\":{\"anchor\":\"y\",\"domain\":[0.0,1.0],\"title\":{\"text\":\"venue\"}},\"yaxis\":{\"anchor\":\"x\",\"domain\":[0.0,1.0],\"title\":{\"text\":\"count\"}},\"legend\":{\"tracegroupgap\":0},\"title\":{\"text\":\"Top most hosted venues\"},\"barmode\":\"relative\"},                        {\"responsive\": true}                    ).then(function(){\n",
              "                            \n",
              "var gd = document.getElementById('fc540854-eb9e-4978-8dea-00e8d638bd21');\n",
              "var x = new MutationObserver(function (mutations, observer) {{\n",
              "        var display = window.getComputedStyle(gd).display;\n",
              "        if (!display || display === 'none') {{\n",
              "            console.log([gd, 'removed!']);\n",
              "            Plotly.purge(gd);\n",
              "            observer.disconnect();\n",
              "        }}\n",
              "}});\n",
              "\n",
              "// Listen for the removal of the full notebook cells\n",
              "var notebookContainer = gd.closest('#notebook-container');\n",
              "if (notebookContainer) {{\n",
              "    x.observe(notebookContainer, {childList: true});\n",
              "}}\n",
              "\n",
              "// Listen for the clearing of the current output cell\n",
              "var outputEl = gd.closest('.output');\n",
              "if (outputEl) {{\n",
              "    x.observe(outputEl, {childList: true});\n",
              "}}\n",
              "\n",
              "                        })                };                            </script>        </div>\n",
              "</body>\n",
              "</html>"
            ]
          },
          "metadata": {}
        }
      ]
    },
    {
      "cell_type": "code",
      "source": [
        "# Sorting based on count in the descending order and printing the results\n",
        "new_ans_df1.sort('count', ascending=False).head(3)"
      ],
      "metadata": {
        "colab": {
          "base_uri": "https://localhost:8080/"
        },
        "id": "EHiufsxThe_w",
        "outputId": "5de4e3fc-f3e1-4e5e-995b-9cc5dd0ee713"
      },
      "execution_count": null,
      "outputs": [
        {
          "output_type": "execute_result",
          "data": {
            "text/plain": [
              "[Row(venue='Dubai International Cricket Stadium', count=3),\n",
              " Row(venue='Sheikh Zayed Stadium', count=2),\n",
              " Row(venue='Rajiv Gandhi International Stadium, Uppal', count=1)]"
            ]
          },
          "metadata": {},
          "execution_count": 91
        }
      ]
    },
    {
      "cell_type": "markdown",
      "source": [
        "### observations:\n",
        "1. **Dubai International Cricket Stadium** is the first most hosted venue with frequency of **3**.\n",
        "2. **Sheikh Zayes Stadium** is the second most hosted venue with frequency of **2**.\n",
        "3. **Rajiv Gandhi International Stadium** is third most hosted venue with frequency of **1**.\n",
        "4. After that all the venues are having same frequency of **1**."
      ],
      "metadata": {
        "id": "SllHQYrVip3i"
      }
    },
    {
      "cell_type": "markdown",
      "source": [
        "## Question 2: \n",
        "Return most number of catches taken by a player in IpL history?"
      ],
      "metadata": {
        "id": "6glpxJ7UjHD_"
      }
    },
    {
      "cell_type": "code",
      "source": [
        "# capturing the where dissmissal kind is caught and add it in new dataframe\n",
        "df_caught = df_ipl_ball.filter(df_ipl_ball['dismissal_kind']=='caught')"
      ],
      "metadata": {
        "id": "g7yGoNWJnCeC"
      },
      "execution_count": null,
      "outputs": []
    },
    {
      "cell_type": "code",
      "source": [
        "# groupby count on fielder and add it on another dataframe\n",
        "caught_count = df_caught.select('fielder').groupBy('fielder').count()"
      ],
      "metadata": {
        "id": "z1q1CJrVnChL"
      },
      "execution_count": null,
      "outputs": []
    },
    {
      "cell_type": "code",
      "source": [
        "panda2_plot = caught_count.sort('count', ascending=False).toPandas()\n",
        "fig = px.bar(panda2_plot, x='fielder', y='count', title='Most Number of catche taking players')\n",
        "fig.show()"
      ],
      "metadata": {
        "colab": {
          "base_uri": "https://localhost:8080/"
        },
        "id": "KyCuMREFRQfe",
        "outputId": "9ef96927-daa0-4604-f24b-4dd0b9bb088f"
      },
      "execution_count": null,
      "outputs": [
        {
          "output_type": "display_data",
          "data": {
            "text/html": [
              "<html>\n",
              "<head><meta charset=\"utf-8\" /></head>\n",
              "<body>\n",
              "    <div>            <script src=\"https://cdnjs.cloudflare.com/ajax/libs/mathjax/2.7.5/MathJax.js?config=TeX-AMS-MML_SVG\"></script><script type=\"text/javascript\">if (window.MathJax) {MathJax.Hub.Config({SVG: {font: \"STIX-Web\"}});}</script>                <script type=\"text/javascript\">window.PlotlyConfig = {MathJaxConfig: 'local'};</script>\n",
              "        <script src=\"https://cdn.plot.ly/plotly-2.8.3.min.js\"></script>                <div id=\"cdbd5cb6-f156-4c04-a1a6-85801b95aef6\" class=\"plotly-graph-div\" style=\"height:525px; width:100%;\"></div>            <script type=\"text/javascript\">                                    window.PLOTLYENV=window.PLOTLYENV || {};                                    if (document.getElementById(\"cdbd5cb6-f156-4c04-a1a6-85801b95aef6\")) {                    Plotly.newPlot(                        \"cdbd5cb6-f156-4c04-a1a6-85801b95aef6\",                        [{\"alignmentgroup\":\"True\",\"hovertemplate\":\"fielder=%{x}<br>count=%{y}<extra></extra>\",\"legendgroup\":\"\",\"marker\":{\"color\":\"#636efa\",\"pattern\":{\"shape\":\"\"}},\"name\":\"\",\"offsetgroup\":\"\",\"orientation\":\"v\",\"showlegend\":false,\"textposition\":\"auto\",\"x\":[\"KD Karthik\",\"MS Dhoni\",\"AB de Villiers\",\"SK Raina\",\"RG Sharma\",\"RV Uthappa\",\"KA Pollard\",\"V Kohli\",\"S Dhawan\",\"MK Pandey\",\"PA Patel\",\"DA Warner\",\"NV Ojha\",\"DJ Bravo\",\"RA Jadeja\",\"WP Saha\",\"AM Rahane\",\"AT Rayudu\",\"F du Plessis\",\"SV Samson\",\"AC Gilchrist\",\"DA Miller\",\"Q de Kock\",\"SA Yadav\",\"HH Pandya\",\"M Vijay\",\"RR Pant\",\"MK Tiwary\",\"KC Sangakkara\",\"SPD Smith\",\"DR Smith\",\"YK Pathan\",\"KL Rahul\",\"SR Watson\",\"Harbhajan Singh\",\"BB McCullum\",\"AR Patel\",\"Mandeep Singh\",\"MA Agarwal\",\"V Sehwag\",\"PP Chawla\",\"DPMD Jayawardene\",\"CH Morris\",\"JC Buttler\",\"R Vinay Kumar\",\"R Ashwin\",\"GJ Maxwell\",\"JH Kallis\",\"UT Yadav\",\"Yuvraj Singh\",\"SS Iyer\",\"G Gambhir\",\"IK Pathan\",\"KM Jadhav\",\"JP Duminy\",\"RP Singh\",\"AJ Finch\",\"EJG Morgan\",\"SE Marsh\",\"MC Henriques\",\"CH Gayle\",\"MEK Hussey\",\"DJ Hussey\",\"DJ Hooda\",\"SS Tiwary\",\"R Bhatia\",\"SR Tendulkar\",\"B Kumar\",\"CL White\",\"HH Gibbs\",\"BJ Hodge\",\"KS Williamson\",\"KK Nair\",\"DW Steyn\",\"SC Ganguly\",\"TM Dilshan\",\"M Manhas\",\"KH Pandya\",\"MS Bisla\",\"BA Stokes\",\"AD Russell\",\"A Symonds\",\"Z Khan\",\"STR Binny\",\"SB Jakati\",\"Gurkeerat Singh\",\"AD Mathews\",\"JD Unadkat\",\"R Dravid\",\"LRPL Taylor\",\"A Mishra\",\"DS Kulkarni\",\"M Kartik\",\"TA Boult\",\"RJ Harris\",\"DT Christian\",\"V Shankar\",\"R Tewatia\",\"Rashid Khan\",\"YS Chahal\",\"Shubman Gill\",\"SP Goswami\",\"A Nehra\",\"JA Morkel\",\"J Botha\",\"S Badrinath\",\"TG Southee\",\"MA Starc\",\"JM Bairstow\",\"I Sharma\",\"MM Sharma\",\"M Rawat\",\"JP Faulkner\",\"Ishan Kishan\",\"SL Malinga\",\"M Kaif\",\"RA Tripathi\",\"MG Johnson\",\"M Muralitharan\",\"PP Ojha\",\"MV Boucher\",\"K Rabada\",\"YV Takawale\",\"M Vohra\",\"SW Billings\",\"LR Shukla\",\"SN Thakur\",\"AM Nayar\",\"Y Venugopal Rao\",\"P Negi\",\"P Kumar\",\"SK Trivedi\",\"Mohammed Siraj\",\"SP Narine\",\"KV Sharma\",\"NLTC Perera\",\"KP Pietersen\",\"Iqbal Abdulla\",\"DH Yagnik\",\"MM Patel\",\"S Anirudha\",\"HV Patel\",\"KB Arun Karthik\",\"N Rana\",\"GJ Bailey\",\"M Morkel\",\"ML Hayden\",\"N Saini\",\"KK Cooper\",\"SK Warne\",\"DL Vettori\",\"DB Ravi Teja\",\"CJ Anderson\",\"MP Stoinis\",\"BCJ Cutting\",\"PP Shaw\",\"R Sharma\",\"LMP Simmons\",\"Mohammed Shami\",\"S Nadeem\",\"TL Suman\",\"AA Jhunjhunwala\",\"JD Ryder\",\"SO Hetmyer\",\"CA Lynn\",\"PR Shah\",\"NM Coulter-Nile\",\"AS Raut\",\"DJG Sammy\",\"K Goel\",\"Shakib Al Hasan\",\"A Kumble\",\"K Gowtham\",\"L Balaji\",\"Kuldeep Yadav\",\"B Lee\",\"UBT Chand\",\"N Pooran\",\"SM Curran\",\"JJ Bumrah\",\"DP Nannes\",\"A Ashish Reddy\",\"Imran Tahir\",\"Sandeep Sharma\",\"CJ Jordan\",\"D Padikkal\",\"Bipul Sharma\",\"RN ten Doeschate\",\"AB Dinda\",\"GC Smith\",\"OA Shah\",\"J Suchith\",\"JC Archer\",\"Washington Sundar\",\"Azhar Mahmood\",\"MR Marsh\",\"M Ashwin\",\"S Kaul\",\"LA Pomersbach\",\"DB Das\",\"RD Chahar\",\"MJ Guptill\",\"MN van Wyk\",\"JDP Oram\",\"A Mithun\",\"RK Singh\",\"SA Asnodkar\",\"R Dhawan\",\"DE Bollinger\",\"AJ Tye\",\"PK Garg\",\"E Lewis\",\"Shivam Mavi\",\"Mohammad Nabi\",\"C de Grandhomme\",\"RE van der Merwe\",\"FY Fazal\",\"GH Vihari\",\"R Parag\",\"IC Pandey\",\"PJ Sangwan\",\"JEC Franklin\",\"VY Mahesh\",\"Niraj Patel\",\"CR Woakes\",\"CA Pujara\",\"DR Shorey (sub)\",\"Joginder Sharma\",\"R McLaren\",\"CR Brathwaite\",\"S Aravind\",\"RR Powar\",\"AF Milne\",\"JJ Roy\",\"R Sathish\",\"Abdul Samad\",\"WA Mota\",\"D Wiese\",\"KMA Paul\",\"DA Miller (sub)\",\"Y Nagar\",\"WD Parnell\",\"MJ Lumb\",\"Kamran Akmal\",\"SW Tait\",\"SE Rutherford\",\"Sachin Baby\",\"Anureet Singh\",\"DL Chahar\",\"JO Holder\",\"PJ Cummins\",\"NA Saini\",\"S Gopal\",\"JR Hopes\",\"LA Carseldine\",\"T Kohli (sub)\",\"AL Menaria\",\"RT Ponting\",\"MM Ali\",\"MS Gony\",\"AB Agarkar\",\"MF Maharoof\",\"KL Nagarkoti\",\"C Munro\",\"BB Sran\",\"AC Blizzard\",\"LS Livingstone\",\"M Prasidh Krishna\",\"VVS Laxman\",\"A Nortje\",\"Ankit Sharma\",\"Kamran Khan\",\"RD Gaikwad\",\"B Sumanth\",\"SN Khan\",\"L Ronchi\",\"Shoaib Malik\",\"Sohail Tanvir\",\"W Jaffer\",\"R Rampaul\",\"RS Bopara\",\"KW Richardson\",\"GB Hogg\",\"Shoaib Ahmed\",\"P Awana\",\"V Shankar (sub)\",\"ST Jayasuriya\",\"CK Kapugedera\",\"JPR Scantlebury-Searles\",\"P Dogra\",\"Shahid Afridi\",\"Lalit Yadav (sub)\",\"A Flintoff\",\"A Mukund\",\"LPC Silva\",\"Avesh Khan\",\"CM Gautam\",\"S Tyagi\",\"H Klaasen\",\"DJ Jacobs\",\"Parvez Rasool\",\"Anand Rajan\",\"TM Head\",\"KMDN Kulasekara\",\"J Suchith (sub)\",\"R Sathish (sub)\",\"PC Valthaty\",\"RR Raje\",\"B Geeves\",\"BE Hendricks\",\"I Udana\",\"BB Samantray\",\"M Markande\",\"AA Chavan\",\"PD Collingwood\",\"S Sreesanth\",\"P Negi (sub)\",\"AS Rajpoot\",\"S Dube\",\"Anirudh Singh\",\"DR Sams\",\"Harmeet Singh\",\"NS Naik\",\"AP Tare\",\"VR Aaron\",\"B Akhil\",\"T Thushara\",\"Yashpal Singh\",\"S Rana\",\"VRV Singh\",\"Abhishek Sharma\",\"J Yadav\",\"AG Murtaza\",\"RV Gomez\",\"DJ Harris (sub)\",\"AC Thomas\",\"Basil Thampi\",\"B Chipli\",\"BR Dunk\",\"KK Nair (sub)\",\"R Shukla\",\"Mustafizur Rahman\",\"BJ Rohrer\",\"R Tewatia (sub)\",\"JP Duminy (sub)\",\"LR Shukla (sub)\",\"BMAJ Mendis\",\"RS Sodhi\",\"SD Chitnis\",\"A Chandila\",\"DJ Thornely\",\"MJ Santner\",\"ER Dwivedi\",\"Y Nagar (sub)\",\"SS Shaikh\",\"SJ Srivastava\",\"AB de Villiers (sub)\",\"AD Mascarenhas\",\"A Chopra\",\"DJ Harris\",\"MC Henriques (sub)\",\"LJ Wright\",\"AUK Pathan\",\"DT Patil\",\"GD McGrath\",\"SB Bangar\",\"SMSM Senanayake\",\"Karanveer Singh\",\"VS Malik\",\"S Badree\",\"SM Harwood\",\"DA Warner (sub)\",\"P Amarnath\",\"KC Cariappa\",\"RK Singh (sub)\",\"S Sohal\",\"AT Carey\",\"PA Reddy\",\"AD Nath\",\"T Natarajan\",\"JL Pattinson\",\"SP Fleming\",\"RR Rossouw\",\"Pankaj Singh\",\"SP Jackson\",\"DJ Willey\",\"AR Patel (sub)\",\"DJ Hooda (sub)\",\"AM Salvi\",\"SB Styris\",\"IR Jaggi\",\"CRD Fernando\",\"LE Plunkett\",\"AP Dole\",\"SM Pollock\",\"Harpreet Singh\",\"RE Levi\",\"MN Samuels\",\"D Salunkhe\",\"AS Roy (sub)\",\"DJM Short\",\"S Randiv\",\"CJ Ferguson\",\"P Simran Singh\",\"AN Ahmed\",\"U Kaul\",\"R Dhawan (sub)\",\"Ravi Bishnoi\",\"Y Gnaneswara Rao\",\"TM Srivastava\",\"AM Rahane (sub)\",\"Mohammad Ashraful\",\"Salman Butt\",\"Mujeeb Ur Rahman\",\"KP Appanna (sub)\",\"CV Varun\",\"AD Hales\",\"TK Curran\",\"PK Garg (sub)\",\"SM Katich\",\"Kartik Tyagi\",\"Shoaib Malik (sub)\",\"GJ Bailey (sub)\",\"Milind Kumar (sub)\",\"CA Ingram\",\"Anmolpreet Singh (sub)\",\"UBT Chand (sub)\",\"O Thomas\",\"CJ Green (sub)\",\"Mohammad Hafeez\",\"RG More\",\"A Singh\",\"LA Pomersbach (sub)\",\"B Aparajith (sub)\",\"RJ Peterson\",\"PJ Sangwan (sub)\",\"S Sandeep Warrier\",\"J Yadav (sub)\",\"F Behardien\",\"Shakib Al Hasan (sub)\",\"BAW Mendis\",\"P Dubey\",\"K Santokie\",\"T Taibu\",\"J Theron\",\"B Laughlin\",\"R Vinay Kumar (sub)\",\"CR Brathwaite (sub)\",\"D Kalyankrishna\",\"M Ntini\",\"RR Sarwan\",\"YBK Jaiswal\",\"RD Chahar (sub)\",\"BR Dunk (sub)\",\"AG Paunikar\",\"RR Rossouw (sub)\",\"R Ninan\",\"Sunny Singh\",\"UA Birla\",\"MJ Clarke\",\"MA Wood\",\"WP Saha (sub)\",\"TS Mills\",\"P Dogra (sub)\",\"Shivam Sharma\",\"A Zampa\",\"DAJ Bracewell\",\"H Klaasen (sub)\",\"RA Jadeja (sub)\",\"Rasikh Salam\",\"NJ Maddinson\",\"KK Ahmed\",\"MK Lomror\",\"P Suyal\",\"FY Fazal (sub)\",\"T Kohli\",\"AV Wankhade (sub)\",\"Misbah-ul-Haq\",\"T Mishra\",\"S Dhawan (sub)\",\"BB McCullum (sub)\",\"BW Hilfenhaus\",\"B Chipli (sub)\",\"KB Arun Karthik (sub)\",\"TM Dilshan (sub)\",\"AN Ghosh\",\"K Upadhyay\",\"MJ McClenaghan\",\"RJ Quiney\",\"HH Pandya (sub)\",\"AS Yadav\",\"S Vidyut\",\"NL McCullum\",\"P Chopra (sub)\",\"KMA Paul (sub)\",\"S Midhun\",\"MA Agarwal (sub)\",\"MK Tiwary (sub)\",\"J Syed Mohammad\",\"S Lamichhane\",\"CJ Jordan (sub)\",\"AA Bilakhia\",\"Ankit Soni\",\"JM Kemp\",\"WD Parnell (sub)\",\"SP Goswami (sub)\",\"R Bishnoi\",\"TU Deshpande\",\"S Narwal\",\"UT Khawaja\",\"S Ladda\",\"KP Appanna\",\"M Kaif (sub)\",\"Younis Khan\",\"Shahbaz Ahmed\",\"F du Plessis (sub)\",\"KAJ Roach\",\"SB Wagh\",\"RR Bhatkal\",\"AS Raut (sub)\",\"Arshdeep Singh\",\"B Stanlake\",\"MD Mishra\",\"DT Christian (sub)\",\"JDS Neesham\",\"AC Voges\",\"Shivam Mavi (sub)\",\"PV Tambe\",\"NLTC Perera (sub)\",\"R Powell (sub)\"],\"xaxis\":\"x\",\"y\":[118,113,103,99,88,87,84,76,73,70,69,66,65,64,63,62,58,56,54,52,51,49,49,48,48,47,46,46,45,44,41,41,39,38,37,37,36,36,35,34,34,32,32,31,31,30,30,30,29,29,28,28,28,28,28,27,27,27,26,26,26,26,25,25,24,23,23,22,22,22,22,22,22,22,22,20,20,20,20,20,20,20,20,19,19,19,19,18,18,18,18,18,18,18,18,18,18,17,17,17,17,17,17,17,16,16,16,16,16,16,16,16,16,16,15,15,15,15,14,14,14,13,13,13,13,13,13,13,13,13,13,12,12,12,12,12,12,12,12,12,11,11,11,11,11,11,11,11,11,11,11,11,11,10,10,10,10,10,10,10,10,10,10,10,10,10,9,9,9,9,9,9,9,9,8,8,8,8,8,8,8,8,8,8,8,8,7,7,7,7,7,7,7,7,7,7,7,7,7,7,7,7,7,7,7,6,6,6,6,6,6,6,6,6,6,6,6,6,6,6,6,6,6,6,6,6,6,5,5,5,5,5,5,5,5,5,5,5,5,5,5,5,5,5,5,5,5,5,5,5,5,5,5,5,4,4,4,4,4,4,4,4,4,4,4,4,4,4,4,4,4,4,4,4,4,4,4,4,4,4,4,4,4,4,4,4,4,4,4,4,4,3,3,3,3,3,3,3,3,3,3,3,3,3,3,3,3,3,3,3,3,3,3,3,3,3,3,3,3,3,3,3,3,3,3,3,3,3,3,3,3,3,3,3,3,3,3,3,3,3,3,3,3,3,2,2,2,2,2,2,2,2,2,2,2,2,2,2,2,2,2,2,2,2,2,2,2,2,2,2,2,2,2,2,2,2,2,2,2,2,2,2,2,2,2,2,2,2,2,2,2,2,2,2,2,2,2,2,2,2,2,2,2,2,2,2,2,2,2,2,2,2,2,2,2,2,2,2,2,2,2,2,1,1,1,1,1,1,1,1,1,1,1,1,1,1,1,1,1,1,1,1,1,1,1,1,1,1,1,1,1,1,1,1,1,1,1,1,1,1,1,1,1,1,1,1,1,1,1,1,1,1,1,1,1,1,1,1,1,1,1,1,1,1,1,1,1,1,1,1,1,1,1,1,1,1,1,1,1,1,1,1,1,1,1,1,1,1,1,1,1,1,1,1,1,1,1,1,1,1,1,1,1,1,1,1,1,1,1,1],\"yaxis\":\"y\",\"type\":\"bar\"}],                        {\"template\":{\"data\":{\"bar\":[{\"error_x\":{\"color\":\"#2a3f5f\"},\"error_y\":{\"color\":\"#2a3f5f\"},\"marker\":{\"line\":{\"color\":\"#E5ECF6\",\"width\":0.5},\"pattern\":{\"fillmode\":\"overlay\",\"size\":10,\"solidity\":0.2}},\"type\":\"bar\"}],\"barpolar\":[{\"marker\":{\"line\":{\"color\":\"#E5ECF6\",\"width\":0.5},\"pattern\":{\"fillmode\":\"overlay\",\"size\":10,\"solidity\":0.2}},\"type\":\"barpolar\"}],\"carpet\":[{\"aaxis\":{\"endlinecolor\":\"#2a3f5f\",\"gridcolor\":\"white\",\"linecolor\":\"white\",\"minorgridcolor\":\"white\",\"startlinecolor\":\"#2a3f5f\"},\"baxis\":{\"endlinecolor\":\"#2a3f5f\",\"gridcolor\":\"white\",\"linecolor\":\"white\",\"minorgridcolor\":\"white\",\"startlinecolor\":\"#2a3f5f\"},\"type\":\"carpet\"}],\"choropleth\":[{\"colorbar\":{\"outlinewidth\":0,\"ticks\":\"\"},\"type\":\"choropleth\"}],\"contour\":[{\"colorbar\":{\"outlinewidth\":0,\"ticks\":\"\"},\"colorscale\":[[0.0,\"#0d0887\"],[0.1111111111111111,\"#46039f\"],[0.2222222222222222,\"#7201a8\"],[0.3333333333333333,\"#9c179e\"],[0.4444444444444444,\"#bd3786\"],[0.5555555555555556,\"#d8576b\"],[0.6666666666666666,\"#ed7953\"],[0.7777777777777778,\"#fb9f3a\"],[0.8888888888888888,\"#fdca26\"],[1.0,\"#f0f921\"]],\"type\":\"contour\"}],\"contourcarpet\":[{\"colorbar\":{\"outlinewidth\":0,\"ticks\":\"\"},\"type\":\"contourcarpet\"}],\"heatmap\":[{\"colorbar\":{\"outlinewidth\":0,\"ticks\":\"\"},\"colorscale\":[[0.0,\"#0d0887\"],[0.1111111111111111,\"#46039f\"],[0.2222222222222222,\"#7201a8\"],[0.3333333333333333,\"#9c179e\"],[0.4444444444444444,\"#bd3786\"],[0.5555555555555556,\"#d8576b\"],[0.6666666666666666,\"#ed7953\"],[0.7777777777777778,\"#fb9f3a\"],[0.8888888888888888,\"#fdca26\"],[1.0,\"#f0f921\"]],\"type\":\"heatmap\"}],\"heatmapgl\":[{\"colorbar\":{\"outlinewidth\":0,\"ticks\":\"\"},\"colorscale\":[[0.0,\"#0d0887\"],[0.1111111111111111,\"#46039f\"],[0.2222222222222222,\"#7201a8\"],[0.3333333333333333,\"#9c179e\"],[0.4444444444444444,\"#bd3786\"],[0.5555555555555556,\"#d8576b\"],[0.6666666666666666,\"#ed7953\"],[0.7777777777777778,\"#fb9f3a\"],[0.8888888888888888,\"#fdca26\"],[1.0,\"#f0f921\"]],\"type\":\"heatmapgl\"}],\"histogram\":[{\"marker\":{\"pattern\":{\"fillmode\":\"overlay\",\"size\":10,\"solidity\":0.2}},\"type\":\"histogram\"}],\"histogram2d\":[{\"colorbar\":{\"outlinewidth\":0,\"ticks\":\"\"},\"colorscale\":[[0.0,\"#0d0887\"],[0.1111111111111111,\"#46039f\"],[0.2222222222222222,\"#7201a8\"],[0.3333333333333333,\"#9c179e\"],[0.4444444444444444,\"#bd3786\"],[0.5555555555555556,\"#d8576b\"],[0.6666666666666666,\"#ed7953\"],[0.7777777777777778,\"#fb9f3a\"],[0.8888888888888888,\"#fdca26\"],[1.0,\"#f0f921\"]],\"type\":\"histogram2d\"}],\"histogram2dcontour\":[{\"colorbar\":{\"outlinewidth\":0,\"ticks\":\"\"},\"colorscale\":[[0.0,\"#0d0887\"],[0.1111111111111111,\"#46039f\"],[0.2222222222222222,\"#7201a8\"],[0.3333333333333333,\"#9c179e\"],[0.4444444444444444,\"#bd3786\"],[0.5555555555555556,\"#d8576b\"],[0.6666666666666666,\"#ed7953\"],[0.7777777777777778,\"#fb9f3a\"],[0.8888888888888888,\"#fdca26\"],[1.0,\"#f0f921\"]],\"type\":\"histogram2dcontour\"}],\"mesh3d\":[{\"colorbar\":{\"outlinewidth\":0,\"ticks\":\"\"},\"type\":\"mesh3d\"}],\"parcoords\":[{\"line\":{\"colorbar\":{\"outlinewidth\":0,\"ticks\":\"\"}},\"type\":\"parcoords\"}],\"pie\":[{\"automargin\":true,\"type\":\"pie\"}],\"scatter\":[{\"marker\":{\"colorbar\":{\"outlinewidth\":0,\"ticks\":\"\"}},\"type\":\"scatter\"}],\"scatter3d\":[{\"line\":{\"colorbar\":{\"outlinewidth\":0,\"ticks\":\"\"}},\"marker\":{\"colorbar\":{\"outlinewidth\":0,\"ticks\":\"\"}},\"type\":\"scatter3d\"}],\"scattercarpet\":[{\"marker\":{\"colorbar\":{\"outlinewidth\":0,\"ticks\":\"\"}},\"type\":\"scattercarpet\"}],\"scattergeo\":[{\"marker\":{\"colorbar\":{\"outlinewidth\":0,\"ticks\":\"\"}},\"type\":\"scattergeo\"}],\"scattergl\":[{\"marker\":{\"colorbar\":{\"outlinewidth\":0,\"ticks\":\"\"}},\"type\":\"scattergl\"}],\"scattermapbox\":[{\"marker\":{\"colorbar\":{\"outlinewidth\":0,\"ticks\":\"\"}},\"type\":\"scattermapbox\"}],\"scatterpolar\":[{\"marker\":{\"colorbar\":{\"outlinewidth\":0,\"ticks\":\"\"}},\"type\":\"scatterpolar\"}],\"scatterpolargl\":[{\"marker\":{\"colorbar\":{\"outlinewidth\":0,\"ticks\":\"\"}},\"type\":\"scatterpolargl\"}],\"scatterternary\":[{\"marker\":{\"colorbar\":{\"outlinewidth\":0,\"ticks\":\"\"}},\"type\":\"scatterternary\"}],\"surface\":[{\"colorbar\":{\"outlinewidth\":0,\"ticks\":\"\"},\"colorscale\":[[0.0,\"#0d0887\"],[0.1111111111111111,\"#46039f\"],[0.2222222222222222,\"#7201a8\"],[0.3333333333333333,\"#9c179e\"],[0.4444444444444444,\"#bd3786\"],[0.5555555555555556,\"#d8576b\"],[0.6666666666666666,\"#ed7953\"],[0.7777777777777778,\"#fb9f3a\"],[0.8888888888888888,\"#fdca26\"],[1.0,\"#f0f921\"]],\"type\":\"surface\"}],\"table\":[{\"cells\":{\"fill\":{\"color\":\"#EBF0F8\"},\"line\":{\"color\":\"white\"}},\"header\":{\"fill\":{\"color\":\"#C8D4E3\"},\"line\":{\"color\":\"white\"}},\"type\":\"table\"}]},\"layout\":{\"annotationdefaults\":{\"arrowcolor\":\"#2a3f5f\",\"arrowhead\":0,\"arrowwidth\":1},\"autotypenumbers\":\"strict\",\"coloraxis\":{\"colorbar\":{\"outlinewidth\":0,\"ticks\":\"\"}},\"colorscale\":{\"diverging\":[[0,\"#8e0152\"],[0.1,\"#c51b7d\"],[0.2,\"#de77ae\"],[0.3,\"#f1b6da\"],[0.4,\"#fde0ef\"],[0.5,\"#f7f7f7\"],[0.6,\"#e6f5d0\"],[0.7,\"#b8e186\"],[0.8,\"#7fbc41\"],[0.9,\"#4d9221\"],[1,\"#276419\"]],\"sequential\":[[0.0,\"#0d0887\"],[0.1111111111111111,\"#46039f\"],[0.2222222222222222,\"#7201a8\"],[0.3333333333333333,\"#9c179e\"],[0.4444444444444444,\"#bd3786\"],[0.5555555555555556,\"#d8576b\"],[0.6666666666666666,\"#ed7953\"],[0.7777777777777778,\"#fb9f3a\"],[0.8888888888888888,\"#fdca26\"],[1.0,\"#f0f921\"]],\"sequentialminus\":[[0.0,\"#0d0887\"],[0.1111111111111111,\"#46039f\"],[0.2222222222222222,\"#7201a8\"],[0.3333333333333333,\"#9c179e\"],[0.4444444444444444,\"#bd3786\"],[0.5555555555555556,\"#d8576b\"],[0.6666666666666666,\"#ed7953\"],[0.7777777777777778,\"#fb9f3a\"],[0.8888888888888888,\"#fdca26\"],[1.0,\"#f0f921\"]]},\"colorway\":[\"#636efa\",\"#EF553B\",\"#00cc96\",\"#ab63fa\",\"#FFA15A\",\"#19d3f3\",\"#FF6692\",\"#B6E880\",\"#FF97FF\",\"#FECB52\"],\"font\":{\"color\":\"#2a3f5f\"},\"geo\":{\"bgcolor\":\"white\",\"lakecolor\":\"white\",\"landcolor\":\"#E5ECF6\",\"showlakes\":true,\"showland\":true,\"subunitcolor\":\"white\"},\"hoverlabel\":{\"align\":\"left\"},\"hovermode\":\"closest\",\"mapbox\":{\"style\":\"light\"},\"paper_bgcolor\":\"white\",\"plot_bgcolor\":\"#E5ECF6\",\"polar\":{\"angularaxis\":{\"gridcolor\":\"white\",\"linecolor\":\"white\",\"ticks\":\"\"},\"bgcolor\":\"#E5ECF6\",\"radialaxis\":{\"gridcolor\":\"white\",\"linecolor\":\"white\",\"ticks\":\"\"}},\"scene\":{\"xaxis\":{\"backgroundcolor\":\"#E5ECF6\",\"gridcolor\":\"white\",\"gridwidth\":2,\"linecolor\":\"white\",\"showbackground\":true,\"ticks\":\"\",\"zerolinecolor\":\"white\"},\"yaxis\":{\"backgroundcolor\":\"#E5ECF6\",\"gridcolor\":\"white\",\"gridwidth\":2,\"linecolor\":\"white\",\"showbackground\":true,\"ticks\":\"\",\"zerolinecolor\":\"white\"},\"zaxis\":{\"backgroundcolor\":\"#E5ECF6\",\"gridcolor\":\"white\",\"gridwidth\":2,\"linecolor\":\"white\",\"showbackground\":true,\"ticks\":\"\",\"zerolinecolor\":\"white\"}},\"shapedefaults\":{\"line\":{\"color\":\"#2a3f5f\"}},\"ternary\":{\"aaxis\":{\"gridcolor\":\"white\",\"linecolor\":\"white\",\"ticks\":\"\"},\"baxis\":{\"gridcolor\":\"white\",\"linecolor\":\"white\",\"ticks\":\"\"},\"bgcolor\":\"#E5ECF6\",\"caxis\":{\"gridcolor\":\"white\",\"linecolor\":\"white\",\"ticks\":\"\"}},\"title\":{\"x\":0.05},\"xaxis\":{\"automargin\":true,\"gridcolor\":\"white\",\"linecolor\":\"white\",\"ticks\":\"\",\"title\":{\"standoff\":15},\"zerolinecolor\":\"white\",\"zerolinewidth\":2},\"yaxis\":{\"automargin\":true,\"gridcolor\":\"white\",\"linecolor\":\"white\",\"ticks\":\"\",\"title\":{\"standoff\":15},\"zerolinecolor\":\"white\",\"zerolinewidth\":2}}},\"xaxis\":{\"anchor\":\"y\",\"domain\":[0.0,1.0],\"title\":{\"text\":\"fielder\"}},\"yaxis\":{\"anchor\":\"x\",\"domain\":[0.0,1.0],\"title\":{\"text\":\"count\"}},\"legend\":{\"tracegroupgap\":0},\"title\":{\"text\":\"Most Number of catche taking players\"},\"barmode\":\"relative\"},                        {\"responsive\": true}                    ).then(function(){\n",
              "                            \n",
              "var gd = document.getElementById('cdbd5cb6-f156-4c04-a1a6-85801b95aef6');\n",
              "var x = new MutationObserver(function (mutations, observer) {{\n",
              "        var display = window.getComputedStyle(gd).display;\n",
              "        if (!display || display === 'none') {{\n",
              "            console.log([gd, 'removed!']);\n",
              "            Plotly.purge(gd);\n",
              "            observer.disconnect();\n",
              "        }}\n",
              "}});\n",
              "\n",
              "// Listen for the removal of the full notebook cells\n",
              "var notebookContainer = gd.closest('#notebook-container');\n",
              "if (notebookContainer) {{\n",
              "    x.observe(notebookContainer, {childList: true});\n",
              "}}\n",
              "\n",
              "// Listen for the clearing of the current output cell\n",
              "var outputEl = gd.closest('.output');\n",
              "if (outputEl) {{\n",
              "    x.observe(outputEl, {childList: true});\n",
              "}}\n",
              "\n",
              "                        })                };                            </script>        </div>\n",
              "</body>\n",
              "</html>"
            ]
          },
          "metadata": {}
        }
      ]
    },
    {
      "cell_type": "code",
      "source": [
        "# sorting based on count and visualizing the top first record.  That is the answer\n",
        "caught_count.sort('count', ascending=False).head(1)"
      ],
      "metadata": {
        "colab": {
          "base_uri": "https://localhost:8080/"
        },
        "id": "P3hL6d-4nCmb",
        "outputId": "509e54ce-7cd8-4894-eca0-222469c5da49"
      },
      "execution_count": null,
      "outputs": [
        {
          "output_type": "execute_result",
          "data": {
            "text/plain": [
              "[Row(fielder='KD Karthik', count=118)]"
            ]
          },
          "metadata": {},
          "execution_count": 95
        }
      ]
    },
    {
      "cell_type": "markdown",
      "source": [
        "### observations:\n",
        "1. Most number of catches taken by a player in IPL history is **KD Karthik** and the number of wicket he has taken is **118**"
      ],
      "metadata": {
        "id": "cYTHHsrA393z"
      }
    },
    {
      "cell_type": "markdown",
      "source": [
        "## Question 3:\n",
        "1. write a query to return a report for highest wicket taker in matches which were affected by Duckworth-lewis's method(D/L)"
      ],
      "metadata": {
        "id": "W7hXekU44YsV"
      }
    },
    {
      "cell_type": "code",
      "source": [
        "# joining the matches and ipl_ball dataframes on match id using inner join\n",
        "new_df = df_matches.join(df_ipl_ball, on='match_id', how='inner')\n",
        "\n",
        "# visualizing the top 2 records\n",
        "new_df.show(2)"
      ],
      "metadata": {
        "id": "2cnbsZTo-gob",
        "colab": {
          "base_uri": "https://localhost:8080/"
        },
        "outputId": "a4a4415e-2cd8-4f6a-fa71-e38a49175f95"
      },
      "execution_count": null,
      "outputs": [
        {
          "output_type": "stream",
          "name": "stdout",
          "text": [
            "+--------+----------+---------------+--------+-------------+--------------------+--------------+--------------------+-------------+--------------+------+-------------+----------+------+---------------+----------+------+-----+----+-------+-------------+------------+------------+----------+----------+------------+---------+--------------+----------------+-------+-----------+--------------------+--------------+\n",
            "|match_id|      date|player_of_match|venue_id|neutral_venue|               team1|         team2|         toss_winner|toss_decision|        winner|result|result_margin|eliminator|method|        umpire1|   umpire2|inning|overs|ball|batsman|  non_striker|      bowler|batsman_runs|extra_runs|total_runs|non_boundary|is_wicket|dismissal_kind|player_dismissed|fielder|extras_type|        batting_team|  bowling_team|\n",
            "+--------+----------+---------------+--------+-------------+--------------------+--------------+--------------------+-------------+--------------+------+-------------+----------+------+---------------+----------+------+-----+----+-------+-------------+------------+------------+----------+----------+------------+---------+--------------+----------------+-------+-----------+--------------------+--------------+\n",
            "|  419157|2010-04-17|      R McLaren|      35|            0|Royal Challengers...|Mumbai Indians|Royal Challengers...|        field|Mumbai Indians|  runs|           57|         N|    NA|HDPK Dharmasena|SJA Taufel|     2|   16|   4|V Kohli|R Vinay Kumar|CRD Fernando|           0|         0|         0|           0|        0|            NA|              NA|     NA|         NA|Royal Challengers...|Mumbai Indians|\n",
            "|  419157|2010-04-17|      R McLaren|      35|            0|Royal Challengers...|Mumbai Indians|Royal Challengers...|        field|Mumbai Indians|  runs|           57|         N|    NA|HDPK Dharmasena|SJA Taufel|     2|   16|   5|V Kohli|R Vinay Kumar|CRD Fernando|           1|         0|         1|           0|        0|            NA|              NA|     NA|         NA|Royal Challengers...|Mumbai Indians|\n",
            "+--------+----------+---------------+--------+-------------+--------------------+--------------+--------------------+-------------+--------------+------+-------------+----------+------+---------------+----------+------+-----+----+-------+-------------+------------+------------+----------+----------+------------+---------+--------------+----------------+-------+-----------+--------------------+--------------+\n",
            "only showing top 2 rows\n",
            "\n"
          ]
        }
      ]
    },
    {
      "cell_type": "code",
      "source": [
        "# filtering where the D/L method is there and put it to another DataFrame\n",
        "method_df = new_df.filter(new_df['method']=='D/L')"
      ],
      "metadata": {
        "id": "jVlo0i1PshD-"
      },
      "execution_count": null,
      "outputs": []
    },
    {
      "cell_type": "code",
      "source": [
        "# plotting\n",
        "pandas3_plot = method_df.select(['bowler', 'fielder', 'dismissal_kind']).filter(method_df['is_wicket']==1).groupBy(\n",
        "    ['bowler', 'fielder', 'dismissal_kind']).count().sort('count', ascending=False).toPandas()\n",
        "fig = px.bar(pandas3_plot, x='bowler', y='count', title='Most Number of wicket taker')\n",
        "fig.show()"
      ],
      "metadata": {
        "colab": {
          "base_uri": "https://localhost:8080/"
        },
        "id": "B2gO_6fUSeux",
        "outputId": "00b77d4f-c9dc-4f6b-8a28-19321babb995"
      },
      "execution_count": null,
      "outputs": [
        {
          "output_type": "display_data",
          "data": {
            "text/html": [
              "<html>\n",
              "<head><meta charset=\"utf-8\" /></head>\n",
              "<body>\n",
              "    <div>            <script src=\"https://cdnjs.cloudflare.com/ajax/libs/mathjax/2.7.5/MathJax.js?config=TeX-AMS-MML_SVG\"></script><script type=\"text/javascript\">if (window.MathJax) {MathJax.Hub.Config({SVG: {font: \"STIX-Web\"}});}</script>                <script type=\"text/javascript\">window.PlotlyConfig = {MathJaxConfig: 'local'};</script>\n",
              "        <script src=\"https://cdn.plot.ly/plotly-2.8.3.min.js\"></script>                <div id=\"11690419-bbc4-4e9a-a6a4-b57ed0e3a64d\" class=\"plotly-graph-div\" style=\"height:525px; width:100%;\"></div>            <script type=\"text/javascript\">                                    window.PLOTLYENV=window.PLOTLYENV || {};                                    if (document.getElementById(\"11690419-bbc4-4e9a-a6a4-b57ed0e3a64d\")) {                    Plotly.newPlot(                        \"11690419-bbc4-4e9a-a6a4-b57ed0e3a64d\",                        [{\"alignmentgroup\":\"True\",\"hovertemplate\":\"bowler=%{x}<br>count=%{y}<extra></extra>\",\"legendgroup\":\"\",\"marker\":{\"color\":\"#636efa\",\"pattern\":{\"shape\":\"\"}},\"name\":\"\",\"offsetgroup\":\"\",\"orientation\":\"v\",\"showlegend\":false,\"textposition\":\"auto\",\"x\":[\"M Ntini\",\"NM Coulter-Nile\",\"MC Henriques\",\"JD Unadkat\",\"B Kumar\",\"YS Chahal\",\"MR Marsh\",\"JR Hopes\",\"DS Kulkarni\",\"R Ashwin\",\"A Mishra\",\"JR Hopes\",\"NLTC Perera\",\"AB Dinda\",\"CH Morris\",\"JD Unadkat\",\"DL Vettori\",\"UT Yadav\",\"RR Powar\",\"BB Sran\",\"VS Malik\",\"NLTC Perera\",\"DL Vettori\",\"L Balaji\",\"SP Narine\",\"AR Patel\",\"UT Yadav\",\"Shakib Al Hasan\",\"R Ashwin\",\"JH Kallis\",\"M Morkel\",\"RV Gomez\",\"S Sreesanth\",\"P Kumar\",\"AB Dinda\",\"CJ Jordan\",\"L Balaji\",\"Iqbal Abdulla\",\"Sachin Baby\",\"GD McGrath\",\"TA Boult\",\"KJ Abbott\",\"I Sharma\",\"MA Starc\",\"JC Archer\",\"S Gopal\",\"A Mishra\",\"AJ Tye\",\"L Balaji\",\"DW Steyn\",\"D Wiese\",\"TA Boult\",\"R Ashwin\",\"DE Bollinger\",\"SC Ganguly\",\"DL Vettori\",\"MC Henriques\",\"DW Steyn\",\"YK Pathan\",\"RP Singh\",\"K Gowtham\",\"B Kumar\",\"D Wiese\",\"JA Morkel\",\"BB Sran\",\"JH Kallis\",\"LR Shukla\",\"AB Dinda\",\"UT Yadav\",\"NLTC Perera\",\"TA Boult\",\"PP Chawla\",\"B Kumar\",\"SC Ganguly\",\"A Zampa\",\"Mujeeb Ur Rahman\",\"Iqbal Abdulla\",\"DL Vettori\",\"P Kumar\",\"SB Jakati\",\"M Morkel\",\"TA Boult\",\"AJ Tye\",\"VY Mahesh\",\"S Aravind\",\"DL Vettori\",\"Mujeeb Ur Rahman\",\"R Ashwin\",\"S Aravind\",\"AD Russell\",\"S Nadeem\",\"TA Boult\",\"AS Rajpoot\",\"JD Unadkat\",\"MC Henriques\",\"JD Unadkat\",\"S Nadeem\",\"MC Henriques\",\"Mohammed Shami\",\"B Laughlin\",\"RR Powar\",\"L Balaji\",\"CK Langeveldt\",\"AB Dinda\",\"CK Langeveldt\",\"YS Chahal\",\"PP Chawla\",\"A Zampa\",\"SR Watson\",\"SP Narine\",\"IK Pathan\",\"A Mishra\",\"AM Salvi\",\"R Ashwin\",\"S Kaul\",\"R Ashwin\",\"AB Dinda\",\"RS Bopara\",\"Sandeep Sharma\",\"A Mishra\",\"AB Dinda\",\"PP Chawla\",\"MC Henriques\",\"M Ntini\",\"AD Russell\",\"NM Coulter-Nile\",\"B Lee\",\"SR Watson\",\"AB Dinda\",\"R Ashwin\",\"PP Chawla\",\"B Kumar\",\"GJ Maxwell\",\"AB Dinda\",\"Z Khan\",\"S Aravind\",\"YS Chahal\",\"A Nehra\",\"S Nadeem\",\"R Ashwin\",\"MC Henriques\",\"PJ Sangwan\",\"L Balaji\",\"B Laughlin\",\"B Kumar\",\"R Shukla\",\"A Zampa\"],\"xaxis\":\"x\",\"y\":[3,2,2,2,2,2,2,1,1,1,1,1,1,1,1,1,1,1,1,1,1,1,1,1,1,1,1,1,1,1,1,1,1,1,1,1,1,1,1,1,1,1,1,1,1,1,1,1,1,1,1,1,1,1,1,1,1,1,1,1,1,1,1,1,1,1,1,1,1,1,1,1,1,1,1,1,1,1,1,1,1,1,1,1,1,1,1,1,1,1,1,1,1,1,1,1,1,1,1,1,1,1,1,1,1,1,1,1,1,1,1,1,1,1,1,1,1,1,1,1,1,1,1,1,1,1,1,1,1,1,1,1,1,1,1,1,1,1,1,1,1,1,1,1,1,1,1],\"yaxis\":\"y\",\"type\":\"bar\"}],                        {\"template\":{\"data\":{\"bar\":[{\"error_x\":{\"color\":\"#2a3f5f\"},\"error_y\":{\"color\":\"#2a3f5f\"},\"marker\":{\"line\":{\"color\":\"#E5ECF6\",\"width\":0.5},\"pattern\":{\"fillmode\":\"overlay\",\"size\":10,\"solidity\":0.2}},\"type\":\"bar\"}],\"barpolar\":[{\"marker\":{\"line\":{\"color\":\"#E5ECF6\",\"width\":0.5},\"pattern\":{\"fillmode\":\"overlay\",\"size\":10,\"solidity\":0.2}},\"type\":\"barpolar\"}],\"carpet\":[{\"aaxis\":{\"endlinecolor\":\"#2a3f5f\",\"gridcolor\":\"white\",\"linecolor\":\"white\",\"minorgridcolor\":\"white\",\"startlinecolor\":\"#2a3f5f\"},\"baxis\":{\"endlinecolor\":\"#2a3f5f\",\"gridcolor\":\"white\",\"linecolor\":\"white\",\"minorgridcolor\":\"white\",\"startlinecolor\":\"#2a3f5f\"},\"type\":\"carpet\"}],\"choropleth\":[{\"colorbar\":{\"outlinewidth\":0,\"ticks\":\"\"},\"type\":\"choropleth\"}],\"contour\":[{\"colorbar\":{\"outlinewidth\":0,\"ticks\":\"\"},\"colorscale\":[[0.0,\"#0d0887\"],[0.1111111111111111,\"#46039f\"],[0.2222222222222222,\"#7201a8\"],[0.3333333333333333,\"#9c179e\"],[0.4444444444444444,\"#bd3786\"],[0.5555555555555556,\"#d8576b\"],[0.6666666666666666,\"#ed7953\"],[0.7777777777777778,\"#fb9f3a\"],[0.8888888888888888,\"#fdca26\"],[1.0,\"#f0f921\"]],\"type\":\"contour\"}],\"contourcarpet\":[{\"colorbar\":{\"outlinewidth\":0,\"ticks\":\"\"},\"type\":\"contourcarpet\"}],\"heatmap\":[{\"colorbar\":{\"outlinewidth\":0,\"ticks\":\"\"},\"colorscale\":[[0.0,\"#0d0887\"],[0.1111111111111111,\"#46039f\"],[0.2222222222222222,\"#7201a8\"],[0.3333333333333333,\"#9c179e\"],[0.4444444444444444,\"#bd3786\"],[0.5555555555555556,\"#d8576b\"],[0.6666666666666666,\"#ed7953\"],[0.7777777777777778,\"#fb9f3a\"],[0.8888888888888888,\"#fdca26\"],[1.0,\"#f0f921\"]],\"type\":\"heatmap\"}],\"heatmapgl\":[{\"colorbar\":{\"outlinewidth\":0,\"ticks\":\"\"},\"colorscale\":[[0.0,\"#0d0887\"],[0.1111111111111111,\"#46039f\"],[0.2222222222222222,\"#7201a8\"],[0.3333333333333333,\"#9c179e\"],[0.4444444444444444,\"#bd3786\"],[0.5555555555555556,\"#d8576b\"],[0.6666666666666666,\"#ed7953\"],[0.7777777777777778,\"#fb9f3a\"],[0.8888888888888888,\"#fdca26\"],[1.0,\"#f0f921\"]],\"type\":\"heatmapgl\"}],\"histogram\":[{\"marker\":{\"pattern\":{\"fillmode\":\"overlay\",\"size\":10,\"solidity\":0.2}},\"type\":\"histogram\"}],\"histogram2d\":[{\"colorbar\":{\"outlinewidth\":0,\"ticks\":\"\"},\"colorscale\":[[0.0,\"#0d0887\"],[0.1111111111111111,\"#46039f\"],[0.2222222222222222,\"#7201a8\"],[0.3333333333333333,\"#9c179e\"],[0.4444444444444444,\"#bd3786\"],[0.5555555555555556,\"#d8576b\"],[0.6666666666666666,\"#ed7953\"],[0.7777777777777778,\"#fb9f3a\"],[0.8888888888888888,\"#fdca26\"],[1.0,\"#f0f921\"]],\"type\":\"histogram2d\"}],\"histogram2dcontour\":[{\"colorbar\":{\"outlinewidth\":0,\"ticks\":\"\"},\"colorscale\":[[0.0,\"#0d0887\"],[0.1111111111111111,\"#46039f\"],[0.2222222222222222,\"#7201a8\"],[0.3333333333333333,\"#9c179e\"],[0.4444444444444444,\"#bd3786\"],[0.5555555555555556,\"#d8576b\"],[0.6666666666666666,\"#ed7953\"],[0.7777777777777778,\"#fb9f3a\"],[0.8888888888888888,\"#fdca26\"],[1.0,\"#f0f921\"]],\"type\":\"histogram2dcontour\"}],\"mesh3d\":[{\"colorbar\":{\"outlinewidth\":0,\"ticks\":\"\"},\"type\":\"mesh3d\"}],\"parcoords\":[{\"line\":{\"colorbar\":{\"outlinewidth\":0,\"ticks\":\"\"}},\"type\":\"parcoords\"}],\"pie\":[{\"automargin\":true,\"type\":\"pie\"}],\"scatter\":[{\"marker\":{\"colorbar\":{\"outlinewidth\":0,\"ticks\":\"\"}},\"type\":\"scatter\"}],\"scatter3d\":[{\"line\":{\"colorbar\":{\"outlinewidth\":0,\"ticks\":\"\"}},\"marker\":{\"colorbar\":{\"outlinewidth\":0,\"ticks\":\"\"}},\"type\":\"scatter3d\"}],\"scattercarpet\":[{\"marker\":{\"colorbar\":{\"outlinewidth\":0,\"ticks\":\"\"}},\"type\":\"scattercarpet\"}],\"scattergeo\":[{\"marker\":{\"colorbar\":{\"outlinewidth\":0,\"ticks\":\"\"}},\"type\":\"scattergeo\"}],\"scattergl\":[{\"marker\":{\"colorbar\":{\"outlinewidth\":0,\"ticks\":\"\"}},\"type\":\"scattergl\"}],\"scattermapbox\":[{\"marker\":{\"colorbar\":{\"outlinewidth\":0,\"ticks\":\"\"}},\"type\":\"scattermapbox\"}],\"scatterpolar\":[{\"marker\":{\"colorbar\":{\"outlinewidth\":0,\"ticks\":\"\"}},\"type\":\"scatterpolar\"}],\"scatterpolargl\":[{\"marker\":{\"colorbar\":{\"outlinewidth\":0,\"ticks\":\"\"}},\"type\":\"scatterpolargl\"}],\"scatterternary\":[{\"marker\":{\"colorbar\":{\"outlinewidth\":0,\"ticks\":\"\"}},\"type\":\"scatterternary\"}],\"surface\":[{\"colorbar\":{\"outlinewidth\":0,\"ticks\":\"\"},\"colorscale\":[[0.0,\"#0d0887\"],[0.1111111111111111,\"#46039f\"],[0.2222222222222222,\"#7201a8\"],[0.3333333333333333,\"#9c179e\"],[0.4444444444444444,\"#bd3786\"],[0.5555555555555556,\"#d8576b\"],[0.6666666666666666,\"#ed7953\"],[0.7777777777777778,\"#fb9f3a\"],[0.8888888888888888,\"#fdca26\"],[1.0,\"#f0f921\"]],\"type\":\"surface\"}],\"table\":[{\"cells\":{\"fill\":{\"color\":\"#EBF0F8\"},\"line\":{\"color\":\"white\"}},\"header\":{\"fill\":{\"color\":\"#C8D4E3\"},\"line\":{\"color\":\"white\"}},\"type\":\"table\"}]},\"layout\":{\"annotationdefaults\":{\"arrowcolor\":\"#2a3f5f\",\"arrowhead\":0,\"arrowwidth\":1},\"autotypenumbers\":\"strict\",\"coloraxis\":{\"colorbar\":{\"outlinewidth\":0,\"ticks\":\"\"}},\"colorscale\":{\"diverging\":[[0,\"#8e0152\"],[0.1,\"#c51b7d\"],[0.2,\"#de77ae\"],[0.3,\"#f1b6da\"],[0.4,\"#fde0ef\"],[0.5,\"#f7f7f7\"],[0.6,\"#e6f5d0\"],[0.7,\"#b8e186\"],[0.8,\"#7fbc41\"],[0.9,\"#4d9221\"],[1,\"#276419\"]],\"sequential\":[[0.0,\"#0d0887\"],[0.1111111111111111,\"#46039f\"],[0.2222222222222222,\"#7201a8\"],[0.3333333333333333,\"#9c179e\"],[0.4444444444444444,\"#bd3786\"],[0.5555555555555556,\"#d8576b\"],[0.6666666666666666,\"#ed7953\"],[0.7777777777777778,\"#fb9f3a\"],[0.8888888888888888,\"#fdca26\"],[1.0,\"#f0f921\"]],\"sequentialminus\":[[0.0,\"#0d0887\"],[0.1111111111111111,\"#46039f\"],[0.2222222222222222,\"#7201a8\"],[0.3333333333333333,\"#9c179e\"],[0.4444444444444444,\"#bd3786\"],[0.5555555555555556,\"#d8576b\"],[0.6666666666666666,\"#ed7953\"],[0.7777777777777778,\"#fb9f3a\"],[0.8888888888888888,\"#fdca26\"],[1.0,\"#f0f921\"]]},\"colorway\":[\"#636efa\",\"#EF553B\",\"#00cc96\",\"#ab63fa\",\"#FFA15A\",\"#19d3f3\",\"#FF6692\",\"#B6E880\",\"#FF97FF\",\"#FECB52\"],\"font\":{\"color\":\"#2a3f5f\"},\"geo\":{\"bgcolor\":\"white\",\"lakecolor\":\"white\",\"landcolor\":\"#E5ECF6\",\"showlakes\":true,\"showland\":true,\"subunitcolor\":\"white\"},\"hoverlabel\":{\"align\":\"left\"},\"hovermode\":\"closest\",\"mapbox\":{\"style\":\"light\"},\"paper_bgcolor\":\"white\",\"plot_bgcolor\":\"#E5ECF6\",\"polar\":{\"angularaxis\":{\"gridcolor\":\"white\",\"linecolor\":\"white\",\"ticks\":\"\"},\"bgcolor\":\"#E5ECF6\",\"radialaxis\":{\"gridcolor\":\"white\",\"linecolor\":\"white\",\"ticks\":\"\"}},\"scene\":{\"xaxis\":{\"backgroundcolor\":\"#E5ECF6\",\"gridcolor\":\"white\",\"gridwidth\":2,\"linecolor\":\"white\",\"showbackground\":true,\"ticks\":\"\",\"zerolinecolor\":\"white\"},\"yaxis\":{\"backgroundcolor\":\"#E5ECF6\",\"gridcolor\":\"white\",\"gridwidth\":2,\"linecolor\":\"white\",\"showbackground\":true,\"ticks\":\"\",\"zerolinecolor\":\"white\"},\"zaxis\":{\"backgroundcolor\":\"#E5ECF6\",\"gridcolor\":\"white\",\"gridwidth\":2,\"linecolor\":\"white\",\"showbackground\":true,\"ticks\":\"\",\"zerolinecolor\":\"white\"}},\"shapedefaults\":{\"line\":{\"color\":\"#2a3f5f\"}},\"ternary\":{\"aaxis\":{\"gridcolor\":\"white\",\"linecolor\":\"white\",\"ticks\":\"\"},\"baxis\":{\"gridcolor\":\"white\",\"linecolor\":\"white\",\"ticks\":\"\"},\"bgcolor\":\"#E5ECF6\",\"caxis\":{\"gridcolor\":\"white\",\"linecolor\":\"white\",\"ticks\":\"\"}},\"title\":{\"x\":0.05},\"xaxis\":{\"automargin\":true,\"gridcolor\":\"white\",\"linecolor\":\"white\",\"ticks\":\"\",\"title\":{\"standoff\":15},\"zerolinecolor\":\"white\",\"zerolinewidth\":2},\"yaxis\":{\"automargin\":true,\"gridcolor\":\"white\",\"linecolor\":\"white\",\"ticks\":\"\",\"title\":{\"standoff\":15},\"zerolinecolor\":\"white\",\"zerolinewidth\":2}}},\"xaxis\":{\"anchor\":\"y\",\"domain\":[0.0,1.0],\"title\":{\"text\":\"bowler\"}},\"yaxis\":{\"anchor\":\"x\",\"domain\":[0.0,1.0],\"title\":{\"text\":\"count\"}},\"legend\":{\"tracegroupgap\":0},\"title\":{\"text\":\"Most Number of wicket taker\"},\"barmode\":\"relative\"},                        {\"responsive\": true}                    ).then(function(){\n",
              "                            \n",
              "var gd = document.getElementById('11690419-bbc4-4e9a-a6a4-b57ed0e3a64d');\n",
              "var x = new MutationObserver(function (mutations, observer) {{\n",
              "        var display = window.getComputedStyle(gd).display;\n",
              "        if (!display || display === 'none') {{\n",
              "            console.log([gd, 'removed!']);\n",
              "            Plotly.purge(gd);\n",
              "            observer.disconnect();\n",
              "        }}\n",
              "}});\n",
              "\n",
              "// Listen for the removal of the full notebook cells\n",
              "var notebookContainer = gd.closest('#notebook-container');\n",
              "if (notebookContainer) {{\n",
              "    x.observe(notebookContainer, {childList: true});\n",
              "}}\n",
              "\n",
              "// Listen for the clearing of the current output cell\n",
              "var outputEl = gd.closest('.output');\n",
              "if (outputEl) {{\n",
              "    x.observe(outputEl, {childList: true});\n",
              "}}\n",
              "\n",
              "                        })                };                            </script>        </div>\n",
              "</body>\n",
              "</html>"
            ]
          },
          "metadata": {}
        }
      ]
    },
    {
      "cell_type": "code",
      "source": [
        "# groupby count on bowler, fielder, dissmissal_kind.  and sorting it into ascending order and printing the top5 records\n",
        "method_df.select(['bowler', 'fielder', 'dismissal_kind']).filter(method_df['is_wicket']==1).groupBy(\n",
        "    ['bowler', 'fielder', 'dismissal_kind']).count().sort('count', ascending=False).head(5)"
      ],
      "metadata": {
        "colab": {
          "base_uri": "https://localhost:8080/"
        },
        "id": "izq4f3EvqSYp",
        "outputId": "973e9031-d58b-43f8-a4ae-3692986924e2"
      },
      "execution_count": null,
      "outputs": [
        {
          "output_type": "execute_result",
          "data": {
            "text/plain": [
              "[Row(bowler='M Ntini', fielder='NA', dismissal_kind='bowled', count=3),\n",
              " Row(bowler='YS Chahal', fielder='AB de Villiers', dismissal_kind='caught', count=2),\n",
              " Row(bowler='MC Henriques', fielder='DW Steyn', dismissal_kind='caught', count=2),\n",
              " Row(bowler='JD Unadkat', fielder='RA Tripathi', dismissal_kind='caught', count=2),\n",
              " Row(bowler='NM Coulter-Nile', fielder='SA Yadav', dismissal_kind='caught', count=2)]"
            ]
          },
          "metadata": {},
          "execution_count": 99
        }
      ]
    },
    {
      "cell_type": "code",
      "source": [
        "pandas3_plot3 = new_df.select(['bowler', 'fielder', 'dismissal_kind']).filter(new_df['is_wicket']==1).groupBy(\n",
        "    ['bowler', 'fielder', 'dismissal_kind']).count().sort('count', ascending=False).toPandas()\n",
        "fig = px.bar(pandas3_plot3, x='bowler', y='count', title='most number of wicket taking bowler')\n",
        "fig.show()"
      ],
      "metadata": {
        "colab": {
          "base_uri": "https://localhost:8080/"
        },
        "id": "4iZigv9jSgJk",
        "outputId": "f2d920d5-e705-4b1c-ff3f-e357438d0e05"
      },
      "execution_count": null,
      "outputs": [
        {
          "output_type": "display_data",
          "data": {
            "text/html": [
              "<html>\n",
              "<head><meta charset=\"utf-8\" /></head>\n",
              "<body>\n",
              "    <div>            <script src=\"https://cdnjs.cloudflare.com/ajax/libs/mathjax/2.7.5/MathJax.js?config=TeX-AMS-MML_SVG\"></script><script type=\"text/javascript\">if (window.MathJax) {MathJax.Hub.Config({SVG: {font: \"STIX-Web\"}});}</script>                <script type=\"text/javascript\">window.PlotlyConfig = {MathJaxConfig: 'local'};</script>\n",
              "        <script src=\"https://cdn.plot.ly/plotly-2.8.3.min.js\"></script>                <div id=\"682b513f-b572-4cf5-be91-12cf0f6dd27a\" class=\"plotly-graph-div\" style=\"height:525px; width:100%;\"></div>            <script type=\"text/javascript\">                                    window.PLOTLYENV=window.PLOTLYENV || {};                                    if (document.getElementById(\"682b513f-b572-4cf5-be91-12cf0f6dd27a\")) {                    Plotly.newPlot(                        \"682b513f-b572-4cf5-be91-12cf0f6dd27a\",                        [{\"alignmentgroup\":\"True\",\"hovertemplate\":\"bowler=%{x}<br>count=%{y}<extra></extra>\",\"legendgroup\":\"\",\"marker\":{\"color\":\"#636efa\",\"pattern\":{\"shape\":\"\"}},\"name\":\"\",\"offsetgroup\":\"\",\"orientation\":\"v\",\"showlegend\":false,\"textposition\":\"auto\",\"x\":[\"SL Malinga\",\"PP Chawla\",\"B Kumar\",\"SP Narine\",\"Harbhajan Singh\",\"RA Jadeja\",\"DW Steyn\",\"JJ Bumrah\",\"RP Singh\",\"A Mishra\",\"YS Chahal\",\"R Ashwin\",\"A Nehra\",\"Z Khan\",\"IK Pathan\",\"Rashid Khan\",\"AR Patel\",\"Sandeep Sharma\",\"UT Yadav\",\"MM Sharma\",\"DJ Bravo\",\"CH Morris\",\"R Bhatia\",\"L Balaji\",\"K Rabada\",\"JH Kallis\",\"Rashid Khan\",\"JP Faulkner\",\"SP Narine\",\"JA Morkel\",\"PP Chawla\",\"M Morkel\",\"SR Watson\",\"I Sharma\",\"Harbhajan Singh\",\"R Ashwin\",\"Imran Tahir\",\"DJ Bravo\",\"DJ Bravo\",\"SK Trivedi\",\"PP Ojha\",\"MA Starc\",\"Sandeep Sharma\",\"P Kumar\",\"Mohammed Shami\",\"JD Unadkat\",\"AB Dinda\",\"A Mishra\",\"R Vinay Kumar\",\"M Muralitharan\",\"DJ Bravo\",\"Sandeep Sharma\",\"SL Malinga\",\"DS Kulkarni\",\"MM Patel\",\"MS Gony\",\"RA Jadeja\",\"S Kaul\",\"MG Johnson\",\"JC Archer\",\"SL Malinga\",\"SN Thakur\",\"YS Chahal\",\"RA Jadeja\",\"DJ Bravo\",\"Shakib Al Hasan\",\"Harbhajan Singh\",\"JJ Bumrah\",\"SB Jakati\",\"PJ Cummins\",\"Mohammed Siraj\",\"A Mishra\",\"YK Pathan\",\"K Rabada\",\"AD Russell\",\"JJ Bumrah\",\"R Ashwin\",\"KK Cooper\",\"B Kumar\",\"B Kumar\",\"UT Yadav\",\"AR Patel\",\"M Muralitharan\",\"MJ McClenaghan\",\"PP Ojha\",\"JJ Bumrah\",\"PP Ojha\",\"RA Jadeja\",\"S Nadeem\",\"MJ McClenaghan\",\"A Mishra\",\"TA Boult\",\"YS Chahal\",\"Sandeep Sharma\",\"DL Chahar\",\"Yuvraj Singh\",\"SP Narine\",\"Z Khan\",\"B Kumar\",\"Sohail Tanvir\",\"M Morkel\",\"SL Malinga\",\"RJ Harris\",\"K Rabada\",\"B Kumar\",\"R Sharma\",\"A Nortje\",\"R Sharma\",\"Harbhajan Singh\",\"MM Sharma\",\"R Ashwin\",\"DR Smith\",\"DT Christian\",\"SR Watson\",\"S Aravind\",\"A Kumble\",\"DE Bollinger\",\"MJ McClenaghan\",\"JJ Bumrah\",\"KH Pandya\",\"UT Yadav\",\"J Botha\",\"HH Pandya\",\"JD Unadkat\",\"DJ Bravo\",\"R Bhatia\",\"JA Morkel\",\"Imran Tahir\",\"UT Yadav\",\"JJ Bumrah\",\"DL Vettori\",\"SL Malinga\",\"TA Boult\",\"MG Johnson\",\"P Awana\",\"PJ Sangwan\",\"S Sreesanth\",\"AD Russell\",\"BA Stokes\",\"KH Pandya\",\"AR Patel\",\"DJ Bravo\",\"IK Pathan\",\"MM Patel\",\"L Balaji\",\"SP Narine\",\"Harbhajan Singh\",\"JA Morkel\",\"MM Sharma\",\"CJ Jordan\",\"R Ashwin\",\"A Mishra\",\"Harmeet Singh\",\"J Botha\",\"R Bhatia\",\"Shakib Al Hasan\",\"DL Chahar\",\"HV Patel\",\"A Mishra\",\"I Sharma\",\"KA Pollard\",\"JH Kallis\",\"S Aravind\",\"AB McDonald\",\"S Gopal\",\"P Awana\",\"R Vinay Kumar\",\"RA Jadeja\",\"M Morkel\",\"B Lee\",\"Iqbal Abdulla\",\"JA Morkel\",\"R Vinay Kumar\",\"A Ashish Reddy\",\"RA Jadeja\",\"DW Steyn\",\"KV Sharma\",\"A Singh\",\"VR Aaron\",\"R Ashwin\",\"M Morkel\",\"JJ Bumrah\",\"AD Mathews\",\"RP Singh\",\"SK Warne\",\"SL Malinga\",\"DT Christian\",\"MC Henriques\",\"IK Pathan\",\"P Kumar\",\"TG Southee\",\"YS Chahal\",\"M Ashwin\",\"DJ Bravo\",\"SL Malinga\",\"PP Chawla\",\"A Mishra\",\"M Morkel\",\"SB Jakati\",\"A Mishra\",\"SK Warne\",\"SB Jakati\",\"VR Aaron\",\"JC Archer\",\"Anureet Singh\",\"PP Ojha\",\"NLTC Perera\",\"JP Duminy\",\"R Vinay Kumar\",\"R Vinay Kumar\",\"DS Kulkarni\",\"Mohammed Shami\",\"Imran Tahir\",\"R Ashwin\",\"AR Patel\",\"A Mishra\",\"JD Unadkat\",\"B Kumar\",\"AJ Tye\",\"A Nehra\",\"PJ Sangwan\",\"RA Jadeja\",\"KV Sharma\",\"UT Yadav\",\"R Ashwin\",\"JH Kallis\",\"UT Yadav\",\"SB Jakati\",\"KK Cooper\",\"RD Chahar\",\"A Nehra\",\"RP Singh\",\"SP Narine\",\"CH Morris\",\"HV Patel\",\"MJ McClenaghan\",\"JJ Bumrah\",\"Imran Tahir\",\"M Prasidh Krishna\",\"Iqbal Abdulla\",\"DE Bollinger\",\"VY Mahesh\",\"JP Faulkner\",\"RJ Harris\",\"AD Russell\",\"GB Hogg\",\"UT Yadav\",\"P Awana\",\"MM Patel\",\"LR Shukla\",\"SL Malinga\",\"IC Pandey\",\"A Chandila\",\"BW Hilfenhaus\",\"Kuldeep Yadav\",\"P Kumar\",\"UT Yadav\",\"DW Steyn\",\"MM Sharma\",\"AJ Tye\",\"JO Holder\",\"Rashid Khan\",\"DL Chahar\",\"RD Chahar\",\"JD Unadkat\",\"AJ Tye\",\"M Muralitharan\",\"DP Nannes\",\"YK Pathan\",\"RR Powar\",\"CH Gayle\",\"VR Aaron\",\"GJ Maxwell\",\"SW Tait\",\"RP Singh\",\"MF Maharoof\",\"PV Tambe\",\"JD Unadkat\",\"P Awana\",\"Mohammed Shami\",\"RG Sharma\",\"PP Chawla\",\"RE van der Merwe\",\"MF Maharoof\",\"KA Pollard\",\"AC Thomas\",\"RA Jadeja\",\"AB Agarkar\",\"NM Coulter-Nile\",\"MM Sharma\",\"RP Singh\",\"PP Ojha\",\"T Natarajan\",\"B Kumar\",\"DJG Sammy\",\"PP Chawla\",\"KA Pollard\",\"JC Archer\",\"CV Varun\",\"P Negi\",\"SK Warne\",\"MG Johnson\",\"S Kaul\",\"L Balaji\",\"Z Khan\",\"Mohammed Siraj\",\"S Nadeem\",\"Kuldeep Yadav\",\"MM Patel\",\"STR Binny\",\"SP Narine\",\"R Dhawan\",\"JJ Bumrah\",\"AR Patel\",\"L Ngidi\",\"R Vinay Kumar\",\"DS Kulkarni\",\"Basil Thampi\",\"S Nadeem\",\"I Sharma\",\"Harmeet Singh\",\"K Rabada\",\"Umar Gul\",\"KA Pollard\",\"L Ngidi\",\"MP Stoinis\",\"Rashid Khan\",\"DW Steyn\",\"Karanveer Singh\",\"JJ Bumrah\",\"Z Khan\",\"S Sreesanth\",\"DL Chahar\",\"K Gowtham\",\"PP Ojha\",\"RJ Harris\",\"R Ashwin\",\"Kuldeep Yadav\",\"B Kumar\",\"R Sharma\",\"JA Morkel\",\"A Nehra\",\"Mujeeb Ur Rahman\",\"S Sreesanth\",\"KW Richardson\",\"SM Curran\",\"YA Abdulla\",\"MS Gony\",\"R Vinay Kumar\",\"WD Parnell\",\"Sandeep Sharma\",\"DJ Bravo\",\"SK Warne\",\"PP Chawla\",\"Sandeep Sharma\",\"Anureet Singh\",\"MM Sharma\",\"CR Woakes\",\"RJ Harris\",\"R Vinay Kumar\",\"Rashid Khan\",\"PP Chawla\",\"J Theron\",\"A Kumble\",\"I Sharma\",\"DL Vettori\",\"JC Archer\",\"PP Chawla\",\"Harbhajan Singh\",\"MM Ali\",\"Sandeep Sharma\",\"MJ McClenaghan\",\"Mohammed Shami\",\"BB Sran\",\"S Kaul\",\"SP Narine\",\"DW Steyn\",\"P Kumar\",\"DS Kulkarni\",\"YS Chahal\",\"MM Patel\",\"Mustafizur Rahman\",\"JC Archer\",\"SN Thakur\",\"A Kumble\",\"DP Nannes\",\"DS Kulkarni\",\"KH Pandya\",\"VRV Singh\",\"SR Watson\",\"B Kumar\",\"SM Curran\",\"RE van der Merwe\",\"Shakib Al Hasan\",\"R Ashwin\",\"SK Warne\",\"JA Morkel\",\"S Sreesanth\",\"R Vinay Kumar\",\"B Kumar\",\"AB Dinda\",\"HV Patel\",\"DJ Bravo\",\"B Kumar\",\"M Ntini\",\"MJ McClenaghan\",\"S Aravind\",\"Shakib Al Hasan\",\"AB Dinda\",\"AR Patel\",\"SP Narine\",\"DJ Bravo\",\"KK Ahmed\",\"MM Sharma\",\"SN Thakur\",\"S Nadeem\",\"MC Henriques\",\"A Nehra\",\"B Laughlin\",\"UT Yadav\",\"A Kumble\",\"JP Faulkner\",\"AJ Tye\",\"I Sharma\",\"BJ Hodge\",\"Shivam Mavi\",\"DS Kulkarni\",\"R McLaren\",\"M Markande\",\"Imran Tahir\",\"IC Pandey\",\"Z Khan\",\"A Nehra\",\"JO Holder\",\"JP Faulkner\",\"SR Watson\",\"PP Chawla\",\"M Kartik\",\"RP Singh\",\"Kamran Khan\",\"MM Patel\",\"SL Malinga\",\"UT Yadav\",\"PP Chawla\",\"HH Pandya\",\"MM Sharma\",\"B Lee\",\"MG Johnson\",\"DJ Bravo\",\"Azhar Mahmood\",\"SC Ganguly\",\"Mohammed Shami\",\"R Ashwin\",\"MJ McClenaghan\",\"RP Singh\",\"IK Pathan\",\"P Awana\",\"MJ McClenaghan\",\"A Mishra\",\"SK Raina\",\"SK Trivedi\",\"SMSM Senanayake\",\"DW Steyn\",\"R Bhatia\",\"HV Patel\",\"DS Kulkarni\",\"M Markande\",\"PP Ojha\",\"TA Boult\",\"KH Pandya\",\"Harbhajan Singh\",\"MJ McClenaghan\",\"WD Parnell\",\"DE Bollinger\",\"A Mishra\",\"S Gopal\",\"HH Pandya\",\"Umar Gul\",\"DR Smith\",\"M Prasidh Krishna\",\"DW Steyn\",\"BW Hilfenhaus\",\"M Morkel\",\"M Prasidh Krishna\",\"CR Woakes\",\"JA Morkel\",\"MR Marsh\",\"KK Ahmed\",\"Mohammed Shami\",\"Mustafizur Rahman\",\"Shakib Al Hasan\",\"MM Sharma\",\"JA Morkel\",\"A Mishra\",\"KH Pandya\",\"HH Pandya\",\"DJ Bravo\",\"P Kumar\",\"AS Joseph\",\"A Mishra\",\"R Vinay Kumar\",\"AB Dinda\",\"CH Morris\",\"SK Trivedi\",\"R Dhawan\",\"MG Johnson\",\"S Badree\",\"JP Faulkner\",\"MA Starc\",\"B Kumar\",\"SK Trivedi\",\"Mohammed Shami\",\"CH Morris\",\"P Kumar\",\"JJ Bumrah\",\"AN Ahmed\",\"AD Russell\",\"JA Morkel\",\"WPUJC Vaas\",\"YS Chahal\",\"S Gopal\",\"NM Coulter-Nile\",\"R Sharma\",\"Sohail Tanvir\",\"SL Malinga\",\"TA Boult\",\"SK Raina\",\"AR Patel\",\"SK Trivedi\",\"AA Chavan\",\"YS Chahal\",\"TG Southee\",\"R Rampaul\",\"SK Warne\",\"Shakib Al Hasan\",\"Harbhajan Singh\",\"KA Pollard\",\"S Gopal\",\"A Choudhary\",\"DP Vijaykumar\",\"JJ Bumrah\",\"KV Sharma\",\"S Kaul\",\"JJ Bumrah\",\"Azhar Mahmood\",\"A Mishra\",\"JP Faulkner\",\"Ravi Bishnoi\",\"B Kumar\",\"S Kaul\",\"MM Ali\",\"GJ Maxwell\",\"JP Faulkner\",\"RS Bopara\",\"MM Patel\",\"DJ Bravo\",\"KMA Paul\",\"TA Boult\",\"KV Sharma\",\"A Symonds\",\"R Vinay Kumar\",\"BA Stokes\",\"I Sharma\",\"Imran Tahir\",\"S Kaul\",\"MA Starc\",\"MM Patel\",\"MP Stoinis\",\"JP Faulkner\",\"SJ Srivastava\",\"BW Hilfenhaus\",\"R Vinay Kumar\",\"DJ Bravo\",\"P Kumar\",\"R Vinay Kumar\",\"DW Steyn\",\"S Gopal\",\"A Nehra\",\"NLTC Perera\",\"Iqbal Abdulla\",\"L Balaji\",\"KL Nagarkoti\",\"MM Patel\",\"Mohammed Shami\",\"AB Dinda\",\"YS Chahal\",\"PV Tambe\",\"DE Bollinger\",\"Azhar Mahmood\",\"Basil Thampi\",\"DT Christian\",\"HH Pandya\",\"MC Henriques\",\"JD Unadkat\",\"AB Agarkar\",\"Imran Tahir\",\"Mohammad Nabi\",\"RP Singh\",\"Joginder Sharma\",\"DS Kulkarni\",\"RP Singh\",\"MM Patel\",\"DE Bollinger\",\"SP Narine\",\"Azhar Mahmood\",\"Imran Tahir\",\"Mohammed Siraj\",\"SN Thakur\",\"M Ashwin\",\"AD Mascarenhas\",\"AJ Tye\",\"R Vinay Kumar\",\"R Ashwin\",\"RJ Harris\",\"Jaskaran Singh\",\"A Nehra\",\"AS Rajpoot\",\"Arshdeep Singh\",\"Mujeeb Ur Rahman\",\"BW Hilfenhaus\",\"JD Unadkat\",\"TK Curran\",\"Mohammad Nabi\",\"Rashid Khan\",\"PJ Cummins\",\"A Ashish Reddy\",\"PV Tambe\",\"PP Chawla\",\"VRV Singh\",\"MG Johnson\",\"NM Coulter-Nile\",\"AJ Tye\",\"PJ Sangwan\",\"MM Patel\",\"Sandeep Sharma\",\"R Vinay Kumar\",\"JJ Bumrah\",\"Azhar Mahmood\",\"IK Pathan\",\"YS Chahal\",\"AD Mascarenhas\",\"Imran Tahir\",\"Mohammed Shami\",\"DS Kulkarni\",\"JEC Franklin\",\"KV Sharma\",\"JL Pattinson\",\"JD Unadkat\",\"KK Cooper\",\"NA Saini\",\"Mustafizur Rahman\",\"DW Steyn\",\"AB Agarkar\",\"R Bhatia\",\"JH Kallis\",\"Harbhajan Singh\",\"Mohammed Shami\",\"RA Jadeja\",\"PV Tambe\",\"Kartik Tyagi\",\"BCJ Cutting\",\"AB Dinda\",\"Mohammed Shami\",\"RP Singh\",\"RA Jadeja\",\"PP Ojha\",\"HV Patel\",\"PP Chawla\",\"TA Boult\",\"CH Morris\",\"SK Trivedi\",\"SL Malinga\",\"AS Rajpoot\",\"PJ Cummins\",\"SK Warne\",\"R Ashwin\",\"JA Morkel\",\"TA Boult\",\"HV Patel\",\"SK Warne\",\"YS Chahal\",\"JD Unadkat\",\"A Nehra\",\"SR Watson\",\"AD Russell\",\"P Kumar\",\"JA Morkel\",\"PP Chawla\",\"AB Dinda\",\"A Kumble\",\"JA Morkel\",\"SP Narine\",\"M Kartik\",\"Sandeep Sharma\",\"SL Malinga\",\"BA Stokes\",\"S Lamichhane\",\"PJ Sangwan\",\"MR Marsh\",\"R Dhawan\",\"SK Trivedi\",\"MJ McClenaghan\",\"Imran Tahir\",\"A Nehra\",\"R Ashwin\",\"KK Ahmed\",\"A Mishra\",\"DL Chahar\",\"DJ Bravo\",\"Z Khan\",\"GB Hogg\",\"A Mishra\",\"Sandeep Sharma\",\"MJ McClenaghan\",\"JP Faulkner\",\"Harbhajan Singh\",\"A Mishra\",\"A Nehra\",\"L Ngidi\",\"AD Russell\",\"SK Warne\",\"DJ Bravo\",\"A Kumble\",\"PP Chawla\",\"R Tewatia\",\"KA Pollard\",\"Washington Sundar\",\"SL Malinga\",\"UT Yadav\",\"DJ Bravo\",\"R Vinay Kumar\",\"T Natarajan\",\"CR Woakes\",\"AD Mascarenhas\",\"AB Dinda\",\"MA Starc\",\"DW Steyn\",\"NA Saini\",\"Azhar Mahmood\",\"CH Morris\",\"JR Hopes\",\"MC Henriques\",\"Harbhajan Singh\",\"JA Morkel\",\"M Muralitharan\",\"UT Yadav\",\"WD Parnell\",\"UT Yadav\",\"A Zampa\",\"Rashid Khan\",\"TG Southee\",\"UT Yadav\",\"K Rabada\",\"P Kumar\",\"KV Sharma\",\"Mohammed Shami\",\"SK Warne\",\"M Morkel\",\"S Kaul\",\"TA Boult\",\"Washington Sundar\",\"SMSM Senanayake\",\"DW Steyn\",\"DL Chahar\",\"AD Russell\",\"M Muralitharan\",\"PV Tambe\",\"DT Christian\",\"Rashid Khan\",\"DL Chahar\",\"R Bhatia\",\"K Rabada\",\"KA Pollard\",\"DE Bollinger\",\"DS Kulkarni\",\"SN Thakur\",\"STR Binny\",\"UT Yadav\",\"VR Aaron\",\"HH Pandya\",\"Mohammed Shami\",\"S Kaul\",\"SL Malinga\",\"DJ Bravo\",\"Sandeep Sharma\",\"A Nehra\",\"Imran Tahir\",\"YS Chahal\",\"L Balaji\",\"R Shukla\",\"DP Nannes\",\"S Aravind\",\"SR Watson\",\"BA Bhatt\",\"IS Sodhi\",\"I Udana\",\"SM Curran\",\"PP Chawla\",\"CH Morris\",\"AJ Tye\",\"Washington Sundar\",\"L Ablish\",\"UT Yadav\",\"PP Chawla\",\"L Balaji\",\"R Tewatia\",\"RV Gomez\",\"SR Watson\",\"Bipul Sharma\",\"Z Khan\",\"R Vinay Kumar\",\"DP Nannes\",\"DL Vettori\",\"KK Ahmed\",\"SR Watson\",\"SR Watson\",\"S Kaul\",\"B Lee\",\"SK Trivedi\",\"DJ Bravo\",\"AR Patel\",\"DL Chahar\",\"AB Dinda\",\"CH Gayle\",\"Kuldeep Yadav\",\"R Vinay Kumar\",\"IK Pathan\",\"YA Abdulla\",\"M Muralitharan\",\"MJ McClenaghan\",\"SJ Srivastava\",\"V Pratap Singh\",\"MS Gony\",\"NLTC Perera\",\"Shahid Afridi\",\"JD Ryder\",\"BCJ Cutting\",\"MA Khote\",\"Mohammad Asif\",\"MA Starc\",\"A Mishra\",\"Arshdeep Singh\",\"PP Ojha\",\"CV Varun\",\"I Sharma\",\"KK Cooper\",\"A Kumble\",\"KK Cooper\",\"SP Narine\",\"Kuldeep Yadav\",\"UT Yadav\",\"JO Holder\",\"IK Pathan\",\"A Mishra\",\"L Balaji\",\"R Ashwin\",\"Yuvraj Singh\",\"BA Bhatt\",\"DS Kulkarni\",\"HV Patel\",\"KV Sharma\",\"MJ McClenaghan\",\"DL Vettori\",\"YS Chahal\",\"TA Boult\",\"M Kartik\",\"AS Rajpoot\",\"PP Chawla\",\"A Mishra\",\"M Morkel\",\"JH Kallis\",\"RJ Harris\",\"AB Agarkar\",\"P Awana\",\"MP Stoinis\",\"MN Samuels\",\"CR Woakes\",\"SP Narine\",\"M de Lange\",\"STR Binny\",\"M Muralitharan\",\"R Vinay Kumar\",\"Imran Tahir\",\"PP Chawla\",\"HH Pandya\",\"VR Aaron\",\"CJ Jordan\",\"L Ngidi\",\"GJ Maxwell\",\"Sandeep Sharma\",\"A Singh\",\"RJ Harris\",\"SL Malinga\",\"KV Sharma\",\"P Amarnath\",\"P Negi\",\"RR Powar\",\"KV Sharma\",\"BB Sran\",\"S Nadeem\",\"MM Patel\",\"SM Curran\",\"HF Gurney\",\"SR Watson\",\"CRD Fernando\",\"Iqbal Abdulla\",\"JA Morkel\",\"PP Ojha\",\"SJ Srivastava\",\"P Kumar\",\"JP Behrendorff\",\"Imran Tahir\",\"AD Russell\",\"UT Yadav\",\"S Randiv\",\"MC Henriques\",\"MP Stoinis\",\"A Symonds\",\"Mohammed Siraj\",\"Iqbal Abdulla\",\"SK Trivedi\",\"M Prasidh Krishna\",\"P Kumar\",\"KA Pollard\",\"WD Parnell\",\"Shakib Al Hasan\",\"R Ashwin\",\"P Awana\",\"DE Bollinger\",\"Joginder Sharma\",\"DE Bollinger\",\"BJ Hodge\",\"A Symonds\",\"S Gopal\",\"KK Ahmed\",\"DS Kulkarni\",\"NM Coulter-Nile\",\"Harbhajan Singh\",\"SR Watson\",\"Sandeep Sharma\",\"YK Pathan\",\"P Kumar\",\"M Morkel\",\"I Sharma\",\"JC Archer\",\"RA Jadeja\",\"Y Venugopal Rao\",\"R Rampaul\",\"J Botha\",\"JA Morkel\",\"AD Mathews\",\"JP Faulkner\",\"DL Chahar\",\"MM Sharma\",\"Z Khan\",\"YS Chahal\",\"AR Patel\",\"CH Morris\",\"DS Kulkarni\",\"P Kumar\",\"J Botha\",\"S Lamichhane\",\"VR Aaron\",\"JL Pattinson\",\"MF Maharoof\",\"K Gowtham\",\"AD Russell\",\"Mohammed Siraj\",\"SB Jakati\",\"PP Chawla\",\"R Ashwin\",\"A Ashish Reddy\",\"YS Chahal\",\"L Balaji\",\"KV Sharma\",\"RE van der Merwe\",\"SK Raina\",\"JH Kallis\",\"PP Ojha\",\"RP Singh\",\"FH Edwards\",\"CH Gayle\",\"K Rabada\",\"NLTC Perera\",\"IK Pathan\",\"Harbhajan Singh\",\"L Balaji\",\"SN Thakur\",\"P Kumar\",\"RD Chahar\",\"SW Tait\",\"Rashid Khan\",\"Harmeet Singh\",\"L Balaji\",\"Sachin Baby\",\"P Negi\",\"A Singh\",\"SR Watson\",\"CJ Jordan\",\"Pankaj Singh\",\"Z Khan\",\"Shakib Al Hasan\",\"Yuvraj Singh\",\"R Ashwin\",\"KK Ahmed\",\"SB Jakati\",\"DW Steyn\",\"CH Morris\",\"SP Narine\",\"DJ Bravo\",\"Yuvraj Singh\",\"DW Steyn\",\"AJ Tye\",\"Harbhajan Singh\",\"L Balaji\",\"R Bhatia\",\"CH Morris\",\"A Nortje\",\"CH Morris\",\"IK Pathan\",\"CRD Fernando\",\"DL Vettori\",\"MM Sharma\",\"V Pratap Singh\",\"Shoaib Akhtar\",\"SM Pollock\",\"YS Chahal\",\"AD Mascarenhas\",\"A Symonds\",\"DW Steyn\",\"Shakib Al Hasan\",\"A Symonds\",\"JP Duminy\",\"SP Narine\",\"NM Coulter-Nile\",\"MG Johnson\",\"HH Pandya\",\"Harbhajan Singh\",\"Yuvraj Singh\",\"L Balaji\",\"Mohammed Siraj\",\"MM Patel\",\"MC Henriques\",\"IC Pandey\",\"YA Abdulla\",\"ST Jayasuriya\",\"JC Archer\",\"S Tyagi\",\"DJ Bravo\",\"VY Mahesh\",\"YK Pathan\",\"KMA Paul\",\"Basil Thampi\",\"P Negi\",\"Umar Gul\",\"SK Trivedi\",\"A Mithun\",\"JD Unadkat\",\"PJ Sangwan\",\"WPUJC Vaas\",\"DW Steyn\",\"YK Pathan\",\"UT Yadav\",\"SL Malinga\",\"D Wiese\",\"RD Chahar\",\"P Kumar\",\"A Mishra\",\"JL Pattinson\",\"MF Maharoof\",\"CJ Jordan\",\"Mustafizur Rahman\",\"BJ Hodge\",\"K Rabada\",\"VR Aaron\",\"BE Hendricks\",\"SP Narine\",\"Shakib Al Hasan\",\"JR Hopes\",\"BB Sran\",\"Harbhajan Singh\",\"Ravi Bishnoi\",\"SK Trivedi\",\"R Ashwin\",\"R Sathish\",\"S Nadeem\",\"A Mishra\",\"RR Raje\",\"SP Narine\",\"SC Ganguly\",\"Iqbal Abdulla\",\"BA Stokes\",\"Sandeep Sharma\",\"CH Morris\",\"P Kumar\",\"UT Yadav\",\"JD Unadkat\",\"S Kaul\",\"DP Nannes\",\"S Kaul\",\"MM Sharma\",\"R Vinay Kumar\",\"A Mishra\",\"Shakib Al Hasan\",\"CJ Jordan\",\"Mohammed Siraj\",\"RP Singh\",\"A Singh\",\"DW Steyn\",\"Rashid Khan\",\"HH Pandya\",\"BB Sran\",\"JA Morkel\",\"VR Aaron\",\"R Tewatia\",\"BW Hilfenhaus\",\"PP Ojha\",\"RP Singh\",\"M Kartik\",\"CV Varun\",\"O Thomas\",\"PD Collingwood\",\"Ravi Bishnoi\",\"P Kumar\",\"SR Watson\",\"TS Mills\",\"M de Lange\",\"KL Nagarkoti\",\"UT Yadav\",\"B Kumar\",\"A Mishra\",\"AP Dole\",\"KA Pollard\",\"KV Sharma\",\"RP Singh\",\"SB Jakati\",\"KW Richardson\",\"AR Patel\",\"A Chandila\",\"Shakib Al Hasan\",\"DW Steyn\",\"IK Pathan\",\"A Zampa\",\"Z Khan\",\"JH Kallis\",\"CR Brathwaite\",\"M Kartik\",\"Shakib Al Hasan\",\"SM Harwood\",\"S Narwal\",\"CR Woakes\",\"BB Sran\",\"DS Kulkarni\",\"J Suchith\",\"R Ashwin\",\"YA Abdulla\",\"Z Khan\",\"MM Sharma\",\"DL Chahar\",\"SN Thakur\",\"MM Sharma\",\"DL Chahar\",\"MM Sharma\",\"Shivam Mavi\",\"YS Chahal\",\"KW Richardson\",\"Harmeet Singh\",\"CR Brathwaite\",\"I Sharma\",\"JJ Bumrah\",\"NLTC Perera\",\"SW Tait\",\"Ankit Sharma\",\"SM Curran\",\"PP Ojha\",\"NLTC Perera\",\"SE Bond\",\"S Nadeem\",\"MM Patel\",\"S Nadeem\",\"JA Morkel\",\"Harbhajan Singh\",\"TA Boult\",\"DJ Bravo\",\"Kuldeep Yadav\",\"PP Chawla\",\"L Balaji\",\"IK Pathan\",\"DP Nannes\",\"ST Jayasuriya\",\"M Morkel\",\"A Nehra\",\"Shakib Al Hasan\",\"AB Dinda\",\"CH Morris\",\"Iqbal Abdulla\",\"KMA Paul\",\"A Zampa\",\"KP Appanna\",\"JH Kallis\",\"TG Southee\",\"SL Malinga\",\"JC Archer\",\"Kuldeep Yadav\",\"VR Aaron\",\"CH Morris\",\"S Nadeem\",\"Harmeet Singh\",\"CH Gayle\",\"RD Chahar\",\"PV Tambe\",\"MJ McClenaghan\",\"MM Ali\",\"S Ladda\",\"Kartik Tyagi\",\"CJ Anderson\",\"DJ Bravo\",\"UT Yadav\",\"A Ashish Reddy\",\"I Sharma\",\"TU Deshpande\",\"SK Raina\",\"JJ Bumrah\",\"AB Dinda\",\"S Sreesanth\",\"DJ Bravo\",\"P Negi\",\"Kartik Tyagi\",\"DR Smith\",\"Washington Sundar\",\"AD Russell\",\"CK Langeveldt\",\"S Badree\",\"M Muralitharan\",\"B Kumar\",\"JP Faulkner\",\"Iqbal Abdulla\",\"NA Saini\",\"MF Maharoof\",\"M Morkel\",\"SP Narine\",\"JH Kallis\",\"P Negi\",\"N Rana\",\"R Ashwin\",\"HF Gurney\",\"Z Khan\",\"SK Trivedi\",\"A Zampa\",\"AC Thomas\",\"NA Saini\",\"Imran Tahir\",\"MM Patel\",\"DW Steyn\",\"NLTC Perera\",\"B Kumar\",\"A Singh\",\"A Kumble\",\"SL Malinga\",\"Harbhajan Singh\",\"PJ Sangwan\",\"KW Richardson\",\"CJ Anderson\",\"Rashid Khan\",\"SS Cottrell\",\"R McLaren\",\"SB Jakati\",\"S Kaushik\",\"Harbhajan Singh\",\"IK Pathan\",\"TA Boult\",\"KH Pandya\",\"WPUJC Vaas\",\"A Mishra\",\"RA Jadeja\",\"Shivam Mavi\",\"SP Narine\",\"Sohail Tanvir\",\"S Kaushik\",\"IK Pathan\",\"R Ashwin\",\"M Morkel\",\"AB Dinda\",\"JC Archer\",\"I Sharma\",\"S Sreesanth\",\"KH Pandya\",\"HV Patel\",\"B Kumar\",\"A Singh\",\"SR Watson\",\"AS Rajpoot\",\"JD Unadkat\",\"MF Maharoof\",\"BA Bhatt\",\"JD Unadkat\",\"Mustafizur Rahman\",\"A Singh\",\"Harbhajan Singh\",\"KV Sharma\",\"SR Watson\",\"M Muralitharan\",\"VR Aaron\",\"A Nehra\",\"Sandeep Sharma\",\"NA Saini\",\"Shivam Sharma\",\"S Gopal\",\"UT Yadav\",\"SK Warne\",\"S Aravind\",\"IK Pathan\",\"MG Johnson\",\"I Sharma\",\"AD Russell\",\"R Sharma\",\"BA Stokes\",\"S Gopal\",\"IK Pathan\",\"MA Starc\",\"Harbhajan Singh\",\"MG Johnson\",\"M Kartik\",\"PP Chawla\",\"KH Pandya\",\"Sandeep Sharma\",\"Washington Sundar\",\"RE van der Merwe\",\"Harbhajan Singh\",\"YS Chahal\",\"KV Sharma\",\"SP Narine\",\"JP Faulkner\",\"KA Pollard\",\"SB Jakati\",\"NM Coulter-Nile\",\"S Gopal\",\"MS Gony\",\"GJ Maxwell\",\"JE Taylor\",\"JD Unadkat\",\"M Muralitharan\",\"M Kartik\",\"DJ Bravo\",\"IK Pathan\",\"DR Smith\",\"P Negi\",\"L Balaji\",\"R Sharma\",\"R Bhatia\",\"KP Pietersen\",\"Mujeeb Ur Rahman\",\"KK Cooper\",\"Z Khan\",\"MF Maharoof\",\"Karanveer Singh\",\"JP Duminy\",\"BA Stokes\",\"S Gopal\",\"S Tyagi\",\"R Vinay Kumar\",\"M Muralitharan\",\"Z Khan\",\"SK Raina\",\"R Bhatia\",\"SW Tait\",\"NM Coulter-Nile\",\"A Kumble\",\"DL Vettori\",\"R Sharma\",\"VY Mahesh\",\"AB Dinda\",\"Kuldeep Yadav\",\"IC Pandey\",\"L Balaji\",\"Harbhajan Singh\",\"B Lee\",\"AD Russell\",\"M Morkel\",\"AS Rajpoot\",\"AM Salvi\",\"B Kumar\",\"UT Yadav\",\"DJ Hooda\",\"AA Chavan\",\"P Awana\",\"R Sharma\",\"R Sharma\",\"STR Binny\",\"RG Sharma\",\"GB Hogg\",\"MS Gony\",\"JP Faulkner\",\"YS Chahal\",\"HV Patel\",\"S Gopal\",\"PP Chawla\",\"R Vinay Kumar\",\"M Morkel\",\"KV Sharma\",\"M Prasidh Krishna\",\"RP Singh\",\"YS Chahal\",\"AD Russell\",\"DJ Bravo\",\"JC Archer\",\"AB Dinda\",\"A Zampa\",\"SR Watson\",\"YS Chahal\",\"DT Christian\",\"MM Sharma\",\"R Dhawan\",\"PP Ojha\",\"DJ Bravo\",\"Sohail Tanvir\",\"PP Chawla\",\"B Lee\",\"J Botha\",\"Bipul Sharma\",\"AJ Tye\",\"A Nehra\",\"LH Ferguson\",\"Azhar Mahmood\",\"SR Watson\",\"VY Mahesh\",\"MG Johnson\",\"HH Pandya\",\"SK Raina\",\"Z Khan\",\"KK Ahmed\",\"V Pratap Singh\",\"R Ashwin\",\"Rashid Khan\",\"Azhar Mahmood\",\"JW Hastings\",\"Mohammad Asif\",\"V Sehwag\",\"RD Chahar\",\"S Dhawan\",\"Imran Tahir\",\"KK Ahmed\",\"MA Starc\",\"SP Narine\",\"Sandeep Sharma\",\"TA Boult\",\"A Zampa\",\"JH Kallis\",\"B Kumar\",\"DJG Sammy\",\"A Symonds\",\"DP Nannes\",\"YS Chahal\",\"Iqbal Abdulla\",\"DS Kulkarni\",\"PP Ojha\",\"HV Patel\",\"Ankit Sharma\",\"A Symonds\",\"AJ Tye\",\"Mohammed Siraj\",\"Kuldeep Yadav\",\"NA Saini\",\"JH Kallis\",\"R Rampaul\",\"A Mishra\",\"CR Brathwaite\",\"SR Watson\",\"A Nehra\",\"J Suchith\",\"T Thushara\",\"GD McGrath\",\"SN Thakur\",\"B Kumar\",\"R Bhatia\",\"R Bhatia\",\"R Ashwin\",\"MF Maharoof\",\"Kuldeep Yadav\",\"DS Kulkarni\",\"R Ashwin\",\"R Ashwin\",\"KA Pollard\",\"A Kumble\",\"GD McGrath\",\"K Rabada\",\"D Wiese\",\"MM Sharma\",\"S Randiv\",\"SK Trivedi\",\"D Wiese\",\"KK Cooper\",\"R Ashwin\",\"SL Malinga\",\"HH Pandya\",\"I Sharma\",\"JC Archer\",\"RV Gomez\",\"S Gopal\",\"GB Hogg\",\"Yuvraj Singh\",\"Yuvraj Singh\",\"R Bhatia\",\"KK Ahmed\",\"Sandeep Sharma\",\"JC Archer\",\"RS Bopara\",\"P Kumar\",\"A Chandila\",\"P Negi\",\"Kuldeep Yadav\",\"KV Sharma\",\"Z Khan\",\"R Ashwin\",\"JA Morkel\",\"DW Steyn\",\"MJ McClenaghan\",\"L Balaji\",\"HV Patel\",\"PP Chawla\",\"B Stanlake\",\"AC Thomas\",\"A Nehra\",\"A Singh\",\"A Nehra\",\"PV Tambe\",\"DR Smith\",\"TG Southee\",\"SB Styris\",\"RJ Harris\",\"Mohammad Asif\",\"S Gopal\",\"DJ Bravo\",\"KA Pollard\",\"RE van der Merwe\",\"KA Pollard\",\"B Kumar\",\"NM Coulter-Nile\",\"NLTC Perera\",\"SB Wagh\",\"D Wiese\",\"TK Curran\",\"MR Marsh\",\"P Awana\",\"JP Duminy\",\"MC Henriques\",\"DJ Bravo\",\"AD Russell\",\"S Nadeem\",\"SK Trivedi\",\"RP Singh\",\"Kamran Khan\",\"TL Suman\",\"SP Narine\",\"Shakib Al Hasan\",\"Arshdeep Singh\",\"JH Kallis\",\"LH Ferguson\",\"CR Brathwaite\",\"KP Pietersen\",\"IK Pathan\",\"AB Dinda\",\"DP Nannes\",\"RR Raje\",\"SN Thakur\",\"Bipul Sharma\",\"KA Pollard\",\"M Muralitharan\",\"AB Dinda\",\"MM Sharma\",\"MP Stoinis\",\"SL Malinga\",\"PP Chawla\",\"SN Thakur\",\"Ankit Sharma\",\"B Kumar\",\"M Kartik\",\"YK Pathan\",\"S Aravind\",\"A Nehra\",\"NM Coulter-Nile\",\"DS Kulkarni\",\"DJ Muthuswami\",\"CH Morris\",\"S Aravind\",\"JO Holder\",\"SW Tait\",\"M Muralitharan\",\"A Nehra\",\"Harbhajan Singh\",\"CRD Fernando\",\"JD Unadkat\",\"DE Bollinger\",\"KK Cooper\",\"Arshdeep Singh\",\"YS Chahal\",\"AJ Tye\",\"A Nortje\",\"KA Pollard\",\"LR Shukla\",\"LR Shukla\",\"P Kumar\",\"SB Styris\",\"SN Thakur\",\"S Aravind\",\"S Lamichhane\",\"AD Mathews\",\"CR Woakes\",\"Harbhajan Singh\",\"L Balaji\",\"DL Chahar\",\"Z Khan\",\"S Nadeem\",\"JD Unadkat\",\"KV Sharma\",\"RJ Harris\",\"A Mishra\",\"R Ashwin\",\"CH Morris\",\"Z Khan\",\"JH Kallis\",\"SN Thakur\",\"Harmeet Singh\",\"AG Murtaza\",\"MN Samuels\",\"DT Christian\",\"JP Faulkner\",\"RA Jadeja\",\"PJ Sangwan\",\"T Natarajan\",\"SR Watson\",\"K Rabada\",\"BA Bhatt\",\"R Vinay Kumar\",\"RR Powar\",\"JD Unadkat\",\"RD Chahar\",\"RJ Harris\",\"TG Southee\",\"GB Hogg\",\"JH Kallis\",\"JDP Oram\",\"WPUJC Vaas\",\"KK Cooper\",\"Ravi Bishnoi\",\"J Yadav\",\"MP Stoinis\",\"PJ Cummins\",\"Anureet Singh\",\"NM Coulter-Nile\",\"YS Chahal\",\"P Kumar\",\"MM Sharma\",\"PV Tambe\",\"S Aravind\",\"SK Trivedi\",\"MG Johnson\",\"ST Jayasuriya\",\"R Tewatia\",\"KH Pandya\",\"STR Binny\",\"DJ Hooda\",\"S Sreesanth\",\"B Akhil\",\"WD Parnell\",\"DJG Sammy\",\"RP Singh\",\"Z Khan\",\"KMDN Kulasekara\",\"RS Bopara\",\"CR Woakes\",\"A Mishra\",\"PJ Cummins\",\"Basil Thampi\",\"L Balaji\",\"S Ladda\",\"Z Khan\",\"AM Nayar\",\"YS Chahal\",\"CK Langeveldt\",\"R Bhatia\",\"ST Jayasuriya\",\"M Morkel\",\"L Balaji\",\"Imran Tahir\",\"JR Hopes\",\"AB Dinda\",\"AJ Tye\",\"I Udana\",\"PV Tambe\",\"VS Malik\",\"A Singh\",\"Y Nagar\",\"IK Pathan\",\"IS Sodhi\",\"RD Chahar\",\"Azhar Mahmood\",\"AF Milne\",\"Karanveer Singh\",\"M Kartik\",\"Harmeet Singh\",\"Anureet Singh\",\"R Vinay Kumar\",\"LJ Wright\",\"KA Pollard\",\"R Vinay Kumar\",\"JA Morkel\",\"TL Suman\",\"WD Parnell\",\"Kuldeep Yadav\",\"M Kartik\",\"CRD Fernando\",\"TA Boult\",\"DJ Hussey\",\"B Kumar\",\"MG Johnson\",\"D Wiese\",\"A Nehra\",\"P Kumar\",\"B Kumar\",\"Kuldeep Yadav\",\"DJ Bravo\",\"P Sahu\",\"DJ Willey\",\"SB Jakati\",\"Bipul Sharma\",\"UT Yadav\",\"SW Tait\",\"C de Grandhomme\",\"J Theron\",\"GC Viljoen\",\"PJ Sangwan\",\"HF Gurney\",\"Harbhajan Singh\",\"MJ Clarke\",\"A Nehra\",\"YK Pathan\",\"R Bhatia\",\"JD Unadkat\",\"CV Varun\",\"S Randiv\",\"SP Narine\",\"NLTC Perera\",\"SJ Srivastava\",\"MM Sharma\",\"J Botha\",\"M Muralitharan\",\"SR Watson\",\"DJ Hussey\",\"CJ Anderson\",\"JA Morkel\",\"R Ashwin\",\"K Rabada\",\"R Vinay Kumar\",\"T Natarajan\",\"KP Appanna\",\"Mustafizur Rahman\",\"MC Henriques\",\"DJG Sammy\",\"NLTC Perera\",\"P Kumar\",\"SL Malinga\",\"KA Pollard\",\"YS Chahal\",\"SE Bond\",\"SL Malinga\",\"P Negi\",\"SR Watson\",\"CRD Fernando\",\"SL Malinga\",\"Mustafizur Rahman\",\"SK Raina\",\"AB Dinda\",\"AL Menaria\",\"IK Pathan\",\"UT Yadav\",\"MF Maharoof\",\"DT Christian\",\"R Bhatia\",\"AJ Tye\",\"PJ Sangwan\",\"AG Murtaza\",\"RA Jadeja\",\"JJ van der Wath\",\"L Ngidi\",\"CJ Jordan\",\"JM Kemp\",\"S Aravind\",\"HV Patel\",\"SW Tait\",\"D Salunkhe\",\"Mohammed Siraj\",\"KP Appanna\",\"DW Steyn\",\"JP Faulkner\",\"Imran Tahir\",\"D Wiese\",\"M Morkel\",\"SN Thakur\",\"JR Hopes\",\"AJ Finch\",\"PP Chawla\",\"JJ van der Wath\",\"DP Nannes\",\"Z Khan\",\"S Aravind\",\"JA Morkel\",\"IK Pathan\",\"JD Unadkat\",\"MM Patel\",\"S Nadeem\",\"SR Watson\",\"AN Ahmed\",\"Z Khan\",\"ST Jayasuriya\",\"SB Bangar\",\"Harbhajan Singh\",\"MS Gony\",\"A Nortje\",\"KV Sharma\",\"CJ Anderson\",\"FH Edwards\",\"Parvez Rasool\",\"BAW Mendis\",\"J Syed Mohammad\",\"CH Morris\",\"R Ashwin\",\"RP Singh\",\"T Thushara\",\"P Negi\",\"R Vinay Kumar\",\"M Kartik\",\"AP Dole\",\"LH Ferguson\",\"A Choudhary\",\"RG More\",\"Shivam Mavi\",\"RA Jadeja\",\"MC Henriques\",\"Sandeep Sharma\",\"PP Chawla\",\"Anand Rajan\",\"Mustafizur Rahman\",\"DR Smith\",\"V Pratap Singh\",\"VY Mahesh\",\"JO Holder\",\"Shakib Al Hasan\",\"BW Hilfenhaus\",\"MG Johnson\",\"J Syed Mohammad\",\"CH Morris\",\"B Lee\",\"GJ Maxwell\",\"SK Trivedi\",\"R McLaren\",\"R McLaren\",\"WPUJC Vaas\",\"A Nehra\",\"GC Viljoen\",\"Sandeep Sharma\",\"Basil Thampi\",\"C de Grandhomme\",\"P Parameswaran\",\"A Nehra\",\"CRD Fernando\",\"MF Maharoof\",\"DP Nannes\",\"AM Nayar\",\"JA Morkel\",\"Karanveer Singh\",\"R Ninan\",\"CH Gayle\",\"Ankit Sharma\",\"DL Vettori\",\"T Natarajan\",\"VS Malik\",\"K Rabada\",\"AR Patel\",\"GD McGrath\",\"Abdul Samad\",\"AR Patel\",\"CR Woakes\",\"A Chandila\",\"SB Styris\",\"JH Kallis\",\"AB Dinda\",\"I Sharma\",\"MS Gony\",\"Harmeet Singh\",\"Mohammad Asif\",\"S Gopal\",\"MR Marsh\",\"Z Khan\",\"R Dhawan\",\"SMSM Senanayake\",\"DT Christian\",\"AD Russell\",\"AC Gilchrist\",\"WPUJC Vaas\",\"R Rampaul\",\"A Nehra\",\"VRV Singh\",\"SR Watson\",\"MJ Henry\",\"YK Pathan\",\"AC Thomas\",\"A Nehra\",\"R Vinay Kumar\",\"S Sreesanth\",\"P Negi\",\"MJ McClenaghan\",\"WD Parnell\",\"P Kumar\",\"M Prasidh Krishna\",\"R Dhawan\",\"B Laughlin\",\"PP Ojha\",\"RE van der Merwe\",\"PD Collingwood\",\"KK Ahmed\",\"Harbhajan Singh\",\"SM Pollock\",\"JL Pattinson\",\"Mustafizur Rahman\",\"VRV Singh\",\"B Lee\",\"A Symonds\",\"RA Jadeja\",\"P Kumar\",\"AB McDonald\",\"R Parag\",\"DJ Bravo\",\"Gagandeep Singh\",\"AB Dinda\",\"Imran Tahir\",\"JD Ryder\",\"S Sreesanth\",\"AD Mathews\",\"RP Singh\",\"S Aravind\",\"R Ashwin\",\"A Nortje\",\"S Nadeem\",\"R Ashwin\",\"DP Nannes\",\"NM Coulter-Nile\",\"R Bhatia\",\"Iqbal Abdulla\",\"AD Mascarenhas\",\"IK Pathan\",\"S Badree\",\"A Mishra\",\"SN Thakur\",\"SR Watson\",\"R Ashwin\",\"S Dhawan\",\"R Bhatia\",\"DS Kulkarni\",\"Rashid Khan\",\"IC Pandey\",\"M Kartik\",\"HH Pandya\",\"AS Rajpoot\",\"Iqbal Abdulla\",\"RJ Harris\",\"Y Nagar\",\"S Gopal\",\"GB Hogg\",\"Yuvraj Singh\",\"DJ Hooda\",\"P Awana\",\"UT Yadav\",\"A Mishra\",\"RJ Harris\",\"RJ Harris\",\"Bipul Sharma\",\"B Stanlake\",\"SM Curran\",\"RA Jadeja\",\"YA Abdulla\",\"PP Ojha\",\"S Kaul\",\"I Sharma\",\"JPR Scantlebury-Searles\",\"DW Steyn\",\"S Gopal\",\"NM Coulter-Nile\",\"CJ Jordan\",\"VR Aaron\",\"Harbhajan Singh\",\"DJ Hussey\",\"Sohail Tanvir\",\"JD Unadkat\",\"MS Gony\",\"Harbhajan Singh\",\"I Sharma\",\"JEC Franklin\",\"SR Watson\",\"AC Thomas\",\"Harbhajan Singh\",\"K Gowtham\",\"DT Christian\",\"Kuldeep Yadav\",\"Z Khan\",\"STR Binny\",\"Kamran Khan\",\"P Negi\",\"JH Kallis\",\"AB Agarkar\",\"Iqbal Abdulla\",\"BA Bhatt\",\"PV Tambe\",\"IK Pathan\",\"Azhar Mahmood\",\"CH Morris\",\"IK Pathan\",\"SE Rutherford\",\"SW Tait\",\"STR Binny\",\"Harbhajan Singh\",\"Basil Thampi\",\"CH Morris\",\"R Tewatia\",\"MM Patel\",\"Azhar Mahmood\",\"JDP Oram\",\"A Nehra\",\"R Bhatia\",\"JH Kallis\",\"KA Pollard\",\"RR Powar\",\"P Awana\",\"A Mishra\",\"BA Bhatt\",\"SK Warne\",\"Shakib Al Hasan\",\"Z Khan\",\"HV Patel\",\"Bipul Sharma\",\"KA Pollard\",\"A Mishra\",\"YK Pathan\",\"KW Richardson\",\"KK Cooper\",\"RJ Peterson\",\"RJ Harris\",\"AB Agarkar\",\"S Dube\",\"PJ Sangwan\",\"JA Morkel\",\"TA Boult\",\"A Kumble\",\"KV Sharma\",\"VS Malik\",\"AR Patel\",\"KH Pandya\",\"MM Sharma\",\"JD Unadkat\",\"UT Yadav\",\"CR Brathwaite\",\"LH Ferguson\",\"GB Hogg\",\"TM Dilshan\",\"MP Stoinis\",\"V Kohli\",\"S Sreesanth\",\"SN Thakur\",\"Washington Sundar\",\"TA Boult\",\"Yuvraj Singh\",\"NLTC Perera\",\"TK Curran\",\"CH Morris\",\"RA Jadeja\",\"DL Vettori\",\"JP Faulkner\",\"Ravi Bishnoi\",\"SM Curran\",\"A Nortje\",\"L Balaji\",\"Shakib Al Hasan\",\"L Ngidi\",\"ST Jayasuriya\",\"SP Narine\",\"R Vinay Kumar\",\"Harbhajan Singh\",\"AD Mascarenhas\",\"Shakib Al Hasan\",\"R Dhawan\",\"V Shankar\",\"MJ McClenaghan\",\"AA Chavan\",\"AD Mathews\",\"SC Ganguly\",\"Sohail Tanvir\",\"Kartik Tyagi\",\"TL Suman\",\"AJ Tye\",\"Harbhajan Singh\",\"AL Menaria\",\"JO Holder\",\"UT Yadav\",\"AB McDonald\",\"MM Sharma\",\"TS Mills\",\"R Vinay Kumar\",\"Z Khan\",\"CRD Fernando\",\"MC Henriques\",\"DT Christian\",\"AB Agarkar\",\"R Bhatia\",\"WA Mota\",\"S Nadeem\",\"AD Mascarenhas\",\"DJ Hussey\",\"P Awana\",\"AB Agarkar\",\"Shoaib Malik\",\"L Ablish\",\"DT Christian\",\"CR Woakes\",\"SM Pollock\",\"Rashid Khan\",\"JDP Oram\",\"A Nehra\",\"P Negi\",\"YK Pathan\",\"A Mishra\",\"BB Sran\",\"MM Patel\",\"S Kaul\",\"SK Trivedi\",\"SL Malinga\",\"MR Marsh\",\"SM Pollock\",\"RP Singh\",\"I Sharma\",\"RA Jadeja\",\"AD Russell\",\"TA Boult\",\"A Mishra\",\"TL Suman\",\"DS Kulkarni\",\"NLTC Perera\",\"MF Maharoof\",\"YS Chahal\",\"CH Morris\",\"Z Khan\",\"GJ Maxwell\",\"R Vinay Kumar\",\"WD Parnell\",\"R Vinay Kumar\",\"S Gopal\",\"DJ Muthuswami\",\"Mohammad Asif\",\"Shakib Al Hasan\",\"RA Jadeja\",\"R Rampaul\",\"DW Steyn\",\"R Vinay Kumar\",\"P Parameswaran\",\"C de Grandhomme\",\"JH Kallis\",\"A Mithun\",\"I Sharma\",\"DJ Hussey\",\"MM Patel\",\"DAJ Bracewell\",\"SE Bond\",\"AC Voges\",\"R Ashwin\",\"S Vidyut\",\"P Amarnath\",\"AN Ahmed\",\"B Lee\",\"JH Kallis\",\"A Nehra\",\"DT Christian\",\"R Bhatia\",\"SK Raina\",\"BA Stokes\",\"A Nehra\",\"DS Kulkarni\",\"DW Steyn\",\"BJ Hodge\",\"RG Sharma\",\"KMDN Kulasekara\",\"BCJ Cutting\",\"V Pratap Singh\",\"TS Mills\",\"CRD Fernando\",\"JDP Oram\",\"Anureet Singh\",\"S Aravind\",\"A Nehra\",\"M Kartik\",\"T Natarajan\",\"Abhishek Sharma\",\"MA Starc\",\"Z Khan\",\"M Markande\",\"M Morkel\",\"JH Kallis\",\"R Ashwin\",\"MM Ali\",\"LR Shukla\",\"M Muralitharan\",\"MJ McClenaghan\",\"S Sreesanth\",\"KW Richardson\",\"MM Patel\",\"IK Pathan\",\"S Badree\",\"Harbhajan Singh\",\"WPUJC Vaas\",\"STR Binny\",\"Z Khan\",\"MS Gony\",\"PP Ojha\",\"M Ashwin\",\"R Bhatia\",\"PJ Sangwan\",\"SL Malinga\",\"M Ashwin\",\"A Kumble\",\"TM Dilshan\",\"MJ Santner\",\"R Bhatia\",\"Shivam Sharma\",\"B Kumar\",\"Imran Tahir\",\"B Geeves\",\"SL Malinga\",\"Basil Thampi\",\"Z Khan\",\"VRV Singh\",\"Sandeep Sharma\",\"AS Rajpoot\",\"T Natarajan\",\"S Kaul\",\"CH Morris\",\"SL Malinga\",\"GB Hogg\",\"R Sharma\",\"RA Jadeja\",\"JC Archer\",\"VRV Singh\",\"NM Coulter-Nile\",\"Kartik Tyagi\",\"MC Henriques\",\"V Shankar\",\"S Sreesanth\",\"RV Gomez\",\"SL Malinga\",\"FH Edwards\",\"SJ Srivastava\",\"S Kaushik\",\"Z Khan\",\"KP Appanna\",\"K Khejroliya\",\"Z Khan\",\"Shahid Afridi\",\"JP Duminy\",\"IK Pathan\",\"Arshdeep Singh\",\"KC Cariappa\",\"J Theron\",\"Ankit Sharma\",\"MR Marsh\",\"CV Varun\",\"Rashid Khan\",\"M Ashwin\",\"B Lee\",\"MM Sharma\",\"Kuldeep Yadav\",\"DR Smith\",\"DT Christian\",\"AD Russell\",\"YS Chahal\",\"DS Kulkarni\",\"S Gopal\",\"DS Kulkarni\",\"RA Jadeja\",\"R Shukla\",\"S Nadeem\",\"PJ Cummins\",\"SE Bond\",\"PP Chawla\",\"PJ Cummins\",\"R Ninan\",\"PC Valthaty\",\"RP Singh\",\"PV Tambe\",\"JO Holder\",\"Harbhajan Singh\",\"Harbhajan Singh\",\"KV Sharma\",\"UT Yadav\",\"A Nehra\",\"SW Tait\",\"MF Maharoof\",\"R Vinay Kumar\",\"KA Pollard\",\"Ankit Sharma\",\"JH Kallis\",\"CRD Fernando\",\"SB Wagh\",\"A Ashish Reddy\",\"Washington Sundar\",\"S Gopal\",\"JA Morkel\",\"AB Dinda\",\"LR Shukla\",\"DJ Bravo\",\"LE Plunkett\",\"P Parameswaran\",\"YK Pathan\",\"CK Langeveldt\",\"Imran Tahir\",\"PJ Cummins\",\"VRV Singh\",\"Shivam Mavi\",\"PP Ojha\",\"A Singh\",\"R Tewatia\",\"J Suchith\",\"SK Warne\",\"AA Kazi\",\"MJ McClenaghan\",\"AB Dinda\",\"BCJ Cutting\",\"DS Kulkarni\",\"A Mishra\",\"AS Rajpoot\",\"Yuvraj Singh\",\"BA Bhatt\",\"YS Chahal\",\"DS Kulkarni\",\"MG Johnson\",\"NM Coulter-Nile\",\"CJ Jordan\",\"R Tewatia\",\"PP Ojha\",\"RP Singh\",\"Iqbal Abdulla\",\"JDP Oram\",\"SK Trivedi\",\"DW Steyn\",\"M Kartik\",\"Sachin Baby\",\"WPUJC Vaas\",\"KP Pietersen\",\"A Ashish Reddy\",\"RJ Harris\",\"JP Faulkner\",\"Joginder Sharma\",\"MS Gony\",\"P Negi\",\"JJ Bumrah\",\"L Balaji\",\"K Khejroliya\",\"A Nehra\",\"JA Morkel\",\"MS Gony\",\"S Dube\",\"JH Kallis\",\"RA Jadeja\",\"DE Bollinger\",\"Shakib Al Hasan\",\"DP Nannes\",\"SR Watson\",\"MF Maharoof\",\"R Ashwin\",\"DW Steyn\",\"L Balaji\",\"LR Shukla\",\"JJ Bumrah\",\"Imran Tahir\",\"RS Bopara\",\"DS Kulkarni\",\"RS Bopara\",\"Harbhajan Singh\",\"SR Watson\",\"SK Trivedi\",\"SP Narine\",\"MP Stoinis\",\"DJG Sammy\",\"Z Khan\",\"AR Patel\",\"KP Appanna\",\"STR Binny\",\"MA Starc\",\"JA Morkel\",\"KV Sharma\",\"SB Jakati\",\"TA Boult\",\"DE Bollinger\",\"GH Vihari\",\"GD McGrath\",\"PP Ojha\",\"JE Taylor\",\"AJ Tye\",\"NLTC Perera\",\"PC Valthaty\",\"SL Malinga\",\"A Nehra\",\"IC Pandey\",\"AB McDonald\",\"TA Boult\",\"PJ Cummins\",\"R Vinay Kumar\",\"V Shankar\",\"AB Dinda\",\"Avesh Khan\",\"DS Kulkarni\",\"RP Singh\",\"KV Sharma\",\"JP Behrendorff\",\"PP Chawla\",\"CR Woakes\",\"P Negi\",\"O Thomas\",\"TA Boult\",\"JH Kallis\",\"YS Chahal\",\"M Morkel\",\"M Kartik\",\"DJ Thornely\",\"A Zampa\",\"P Sahu\",\"CH Gayle\",\"KJ Abbott\",\"M Ashwin\",\"A Singh\",\"MM Sharma\",\"BB Sran\",\"P Kumar\",\"M Kartik\",\"J Suchith\",\"MG Johnson\",\"CRD Fernando\",\"Harmeet Singh\",\"A Zampa\",\"PJ Sangwan\",\"VS Malik\",\"R Vinay Kumar\",\"SJ Srivastava\",\"AD Mathews\",\"P Kumar\",\"BJ Hodge\",\"JJ Bumrah\",\"SK Warne\",\"A Singh\",\"R Vinay Kumar\",\"Z Khan\",\"SB Joshi\",\"SK Trivedi\",\"IK Pathan\",\"IK Pathan\",\"R Sathish\",\"Mohammed Shami\",\"D Wiese\",\"SP Narine\",\"J Syed Mohammad\",\"PP Chawla\",\"YA Abdulla\",\"SC Kuggeleijn\",\"KJ Abbott\",\"P Negi\",\"KK Ahmed\",\"MM Sharma\",\"VR Aaron\",\"L Balaji\",\"A Mishra\",\"SL Malinga\",\"Harbhajan Singh\",\"AD Russell\",\"SR Watson\",\"M Ashwin\",\"AM Nayar\",\"Anureet Singh\",\"PP Ojha\",\"SK Raina\",\"TG Southee\",\"SP Narine\",\"JP Faulkner\",\"DS Kulkarni\",\"SM Curran\",\"MF Maharoof\",\"Parvez Rasool\",\"BAW Mendis\",\"RP Singh\",\"PJ Sangwan\",\"R Tewatia\",\"S Sreesanth\",\"Azhar Mahmood\",\"JO Holder\",\"Harbhajan Singh\",\"TA Boult\",\"AC Thomas\",\"Y Nagar\",\"UT Yadav\",\"AD Russell\",\"Mujeeb Ur Rahman\",\"M Prasidh Krishna\",\"BA Stokes\",\"SN Thakur\",\"RG Sharma\",\"T Shamsi\",\"VY Mahesh\",\"SB Jakati\",\"P Kumar\",\"Imran Tahir\",\"SK Trivedi\",\"KA Pollard\",\"JP Faulkner\",\"A Kumble\",\"Imran Tahir\",\"Mustafizur Rahman\",\"SK Trivedi\",\"SL Malinga\",\"Mohammed Shami\",\"R Rampaul\",\"SM Boland\",\"GC Viljoen\",\"M Ashwin\",\"M Ashwin\",\"HH Pandya\",\"SR Watson\",\"Shivam Mavi\",\"SP Narine\",\"Mohammed Shami\",\"Iqbal Abdulla\",\"AS Rajpoot\",\"CH Morris\",\"BE Hendricks\",\"AB Dinda\",\"AB Agarkar\",\"SL Malinga\",\"DJ Bravo\",\"YS Chahal\",\"M Muralitharan\",\"Sandeep Sharma\",\"DP Nannes\",\"JA Morkel\",\"SL Malinga\",\"UT Yadav\",\"Imran Tahir\",\"KA Pollard\",\"JP Faulkner\",\"CH Morris\",\"MM Ali\",\"TG Southee\",\"Mujeeb Ur Rahman\",\"SL Malinga\",\"RD Chahar\",\"SR Watson\",\"DJ Bravo\",\"CH Morris\",\"SL Malinga\",\"YA Abdulla\",\"S Tyagi\",\"A Kumble\",\"RD Chahar\",\"Gurkeerat Singh\",\"HH Pandya\",\"Pankaj Singh\",\"Bipul Sharma\",\"M Muralitharan\",\"AJ Tye\",\"P Kumar\",\"R Tewatia\",\"DB Ravi Teja\",\"P Kumar\",\"UT Yadav\",\"MM Patel\",\"I Udana\",\"I Sharma\",\"DW Steyn\",\"A Nel\",\"PJ Cummins\",\"KH Pandya\",\"A Chandila\",\"JDP Oram\",\"BJ Hodge\",\"MM Patel\",\"KH Pandya\",\"A Kumble\",\"BCJ Cutting\",\"Mustafizur Rahman\",\"MM Sharma\",\"AB Agarkar\",\"I Sharma\",\"MG Johnson\",\"JD Ryder\",\"PC Valthaty\",\"T Henderson\",\"MA Starc\",\"KMDN Kulasekara\",\"L Balaji\",\"M Kartik\",\"MR Marsh\",\"BJ Hodge\",\"KK Cooper\",\"RG Sharma\",\"Bipul Sharma\",\"Y Nagar\",\"CR Woakes\",\"CR Woakes\",\"Ankit Soni\",\"CV Varun\",\"P Parameswaran\",\"A Singh\",\"S Sreesanth\",\"DJ Bravo\",\"P Kumar\",\"CH Morris\",\"P Kumar\",\"JE Taylor\",\"AB Dinda\",\"I Sharma\",\"AJ Tye\",\"KH Pandya\",\"MM Sharma\",\"Z Khan\",\"Z Khan\",\"TA Boult\",\"Washington Sundar\",\"SM Curran\",\"MK Tiwary\",\"R Rampaul\",\"Gurkeerat Singh\",\"PJ Cummins\",\"RP Singh\",\"Washington Sundar\",\"AR Patel\",\"RE van der Merwe\",\"RA Jadeja\",\"P Awana\",\"AD Mascarenhas\",\"PP Chawla\",\"PD Collingwood\",\"AD Mathews\",\"NA Saini\",\"SB Jakati\",\"P Kumar\",\"A Mishra\",\"R Sharma\",\"S Dube\",\"AJ Tye\",\"DL Vettori\",\"TG Southee\",\"SL Malinga\",\"UT Yadav\",\"L Balaji\",\"S Lamichhane\",\"CR Brathwaite\",\"DS Kulkarni\",\"NLTC Perera\",\"AB Agarkar\",\"Yuvraj Singh\",\"Shivam Sharma\",\"S Kaul\",\"CJ Jordan\",\"DJ Thornely\",\"S Randiv\",\"KV Sharma\",\"KP Pietersen\",\"CR Brathwaite\",\"SR Watson\",\"S Aravind\",\"RA Jadeja\",\"N Rana\",\"K Rabada\",\"A Mishra\",\"KMDN Kulasekara\",\"Kuldeep Yadav\",\"CH Morris\",\"NA Saini\",\"SM Curran\",\"B Lee\",\"T Natarajan\",\"NM Coulter-Nile\",\"J Suchith\",\"HH Pandya\",\"JA Morkel\",\"Gurkeerat Singh\",\"YK Pathan\",\"SR Watson\",\"JP Duminy\",\"Sandeep Sharma\",\"J Theron\",\"SL Malinga\",\"UT Yadav\",\"SB Wagh\",\"AB Dinda\",\"CRD Fernando\",\"DW Steyn\",\"TA Boult\",\"UT Yadav\",\"M Kartik\",\"N Rana\",\"A Flintoff\",\"R Ashwin\",\"AN Ahmed\",\"L Balaji\",\"DR Smith\",\"CH Gayle\",\"JP Behrendorff\",\"KA Pollard\",\"AR Patel\",\"M Morkel\",\"UT Yadav\",\"TM Head\",\"SR Watson\",\"Basil Thampi\",\"SL Malinga\",\"TM Head\",\"MR Marsh\",\"MM Sharma\",\"AB Agarkar\",\"SB Jakati\",\"R Ashwin\",\"CR Brathwaite\",\"M Muralitharan\",\"BA Stokes\",\"MC Henriques\",\"AD Mascarenhas\",\"Mohammed Siraj\",\"J Suchith\",\"CR Woakes\",\"KMA Paul\",\"PD Collingwood\",\"MJ Clarke\",\"Gagandeep Singh\",\"TG Southee\",\"SK Raina\",\"AB McDonald\",\"NM Coulter-Nile\",\"VRV Singh\",\"SK Trivedi\",\"R McLaren\",\"MM Patel\",\"YS Chahal\",\"BA Stokes\",\"A Uniyal\",\"S Sreesanth\",\"S Nadeem\",\"Imran Tahir\",\"AB Dinda\",\"SS Cottrell\",\"Sohail Tanvir\",\"S Gopal\",\"PJ Sangwan\",\"Ravi Bishnoi\",\"KV Sharma\",\"S Gopal\",\"Shoaib Ahmed\",\"DJ Willey\",\"JEC Franklin\",\"JJ Bumrah\",\"RP Singh\",\"A Symonds\",\"MS Gony\",\"V Sehwag\",\"S Kaul\",\"UT Yadav\",\"Umar Gul\",\"DS Kulkarni\",\"CV Varun\",\"JR Hopes\",\"SK Warne\",\"DL Vettori\",\"BAW Mendis\",\"PP Chawla\",\"LR Shukla\",\"AM Salvi\",\"B Kumar\",\"R Ashwin\",\"R Bhatia\",\"MN Samuels\",\"JD Ryder\",\"MA Starc\",\"SW Tait\",\"K Rabada\",\"Joginder Sharma\",\"Swapnil Singh\",\"SE Bond\",\"V Pratap Singh\",\"I Sharma\",\"SL Malinga\",\"R Bhatia\",\"FY Fazal\",\"Ankit Soni\",\"Basil Thampi\",\"P Kumar\",\"PP Chawla\",\"R Tewatia\",\"KH Pandya\",\"DW Steyn\",\"S Gopal\",\"VR Aaron\",\"A Nehra\",\"Z Khan\",\"GC Viljoen\",\"M Muralitharan\",\"Ankit Sharma\",\"M de Lange\",\"VY Mahesh\",\"MM Sharma\",\"TA Boult\",\"L Balaji\",\"MS Gony\",\"Harbhajan Singh\",\"I Sharma\",\"SR Watson\",\"PP Chawla\",\"B Kumar\",\"RE van der Merwe\",\"Mohammed Siraj\",\"AC Thomas\",\"KP Appanna\",\"Imran Tahir\",\"Kuldeep Yadav\",\"KH Pandya\",\"PP Chawla\",\"V Pratap Singh\",\"JH Kallis\",\"SP Narine\",\"A Mishra\",\"PV Tambe\",\"IK Pathan\",\"RE van der Merwe\",\"MM Sharma\",\"SR Watson\",\"Harmeet Singh\",\"JP Faulkner\",\"Z Khan\",\"Ankit Sharma\",\"AF Milne\",\"SK Warne\",\"RR Powar\",\"SR Watson\",\"ND Doshi\",\"A Nortje\",\"SK Trivedi\",\"M Markande\",\"MM Sharma\",\"S Kaul\",\"YK Pathan\",\"MR Marsh\",\"SC Ganguly\",\"MS Gony\",\"R McLaren\",\"STR Binny\",\"Ankit Soni\",\"DR Smith\",\"WD Parnell\",\"TG Southee\",\"AD Mathews\",\"Anand Rajan\",\"PP Chawla\",\"R Tewatia\",\"RJ Harris\",\"NM Coulter-Nile\",\"Bipul Sharma\",\"NLTC Perera\",\"PC Valthaty\",\"A Mishra\",\"KA Pollard\",\"B Lee\",\"KK Cooper\",\"J Botha\",\"MF Maharoof\",\"R Bhatia\",\"IK Pathan\",\"SK Trivedi\",\"Imran Tahir\",\"R Tewatia\",\"KV Sharma\",\"Kamran Khan\",\"RR Powar\",\"UT Yadav\",\"V Kohli\",\"AD Russell\",\"SM Boland\",\"MC Henriques\",\"YS Chahal\",\"AN Ahmed\",\"UT Yadav\",\"Iqbal Abdulla\",\"BA Stokes\",\"VR Aaron\",\"DS Kulkarni\",\"AM Nayar\",\"Washington Sundar\",\"IK Pathan\",\"AS Rajpoot\",\"GJ Maxwell\",\"C de Grandhomme\",\"DS Kulkarni\",\"Harmeet Singh\",\"S Aravind\",\"AS Joseph\",\"CJ Jordan\",\"UT Yadav\",\"P Negi\",\"O Thomas\",\"KP Appanna\",\"KC Cariappa\",\"S Nadeem\",\"KV Sharma\",\"JJ Bumrah\",\"M Morkel\",\"I Udana\",\"K Gowtham\",\"YK Pathan\",\"Mujeeb Ur Rahman\",\"J Suchith\",\"RG Sharma\",\"PP Chawla\",\"Mohammed Siraj\",\"Imran Tahir\",\"Shakib Al Hasan\",\"BW Hilfenhaus\",\"A Kumble\",\"STR Binny\",\"JEC Franklin\",\"DJ Bravo\",\"A Nehra\",\"L Ngidi\",\"NM Coulter-Nile\",\"R Shukla\",\"B Geeves\",\"TK Curran\",\"A Nortje\",\"D Wiese\",\"MJ McClenaghan\",\"Mohammed Siraj\",\"JA Morkel\",\"SB Jakati\",\"STR Binny\",\"JEC Franklin\",\"KP Pietersen\",\"R Vinay Kumar\",\"Mohammed Shami\",\"Washington Sundar\",\"SL Malinga\",\"R Tewatia\",\"MS Gony\",\"Ankit Soni\",\"Arshdeep Singh\",\"MJ McClenaghan\",\"R Tewatia\",\"JR Hopes\",\"A Nehra\",\"Mohammed Shami\",\"GD McGrath\",\"N Rana\",\"Arshdeep Singh\",\"M Markande\",\"KH Pandya\",\"MM Patel\",\"AB Agarkar\",\"PP Chawla\",\"Harbhajan Singh\",\"B Laughlin\",\"S Aravind\",\"R Sathish\",\"AB Dinda\",\"R Tewatia\",\"JD Unadkat\",\"S Gopal\",\"I Sharma\",\"MJ Santner\",\"A Nehra\",\"B Laughlin\",\"AB Dinda\",\"TG Southee\",\"JO Holder\",\"SP Narine\",\"TA Boult\",\"BA Stokes\",\"TA Boult\",\"JJ Bumrah\",\"WD Parnell\",\"JD Unadkat\",\"A Zampa\",\"MJ McClenaghan\",\"BB Sran\",\"GS Sandhu\",\"SB Styris\",\"IS Sodhi\",\"YK Pathan\",\"A Mishra\",\"Harmeet Singh\",\"S Ladda\",\"Pankaj Singh\",\"S Narwal\",\"JH Kallis\",\"Bipul Sharma\",\"SP Narine\",\"M Muralitharan\",\"JR Hopes\",\"IC Pandey\",\"SK Warne\",\"GD McGrath\",\"Shoaib Akhtar\",\"RN ten Doeschate\",\"DW Steyn\",\"JH Kallis\",\"MM Patel\",\"RR Powar\",\"M Morkel\",\"JH Kallis\",\"A Mishra\",\"S Nadeem\",\"STR Binny\",\"Harmeet Singh\",\"AS Rajpoot\",\"DR Smith\",\"DJ Bravo\",\"R Tewatia\",\"CRD Fernando\",\"UT Yadav\",\"CH Morris\",\"Shivam Mavi\",\"SR Watson\",\"L Balaji\",\"RJ Harris\",\"DJG Sammy\",\"RG Sharma\",\"Z Khan\",\"MC Henriques\",\"DT Christian\",\"STR Binny\",\"MC Henriques\",\"AD Mathews\",\"SR Watson\",\"FH Edwards\",\"JP Duminy\",\"Harmeet Singh\",\"YK Pathan\",\"R Bhatia\",\"P Kumar\",\"DNT Zoysa\",\"K Gowtham\",\"CR Woakes\",\"P Awana\",\"A Mishra\",\"MC Henriques\",\"RD Chahar\",\"CV Varun\",\"DP Vijaykumar\",\"PP Chawla\",\"SK Trivedi\",\"JJ Bumrah\",\"SR Watson\",\"DS Kulkarni\",\"DE Bollinger\",\"KA Pollard\",\"JA Morkel\",\"RS Bopara\",\"SK Trivedi\",\"A Nehra\",\"TM Dilshan\",\"NM Coulter-Nile\",\"MR Marsh\",\"R Bhatia\",\"SK Warne\",\"S Sreesanth\",\"AD Mathews\",\"IK Pathan\",\"R Ashwin\",\"DP Nannes\",\"R Bhatia\",\"A Nehra\",\"IK Pathan\",\"S Badree\",\"AB Dinda\",\"SP Narine\",\"JDP Oram\",\"Karanveer Singh\",\"WPUJC Vaas\",\"A Ashish Reddy\",\"PP Ojha\",\"Yuvraj Singh\",\"Yuvraj Singh\",\"SK Raina\",\"SM Pollock\",\"Harbhajan Singh\",\"L Ngidi\",\"CJ Jordan\",\"LR Shukla\",\"A Nehra\",\"GB Hogg\",\"JP Duminy\",\"WD Parnell\",\"B Kumar\",\"Bipul Sharma\",\"DE Bollinger\",\"CJ Jordan\",\"P Awana\",\"R Vinay Kumar\",\"AF Milne\",\"PP Ojha\",\"PP Ojha\",\"JP Faulkner\",\"KH Pandya\",\"Washington Sundar\",\"SB Bangar\",\"AR Patel\",\"JR Hopes\",\"R Vinay Kumar\",\"R Vinay Kumar\",\"MR Marsh\",\"AR Patel\",\"AB Dinda\",\"MM Patel\",\"Anand Rajan\",\"SP Narine\",\"RP Singh\",\"SL Malinga\",\"WD Parnell\",\"PP Ojha\",\"KC Cariappa\",\"SB Jakati\",\"S Nadeem\",\"A Ashish Reddy\",\"KA Pollard\",\"MJ Santner\",\"M Ashwin\",\"YS Chahal\",\"T Shamsi\",\"P Kumar\",\"JD Unadkat\",\"Z Khan\",\"B Stanlake\",\"Azhar Mahmood\",\"Basil Thampi\",\"DJ Hussey\",\"AA Noffke\",\"MM Patel\",\"JDP Oram\",\"PP Chawla\",\"TU Deshpande\",\"Shoaib Akhtar\",\"HH Pandya\",\"DR Smith\",\"M de Lange\",\"V Shankar\",\"CL White\",\"M Markande\",\"M Morkel\",\"KV Sharma\",\"P Parameswaran\",\"Washington Sundar\",\"TA Boult\",\"CH Morris\",\"JDS Neesham\",\"A Kumble\",\"J Yadav\",\"P Kumar\",\"Harbhajan Singh\",\"DJ Bravo\",\"D du Preez\",\"P Kumar\",\"PP Ojha\",\"Mohammed Siraj\",\"SL Malinga\",\"DW Steyn\",\"KK Ahmed\",\"MM Patel\",\"PJ Sangwan\",\"DJ Muthuswami\",\"DW Steyn\",\"M Muralitharan\",\"SC Ganguly\",\"BE Hendricks\",\"A Nehra\",\"P Parameswaran\",\"SK Warne\",\"R Bhatia\",\"P Kumar\",\"KC Cariappa\",\"Jaskaran Singh\",\"Washington Sundar\",\"T Thushara\",\"YS Chahal\",\"GJ Maxwell\",\"TG Southee\",\"MM Sharma\",\"DJ Bravo\",\"Harbhajan Singh\",\"Shoaib Ahmed\",\"KW Richardson\",\"HH Pandya\",\"TL Suman\",\"SM Boland\",\"T Thushara\",\"R Bhatia\",\"S Lamichhane\",\"Imran Tahir\",\"Z Khan\",\"P Awana\",\"Z Khan\",\"R Sharma\",\"Imran Tahir\",\"Shivam Mavi\",\"JP Faulkner\",\"J Syed Mohammad\",\"K Khejroliya\",\"DL Vettori\",\"DJ Hussey\",\"P Negi\",\"I Udana\",\"L Balaji\",\"B Kumar\",\"SJ Srivastava\",\"DS Kulkarni\",\"Z Khan\",\"IK Pathan\",\"Sandeep Sharma\",\"S Lamichhane\",\"Azhar Mahmood\",\"Harbhajan Singh\",\"LH Ferguson\",\"PP Chawla\",\"SL Malinga\",\"KA Pollard\",\"Harbhajan Singh\",\"Bipul Sharma\",\"RR Raje\",\"Kartik Tyagi\",\"A Nortje\",\"D Wiese\",\"YA Abdulla\",\"NLTC Perera\",\"P Kumar\",\"BAW Mendis\",\"CH Gayle\",\"AB Dinda\",\"HV Patel\",\"K Rabada\",\"A Uniyal\",\"SL Malinga\",\"B Kumar\",\"CH Morris\",\"RR Powar\",\"SN Thakur\",\"R Tewatia\",\"AN Ahmed\",\"Mohammad Nabi\",\"KA Pollard\",\"Bipul Sharma\",\"MM Sharma\",\"JP Faulkner\",\"A Zampa\",\"DP Nannes\",\"Mujeeb Ur Rahman\",\"AD Mathews\",\"BCJ Cutting\",\"SW Tait\",\"A Mishra\",\"GB Hogg\",\"Shahid Afridi\",\"DR Smith\",\"SN Thakur\",\"VRV Singh\",\"Sandeep Sharma\",\"Mohammad Asif\",\"DL Vettori\",\"Basil Thampi\",\"AB Agarkar\",\"WD Parnell\",\"AR Patel\",\"SL Malinga\",\"MN Samuels\",\"VY Mahesh\",\"VY Mahesh\",\"Mujeeb Ur Rahman\",\"A Nehra\",\"Washington Sundar\",\"Kamran Khan\",\"S Nadeem\",\"R Ashwin\",\"K Gowtham\",\"S Aravind\",\"T Shamsi\",\"Anand Rajan\",\"LR Shukla\",\"MM Patel\",\"DT Christian\",\"KK Cooper\",\"B Kumar\",\"JJ Bumrah\",\"Avesh Khan\",\"SR Watson\",\"KV Sharma\",\"P Negi\",\"AM Salvi\",\"JP Duminy\",\"Mohammed Shami\",\"CR Woakes\",\"JEC Franklin\",\"KMA Paul\",\"B Akhil\",\"P Negi\",\"YK Pathan\",\"M Ashwin\",\"B Laughlin\",\"AR Patel\",\"RA Jadeja\",\"M Morkel\",\"AA Chavan\",\"CJ Jordan\",\"S Nadeem\",\"AB Dinda\",\"HH Pandya\",\"SK Warne\",\"TA Boult\",\"Yuvraj Singh\",\"BE Hendricks\",\"DR Smith\",\"Basil Thampi\",\"M Markande\",\"SP Narine\",\"RE van der Merwe\",\"NA Saini\",\"WPUJC Vaas\",\"P Suyal\",\"IK Pathan\",\"PP Chawla\",\"J Theron\",\"MG Johnson\",\"MS Gony\",\"Shahid Afridi\",\"R Vinay Kumar\",\"S Badree\",\"R Vinay Kumar\",\"YS Chahal\",\"DL Vettori\",\"RA Jadeja\",\"BA Bhatt\",\"S Kaushik\",\"TP Sudhindra\",\"I Sharma\",\"YK Pathan\",\"A Nehra\",\"PJ Cummins\",\"SK Raina\",\"JR Hopes\",\"BAW Mendis\",\"TA Boult\",\"J Botha\",\"JD Ryder\",\"A Zampa\",\"A Nehra\",\"NLTC Perera\",\"PP Ojha\",\"AS Joseph\",\"R McLaren\",\"BE Hendricks\",\"Harbhajan Singh\",\"A Nehra\",\"STR Binny\",\"SS Cottrell\",\"S Kaul\",\"Washington Sundar\",\"HV Patel\",\"AM Nayar\",\"AN Ahmed\",\"B Akhil\",\"TG Southee\",\"RA Jadeja\",\"BCJ Cutting\",\"WD Parnell\",\"P Kumar\",\"M Morkel\",\"PC Valthaty\",\"PC Valthaty\",\"KP Pietersen\",\"JL Pattinson\",\"M Ashwin\",\"HH Pandya\",\"L Ngidi\",\"Kuldeep Yadav\",\"K Gowtham\",\"Sandeep Sharma\",\"A Mishra\",\"RP Singh\",\"DJ Hooda\",\"AC Thomas\",\"JD Unadkat\",\"SP Narine\",\"KA Pollard\",\"MG Johnson\",\"WPUJC Vaas\",\"Sandeep Sharma\",\"AB Dinda\",\"DL Vettori\",\"JL Pattinson\",\"M Kartik\",\"L Ngidi\",\"JP Duminy\",\"ND Doshi\",\"Z Khan\",\"SB Jakati\",\"RA Jadeja\",\"S Gopal\",\"LMP Simmons\",\"JJ Bumrah\",\"R Dhawan\",\"JP Faulkner\",\"MR Marsh\",\"AD Russell\",\"JP Duminy\",\"M Muralitharan\",\"A Mishra\",\"PP Chawla\",\"BJ Hodge\",\"MC Henriques\",\"A Mishra\",\"GJ Maxwell\",\"JJ Bumrah\",\"M Kartik\",\"AD Russell\",\"RA Jadeja\",\"Harbhajan Singh\",\"BW Hilfenhaus\",\"A Choudhary\",\"MM Ali\",\"AB Agarkar\",\"Z Khan\",\"VY Mahesh\",\"RA Jadeja\",\"YS Chahal\",\"WPUJC Vaas\",\"M Kartik\",\"I Sharma\",\"DE Bollinger\",\"TG Southee\",\"YK Pathan\",\"WD Parnell\",\"BJ Hodge\",\"Bipul Sharma\",\"S Narwal\",\"B Lee\",\"PP Ojha\",\"UT Yadav\",\"Gagandeep Singh\",\"B Kumar\",\"KH Pandya\",\"MG Johnson\",\"SK Warne\",\"Yuvraj Singh\",\"Shoaib Ahmed\",\"Sandeep Sharma\",\"RJ Harris\",\"B Akhil\",\"SJ Srivastava\",\"TA Boult\",\"Sohail Tanvir\",\"BA Stokes\",\"CV Varun\",\"D du Preez\",\"A Mishra\",\"AM Rahane\",\"PP Ojha\",\"CH Morris\",\"L Balaji\",\"Rashid Khan\",\"SB Jakati\",\"YS Chahal\",\"K Rabada\",\"PJ Cummins\",\"Mohammed Siraj\",\"DE Bollinger\",\"AD Russell\",\"TA Boult\",\"WD Parnell\",\"R Ninan\",\"SS Cottrell\",\"P Negi\",\"AM Nayar\",\"BMAJ Mendis\",\"R Rampaul\",\"Bipul Sharma\",\"IK Pathan\",\"Mohammed Siraj\",\"Mujeeb Ur Rahman\",\"RP Singh\",\"AS Joseph\",\"SP Narine\",\"R Dhawan\",\"DJ Hussey\",\"Mohammed Siraj\",\"R Vinay Kumar\",\"JC Archer\",\"S Dube\",\"AG Murtaza\",\"GD McGrath\",\"BAW Mendis\",\"UT Yadav\",\"IC Pandey\",\"NM Coulter-Nile\",\"SK Raina\",\"AN Ahmed\",\"TA Boult\",\"P Kumar\",\"DW Steyn\",\"Avesh Khan\",\"A Mishra\",\"KV Sharma\",\"Y Venugopal Rao\",\"Mohammed Shami\",\"DAJ Bracewell\",\"KC Cariappa\",\"CH Morris\",\"K Santokie\",\"GD McGrath\",\"VR Aaron\",\"JEC Franklin\",\"Shahid Afridi\",\"JA Morkel\",\"R Vinay Kumar\",\"SK Trivedi\",\"MG Johnson\",\"Rashid Khan\",\"SM Curran\",\"RP Singh\",\"CK Langeveldt\",\"DW Steyn\",\"Mohammad Nabi\",\"Mustafizur Rahman\",\"RD Chahar\",\"SJ Srivastava\",\"S Sandeep Warrier\",\"VS Malik\",\"P Amarnath\",\"Joginder Sharma\",\"Sohail Tanvir\",\"Ravi Bishnoi\",\"J Botha\",\"Sohail Tanvir\",\"VY Mahesh\",\"DR Smith\",\"A Nortje\",\"SR Watson\",\"P Parameswaran\",\"DE Bollinger\",\"KH Pandya\",\"SC Kuggeleijn\",\"HF Gurney\",\"PP Ojha\",\"AF Milne\",\"P Negi\",\"C de Grandhomme\",\"JH Kallis\",\"DS Kulkarni\",\"TG Southee\",\"BB Sran\",\"DJ Bravo\",\"ST Jayasuriya\",\"M Prasidh Krishna\",\"MM Patel\",\"Harbhajan Singh\",\"Joginder Sharma\",\"DW Steyn\",\"Z Khan\",\"S Nadeem\",\"TK Curran\",\"R Vinay Kumar\",\"UT Yadav\",\"J Botha\",\"R Vinay Kumar\",\"HV Patel\",\"AN Ahmed\",\"WA Mota\",\"DS Kulkarni\",\"Iqbal Abdulla\",\"Sandeep Sharma\",\"Z Khan\",\"GC Viljoen\",\"JJ Bumrah\",\"Iqbal Abdulla\",\"SB Bangar\",\"A Nortje\",\"AD Mathews\",\"A Flintoff\",\"Basil Thampi\",\"BJ Hodge\",\"P Sahu\",\"RA Jadeja\",\"AM Salvi\",\"S Aravind\",\"R Ashwin\",\"A Kumble\",\"KH Pandya\",\"Imran Tahir\",\"Pankaj Singh\",\"V Kohli\",\"AR Patel\",\"SK Warne\",\"Sandeep Sharma\",\"L Balaji\",\"R Vinay Kumar\",\"DS Kulkarni\",\"DL Vettori\",\"MG Johnson\",\"Mohammed Shami\",\"P Kumar\",\"A Singh\",\"SL Malinga\",\"I Sharma\",\"BJ Hodge\",\"IK Pathan\",\"SK Trivedi\",\"RJ Peterson\",\"CJ Anderson\",\"Pankaj Singh\",\"CRD Fernando\",\"KV Sharma\",\"R McLaren\",\"AJ Tye\",\"Mujeeb Ur Rahman\",\"Avesh Khan\",\"Anureet Singh\",\"A Nehra\",\"MM Sharma\",\"SL Malinga\",\"S Aravind\",\"SR Watson\",\"NM Coulter-Nile\",\"R Ashwin\",\"Iqbal Abdulla\",\"KC Cariappa\",\"N Rana\",\"HV Patel\",\"VY Mahesh\",\"Kamran Khan\",\"Harmeet Singh\",\"LH Ferguson\",\"S Aravind\",\"K Rabada\",\"NM Coulter-Nile\",\"Parvez Rasool\",\"RE van der Merwe\",\"SR Watson\",\"JH Kallis\",\"L Balaji\",\"RJ Harris\",\"SL Malinga\",\"RD Chahar\",\"S Narwal\",\"AR Patel\",\"WA Mota\",\"R Bhatia\",\"Z Khan\",\"MP Stoinis\",\"M Morkel\",\"PJ Sangwan\",\"J Syed Mohammad\",\"YS Chahal\",\"AB Dinda\",\"MS Gony\",\"R Bhatia\",\"MP Stoinis\",\"A Singh\",\"V Shankar\",\"DT Christian\",\"Mustafizur Rahman\",\"UT Yadav\",\"MM Ali\",\"DS Kulkarni\",\"CRD Fernando\",\"Umar Gul\",\"KA Pollard\",\"SR Watson\",\"A Nortje\",\"AR Patel\",\"AG Murtaza\",\"JR Hazlewood\",\"CH Morris\",\"AD Russell\",\"JA Morkel\",\"D du Preez\",\"WPUJC Vaas\",\"L Balaji\",\"ST Jayasuriya\",\"S Lamichhane\",\"AB McDonald\",\"CK Langeveldt\",\"JD Unadkat\",\"RP Singh\",\"P Negi\",\"V Sehwag\",\"Shahbaz Ahmed\",\"AD Russell\",\"R McLaren\",\"Kuldeep Yadav\",\"A Nehra\",\"RP Singh\",\"TA Boult\",\"JD Unadkat\",\"DR Smith\",\"CR Brathwaite\",\"CJ Anderson\",\"CJ Anderson\",\"S Nadeem\",\"PJ Sangwan\",\"IK Pathan\",\"Bipul Sharma\",\"JD Ryder\",\"KK Cooper\",\"CH Morris\",\"BA Stokes\",\"SN Thakur\",\"WA Mota\",\"I Sharma\",\"BB Sran\",\"Z Khan\",\"AG Murtaza\",\"AR Patel\",\"B Kumar\",\"M Morkel\",\"PJ Cummins\",\"SP Narine\",\"JDP Oram\",\"MC Henriques\",\"NLTC Perera\",\"SB Styris\",\"Mohammed Shami\",\"PP Ojha\",\"Kuldeep Yadav\",\"RG Sharma\",\"Shivam Mavi\",\"SK Raina\",\"WPUJC Vaas\",\"MP Stoinis\",\"Harbhajan Singh\",\"AR Patel\",\"MS Gony\",\"PP Ojha\",\"HV Patel\",\"Harbhajan Singh\",\"BA Stokes\",\"HV Patel\",\"YS Chahal\",\"Gurkeerat Singh\",\"SB Styris\",\"SK Raina\",\"JH Kallis\",\"MN Samuels\",\"RA Jadeja\",\"SL Malinga\",\"YK Pathan\",\"K Santokie\",\"RN ten Doeschate\",\"Shahid Afridi\",\"A Nehra\",\"A Nortje\",\"R Shukla\",\"LH Ferguson\",\"T Natarajan\",\"RR Powar\",\"JD Ryder\",\"Mustafizur Rahman\",\"A Symonds\",\"M Morkel\",\"KV Sharma\",\"Yuvraj Singh\",\"Z Khan\",\"VR Aaron\",\"IK Pathan\",\"Yuvraj Singh\",\"NA Saini\",\"SW Tait\",\"DJ Bravo\",\"V Shankar\",\"BE Hendricks\",\"SP Narine\",\"P Suyal\",\"Z Khan\",\"DS Kulkarni\",\"S Sreesanth\",\"M Kartik\",\"KA Pollard\",\"P Kumar\",\"P Kumar\",\"A Nehra\",\"T Thushara\",\"AB Agarkar\",\"JP Duminy\",\"DP Nannes\",\"TG Southee\",\"UT Yadav\",\"TA Boult\",\"DL Chahar\",\"SK Trivedi\",\"RP Singh\",\"SP Narine\",\"CR Brathwaite\",\"S Aravind\",\"Mujeeb Ur Rahman\",\"R Sathish\",\"AR Patel\",\"R Tewatia\",\"JP Behrendorff\",\"N Rana\",\"R Vinay Kumar\",\"Imran Tahir\",\"KK Ahmed\",\"DS Kulkarni\",\"SK Warne\",\"LH Ferguson\",\"SB Jakati\",\"NLTC Perera\",\"VRV Singh\",\"I Sharma\",\"Shoaib Ahmed\",\"DL Chahar\",\"L Ngidi\",\"JD Unadkat\",\"ST Jayasuriya\",\"CH Gayle\",\"Iqbal Abdulla\",\"YS Chahal\",\"Joginder Sharma\",\"Karanveer Singh\",\"KP Pietersen\",\"DW Steyn\",\"S Sreesanth\",\"SW Tait\",\"GJ Maxwell\",\"MP Stoinis\",\"PP Ojha\",\"I Sharma\",\"SM Harwood\",\"L Balaji\",\"CK Langeveldt\",\"Z Khan\",\"Arshdeep Singh\",\"V Sehwag\",\"SP Narine\",\"SW Tait\",\"AR Patel\",\"Harmeet Singh\",\"JD Ryder\",\"LE Plunkett\",\"TG Southee\",\"I Sharma\",\"MC Henriques\",\"A Singh\",\"IK Pathan\",\"Harbhajan Singh\",\"AS Rajpoot\",\"A Symonds\",\"J Syed Mohammad\",\"JA Morkel\",\"DAJ Bracewell\",\"A Zampa\",\"Gurkeerat Singh\",\"B Kumar\",\"V Pratap Singh\",\"Shakib Al Hasan\",\"AR Patel\",\"Harbhajan Singh\",\"AF Milne\",\"DP Nannes\",\"R McLaren\",\"A Kumble\",\"Bipul Sharma\",\"CK Langeveldt\",\"AB Agarkar\",\"RN ten Doeschate\",\"T Thushara\",\"RD Chahar\",\"NB Singh\",\"AP Dole\",\"L Ngidi\",\"SR Watson\",\"KV Sharma\",\"AN Ahmed\",\"KK Ahmed\",\"MP Stoinis\",\"MP Stoinis\",\"MJ McClenaghan\",\"C Nanda\",\"Mashrafe Mortaza\",\"M Morkel\",\"CJ Anderson\",\"SR Watson\",\"AD Mathews\",\"PP Chawla\",\"AD Russell\",\"BA Stokes\",\"P Kumar\",\"SM Pollock\",\"MF Maharoof\",\"Shoaib Akhtar\",\"AG Murtaza\",\"BJ Hodge\",\"J Botha\",\"Anureet Singh\",\"HV Patel\",\"KP Appanna\",\"DJ Bravo\",\"AR Patel\",\"D Kalyankrishna\",\"CJ Jordan\",\"PJ Sangwan\",\"JJ Bumrah\",\"YK Pathan\",\"PP Ojha\",\"BE Hendricks\",\"LE Plunkett\",\"Anureet Singh\",\"JDS Neesham\",\"AB Dinda\",\"IS Sodhi\",\"CV Varun\",\"S Lamichhane\",\"Jaskaran Singh\",\"Imran Tahir\",\"Harbhajan Singh\",\"SB Bangar\",\"HV Patel\",\"S Nadeem\",\"S Gopal\",\"AG Murtaza\",\"PJ Sangwan\",\"A Kumble\",\"JD Unadkat\",\"CV Varun\",\"SR Watson\",\"JP Faulkner\",\"Parvez Rasool\",\"S Kaul\",\"RE van der Merwe\",\"JD Ryder\",\"A Mithun\",\"MP Stoinis\",\"RP Singh\",\"SR Watson\",\"P Kumar\",\"AD Mathews\",\"GD McGrath\",\"MF Maharoof\",\"CRD Fernando\",\"JJ van der Wath\",\"R Vinay Kumar\",\"Sandeep Sharma\",\"KM Asif\",\"DJ Bravo\",\"AD Mascarenhas\",\"RJ Peterson\",\"DJ Hussey\",\"AC Thomas\",\"Joginder Sharma\",\"J Suchith\",\"T Natarajan\",\"R Sharma\",\"TM Dilshan\",\"Z Khan\",\"DE Bollinger\",\"DJG Sammy\",\"L Ngidi\",\"RA Jadeja\",\"GR Napier\",\"NLTC Perera\",\"RJ Harris\",\"SS Mundhe\",\"ST Jayasuriya\",\"Sandeep Sharma\",\"Harbhajan Singh\",\"Kuldeep Yadav\",\"CH Morris\",\"Yuvraj Singh\",\"S Sreesanth\",\"KV Sharma\",\"MF Maharoof\",\"SD Chitnis\",\"M Markande\",\"UT Yadav\",\"CRD Fernando\",\"JA Morkel\",\"JDP Oram\",\"STR Binny\",\"Kamran Khan\",\"A Mishra\",\"CR Brathwaite\",\"DP Nannes\",\"JDP Oram\",\"CH Morris\",\"ST Jayasuriya\",\"HV Patel\",\"GC Viljoen\",\"SL Malinga\",\"PP Ojha\",\"Washington Sundar\",\"SE Bond\",\"SM Pollock\",\"JD Unadkat\",\"SK Trivedi\",\"AD Russell\",\"MJ Henry\",\"STR Binny\",\"MG Johnson\",\"YS Chahal\",\"HH Pandya\",\"DL Vettori\",\"M Kartik\",\"JO Holder\",\"MM Sharma\",\"I Sharma\",\"A Nehra\",\"TA Boult\",\"DJ Thornely\",\"SB Jakati\",\"DP Nannes\",\"BJ Hodge\",\"SN Thakur\",\"DJM Short\",\"UT Yadav\",\"MM Patel\",\"AN Ahmed\",\"AB McDonald\",\"RE van der Merwe\",\"KMDN Kulasekara\",\"Anand Rajan\",\"RP Singh\",\"S Tyagi\",\"JH Kallis\",\"SE Bond\",\"S Sreesanth\",\"MP Stoinis\",\"SR Watson\",\"CV Varun\",\"Harbhajan Singh\",\"R Bhatia\",\"BB Sran\",\"MA Starc\",\"MC Henriques\",\"CK Langeveldt\",\"SR Watson\",\"Yuvraj Singh\",\"R Sharma\",\"AB McDonald\",\"AB Dinda\",\"Iqbal Abdulla\",\"SR Watson\",\"Yuvraj Singh\",\"S Aravind\",\"BAW Mendis\",\"D Wiese\",\"AD Russell\",\"CH Gayle\",\"KW Richardson\",\"DJG Sammy\",\"Sandeep Sharma\",\"B Kumar\",\"S Kaul\",\"DW Steyn\",\"AR Patel\",\"V Pratap Singh\",\"M Morkel\",\"T Natarajan\",\"RP Singh\",\"R Parag\",\"Shahid Afridi\",\"Basil Thampi\",\"WD Parnell\",\"SD Chitnis\",\"J Theron\",\"AB Dinda\",\"SP Narine\",\"Sandeep Sharma\",\"CH Morris\",\"JC Archer\",\"MG Johnson\",\"Mustafizur Rahman\",\"AJ Tye\",\"Anand Rajan\",\"SP Narine\",\"M Ashwin\",\"MJ McClenaghan\",\"P Kumar\",\"A Nehra\",\"M Kartik\",\"GD McGrath\",\"R Tewatia\",\"JP Faulkner\",\"SR Watson\",\"JR Hopes\",\"D Wiese\",\"Harbhajan Singh\",\"M Kartik\",\"MP Stoinis\",\"Yuvraj Singh\",\"AB Dinda\",\"GJ Maxwell\",\"AD Mathews\",\"NM Coulter-Nile\",\"SR Watson\",\"VR Aaron\",\"R Ashwin\",\"Imran Tahir\",\"KV Sharma\",\"LH Ferguson\",\"Washington Sundar\",\"T Natarajan\",\"Mohammed Shami\",\"SN Thakur\",\"M Muralitharan\",\"I Sharma\",\"M Ashwin\",\"MR Marsh\",\"MG Johnson\",\"S Lamichhane\",\"BCJ Cutting\",\"P Kumar\",\"R Dhawan\",\"B Kumar\",\"IS Sodhi\",\"VY Mahesh\",\"P Parameswaran\",\"JD Unadkat\",\"A Nehra\",\"Iqbal Abdulla\",\"M Prasidh Krishna\",\"MS Gony\",\"Arshdeep Singh\",\"AL Menaria\",\"YS Chahal\",\"JO Holder\",\"SK Trivedi\",\"M Kartik\",\"PP Ojha\",\"MJ McClenaghan\",\"SM Curran\",\"R Bhatia\",\"J Theron\",\"J Suchith\",\"KK Ahmed\",\"MA Starc\",\"SK Trivedi\",\"Imran Tahir\",\"AD Russell\",\"P Kumar\",\"PM Sarvesh Kumar\",\"SR Watson\",\"BE Hendricks\",\"ST Jayasuriya\",\"MS Gony\",\"V Shankar\",\"M Ashwin\",\"Sandeep Sharma\",\"Shakib Al Hasan\",\"Z Khan\",\"DJ Hooda\",\"Y Prithvi Raj\",\"DS Kulkarni\",\"Rashid Khan\",\"JJ Bumrah\",\"MM Sharma\",\"K Rabada\",\"RP Singh\",\"Yuvraj Singh\",\"B Kumar\",\"UT Yadav\",\"S Randiv\",\"DP Nannes\",\"MF Maharoof\",\"Avesh Khan\",\"TG Southee\",\"B Kumar\",\"IK Pathan\",\"A Symonds\",\"AS Rajpoot\",\"HV Patel\",\"AB Agarkar\",\"MC Henriques\",\"SS Agarwal\",\"Yuvraj Singh\",\"PP Chawla\",\"Mustafizur Rahman\",\"Sohail Tanvir\",\"AD Mathews\",\"NM Coulter-Nile\",\"Pankaj Singh\",\"RG Sharma\",\"Bipul Sharma\",\"Anand Rajan\",\"PP Chawla\",\"Sandeep Sharma\",\"CJ Anderson\",\"SS Cottrell\",\"MM Patel\",\"DP Nannes\",\"R Ashwin\",\"NLTC Perera\",\"CK Langeveldt\",\"S Kaul\",\"Pankaj Singh\",\"JO Holder\",\"A Nehra\",\"M Kartik\",\"R Bhatia\",\"R Tewatia\",\"MG Johnson\",\"LH Ferguson\",\"S Randiv\",\"Mohammed Shami\",\"UT Yadav\",\"AM Salvi\",\"IC Pandey\",\"Kamran Khan\",\"M Ashwin\",\"DS Kulkarni\",\"Rashid Khan\",\"MC Henriques\",\"PP Ojha\",\"A Symonds\",\"M Kartik\",\"PJ Cummins\",\"CJ McKay\",\"PV Tambe\",\"SP Narine\",\"RS Bopara\",\"A Nehra\",\"PJ Cummins\",\"AR Patel\",\"RA Jadeja\",\"Abhishek Sharma\",\"NLTC Perera\",\"YS Chahal\",\"SMSM Senanayake\",\"PP Chawla\",\"B Kumar\",\"Harmeet Singh\",\"Harmeet Singh\",\"JP Faulkner\",\"B Akhil\",\"A Mishra\",\"WPUJC Vaas\",\"K Gowtham\",\"JA Morkel\",\"AM Salvi\",\"Kuldeep Yadav\",\"PP Chawla\",\"CH Morris\",\"R Vinay Kumar\",\"DJ Hussey\",\"AB Dinda\",\"C de Grandhomme\",\"SR Watson\",\"T Natarajan\",\"P Amarnath\",\"Umar Gul\",\"NM Coulter-Nile\",\"SK Trivedi\",\"Shakib Al Hasan\",\"MR Marsh\",\"JO Holder\",\"TA Boult\",\"DJG Sammy\",\"S Kaul\",\"Yuvraj Singh\",\"AB Agarkar\",\"RD Chahar\",\"Harbhajan Singh\",\"IK Pathan\",\"A Ashish Reddy\",\"MG Johnson\",\"SM Pollock\",\"R Vinay Kumar\",\"K Gowtham\",\"AD Russell\",\"J Botha\",\"A Singh\",\"A Mishra\",\"PP Chawla\",\"JD Unadkat\",\"DJ Bravo\",\"V Kohli\",\"PP Chawla\",\"M Ntini\",\"M Ashwin\",\"CJ Anderson\",\"A Nehra\",\"MG Johnson\",\"Z Khan\",\"Shoaib Ahmed\",\"JP Duminy\",\"S Sreesanth\",\"SL Malinga\",\"AD Mascarenhas\",\"AB Dinda\",\"SN Thakur\",\"O Thomas\",\"S Gopal\",\"RS Bopara\",\"MM Patel\",\"SK Warne\",\"Shivam Mavi\",\"RP Singh\",\"P Negi\",\"AM Nayar\",\"SP Narine\",\"Iqbal Abdulla\",\"K Gowtham\",\"SL Malinga\",\"R Sharma\",\"AS Rajpoot\",\"Mustafizur Rahman\",\"YS Chahal\",\"SR Watson\",\"MN Samuels\",\"Washington Sundar\",\"CJ Anderson\",\"M Muralitharan\",\"RG Sharma\",\"R Rampaul\",\"R Ashwin\",\"JPR Scantlebury-Searles\",\"AB Agarkar\",\"PJ Sangwan\",\"TL Suman\",\"KC Cariappa\",\"GC Viljoen\",\"M Muralitharan\",\"KW Richardson\",\"MC Henriques\",\"TS Mills\",\"MP Stoinis\",\"Karanveer Singh\",\"STR Binny\",\"Harbhajan Singh\",\"A Mishra\",\"PP Chawla\",\"B Kumar\",\"MN Samuels\",\"CJ Anderson\",\"SP Narine\",\"D du Preez\",\"DE Bollinger\",\"Z Khan\",\"R Dhawan\",\"DJ Bravo\",\"YK Pathan\",\"AR Patel\",\"AA Jhunjhunwala\",\"RJ Harris\",\"JD Unadkat\",\"SK Raina\",\"DW Steyn\",\"CH Morris\",\"PP Chawla\",\"GB Hogg\",\"MC Henriques\",\"YK Pathan\",\"SR Watson\",\"Shakib Al Hasan\",\"SB Jakati\",\"S Narwal\",\"SM Curran\",\"Shakib Al Hasan\",\"Umar Gul\",\"AG Murtaza\",\"Karanveer Singh\",\"NM Coulter-Nile\",\"TK Curran\",\"PJ Sangwan\",\"B Lee\",\"A Kumble\",\"IK Pathan\",\"P Kumar\",\"Ankit Sharma\",\"HF Gurney\",\"WD Parnell\",\"Azhar Mahmood\",\"S Sreesanth\",\"MA Starc\",\"S Sreesanth\",\"AD Russell\",\"IK Pathan\",\"R Sathish\",\"TG Southee\",\"Sandeep Sharma\",\"RA Jadeja\",\"RD Chahar\",\"PP Ojha\",\"MM Patel\",\"PJ Sangwan\",\"Karanveer Singh\",\"PP Chawla\",\"Z Khan\",\"AD Mathews\",\"KA Pollard\",\"Harmeet Singh (2)\",\"CH Morris\",\"L Balaji\",\"M Ashwin\",\"BA Bhatt\",\"SR Watson\",\"AD Russell\",\"S Nadeem\",\"KH Pandya\",\"A Singh\",\"AB Dinda\",\"DW Steyn\",\"A Mishra\",\"R Rampaul\",\"DL Vettori\",\"L Balaji\",\"SL Malinga\",\"PJ Sangwan\",\"DE Bollinger\",\"JL Pattinson\",\"CJ Jordan\",\"A Mishra\",\"IS Sodhi\",\"AR Patel\",\"C Nanda\",\"SN Thakur\",\"Mohammed Shami\",\"YK Pathan\",\"RG Sharma\",\"J Theron\",\"CR Woakes\",\"R Shukla\",\"M Ntini\",\"R Vinay Kumar\",\"DW Steyn\",\"Joginder Sharma\",\"KM Asif\",\"S Sreesanth\",\"Iqbal Abdulla\",\"R Bhatia\",\"DP Nannes\",\"VR Aaron\",\"GB Hogg\",\"DS Kulkarni\",\"RS Bopara\",\"Joginder Sharma\",\"D Wiese\",\"UT Yadav\",\"RA Jadeja\",\"Rashid Khan\",\"A Mishra\",\"Pankaj Singh\",\"RE van der Merwe\",\"RA Jadeja\",\"MR Marsh\",\"SJ Srivastava\",\"Z Khan\",\"GB Hogg\",\"JP Faulkner\",\"AB Dinda\",\"MS Gony\",\"R Vinay Kumar\",\"Pankaj Singh\",\"Y Venugopal Rao\",\"Umar Gul\",\"Anureet Singh\",\"UT Yadav\",\"R Sharma\",\"MM Patel\",\"CK Langeveldt\",\"KW Richardson\",\"SK Warne\",\"AN Ahmed\",\"J Syed Mohammad\",\"JDS Neesham\",\"JD Unadkat\",\"R Bhatia\",\"WD Parnell\",\"Mohammed Shami\",\"R Ashwin\",\"Z Khan\",\"JD Unadkat\",\"Mohammad Nabi\",\"SC Ganguly\",\"NM Coulter-Nile\",\"S Dhawan\",\"T Natarajan\",\"Mohammed Siraj\",\"Y Venugopal Rao\",\"B Lee\",\"M Morkel\",\"IK Pathan\",\"K Rabada\",\"SR Watson\",\"R Vinay Kumar\",\"Bipul Sharma\",\"M Muralitharan\",\"DJ Bravo\",\"RD Chahar\",\"DW Steyn\",\"M Morkel\",\"P Parameswaran\",\"SP Narine\",\"RP Singh\",\"Yuvraj Singh\",\"AN Ahmed\",\"DS Kulkarni\",\"B Lee\",\"JE Taylor\",\"Mustafizur Rahman\",\"KA Pollard\",\"KC Cariappa\",\"KW Richardson\",\"SL Malinga\",\"JA Morkel\",\"Mohammad Nabi\",\"DE Bollinger\",\"RE van der Merwe\",\"Shakib Al Hasan\",\"S Sreesanth\",\"MC Henriques\",\"AS Roy\",\"A Ashish Reddy\",\"Mohammed Shami\",\"AD Mathews\",\"DS Kulkarni\",\"YK Pathan\",\"GD McGrath\",\"Ravi Bishnoi\",\"Harbhajan Singh\",\"DS Kulkarni\",\"M Ntini\",\"AG Murtaza\",\"M Muralitharan\",\"SL Malinga\",\"CK Langeveldt\",\"L Balaji\",\"UT Yadav\",\"KW Richardson\",\"JP Faulkner\",\"P Amarnath\",\"AB Agarkar\",\"V Sehwag\",\"B Kumar\",\"JA Morkel\",\"HV Patel\",\"V Kohli\",\"SR Watson\",\"IC Pandey\",\"I Udana\",\"A Nehra\",\"R Ashwin\",\"BB Sran\",\"P Kumar\",\"JM Kemp\",\"T Thushara\",\"M Muralitharan\",\"MJ Clarke\",\"RJ Harris\",\"A Mishra\",\"DW Steyn\",\"DW Steyn\",\"B Kumar\",\"CH Morris\",\"SW Tait\",\"Mohammed Shami\",\"J Yadav\",\"PP Chawla\",\"CH Gayle\",\"Sandeep Sharma\",\"SL Malinga\",\"DJ Bravo\",\"A Mishra\",\"SS Sarkar\",\"KK Cooper\",\"R Dhawan\",\"AS Rajpoot\",\"Pankaj Singh\",\"KP Appanna\",\"TG Southee\",\"VS Malik\",\"Anureet Singh\",\"A Mishra\",\"A Kumble\",\"Kamran Khan\",\"KA Pollard\",\"AG Murtaza\",\"A Mithun\",\"CH Morris\",\"L Balaji\",\"B Stanlake\",\"VR Aaron\",\"I Sharma\",\"Shakib Al Hasan\",\"MG Johnson\",\"STR Binny\",\"UT Yadav\",\"Harbhajan Singh\",\"RA Jadeja\",\"JD Unadkat\",\"SR Watson\",\"GB Hogg\",\"JO Holder\",\"SB Styris\",\"R Vinay Kumar\",\"NM Coulter-Nile\",\"C de Grandhomme\",\"CR Brathwaite\",\"M Morkel\",\"IK Pathan\",\"AJ Tye\",\"DJ Bravo\",\"VR Aaron\",\"L Balaji\",\"BA Stokes\",\"A Mishra\",\"STR Binny\",\"SB Wagh\",\"DL Vettori\",\"JD Unadkat\",\"J Syed Mohammad\",\"KP Appanna\",\"GJ Maxwell\",\"S Aravind\",\"SL Malinga\",\"B Laughlin\",\"YK Pathan\",\"AD Mathews\",\"R Vinay Kumar\",\"R Vinay Kumar\",\"WD Parnell\",\"S Badree\",\"R Ashwin\",\"J Yadav\",\"B Akhil\",\"Ravi Bishnoi\",\"RS Bopara\",\"SB Bangar\",\"IK Pathan\",\"J Syed Mohammad\",\"S Kaul\",\"JR Hopes\",\"S Aravind\",\"J Syed Mohammad\",\"M Morkel\",\"P Kumar\",\"AD Mathews\",\"MA Starc\",\"MG Johnson\",\"JP Duminy\",\"Azhar Mahmood\",\"P Amarnath\",\"KA Pollard\",\"A Kumble\",\"PJ Sangwan\",\"Y Venugopal Rao\",\"B Kumar\",\"Z Khan\",\"A Nehra\",\"AD Russell\",\"SP Narine\",\"KK Ahmed\",\"BW Hilfenhaus\",\"R Bhatia\",\"CH Morris\",\"Shakib Al Hasan\",\"Kuldeep Yadav\",\"RR Raje\",\"KV Sharma\",\"YS Chahal\",\"BAW Mendis\",\"PP Chawla\",\"KH Pandya\",\"S Aravind\",\"DL Vettori\",\"AB Agarkar\",\"PC Valthaty\",\"DJ Hooda\",\"JH Kallis\",\"CH Gayle\",\"JP Duminy\",\"YS Chahal\",\"S Sandeep Warrier\",\"Z Khan\",\"P Kumar\",\"R Vinay Kumar\",\"SB Jakati\",\"PP Ojha\",\"SM Curran\",\"S Nadeem\",\"MN Samuels\",\"KA Pollard\",\"DW Steyn\",\"MJ Santner\",\"AP Dole\",\"R Vinay Kumar\",\"Mohammed Shami\",\"Shivam Mavi\",\"Mujeeb Ur Rahman\",\"Harbhajan Singh\",\"J Yadav\",\"Z Khan\",\"S Sreesanth\",\"DS Kulkarni\",\"KW Richardson\",\"A Uniyal\",\"PP Chawla\",\"UT Yadav\",\"PP Ojha\",\"PP Ojha\",\"S Aravind\",\"SK Trivedi\",\"RJ Harris\",\"Imran Tahir\",\"TA Boult\",\"B Stanlake\",\"Mustafizur Rahman\",\"S Dube\",\"A Mithun\",\"M Morkel\",\"Harbhajan Singh\",\"GC Viljoen\",\"SK Warne\",\"RD Chahar\",\"YK Pathan\",\"A Kumble\",\"P Kumar\",\"VY Mahesh\",\"MG Johnson\",\"DP Nannes\",\"YS Chahal\",\"JM Kemp\",\"B Kumar\",\"JH Kallis\",\"A Nehra\",\"Jaskaran Singh\",\"DNT Zoysa\",\"P Negi\",\"A Nortje\",\"Z Khan\",\"PP Chawla\",\"AM Nayar\",\"Y Venugopal Rao\",\"SW Tait\",\"Rashid Khan\",\"Mohammed Shami\",\"KA Pollard\",\"Iqbal Abdulla\",\"Iqbal Abdulla\",\"A Nehra\",\"Mohammed Siraj\",\"SK Raina\",\"R Vinay Kumar\",\"BW Hilfenhaus\",\"B Kumar\",\"IK Pathan\",\"CH Morris\",\"BW Hilfenhaus\",\"SW Tait\",\"SM Curran\",\"SM Pollock\",\"B Stanlake\",\"B Kumar\",\"NLTC Perera\",\"KH Pandya\",\"DW Steyn\",\"S Lamichhane\",\"M Prasidh Krishna\",\"JDP Oram\",\"P Awana\",\"JA Morkel\",\"ST Jayasuriya\",\"SK Trivedi\",\"KH Pandya\",\"R Sharma\",\"VRV Singh\",\"HH Pandya\",\"MA Starc\",\"PP Chawla\",\"YK Pathan\",\"Mohammad Nabi\",\"R Ashwin\",\"PP Ojha\",\"BW Hilfenhaus\",\"A Symonds\",\"Abhishek Sharma\",\"AR Patel\",\"Anand Rajan\",\"MG Johnson\",\"DJ Bravo\",\"L Ablish\",\"J Botha\",\"S Nadeem\",\"VR Aaron\",\"B Akhil\",\"YS Chahal\",\"M Morkel\",\"AB Dinda\",\"YK Pathan\",\"Harbhajan Singh\",\"A Mithun\",\"Iqbal Abdulla\",\"M Markande\",\"MM Patel\",\"M Morkel\",\"TM Dilshan\",\"IS Sodhi\",\"SM Curran\",\"KMA Paul\",\"Karanveer Singh\",\"DT Christian\",\"VR Aaron\",\"MM Sharma\",\"Shahbaz Ahmed\",\"L Balaji\",\"VY Mahesh\",\"AB Dinda\",\"R Vinay Kumar\",\"CK Langeveldt\",\"Sandeep Sharma\",\"AD Mascarenhas\",\"Z Khan\",\"SC Ganguly\",\"MJ Santner\",\"KK Ahmed\",\"HV Patel\",\"SK Warne\",\"IK Pathan\",\"R Ashwin\",\"S Nadeem\",\"Z Khan\",\"LH Ferguson\",\"A Zampa\",\"MG Johnson\",\"S Gopal\",\"R Sharma\",\"A Mishra\",\"NM Coulter-Nile\",\"A Mishra\",\"AB Agarkar\",\"AA Chavan\",\"P Kumar\",\"BA Stokes\",\"Harbhajan Singh\",\"SE Bond\",\"A Symonds\",\"M Morkel\",\"M Morkel\",\"WD Parnell\",\"I Udana\",\"SK Raina\",\"SC Ganguly\",\"MM Patel\",\"SK Raina\",\"SK Trivedi\",\"RP Singh\",\"KA Pollard\",\"AD Mathews\",\"AM Nayar\",\"WD Parnell\",\"RP Singh\",\"R Vinay Kumar\",\"Mohammad Hafeez\",\"SB Bangar\",\"NM Coulter-Nile\",\"KV Sharma\",\"RR Raje\",\"Iqbal Abdulla\",\"GD McGrath\",\"KH Pandya\",\"JD Unadkat\",\"M Muralitharan\",\"AC Thomas\",\"SP Narine\",\"SJ Srivastava\",\"GB Hogg\",\"P Kumar\",\"AR Patel\",\"AR Patel\",\"KA Pollard\",\"SK Raina\",\"TM Head\",\"J Suchith\",\"MC Henriques\",\"JH Kallis\",\"JE Taylor\",\"NLTC Perera\",\"KM Asif\",\"CH Morris\",\"LA Carseldine\",\"L Ngidi\",\"B Lee\",\"YS Chahal\",\"P Negi\",\"SK Warne\",\"S Ladda\",\"K Rabada\",\"R Vinay Kumar\",\"SM Pollock\",\"L Balaji\",\"GB Hogg\",\"BE Hendricks\",\"A Mithun\",\"DL Vettori\",\"WPUJC Vaas\",\"Shahid Afridi\",\"SM Pollock\",\"PJ Cummins\",\"MC Henriques\",\"Iqbal Abdulla\",\"SR Watson\",\"AS Rajpoot\",\"R Bhatia\",\"IK Pathan\",\"Anand Rajan\",\"KV Sharma\",\"MP Stoinis\",\"SW Tait\",\"MM Sharma\",\"DL Vettori\",\"B Lee\",\"LH Ferguson\",\"Harbhajan Singh\",\"Mohammad Hafeez\",\"LR Shukla\",\"A Kumble\",\"BB Sran\",\"M Markande\",\"Anureet Singh\",\"MJ Santner\",\"NA Saini\",\"Mohammed Siraj\",\"KV Sharma\",\"D Kalyankrishna\",\"AB McDonald\",\"KA Pollard\",\"SM Pollock\",\"B Laughlin\",\"JD Ryder\",\"IK Pathan\",\"A Mishra\",\"LJ Wright\",\"K Rabada\",\"HH Pandya\",\"JH Kallis\",\"DJ Bravo\",\"A Nehra\",\"Harbhajan Singh\",\"SP Narine\",\"Sandeep Sharma\",\"BE Hendricks\",\"JW Hastings\",\"R Tewatia\",\"DJ Bravo\",\"DS Kulkarni\",\"JD Unadkat\",\"MJ McClenaghan\",\"JD Unadkat\",\"M Ntini\",\"BAW Mendis\",\"Basil Thampi\",\"Anand Rajan\",\"RV Gomez\",\"B Lee\",\"I Sharma\",\"T Thushara\",\"M Morkel\",\"P Negi\",\"BCJ Cutting\",\"SP Narine\",\"SP Narine\",\"DP Nannes\",\"PP Ojha\",\"B Kumar\",\"LR Shukla\",\"HV Patel\",\"D Wiese\",\"SK Warne\",\"Sohail Tanvir\",\"Shakib Al Hasan\",\"LE Plunkett\",\"YA Abdulla\",\"MP Stoinis\",\"IS Sodhi\",\"KW Richardson\",\"MM Ali\",\"RA Jadeja\",\"R Rampaul\",\"MM Sharma\",\"Shakib Al Hasan\",\"R Tewatia\",\"AB Agarkar\",\"CJ Jordan\",\"Sohail Tanvir\",\"SK Raina\",\"S Kaul\",\"B Lee\",\"AS Rajpoot\",\"DS Kulkarni\",\"A Mishra\",\"AR Patel\",\"DT Christian\",\"A Singh\",\"YS Chahal\",\"M Muralitharan\",\"S Badree\",\"JJ Bumrah\",\"JH Kallis\",\"Shoaib Malik\",\"TG Southee\",\"SR Watson\",\"PP Chawla\",\"JP Duminy\",\"KA Pollard\",\"Mohammed Siraj\",\"WPUJC Vaas\",\"AG Murtaza\",\"SK Trivedi\",\"CH Morris\",\"A Zampa\",\"KMDN Kulasekara\",\"T Thushara\",\"Z Khan\",\"MS Gony\",\"Rashid Khan\",\"FH Edwards\",\"JD Unadkat\",\"PP Ojha\",\"R Bhatia\",\"Mohammed Shami\",\"SL Malinga\",\"JA Morkel\",\"K Santokie\",\"L Ablish\",\"Kuldeep Yadav\",\"A Nehra\"],\"xaxis\":\"x\",\"y\":[63,43,36,36,29,29,26,26,25,25,25,24,23,22,22,22,22,21,21,21,20,20,19,19,19,18,18,18,17,17,17,17,16,16,16,15,15,15,15,15,15,15,14,14,14,14,14,13,13,13,13,13,13,12,12,12,12,12,11,11,11,11,11,11,11,11,11,11,10,10,10,10,10,10,10,10,10,10,10,9,9,9,9,9,9,9,9,9,9,9,9,9,9,9,9,9,9,9,8,8,8,8,8,8,8,8,8,8,8,8,8,8,8,8,8,8,8,7,7,7,7,7,7,7,7,7,7,7,7,7,7,7,7,7,7,7,7,7,7,7,7,7,7,7,7,7,6,6,6,6,6,6,6,6,6,6,6,6,6,6,6,6,6,6,6,6,6,6,6,6,6,6,6,6,6,6,6,6,6,6,6,6,6,6,6,6,6,6,6,6,6,6,6,6,6,6,6,6,6,6,6,6,6,6,6,6,6,5,5,5,5,5,5,5,5,5,5,5,5,5,5,5,5,5,5,5,5,5,5,5,5,5,5,5,5,5,5,5,5,5,5,5,5,5,5,5,5,5,5,5,5,5,5,5,5,5,5,5,5,5,5,5,5,5,5,5,5,5,5,5,5,5,5,5,5,5,5,5,5,5,5,5,5,5,5,5,5,5,5,5,5,5,5,5,5,5,5,5,5,5,5,5,5,5,5,5,5,5,5,5,4,4,4,4,4,4,4,4,4,4,4,4,4,4,4,4,4,4,4,4,4,4,4,4,4,4,4,4,4,4,4,4,4,4,4,4,4,4,4,4,4,4,4,4,4,4,4,4,4,4,4,4,4,4,4,4,4,4,4,4,4,4,4,4,4,4,4,4,4,4,4,4,4,4,4,4,4,4,4,4,4,4,4,4,4,4,4,4,4,4,4,4,4,4,4,4,4,4,4,4,4,4,4,4,4,4,4,4,4,4,4,4,4,4,4,4,4,4,4,4,4,4,4,4,4,4,4,4,4,4,4,4,4,4,4,4,4,4,4,4,4,4,4,4,4,4,4,4,4,4,4,4,4,4,4,4,4,4,4,4,4,4,4,4,4,4,4,3,3,3,3,3,3,3,3,3,3,3,3,3,3,3,3,3,3,3,3,3,3,3,3,3,3,3,3,3,3,3,3,3,3,3,3,3,3,3,3,3,3,3,3,3,3,3,3,3,3,3,3,3,3,3,3,3,3,3,3,3,3,3,3,3,3,3,3,3,3,3,3,3,3,3,3,3,3,3,3,3,3,3,3,3,3,3,3,3,3,3,3,3,3,3,3,3,3,3,3,3,3,3,3,3,3,3,3,3,3,3,3,3,3,3,3,3,3,3,3,3,3,3,3,3,3,3,3,3,3,3,3,3,3,3,3,3,3,3,3,3,3,3,3,3,3,3,3,3,3,3,3,3,3,3,3,3,3,3,3,3,3,3,3,3,3,3,3,3,3,3,3,3,3,3,3,3,3,3,3,3,3,3,3,3,3,3,3,3,3,3,3,3,3,3,3,3,3,3,3,3,3,3,3,3,3,3,3,3,3,3,3,3,3,3,3,3,3,3,3,3,3,3,3,3,3,3,3,3,3,3,3,3,3,3,3,3,3,3,3,3,3,3,3,3,3,3,3,3,3,3,3,3,3,3,3,3,3,3,3,3,3,3,3,3,3,3,3,3,3,3,3,3,3,3,3,3,3,3,3,3,3,3,3,3,3,3,3,3,3,3,3,3,3,3,3,3,3,3,3,3,3,3,3,3,3,3,3,3,3,3,3,3,3,3,2,2,2,2,2,2,2,2,2,2,2,2,2,2,2,2,2,2,2,2,2,2,2,2,2,2,2,2,2,2,2,2,2,2,2,2,2,2,2,2,2,2,2,2,2,2,2,2,2,2,2,2,2,2,2,2,2,2,2,2,2,2,2,2,2,2,2,2,2,2,2,2,2,2,2,2,2,2,2,2,2,2,2,2,2,2,2,2,2,2,2,2,2,2,2,2,2,2,2,2,2,2,2,2,2,2,2,2,2,2,2,2,2,2,2,2,2,2,2,2,2,2,2,2,2,2,2,2,2,2,2,2,2,2,2,2,2,2,2,2,2,2,2,2,2,2,2,2,2,2,2,2,2,2,2,2,2,2,2,2,2,2,2,2,2,2,2,2,2,2,2,2,2,2,2,2,2,2,2,2,2,2,2,2,2,2,2,2,2,2,2,2,2,2,2,2,2,2,2,2,2,2,2,2,2,2,2,2,2,2,2,2,2,2,2,2,2,2,2,2,2,2,2,2,2,2,2,2,2,2,2,2,2,2,2,2,2,2,2,2,2,2,2,2,2,2,2,2,2,2,2,2,2,2,2,2,2,2,2,2,2,2,2,2,2,2,2,2,2,2,2,2,2,2,2,2,2,2,2,2,2,2,2,2,2,2,2,2,2,2,2,2,2,2,2,2,2,2,2,2,2,2,2,2,2,2,2,2,2,2,2,2,2,2,2,2,2,2,2,2,2,2,2,2,2,2,2,2,2,2,2,2,2,2,2,2,2,2,2,2,2,2,2,2,2,2,2,2,2,2,2,2,2,2,2,2,2,2,2,2,2,2,2,2,2,2,2,2,2,2,2,2,2,2,2,2,2,2,2,2,2,2,2,2,2,2,2,2,2,2,2,2,2,2,2,2,2,2,2,2,2,2,2,2,2,2,2,2,2,2,2,2,2,2,2,2,2,2,2,2,2,2,2,2,2,2,2,2,2,2,2,2,2,2,2,2,2,2,2,2,2,2,2,2,2,2,2,2,2,2,2,2,2,2,2,2,2,2,2,2,2,2,2,2,2,2,2,2,2,2,2,2,2,2,2,2,2,2,2,2,2,2,2,2,2,2,2,2,2,2,2,2,2,2,2,2,2,2,2,2,2,2,2,2,2,2,2,2,2,2,2,2,2,2,2,2,2,2,2,2,2,2,2,2,2,2,2,2,2,2,2,2,2,2,2,2,2,2,2,2,2,2,2,2,2,2,2,2,2,2,2,2,2,2,2,2,2,2,2,2,2,2,2,2,2,2,2,2,2,2,2,2,2,2,2,2,2,2,2,2,2,2,2,2,2,2,2,2,2,2,2,2,2,2,2,2,2,2,2,2,2,2,2,2,2,2,2,2,2,2,2,2,2,2,2,2,2,2,2,2,2,2,2,2,2,2,2,2,2,2,2,2,2,2,2,2,2,2,2,2,2,2,2,2,2,2,2,2,2,2,2,2,2,2,2,2,2,2,2,2,2,2,2,2,2,2,2,2,2,2,2,2,2,2,2,2,2,2,2,2,2,2,2,2,2,2,2,2,2,2,2,2,2,2,2,2,2,2,2,2,2,2,2,2,2,2,2,2,2,2,2,2,2,2,2,2,2,2,2,2,2,2,2,2,2,2,2,2,2,2,2,2,2,2,2,2,2,2,2,2,2,2,2,2,2,2,2,2,2,2,2,2,2,2,2,2,2,2,2,2,2,2,2,2,2,2,2,2,2,2,2,2,2,2,2,2,2,2,2,2,2,2,2,2,2,2,2,2,2,2,2,2,2,2,2,2,2,2,2,2,2,2,2,2,2,2,2,2,2,2,2,2,2,2,2,2,2,2,2,2,2,2,2,2,2,2,2,2,2,2,2,2,2,2,2,2,2,2,2,2,2,2,2,2,2,2,2,2,2,2,2,2,2,2,2,2,2,2,2,2,2,2,2,2,2,2,2,2,1,1,1,1,1,1,1,1,1,1,1,1,1,1,1,1,1,1,1,1,1,1,1,1,1,1,1,1,1,1,1,1,1,1,1,1,1,1,1,1,1,1,1,1,1,1,1,1,1,1,1,1,1,1,1,1,1,1,1,1,1,1,1,1,1,1,1,1,1,1,1,1,1,1,1,1,1,1,1,1,1,1,1,1,1,1,1,1,1,1,1,1,1,1,1,1,1,1,1,1,1,1,1,1,1,1,1,1,1,1,1,1,1,1,1,1,1,1,1,1,1,1,1,1,1,1,1,1,1,1,1,1,1,1,1,1,1,1,1,1,1,1,1,1,1,1,1,1,1,1,1,1,1,1,1,1,1,1,1,1,1,1,1,1,1,1,1,1,1,1,1,1,1,1,1,1,1,1,1,1,1,1,1,1,1,1,1,1,1,1,1,1,1,1,1,1,1,1,1,1,1,1,1,1,1,1,1,1,1,1,1,1,1,1,1,1,1,1,1,1,1,1,1,1,1,1,1,1,1,1,1,1,1,1,1,1,1,1,1,1,1,1,1,1,1,1,1,1,1,1,1,1,1,1,1,1,1,1,1,1,1,1,1,1,1,1,1,1,1,1,1,1,1,1,1,1,1,1,1,1,1,1,1,1,1,1,1,1,1,1,1,1,1,1,1,1,1,1,1,1,1,1,1,1,1,1,1,1,1,1,1,1,1,1,1,1,1,1,1,1,1,1,1,1,1,1,1,1,1,1,1,1,1,1,1,1,1,1,1,1,1,1,1,1,1,1,1,1,1,1,1,1,1,1,1,1,1,1,1,1,1,1,1,1,1,1,1,1,1,1,1,1,1,1,1,1,1,1,1,1,1,1,1,1,1,1,1,1,1,1,1,1,1,1,1,1,1,1,1,1,1,1,1,1,1,1,1,1,1,1,1,1,1,1,1,1,1,1,1,1,1,1,1,1,1,1,1,1,1,1,1,1,1,1,1,1,1,1,1,1,1,1,1,1,1,1,1,1,1,1,1,1,1,1,1,1,1,1,1,1,1,1,1,1,1,1,1,1,1,1,1,1,1,1,1,1,1,1,1,1,1,1,1,1,1,1,1,1,1,1,1,1,1,1,1,1,1,1,1,1,1,1,1,1,1,1,1,1,1,1,1,1,1,1,1,1,1,1,1,1,1,1,1,1,1,1,1,1,1,1,1,1,1,1,1,1,1,1,1,1,1,1,1,1,1,1,1,1,1,1,1,1,1,1,1,1,1,1,1,1,1,1,1,1,1,1,1,1,1,1,1,1,1,1,1,1,1,1,1,1,1,1,1,1,1,1,1,1,1,1,1,1,1,1,1,1,1,1,1,1,1,1,1,1,1,1,1,1,1,1,1,1,1,1,1,1,1,1,1,1,1,1,1,1,1,1,1,1,1,1,1,1,1,1,1,1,1,1,1,1,1,1,1,1,1,1,1,1,1,1,1,1,1,1,1,1,1,1,1,1,1,1,1,1,1,1,1,1,1,1,1,1,1,1,1,1,1,1,1,1,1,1,1,1,1,1,1,1,1,1,1,1,1,1,1,1,1,1,1,1,1,1,1,1,1,1,1,1,1,1,1,1,1,1,1,1,1,1,1,1,1,1,1,1,1,1,1,1,1,1,1,1,1,1,1,1,1,1,1,1,1,1,1,1,1,1,1,1,1,1,1,1,1,1,1,1,1,1,1,1,1,1,1,1,1,1,1,1,1,1,1,1,1,1,1,1,1,1,1,1,1,1,1,1,1,1,1,1,1,1,1,1,1,1,1,1,1,1,1,1,1,1,1,1,1,1,1,1,1,1,1,1,1,1,1,1,1,1,1,1,1,1,1,1,1,1,1,1,1,1,1,1,1,1,1,1,1,1,1,1,1,1,1,1,1,1,1,1,1,1,1,1,1,1,1,1,1,1,1,1,1,1,1,1,1,1,1,1,1,1,1,1,1,1,1,1,1,1,1,1,1,1,1,1,1,1,1,1,1,1,1,1,1,1,1,1,1,1,1,1,1,1,1,1,1,1,1,1,1,1,1,1,1,1,1,1,1,1,1,1,1,1,1,1,1,1,1,1,1,1,1,1,1,1,1,1,1,1,1,1,1,1,1,1,1,1,1,1,1,1,1,1,1,1,1,1,1,1,1,1,1,1,1,1,1,1,1,1,1,1,1,1,1,1,1,1,1,1,1,1,1,1,1,1,1,1,1,1,1,1,1,1,1,1,1,1,1,1,1,1,1,1,1,1,1,1,1,1,1,1,1,1,1,1,1,1,1,1,1,1,1,1,1,1,1,1,1,1,1,1,1,1,1,1,1,1,1,1,1,1,1,1,1,1,1,1,1,1,1,1,1,1,1,1,1,1,1,1,1,1,1,1,1,1,1,1,1,1,1,1,1,1,1,1,1,1,1,1,1,1,1,1,1,1,1,1,1,1,1,1,1,1,1,1,1,1,1,1,1,1,1,1,1,1,1,1,1,1,1,1,1,1,1,1,1,1,1,1,1,1,1,1,1,1,1,1,1,1,1,1,1,1,1,1,1,1,1,1,1,1,1,1,1,1,1,1,1,1,1,1,1,1,1,1,1,1,1,1,1,1,1,1,1,1,1,1,1,1,1,1,1,1,1,1,1,1,1,1,1,1,1,1,1,1,1,1,1,1,1,1,1,1,1,1,1,1,1,1,1,1,1,1,1,1,1,1,1,1,1,1,1,1,1,1,1,1,1,1,1,1,1,1,1,1,1,1,1,1,1,1,1,1,1,1,1,1,1,1,1,1,1,1,1,1,1,1,1,1,1,1,1,1,1,1,1,1,1,1,1,1,1,1,1,1,1,1,1,1,1,1,1,1,1,1,1,1,1,1,1,1,1,1,1,1,1,1,1,1,1,1,1,1,1,1,1,1,1,1,1,1,1,1,1,1,1,1,1,1,1,1,1,1,1,1,1,1,1,1,1,1,1,1,1,1,1,1,1,1,1,1,1,1,1,1,1,1,1,1,1,1,1,1,1,1,1,1,1,1,1,1,1,1,1,1,1,1,1,1,1,1,1,1,1,1,1,1,1,1,1,1,1,1,1,1,1,1,1,1,1,1,1,1,1,1,1,1,1,1,1,1,1,1,1,1,1,1,1,1,1,1,1,1,1,1,1,1,1,1,1,1,1,1,1,1,1,1,1,1,1,1,1,1,1,1,1,1,1,1,1,1,1,1,1,1,1,1,1,1,1,1,1,1,1,1,1,1,1,1,1,1,1,1,1,1,1,1,1,1,1,1,1,1,1,1,1,1,1,1,1,1,1,1,1,1,1,1,1,1,1,1,1,1,1,1,1,1,1,1,1,1,1,1,1,1,1,1,1,1,1,1,1,1,1,1,1,1,1,1,1,1,1,1,1,1,1,1,1,1,1,1,1,1,1,1,1,1,1,1,1,1,1,1,1,1,1,1,1,1,1,1,1,1,1,1,1,1,1,1,1,1,1,1,1,1,1,1,1,1,1,1,1,1,1,1,1,1,1,1,1,1,1,1,1,1,1,1,1,1,1,1,1,1,1,1,1,1,1,1,1,1,1,1,1,1,1,1,1,1,1,1,1,1,1,1,1,1,1,1,1,1,1,1,1,1,1,1,1,1,1,1,1,1,1,1,1,1,1,1,1,1,1,1,1,1,1,1,1,1,1,1,1,1,1,1,1,1,1,1,1,1,1,1,1,1,1,1,1,1,1,1,1,1,1,1,1,1,1,1,1,1,1,1,1,1,1,1,1,1,1,1,1,1,1,1,1,1,1,1,1,1,1,1,1,1,1,1,1,1,1,1,1,1,1,1,1,1,1,1,1,1,1,1,1,1,1,1,1,1,1,1,1,1,1,1,1,1,1,1,1,1,1,1,1,1,1,1,1,1,1,1,1,1,1,1,1,1,1,1,1,1,1,1,1,1,1,1,1,1,1,1,1,1,1,1,1,1,1,1,1,1,1,1,1,1,1,1,1,1,1,1,1,1,1,1,1,1,1,1,1,1,1,1,1,1,1,1,1,1,1,1,1,1,1,1,1,1,1,1,1,1,1,1,1,1,1,1,1,1,1,1,1,1,1,1,1,1,1,1,1,1,1,1,1,1,1,1,1,1,1,1,1,1,1,1,1,1,1,1,1,1,1,1,1,1,1,1,1,1,1,1,1,1,1,1,1,1,1,1,1,1,1,1,1,1,1,1,1,1,1,1,1,1,1,1,1,1,1,1,1,1,1,1,1,1,1,1,1,1,1,1,1,1,1,1,1,1,1,1,1,1,1,1,1,1,1,1,1,1,1,1,1,1,1,1,1,1,1,1,1,1,1,1,1,1,1,1,1,1,1,1,1,1,1,1,1,1,1,1,1,1,1,1,1,1,1,1,1,1,1,1,1,1,1,1,1,1,1,1,1,1,1,1,1,1,1,1,1,1,1,1,1,1,1,1,1,1,1,1,1,1,1,1,1,1,1,1,1,1,1,1,1,1,1,1,1,1,1,1,1,1,1,1,1,1,1,1,1,1,1,1,1,1,1,1,1,1,1,1,1,1,1,1,1,1,1,1,1,1,1,1,1,1,1,1,1,1,1,1,1,1,1,1,1,1,1,1,1,1,1,1,1,1,1,1,1,1,1,1,1,1,1,1,1,1,1,1,1,1,1,1,1,1,1,1,1,1,1,1,1,1,1,1,1,1,1,1,1,1,1,1,1,1,1,1,1,1,1,1,1,1,1,1,1,1,1,1,1,1,1,1,1,1,1,1,1,1,1,1,1,1,1,1,1,1,1,1,1,1,1,1,1,1,1,1,1,1,1,1,1,1,1,1,1,1,1,1,1,1,1,1,1,1,1,1,1,1,1,1,1,1,1,1,1,1,1,1,1,1,1,1,1,1,1,1,1,1,1,1,1,1,1,1,1,1,1,1,1,1,1,1,1,1,1,1,1,1,1,1,1,1,1,1,1,1,1,1,1,1,1,1,1,1,1,1,1,1,1,1,1,1,1,1,1,1,1,1,1,1,1,1,1,1,1,1,1,1,1,1,1,1,1,1,1,1,1,1,1,1,1,1,1,1,1,1,1,1,1,1,1,1,1,1,1,1,1,1,1,1,1,1,1,1,1,1,1,1,1,1,1,1,1,1,1,1,1,1,1,1,1,1,1,1,1,1,1,1,1,1,1,1,1,1,1,1,1,1,1,1,1,1,1,1,1,1,1,1,1,1,1,1,1,1,1,1,1,1,1,1,1,1,1,1,1,1,1,1,1,1,1,1,1,1,1,1,1,1,1,1,1,1,1,1,1,1,1,1,1,1,1,1,1,1,1,1,1,1,1,1,1,1,1,1,1,1,1,1,1,1,1,1,1,1,1,1,1,1,1,1,1,1,1,1,1,1,1,1,1,1,1,1,1,1,1,1,1,1,1,1,1,1,1,1,1,1,1,1,1,1,1,1,1,1,1,1,1,1,1,1,1,1,1,1,1,1,1,1,1,1,1,1,1,1,1,1,1,1,1,1,1,1,1,1,1,1,1,1,1,1,1,1,1,1,1,1,1,1,1,1,1,1,1,1,1,1,1,1,1,1,1,1,1,1,1,1,1,1,1,1,1,1,1,1,1,1,1,1,1,1,1,1,1,1,1,1,1,1,1,1,1,1,1,1,1,1,1,1,1,1,1,1,1,1,1,1,1,1,1,1,1,1,1,1,1,1,1,1,1,1,1,1,1,1,1,1,1,1,1,1,1,1,1,1,1,1,1,1,1,1,1,1,1,1,1,1,1,1,1,1,1,1,1,1,1,1,1,1,1,1,1,1,1,1,1,1,1,1,1,1,1,1,1,1,1,1,1,1,1,1,1,1,1,1,1,1,1,1,1,1,1,1,1,1,1,1,1,1,1,1,1,1,1,1,1,1,1,1,1,1,1,1,1,1,1,1,1,1,1,1,1,1,1,1,1,1,1,1,1,1,1,1,1,1,1,1,1,1,1,1,1,1,1,1,1,1,1,1,1,1,1,1,1,1,1,1,1,1,1,1,1,1,1,1,1,1,1,1,1,1,1,1,1,1,1,1,1,1,1,1,1,1,1,1,1,1,1,1,1,1,1,1,1,1,1,1,1,1,1,1,1,1,1,1,1,1,1,1,1,1,1,1,1,1,1,1,1,1,1,1,1,1,1,1,1,1,1,1,1,1,1,1,1,1,1,1,1,1,1,1,1,1,1,1,1,1,1,1,1,1,1,1,1,1,1,1,1,1,1,1,1,1,1,1,1,1,1,1,1,1,1,1,1,1,1,1,1,1,1,1,1,1,1,1,1,1,1,1,1,1,1,1,1,1,1,1,1,1,1,1,1,1,1,1,1,1,1,1,1,1,1,1,1,1,1,1,1,1,1,1,1,1,1,1,1,1,1,1,1,1,1,1,1,1,1,1,1,1,1,1,1,1,1,1,1,1,1,1,1,1,1,1,1,1,1,1,1,1,1,1,1,1,1,1,1,1,1,1,1,1,1,1,1,1,1,1,1,1,1,1,1,1,1,1,1,1,1,1,1,1,1,1,1,1,1,1,1,1,1,1,1,1,1,1,1,1,1,1,1,1,1,1,1,1,1,1,1,1,1,1,1,1,1,1,1,1,1,1,1,1,1,1,1,1,1,1,1,1,1,1,1,1,1,1,1,1,1,1,1,1,1,1,1,1,1,1,1,1,1,1,1,1,1,1,1,1,1,1,1,1,1,1,1,1,1,1,1,1,1,1,1,1,1,1,1,1,1,1,1,1,1,1,1,1,1,1,1,1,1,1,1,1,1,1,1,1,1,1,1,1,1,1,1,1,1,1,1,1,1,1,1,1,1,1,1,1,1,1,1,1,1,1,1,1,1,1,1,1,1,1,1,1,1,1,1,1,1,1,1,1,1,1,1,1,1,1,1,1,1,1,1,1,1,1,1,1,1,1,1,1,1,1,1,1,1,1,1,1,1,1,1,1,1,1,1,1,1,1,1,1,1,1,1,1,1,1,1,1,1,1,1,1,1,1,1,1,1,1,1,1,1,1,1,1,1,1,1,1,1,1,1,1,1,1,1,1,1,1,1,1,1,1,1,1,1,1,1,1,1,1,1,1,1,1,1,1,1,1,1,1,1,1,1,1,1,1,1,1,1,1,1,1,1,1,1,1,1,1,1,1,1,1,1,1,1,1,1,1,1,1,1,1,1,1,1,1,1,1,1,1,1,1,1,1,1,1,1,1,1,1,1,1,1,1,1,1,1,1,1,1,1,1,1,1,1,1,1,1,1,1,1,1,1,1,1,1,1,1,1,1,1,1,1,1,1,1,1,1,1,1,1,1,1,1,1,1,1,1,1,1,1,1,1,1,1,1,1,1,1,1,1,1,1,1,1,1,1,1,1,1,1,1,1,1,1,1,1,1,1,1,1,1,1,1,1,1,1,1,1,1,1,1,1,1,1,1,1,1,1,1,1,1,1,1,1,1,1,1,1,1,1,1,1,1,1,1,1,1,1,1,1,1,1,1,1,1,1,1,1,1,1,1,1,1,1,1,1,1,1,1,1,1,1,1,1,1,1,1,1,1],\"yaxis\":\"y\",\"type\":\"bar\"}],                        {\"template\":{\"data\":{\"bar\":[{\"error_x\":{\"color\":\"#2a3f5f\"},\"error_y\":{\"color\":\"#2a3f5f\"},\"marker\":{\"line\":{\"color\":\"#E5ECF6\",\"width\":0.5},\"pattern\":{\"fillmode\":\"overlay\",\"size\":10,\"solidity\":0.2}},\"type\":\"bar\"}],\"barpolar\":[{\"marker\":{\"line\":{\"color\":\"#E5ECF6\",\"width\":0.5},\"pattern\":{\"fillmode\":\"overlay\",\"size\":10,\"solidity\":0.2}},\"type\":\"barpolar\"}],\"carpet\":[{\"aaxis\":{\"endlinecolor\":\"#2a3f5f\",\"gridcolor\":\"white\",\"linecolor\":\"white\",\"minorgridcolor\":\"white\",\"startlinecolor\":\"#2a3f5f\"},\"baxis\":{\"endlinecolor\":\"#2a3f5f\",\"gridcolor\":\"white\",\"linecolor\":\"white\",\"minorgridcolor\":\"white\",\"startlinecolor\":\"#2a3f5f\"},\"type\":\"carpet\"}],\"choropleth\":[{\"colorbar\":{\"outlinewidth\":0,\"ticks\":\"\"},\"type\":\"choropleth\"}],\"contour\":[{\"colorbar\":{\"outlinewidth\":0,\"ticks\":\"\"},\"colorscale\":[[0.0,\"#0d0887\"],[0.1111111111111111,\"#46039f\"],[0.2222222222222222,\"#7201a8\"],[0.3333333333333333,\"#9c179e\"],[0.4444444444444444,\"#bd3786\"],[0.5555555555555556,\"#d8576b\"],[0.6666666666666666,\"#ed7953\"],[0.7777777777777778,\"#fb9f3a\"],[0.8888888888888888,\"#fdca26\"],[1.0,\"#f0f921\"]],\"type\":\"contour\"}],\"contourcarpet\":[{\"colorbar\":{\"outlinewidth\":0,\"ticks\":\"\"},\"type\":\"contourcarpet\"}],\"heatmap\":[{\"colorbar\":{\"outlinewidth\":0,\"ticks\":\"\"},\"colorscale\":[[0.0,\"#0d0887\"],[0.1111111111111111,\"#46039f\"],[0.2222222222222222,\"#7201a8\"],[0.3333333333333333,\"#9c179e\"],[0.4444444444444444,\"#bd3786\"],[0.5555555555555556,\"#d8576b\"],[0.6666666666666666,\"#ed7953\"],[0.7777777777777778,\"#fb9f3a\"],[0.8888888888888888,\"#fdca26\"],[1.0,\"#f0f921\"]],\"type\":\"heatmap\"}],\"heatmapgl\":[{\"colorbar\":{\"outlinewidth\":0,\"ticks\":\"\"},\"colorscale\":[[0.0,\"#0d0887\"],[0.1111111111111111,\"#46039f\"],[0.2222222222222222,\"#7201a8\"],[0.3333333333333333,\"#9c179e\"],[0.4444444444444444,\"#bd3786\"],[0.5555555555555556,\"#d8576b\"],[0.6666666666666666,\"#ed7953\"],[0.7777777777777778,\"#fb9f3a\"],[0.8888888888888888,\"#fdca26\"],[1.0,\"#f0f921\"]],\"type\":\"heatmapgl\"}],\"histogram\":[{\"marker\":{\"pattern\":{\"fillmode\":\"overlay\",\"size\":10,\"solidity\":0.2}},\"type\":\"histogram\"}],\"histogram2d\":[{\"colorbar\":{\"outlinewidth\":0,\"ticks\":\"\"},\"colorscale\":[[0.0,\"#0d0887\"],[0.1111111111111111,\"#46039f\"],[0.2222222222222222,\"#7201a8\"],[0.3333333333333333,\"#9c179e\"],[0.4444444444444444,\"#bd3786\"],[0.5555555555555556,\"#d8576b\"],[0.6666666666666666,\"#ed7953\"],[0.7777777777777778,\"#fb9f3a\"],[0.8888888888888888,\"#fdca26\"],[1.0,\"#f0f921\"]],\"type\":\"histogram2d\"}],\"histogram2dcontour\":[{\"colorbar\":{\"outlinewidth\":0,\"ticks\":\"\"},\"colorscale\":[[0.0,\"#0d0887\"],[0.1111111111111111,\"#46039f\"],[0.2222222222222222,\"#7201a8\"],[0.3333333333333333,\"#9c179e\"],[0.4444444444444444,\"#bd3786\"],[0.5555555555555556,\"#d8576b\"],[0.6666666666666666,\"#ed7953\"],[0.7777777777777778,\"#fb9f3a\"],[0.8888888888888888,\"#fdca26\"],[1.0,\"#f0f921\"]],\"type\":\"histogram2dcontour\"}],\"mesh3d\":[{\"colorbar\":{\"outlinewidth\":0,\"ticks\":\"\"},\"type\":\"mesh3d\"}],\"parcoords\":[{\"line\":{\"colorbar\":{\"outlinewidth\":0,\"ticks\":\"\"}},\"type\":\"parcoords\"}],\"pie\":[{\"automargin\":true,\"type\":\"pie\"}],\"scatter\":[{\"marker\":{\"colorbar\":{\"outlinewidth\":0,\"ticks\":\"\"}},\"type\":\"scatter\"}],\"scatter3d\":[{\"line\":{\"colorbar\":{\"outlinewidth\":0,\"ticks\":\"\"}},\"marker\":{\"colorbar\":{\"outlinewidth\":0,\"ticks\":\"\"}},\"type\":\"scatter3d\"}],\"scattercarpet\":[{\"marker\":{\"colorbar\":{\"outlinewidth\":0,\"ticks\":\"\"}},\"type\":\"scattercarpet\"}],\"scattergeo\":[{\"marker\":{\"colorbar\":{\"outlinewidth\":0,\"ticks\":\"\"}},\"type\":\"scattergeo\"}],\"scattergl\":[{\"marker\":{\"colorbar\":{\"outlinewidth\":0,\"ticks\":\"\"}},\"type\":\"scattergl\"}],\"scattermapbox\":[{\"marker\":{\"colorbar\":{\"outlinewidth\":0,\"ticks\":\"\"}},\"type\":\"scattermapbox\"}],\"scatterpolar\":[{\"marker\":{\"colorbar\":{\"outlinewidth\":0,\"ticks\":\"\"}},\"type\":\"scatterpolar\"}],\"scatterpolargl\":[{\"marker\":{\"colorbar\":{\"outlinewidth\":0,\"ticks\":\"\"}},\"type\":\"scatterpolargl\"}],\"scatterternary\":[{\"marker\":{\"colorbar\":{\"outlinewidth\":0,\"ticks\":\"\"}},\"type\":\"scatterternary\"}],\"surface\":[{\"colorbar\":{\"outlinewidth\":0,\"ticks\":\"\"},\"colorscale\":[[0.0,\"#0d0887\"],[0.1111111111111111,\"#46039f\"],[0.2222222222222222,\"#7201a8\"],[0.3333333333333333,\"#9c179e\"],[0.4444444444444444,\"#bd3786\"],[0.5555555555555556,\"#d8576b\"],[0.6666666666666666,\"#ed7953\"],[0.7777777777777778,\"#fb9f3a\"],[0.8888888888888888,\"#fdca26\"],[1.0,\"#f0f921\"]],\"type\":\"surface\"}],\"table\":[{\"cells\":{\"fill\":{\"color\":\"#EBF0F8\"},\"line\":{\"color\":\"white\"}},\"header\":{\"fill\":{\"color\":\"#C8D4E3\"},\"line\":{\"color\":\"white\"}},\"type\":\"table\"}]},\"layout\":{\"annotationdefaults\":{\"arrowcolor\":\"#2a3f5f\",\"arrowhead\":0,\"arrowwidth\":1},\"autotypenumbers\":\"strict\",\"coloraxis\":{\"colorbar\":{\"outlinewidth\":0,\"ticks\":\"\"}},\"colorscale\":{\"diverging\":[[0,\"#8e0152\"],[0.1,\"#c51b7d\"],[0.2,\"#de77ae\"],[0.3,\"#f1b6da\"],[0.4,\"#fde0ef\"],[0.5,\"#f7f7f7\"],[0.6,\"#e6f5d0\"],[0.7,\"#b8e186\"],[0.8,\"#7fbc41\"],[0.9,\"#4d9221\"],[1,\"#276419\"]],\"sequential\":[[0.0,\"#0d0887\"],[0.1111111111111111,\"#46039f\"],[0.2222222222222222,\"#7201a8\"],[0.3333333333333333,\"#9c179e\"],[0.4444444444444444,\"#bd3786\"],[0.5555555555555556,\"#d8576b\"],[0.6666666666666666,\"#ed7953\"],[0.7777777777777778,\"#fb9f3a\"],[0.8888888888888888,\"#fdca26\"],[1.0,\"#f0f921\"]],\"sequentialminus\":[[0.0,\"#0d0887\"],[0.1111111111111111,\"#46039f\"],[0.2222222222222222,\"#7201a8\"],[0.3333333333333333,\"#9c179e\"],[0.4444444444444444,\"#bd3786\"],[0.5555555555555556,\"#d8576b\"],[0.6666666666666666,\"#ed7953\"],[0.7777777777777778,\"#fb9f3a\"],[0.8888888888888888,\"#fdca26\"],[1.0,\"#f0f921\"]]},\"colorway\":[\"#636efa\",\"#EF553B\",\"#00cc96\",\"#ab63fa\",\"#FFA15A\",\"#19d3f3\",\"#FF6692\",\"#B6E880\",\"#FF97FF\",\"#FECB52\"],\"font\":{\"color\":\"#2a3f5f\"},\"geo\":{\"bgcolor\":\"white\",\"lakecolor\":\"white\",\"landcolor\":\"#E5ECF6\",\"showlakes\":true,\"showland\":true,\"subunitcolor\":\"white\"},\"hoverlabel\":{\"align\":\"left\"},\"hovermode\":\"closest\",\"mapbox\":{\"style\":\"light\"},\"paper_bgcolor\":\"white\",\"plot_bgcolor\":\"#E5ECF6\",\"polar\":{\"angularaxis\":{\"gridcolor\":\"white\",\"linecolor\":\"white\",\"ticks\":\"\"},\"bgcolor\":\"#E5ECF6\",\"radialaxis\":{\"gridcolor\":\"white\",\"linecolor\":\"white\",\"ticks\":\"\"}},\"scene\":{\"xaxis\":{\"backgroundcolor\":\"#E5ECF6\",\"gridcolor\":\"white\",\"gridwidth\":2,\"linecolor\":\"white\",\"showbackground\":true,\"ticks\":\"\",\"zerolinecolor\":\"white\"},\"yaxis\":{\"backgroundcolor\":\"#E5ECF6\",\"gridcolor\":\"white\",\"gridwidth\":2,\"linecolor\":\"white\",\"showbackground\":true,\"ticks\":\"\",\"zerolinecolor\":\"white\"},\"zaxis\":{\"backgroundcolor\":\"#E5ECF6\",\"gridcolor\":\"white\",\"gridwidth\":2,\"linecolor\":\"white\",\"showbackground\":true,\"ticks\":\"\",\"zerolinecolor\":\"white\"}},\"shapedefaults\":{\"line\":{\"color\":\"#2a3f5f\"}},\"ternary\":{\"aaxis\":{\"gridcolor\":\"white\",\"linecolor\":\"white\",\"ticks\":\"\"},\"baxis\":{\"gridcolor\":\"white\",\"linecolor\":\"white\",\"ticks\":\"\"},\"bgcolor\":\"#E5ECF6\",\"caxis\":{\"gridcolor\":\"white\",\"linecolor\":\"white\",\"ticks\":\"\"}},\"title\":{\"x\":0.05},\"xaxis\":{\"automargin\":true,\"gridcolor\":\"white\",\"linecolor\":\"white\",\"ticks\":\"\",\"title\":{\"standoff\":15},\"zerolinecolor\":\"white\",\"zerolinewidth\":2},\"yaxis\":{\"automargin\":true,\"gridcolor\":\"white\",\"linecolor\":\"white\",\"ticks\":\"\",\"title\":{\"standoff\":15},\"zerolinecolor\":\"white\",\"zerolinewidth\":2}}},\"xaxis\":{\"anchor\":\"y\",\"domain\":[0.0,1.0],\"title\":{\"text\":\"bowler\"}},\"yaxis\":{\"anchor\":\"x\",\"domain\":[0.0,1.0],\"title\":{\"text\":\"count\"}},\"legend\":{\"tracegroupgap\":0},\"title\":{\"text\":\"most number of wicket taking bowler\"},\"barmode\":\"relative\"},                        {\"responsive\": true}                    ).then(function(){\n",
              "                            \n",
              "var gd = document.getElementById('682b513f-b572-4cf5-be91-12cf0f6dd27a');\n",
              "var x = new MutationObserver(function (mutations, observer) {{\n",
              "        var display = window.getComputedStyle(gd).display;\n",
              "        if (!display || display === 'none') {{\n",
              "            console.log([gd, 'removed!']);\n",
              "            Plotly.purge(gd);\n",
              "            observer.disconnect();\n",
              "        }}\n",
              "}});\n",
              "\n",
              "// Listen for the removal of the full notebook cells\n",
              "var notebookContainer = gd.closest('#notebook-container');\n",
              "if (notebookContainer) {{\n",
              "    x.observe(notebookContainer, {childList: true});\n",
              "}}\n",
              "\n",
              "// Listen for the clearing of the current output cell\n",
              "var outputEl = gd.closest('.output');\n",
              "if (outputEl) {{\n",
              "    x.observe(outputEl, {childList: true});\n",
              "}}\n",
              "\n",
              "                        })                };                            </script>        </div>\n",
              "</body>\n",
              "</html>"
            ]
          },
          "metadata": {}
        }
      ]
    },
    {
      "cell_type": "code",
      "source": [
        "##  ANATHER APPROACH TO THIS\n",
        "## here we take all the methods D\\L and NA both method.\n",
        "## becasue i don't know which one is right.\n",
        "new_df.select(['bowler', 'fielder', 'dismissal_kind']).filter(new_df['is_wicket']==1).groupBy(\n",
        "    ['bowler', 'fielder', 'dismissal_kind']).count().sort('count', ascending=False).head(5)"
      ],
      "metadata": {
        "colab": {
          "base_uri": "https://localhost:8080/"
        },
        "id": "VEK5ffXLtYSg",
        "outputId": "c980f4eb-1fff-456c-ea38-7461f66d3e56"
      },
      "execution_count": null,
      "outputs": [
        {
          "output_type": "execute_result",
          "data": {
            "text/plain": [
              "[Row(bowler='SL Malinga', fielder='NA', dismissal_kind='bowled', count=63),\n",
              " Row(bowler='PP Chawla', fielder='NA', dismissal_kind='bowled', count=43),\n",
              " Row(bowler='SP Narine', fielder='NA', dismissal_kind='bowled', count=36),\n",
              " Row(bowler='B Kumar', fielder='NA', dismissal_kind='bowled', count=36),\n",
              " Row(bowler='RA Jadeja', fielder='NA', dismissal_kind='bowled', count=29)]"
            ]
          },
          "metadata": {},
          "execution_count": 101
        }
      ]
    },
    {
      "cell_type": "markdown",
      "source": [
        "### observations:\n",
        "1. Highest number of wicket taker is **SL Malinga**. wicket type is **bowled**. wicket count is **63**. IT BASED ON SECOND RESULT\n",
        "2. Highest number of wicket taker is **M Ntini**. wicket type is **bowled**. wicket count is **3**.  IT BASED ON FIRST RESULT"
      ],
      "metadata": {
        "id": "yqbjXbiPr-qQ"
      }
    },
    {
      "cell_type": "markdown",
      "source": [
        "## Question 4 \n",
        "Write a query to return a report for highest strike rate by a batsman in non powerplay\n",
        "overs(7-20 overs)\n",
        "Note: strike rate = (Total Runs scored/Total balls faced by player) *100, Make sure that balls\n",
        "faced by players should be legal delivery (not wide balls or no balls)."
      ],
      "metadata": {
        "id": "q6149xLkv9S-"
      }
    },
    {
      "cell_type": "code",
      "source": [
        "# creating a dataframe by filtering normal delivery balls and non powerplays \n",
        "normal_ball_df = df_ipl_ball.filter((df_ipl_ball['extras_type'] == 'NA') & (df_ipl_ball['overs']>7))"
      ],
      "metadata": {
        "id": "QM1XpF5S2aq0"
      },
      "execution_count": null,
      "outputs": []
    },
    {
      "cell_type": "code",
      "source": [
        "# using groupby sum on batsman and creating a new Dataframe\n",
        "sum_ipl_df = normal_ball_df.groupBy('batsman').sum()"
      ],
      "metadata": {
        "id": "Bl073UZ305VO"
      },
      "execution_count": null,
      "outputs": []
    },
    {
      "cell_type": "code",
      "source": [
        "# printing the summed DataFrame\n",
        "sum_ipl_df.show()"
      ],
      "metadata": {
        "colab": {
          "base_uri": "https://localhost:8080/"
        },
        "id": "dW0X40yx3x73",
        "outputId": "6ffb9b97-7bac-4436-b5bc-8f37909b14fa"
      },
      "execution_count": null,
      "outputs": [
        {
          "output_type": "stream",
          "name": "stdout",
          "text": [
            "+--------------+-------------+-----------+----------+---------+-----------------+---------------+---------------+-----------------+--------------+\n",
            "|       batsman|sum(match_id)|sum(inning)|sum(overs)|sum(ball)|sum(batsman_runs)|sum(extra_runs)|sum(total_runs)|sum(non_boundary)|sum(is_wicket)|\n",
            "+--------------+-------------+-----------+----------+---------+-----------------+---------------+---------------+-----------------+--------------+\n",
            "| Kuldeep Yadav|     84918193|        114|      1229|      272|               57|              0|             57|                0|             4|\n",
            "|    TM Dilshan|    192904214|        638|      5270|     1598|              540|              0|            540|                0|            17|\n",
            "|    S Anirudha|     37642895|         89|      1147|      301|              100|              0|            100|                0|             5|\n",
            "|    KA Pollard|   1524760433|       2583|     26799|     6914|             2904|              0|           2904|                0|           101|\n",
            "|       J Botha|    139273086|        418|      3640|      925|              328|              0|            328|                0|            20|\n",
            "|M Muralitharan|     12926248|         40|       503|      112|               20|              0|             20|                0|             6|\n",
            "| LA Carseldine|      8628650|         29|       307|       75|               31|              0|             31|                0|             2|\n",
            "|   SS Cottrell|      2433084|          4|        31|        8|                0|              0|              0|                0|             1|\n",
            "|     CA Ingram|    161722326|        241|      1773|      498|              172|              0|            172|                0|             9|\n",
            "|      DR Smith|    370944144|        785|      6303|     1908|              847|              0|            847|                0|            46|\n",
            "|Jaskaran Singh|      4610311|         19|       193|       47|                8|              0|              8|                0|             2|\n",
            "|      M Manhas|    178389313|        573|      5211|     1341|              433|              0|            433|                0|            18|\n",
            "|    A Flintoff|     14118704|         59|       491|      126|               46|              0|             46|                0|             2|\n",
            "|     GR Napier|      6275248|         16|       211|       66|               15|              0|             15|                0|             1|\n",
            "|      AR Patel|    650628999|        939|      9215|     2313|              840|              0|            840|                0|            49|\n",
            "|      SA Yadav|    908440645|       1253|     10654|     3016|             1171|              0|           1171|                0|            52|\n",
            "|         B Lee|     43008894|        141|      1579|      357|              124|              0|            124|                0|            10|\n",
            "|   BMAJ Mendis|     10166542|         25|       186|       51|               18|              0|             18|                0|             3|\n",
            "|      A Mukund|       336033|          2|        19|        7|                0|              0|              0|                0|             1|\n",
            "|    D du Preez|      5098769|         13|       203|       47|               10|              0|             10|                0|             1|\n",
            "+--------------+-------------+-----------+----------+---------+-----------------+---------------+---------------+-----------------+--------------+\n",
            "only showing top 20 rows\n",
            "\n"
          ]
        }
      ]
    },
    {
      "cell_type": "code",
      "source": [
        "# selecting the each batsman and finding the strike rate the and creating a dataframe accordingly\n",
        "ans4_df = sum_ipl_df.withColumn('STRIKE_RATE', (sum_ipl_df['sum(total_runs)']/sum_ipl_df['sum(ball)'])*100).select(['batsman', 'STRIKE_RATE'])\n",
        "\n",
        "# visualizing the results\n",
        "ans4_df.sort('STRIKE_RATE', ascending=False).show(3)"
      ],
      "metadata": {
        "colab": {
          "base_uri": "https://localhost:8080/"
        },
        "id": "tGqlnoJG37Wh",
        "outputId": "49842e88-2cdb-45b1-90ec-a69d88f5096f"
      },
      "execution_count": null,
      "outputs": [
        {
          "output_type": "stream",
          "name": "stdout",
          "text": [
            "+------------+------------------+\n",
            "|     batsman|       STRIKE_RATE|\n",
            "+------------+------------------+\n",
            "|   DJ Jacobs|133.33333333333331|\n",
            "|Vishnu Vinod|              75.0|\n",
            "|  ER Dwivedi| 70.37037037037037|\n",
            "+------------+------------------+\n",
            "only showing top 3 rows\n",
            "\n"
          ]
        }
      ]
    },
    {
      "cell_type": "code",
      "source": [
        "# plotting the strike rate of batsman using plotly\n",
        "fig = px.bar(ans4_df.sort('STRIKE_RATE', ascending=False).toPandas(), x='batsman', y='STRIKE_RATE', title='Strike Rates of a batsman')\n",
        "fig.show()"
      ],
      "metadata": {
        "colab": {
          "base_uri": "https://localhost:8080/"
        },
        "id": "H5-VyYG-aF8f",
        "outputId": "7a47cfa2-0307-4389-dcac-b8c46e7a47d6"
      },
      "execution_count": null,
      "outputs": [
        {
          "output_type": "display_data",
          "data": {
            "text/html": [
              "<html>\n",
              "<head><meta charset=\"utf-8\" /></head>\n",
              "<body>\n",
              "    <div>            <script src=\"https://cdnjs.cloudflare.com/ajax/libs/mathjax/2.7.5/MathJax.js?config=TeX-AMS-MML_SVG\"></script><script type=\"text/javascript\">if (window.MathJax) {MathJax.Hub.Config({SVG: {font: \"STIX-Web\"}});}</script>                <script type=\"text/javascript\">window.PlotlyConfig = {MathJaxConfig: 'local'};</script>\n",
              "        <script src=\"https://cdn.plot.ly/plotly-2.8.3.min.js\"></script>                <div id=\"e1579bc1-3423-4d91-8ebf-a74c761908d4\" class=\"plotly-graph-div\" style=\"height:525px; width:100%;\"></div>            <script type=\"text/javascript\">                                    window.PLOTLYENV=window.PLOTLYENV || {};                                    if (document.getElementById(\"e1579bc1-3423-4d91-8ebf-a74c761908d4\")) {                    Plotly.newPlot(                        \"e1579bc1-3423-4d91-8ebf-a74c761908d4\",                        [{\"alignmentgroup\":\"True\",\"hovertemplate\":\"batsman=%{x}<br>STRIKE_RATE=%{y}<extra></extra>\",\"legendgroup\":\"\",\"marker\":{\"color\":\"#636efa\",\"pattern\":{\"shape\":\"\"}},\"name\":\"\",\"offsetgroup\":\"\",\"orientation\":\"v\",\"showlegend\":false,\"textposition\":\"auto\",\"x\":[\"DJ Jacobs\",\"Vishnu Vinod\",\"ER Dwivedi\",\"KMDN Kulasekara\",\"Umar Gul\",\"Kamran Akmal\",\"I Malhotra\",\"LPC Silva\",\"DJM Short\",\"MM Ali\",\"JJ Roy\",\"TU Deshpande\",\"W Jaffer\",\"V Sehwag\",\"VRV Singh\",\"CH Gayle\",\"KK Cooper\",\"DJ Thornely\",\"LJ Wright\",\"MJ Lumb\",\"Abdul Samad\",\"GJ Maxwell\",\"AD Russell\",\"PP Shaw\",\"AB de Villiers\",\"AC Gilchrist\",\"BCJ Cutting\",\"K Gowtham\",\"HM Amla\",\"PC Valthaty\",\"SR Watson\",\"AP Tare\",\"JM Bairstow\",\"HH Pandya\",\"N Rana\",\"RR Pant\",\"Salman Butt\",\"SO Hetmyer\",\"M Vohra\",\"MJ Guptill\",\"DA Warner\",\"ST Jayasuriya\",\"SM Curran\",\"N Pooran\",\"SE Marsh\",\"DAJ Bracewell\",\"K Upadhyay\",\"DR Smith\",\"Ishan Kishan\",\"P Sahu\",\"JR Hopes\",\"MA Agarwal\",\"LH Ferguson\",\"DNT Zoysa\",\"YV Takawale\",\"CR Brathwaite\",\"RD Gaikwad\",\"MEK Hussey\",\"M Vijay\",\"ML Hayden\",\"SV Samson\",\"Bipul Sharma\",\"KS Williamson\",\"YBK Jaiswal\",\"V Kohli\",\"Q de Kock\",\"SK Raina\",\"DL Chahar\",\"Harpreet Brar\",\"Mohammad Nabi\",\"KL Rahul\",\"BJ Rohrer\",\"CH Morris\",\"KA Pollard\",\"JC Buttler\",\"Harmeet Singh\",\"SP Fleming\",\"B Stanlake\",\"SS Iyer\",\"TM Head\",\"LA Carseldine\",\"BB McCullum\",\"MF Maharoof\",\"E Lewis\",\"Niraj Patel\",\"DA Miller\",\"RN ten Doeschate\",\"RG Sharma\",\"JD Ryder\",\"AJ Finch\",\"A Ashish Reddy\",\"JC Archer\",\"GC Smith\",\"RV Uthappa\",\"MD Mishra\",\"LMP Simmons\",\"BA Stokes\",\"YK Pathan\",\"KD Karthik\",\"AT Rayudu\",\"DM Bravo\",\"AT Carey\",\"MP Stoinis\",\"S Sohal\",\"S Narwal\",\"A Symonds\",\"KP Pietersen\",\"KH Pandya\",\"AM Rahane\",\"S Dhawan\",\"EJG Morgan\",\"GJ Bailey\",\"M Klinger\",\"TR Birt\",\"RS Bopara\",\"Misbah-ul-Haq\",\"SA Asnodkar\",\"MS Bisla\",\"KK Nair\",\"Shubman Gill\",\"F du Plessis\",\"N Saini\",\"AC Voges\",\"CL White\",\"Sunny Singh\",\"MS Dhoni\",\"SM Pollock\",\"JA Morkel\",\"SPD Smith\",\"SA Yadav\",\"SW Billings\",\"SN Khan\",\"R Tewatia\",\"SM Katich\",\"PD Collingwood\",\"JEC Franklin\",\"KC Sangakkara\",\"V Shankar\",\"Rashid Khan\",\"D Wiese\",\"I Udana\",\"Shivam Sharma\",\"Abhishek Sharma\",\"BJ Hodge\",\"G Gambhir\",\"RR Rossouw\",\"SR Tendulkar\",\"R Dravid\",\"JP Faulkner\",\"JO Holder\",\"STR Binny\",\"Yuvraj Singh\",\"JP Duminy\",\"CJ Anderson\",\"PA Patel\",\"C de Grandhomme\",\"Mandeep Singh\",\"Harbhajan Singh\",\"B Chipli\",\"N Jagadeesan\",\"S Badrinath\",\"AP Dole\",\"Ankit Sharma\",\"AS Yadav\",\"DJ Bravo\",\"WP Saha\",\"OA Shah\",\"RJ Quiney\",\"Gurkeerat Singh\",\"MN van Wyk\",\"A Mithun\",\"DJ Hooda\",\"KM Jadhav\",\"MK Pandey\",\"AD Mathews\",\"PJ Cummins\",\"Washington Sundar\",\"CA Lynn\",\"DJG Sammy\",\"M Morkel\",\"PA Reddy\",\"R Sathish\",\"F Behardien\",\"DPMD Jayawardene\",\"NLTC Perera\",\"LRPL Taylor\",\"DJ Hussey\",\"RA Jadeja\",\"Azhar Mahmood\",\"A Flintoff\",\"NV Ojha\",\"MV Boucher\",\"RS Sodhi\",\"JPR Scantlebury-Searles\",\"AR Patel\",\"MS Gony\",\"TL Suman\",\"Shakib Al Hasan\",\"SP Narine\",\"HV Patel\",\"TG Southee\",\"MC Henriques\",\"DH Yagnik\",\"SE Rutherford\",\"DB Ravi Teja\",\"D Padikkal\",\"AN Ahmed\",\"JH Kallis\",\"AD Hales\",\"Shahid Afridi\",\"LA Pomersbach\",\"IK Pathan\",\"AM Nayar\",\"J Botha\",\"P Negi\",\"B Akhil\",\"BMAJ Mendis\",\"R Parag\",\"Sachin Baby\",\"A Choudhary\",\"MK Tiwary\",\"KJ Abbott\",\"H Klaasen\",\"BB Samantray\",\"Y Venugopal Rao\",\"T Taibu\",\"HH Gibbs\",\"RA Tripathi\",\"CA Pujara\",\"B Lee\",\"VVS Laxman\",\"KV Sharma\",\"DB Das\",\"CA Ingram\",\"PR Shah\",\"SS Tiwary\",\"MK Lomror\",\"DT Christian\",\"AB McDonald\",\"MN Samuels\",\"RJ Peterson\",\"AUK Pathan\",\"AP Majumdar\",\"SC Ganguly\",\"M Kaif\",\"MA Khote\",\"TM Dilshan\",\"AS Raut\",\"LR Shukla\",\"AJ Tye\",\"UBT Chand\",\"Joginder Sharma\",\"R Bhatia\",\"P Chopra\",\"S Vidyut\",\"KAJ Roach\",\"TK Curran\",\"S Anirudha\",\"D Salunkhe\",\"DL Vettori\",\"CM Gautam\",\"DJ Harris\",\"SP Jackson\",\"AL Menaria\",\"S Dube\",\"MJ Santner\",\"M Manhas\",\"AA Bilakhia\",\"SD Chitnis\",\"Yashpal Singh\",\"AA Jhunjhunwala\",\"FY Fazal\",\"MR Marsh\",\"Y Nagar\",\"JL Pattinson\",\"KB Arun Karthik\",\"R Ashwin\",\"AB Agarkar\",\"Shoaib Malik\",\"R Rampaul\",\"PK Garg\",\"GB Hogg\",\"MJ McClenaghan\",\"R Dhawan\",\"PP Chawla\",\"S Gopal\",\"S Rana\",\"SN Thakur\",\"AA Chavan\",\"NM Coulter-Nile\",\"RE van der Merwe\",\"SB Styris\",\"P Kumar\",\"M Kartik\",\"J Suchith\",\"RR Raje\",\"SA Abbott\",\"JDP Oram\",\"NL McCullum\",\"SW Tait\",\"RR Powar\",\"Iqbal Abdulla\",\"GH Vihari\",\"R Vinay Kumar\",\"MM Sharma\",\"Anirudh Singh\",\"DW Steyn\",\"AR Bawne\",\"DS Lehmann\",\"FH Edwards\",\"AC Thomas\",\"J Syed Mohammad\",\"NA Saini\",\"JJ Bumrah\",\"MC Juneja\",\"IR Jaggi\",\"MS Wade\",\"UT Khawaja\",\"JDS Neesham\",\"RV Gomez\",\"RT Ponting\",\"RJ Harris\",\"R McLaren\",\"MG Johnson\",\"WPUJC Vaas\",\"MA Starc\",\"JR Philippe\",\"S Tyagi\",\"JD Unadkat\",\"SP Goswami\",\"Mohammad Hafeez\",\"DR Martyn\",\"RK Singh\",\"KC Cariappa\",\"TS Mills\",\"JM Kemp\",\"Avesh Khan\",\"CRD Fernando\",\"AD Mascarenhas\",\"AA Noffke\",\"SJ Srivastava\",\"AD Nath\",\"JJ van der Wath\",\"Mohammed Shami\",\"CR Woakes\",\"P Dogra\",\"S Aravind\",\"Basil Thampi\",\"P Ray Barman\",\"A Mishra\",\"UT Yadav\",\"K Rabada\",\"Parvez Rasool\",\"A Chopra\",\"SK Warne\",\"K Goel\",\"SB Bangar\",\"SB Jakati\",\"RG More\",\"MM Patel\",\"DE Bollinger\",\"B Kumar\",\"R Sharma\",\"M Rawat\",\"KW Richardson\",\"Sohail Tanvir\",\"SM Harwood\",\"DS Kulkarni\",\"WD Parnell\",\"P Dubey\",\"A Nortje\",\"B Sumanth\",\"Mohammed Siraj\",\"AS Joseph\",\"Z Khan\",\"DT Patil\",\"CJ Ferguson\",\"VS Malik\",\"SL Malinga\",\"M Markande\",\"Mohammad Asif\",\"GR Napier\",\"Rasikh Salam\",\"I Sharma\",\"Anureet Singh\",\"CJ Jordan\",\"RD Chahar\",\"SS Shaikh\",\"Imran Tahir\",\"Mujeeb Ur Rahman\",\"WA Mota\",\"MJ Clarke\",\"TA Boult\",\"RR Sarwan\",\"S Sriram\",\"AB Barath\",\"L Balaji\",\"D du Preez\",\"KL Nagarkoti\",\"R Shukla\",\"Kuldeep Yadav\",\"NS Naik\",\"Harpreet Singh\",\"Karanveer Singh\",\"KMA Paul\",\"C Munro\",\"CK Langeveldt\",\"A Kumble\",\"J Theron\",\"M de Lange\",\"P Simran Singh\",\"R Bishnoi\",\"Shivam Mavi\",\"CK Kapugedera\",\"Sandeep Sharma\",\"BA Bhatt\",\"RP Singh\",\"A Uniyal\",\"TM Srivastava\",\"Kartik Tyagi\",\"Ankit Soni\",\"SK Trivedi\",\"D Kalyankrishna\",\"JE Taylor\",\"CV Varun\",\"A Dananjaya\",\"Mashrafe Mortaza\",\"X Thalaivan Sargunam\",\"AG Murtaza\",\"DR Shorey\",\"M Muralitharan\",\"BB Sran\",\"BAW Mendis\",\"J Yadav\",\"A Chandila\",\"AS Rajpoot\",\"S Badree\",\"S Sreesanth\",\"Ravi Bishnoi\",\"Jaskaran Singh\",\"VY Mahesh\",\"SE Bond\",\"GD McGrath\",\"R Ninan\",\"VR Aaron\",\"M Ashwin\",\"NJ Rimmington\",\"DP Vijaykumar\",\"Shahbaz Ahmed\",\"SB Wagh\",\"A Nehra\",\"Swapnil Singh\",\"CJ McKay\",\"SMSM Senanayake\",\"Kamran Khan\",\"VS Yeligati\",\"T Thushara\",\"PJ Sangwan\",\"T Natarajan\",\"A Zampa\",\"AF Milne\",\"RK Bhui\",\"Pankaj Singh\",\"S Randiv\",\"PSP Handscomb\",\"GC Viljoen\",\"AB Dinda\",\"KP Appanna\",\"T Kohli\",\"M Ntini\",\"PP Ojha\",\"LS Livingstone\",\"BE Hendricks\",\"Mustafizur Rahman\",\"S Nadeem\",\"IS Sodhi\",\"YS Chahal\",\"PM Sarvesh Kumar\",\"PV Tambe\",\"SB Joshi\",\"DP Nannes\",\"S Kaul\",\"T Henderson\",\"H Das\",\"LE Plunkett\",\"B Laughlin\",\"P Awana\",\"AJ Turner\",\"P Parameswaran\",\"DJ Muthuswami\",\"MA Wood\",\"Shoaib Ahmed\",\"RS Gavaskar\",\"Shoaib Akhtar\",\"M Prasidh Krishna\",\"A Singh\",\"HF Gurney\",\"SS Cottrell\",\"A Mukund\",\"ND Doshi\",\"C Nanda\",\"Y Prithvi Raj\",\"V Pratap Singh\",\"KK Ahmed\",\"DR Sams\",\"AN Ghosh\",\"IC Pandey\",\"RE Levi\",\"S Lamichhane\",\"U Kaul\",\"L Ablish\",\"Sunny Gupta\",\"S Ladda\",\"RR Bhatkal\",\"Arshdeep Singh\",\"Abdur Razzak\",\"S Kaushik\",\"VH Zol\"],\"xaxis\":\"x\",\"y\":[133.33333333333331,75.0,70.37037037037037,62.5,60.0,59.68992248062015,58.333333333333336,54.347826086956516,53.76344086021505,53.01455301455301,52.892561983471076,52.5,51.470588235294116,51.07671601615073,50.0,49.96148908857509,49.22279792746114,49.09090909090909,48.94736842105264,48.837209302325576,48.44444444444444,48.16127603012849,47.55175813342097,47.474747474747474,47.40702612276412,47.023809523809526,46.91848906560636,46.596858638743456,45.932203389830505,45.821325648414984,45.77319587628866,45.68527918781726,45.55555555555556,45.4482036972445,45.44502617801047,45.40816326530612,45.33333333333333,45.31914893617021,45.289256198347104,45.09803921568628,44.85077763766288,44.827586206896555,44.81236203090508,44.712041884816756,44.44444444444444,44.44444444444444,44.44444444444444,44.39203354297694,44.226190476190474,44.18604651162791,44.06392694063927,44.05348346235046,44.0,44.0,43.96551724137931,43.79562043795621,43.67816091954023,43.48816029143898,43.286026200873366,43.144654088050316,43.02325581395349,42.98850574712644,42.87764621456763,42.857142857142854,42.82256112321472,42.77408637873754,42.725921923544504,42.62295081967213,42.5531914893617,42.5531914893617,42.299794661190965,42.247191011235955,42.22401289282837,42.001735608909456,41.93384223918575,41.86046511627907,41.66666666666667,41.66666666666667,41.60679294578707,41.35514018691589,41.333333333333336,41.20492524186455,41.07981220657277,41.042345276872965,41.02564102564102,40.987229862475445,40.96551724137931,40.965486126776455,40.76433121019109,40.65040650406504,40.56047197640118,40.53452115812918,40.41916167664671,40.33036377134373,40.27777777777778,40.258449304174945,40.23285899094437,40.23255813953489,40.1564364311282,40.00927930714507,40.0,40.0,39.98818665091554,39.87730061349693,39.784946236559136,39.74424552429667,39.71119133574007,39.64270523181625,39.598629466470875,39.43236714975845,39.42457231726283,39.411764705882355,39.39393939393939,39.361702127659576,39.35135135135135,39.33649289099526,39.325842696629216,39.31623931623932,39.24050632911392,39.23205342237062,39.22337014606342,39.21568627450981,39.15094339622642,39.13705583756345,39.130434782608695,39.01688357368977,39.002932551319645,38.981636060100165,38.880778588807786,38.826259946949605,38.796680497925315,38.78600823045267,38.78453038674033,38.67403314917127,38.613861386138616,38.613861386138616,38.60891295293627,38.50574712643678,38.504155124653735,38.48580441640379,38.46153846153847,38.46153846153847,38.44086021505376,38.41383812010444,38.357235984354624,38.35616438356164,38.336192109777016,38.297872340425535,38.25956489122281,38.13229571984436,38.11998110533774,38.101306148454924,38.088737201365184,38.05084745762712,38.032220943613346,37.98449612403101,37.93670365803535,37.936344969199176,37.9182156133829,37.83783783783784,37.80529755761954,37.77777777777778,37.74834437086093,37.69230769230769,37.631578947368425,37.591356847791545,37.58169934640523,37.5,37.48939779474131,37.46397694524496,37.362637362637365,37.36196319018405,37.32038834951456,37.19380756417793,37.180185084376696,37.11864406779661,37.09016393442623,37.06896551724138,36.9826435246996,36.96969696969697,36.885245901639344,36.84931506849315,36.84210526315789,36.798561151079134,36.768802228412255,36.692986530422665,36.67785234899329,36.61053775122216,36.58810325476992,36.507936507936506,36.47652308886302,36.438075742067554,36.36363636363637,36.36363636363637,36.31647211413748,36.13138686131387,35.95238095238095,35.94249201277955,35.907335907335906,35.85434173669468,35.82554517133956,35.81117742810635,35.79418344519016,35.78431372549019,35.7311320754717,35.68075117370892,35.64356435643564,35.63748079877112,35.59322033898305,35.51401869158878,35.50295857988166,35.488308115543326,35.477826358525924,35.45945945945946,35.38306451612903,35.348837209302324,35.294117647058826,35.276532137518686,35.24804177545692,35.2112676056338,35.13586225450632,35.13513513513514,35.099337748344375,35.08771929824561,35.04344228382293,34.93975903614458,34.86338797814207,34.80714957666981,34.74178403755869,34.73389355742297,34.63687150837989,34.57627118644068,34.5642540620384,34.53815261044177,34.53237410071942,34.40893577412349,34.25414364640884,34.204275534441805,34.19117647058824,34.07960199004975,34.04255319148936,33.9622641509434,33.92857142857143,33.84922616075886,33.825944170771756,33.80281690140845,33.79224030037547,33.64140480591497,33.56890459363957,33.455882352941174,33.42541436464088,33.33333333333333,33.33333333333333,33.33333333333333,33.33333333333333,33.33333333333333,33.33333333333333,33.222591362126245,33.0,32.960893854748605,32.8125,32.72727272727273,32.55813953488372,32.50460405156538,32.4,32.29166666666667,32.28933631618195,32.20338983050847,32.196969696969695,32.18390804597701,32.10633946830266,31.985294117647058,31.78519593613933,31.57894736842105,31.25,31.05590062111801,31.053459119496857,30.96646942800789,30.864197530864196,30.864197530864196,30.61797752808989,30.555555555555557,30.545454545454547,30.538922155688624,30.446476600322754,30.426356589147286,30.414746543778804,30.37974683544304,30.0,29.961089494163424,29.878048780487802,29.76878612716763,29.722470904207697,29.629629629629626,29.508196721311474,29.411764705882355,29.411764705882355,29.362880886426595,29.213483146067414,29.11392405063291,29.004329004329005,28.999999999999996,28.924418604651166,28.837209302325583,28.77358490566038,28.666666666666668,28.5958904109589,28.57142857142857,28.57142857142857,28.57142857142857,28.57142857142857,28.431372549019606,28.431372549019606,28.368794326241137,28.34890965732087,28.205128205128204,28.205128205128204,28.125,28.110599078341014,28.08988764044944,27.956989247311824,27.884615384615387,27.848101265822784,27.77777777777778,27.67527675276753,27.42857142857143,27.27272727272727,27.27272727272727,27.23404255319149,27.187499999999996,27.131782945736433,27.11864406779661,27.058823529411764,26.96629213483146,26.923076923076923,26.923076923076923,26.666666666666668,26.666666666666668,26.595744680851062,26.47058823529412,26.31578947368421,26.180257510729614,26.08695652173913,26.046511627906977,26.033057851239672,25.971370143149286,25.877192982456144,25.806451612903224,25.71428571428571,25.55886736214605,25.523012552301257,25.49019607843137,25.37313432835821,25.31645569620253,25.288831835686775,25.263157894736842,25.257731958762886,25.225225225225223,25.0,24.840764331210192,24.705882352941178,24.563758389261743,24.354243542435423,24.336283185840706,24.324324324324326,24.285714285714285,24.242424242424242,24.242424242424242,24.186046511627907,24.137931034482758,24.137931034482758,24.137931034482758,23.83419689119171,23.809523809523807,23.721881390593047,23.636363636363637,23.605150214592275,23.333333333333332,23.157894736842106,23.076923076923077,23.076923076923077,22.727272727272727,22.727272727272727,22.633744855967077,22.5,22.377622377622377,22.36842105263158,22.22222222222222,22.0,22.0,21.96078431372549,21.951219512195124,21.818181818181817,21.73913043478261,21.73913043478261,21.62162162162162,21.428571428571427,21.27659574468085,21.153846153846153,21.11111111111111,20.955882352941178,20.869565217391305,20.833333333333336,20.689655172413794,20.689655172413794,20.652173913043477,20.51282051282051,20.114942528735632,20.0,20.0,20.0,20.0,19.82758620689655,19.753086419753085,19.63470319634703,19.35483870967742,19.18819188191882,19.047619047619047,19.047619047619047,19.047619047619047,18.91891891891892,18.75,18.75,18.75,18.51851851851852,18.181818181818183,18.181818181818183,18.181818181818183,18.181818181818183,17.91044776119403,17.857142857142858,17.647058823529413,17.647058823529413,17.647058823529413,17.391304347826086,17.218543046357617,17.105263157894736,17.08542713567839,17.073170731707318,17.02127659574468,16.853932584269664,16.666666666666664,16.666666666666664,16.666666666666664,16.666666666666664,16.666666666666664,16.666666666666664,16.666666666666664,16.666666666666664,16.666666666666664,16.455696202531644,16.216216216216218,16.0,15.873015873015872,15.789473684210526,15.384615384615385,15.384615384615385,15.09433962264151,15.0,14.705882352941178,14.583333333333334,14.583333333333334,14.285714285714285,14.285714285714285,13.953488372093023,13.636363636363635,13.541666666666666,13.333333333333334,12.903225806451612,12.643678160919542,12.598425196850393,12.5,12.5,12.5,12.341772151898734,11.29032258064516,11.224489795918368,11.11111111111111,10.975609756097562,10.909090909090908,10.81081081081081,10.81081081081081,10.0,9.523809523809524,9.090909090909092,8.928571428571429,8.928571428571429,8.571428571428571,8.333333333333332,8.333333333333332,7.6923076923076925,7.6923076923076925,7.142857142857142,6.896551724137931,6.521739130434782,5.555555555555555,3.8461538461538463,0.0,0.0,0.0,0.0,0.0,0.0,0.0,0.0,0.0,0.0,0.0,0.0,0.0,0.0,0.0,0.0,0.0,0.0,0.0,0.0,0.0],\"yaxis\":\"y\",\"type\":\"bar\"}],                        {\"template\":{\"data\":{\"bar\":[{\"error_x\":{\"color\":\"#2a3f5f\"},\"error_y\":{\"color\":\"#2a3f5f\"},\"marker\":{\"line\":{\"color\":\"#E5ECF6\",\"width\":0.5},\"pattern\":{\"fillmode\":\"overlay\",\"size\":10,\"solidity\":0.2}},\"type\":\"bar\"}],\"barpolar\":[{\"marker\":{\"line\":{\"color\":\"#E5ECF6\",\"width\":0.5},\"pattern\":{\"fillmode\":\"overlay\",\"size\":10,\"solidity\":0.2}},\"type\":\"barpolar\"}],\"carpet\":[{\"aaxis\":{\"endlinecolor\":\"#2a3f5f\",\"gridcolor\":\"white\",\"linecolor\":\"white\",\"minorgridcolor\":\"white\",\"startlinecolor\":\"#2a3f5f\"},\"baxis\":{\"endlinecolor\":\"#2a3f5f\",\"gridcolor\":\"white\",\"linecolor\":\"white\",\"minorgridcolor\":\"white\",\"startlinecolor\":\"#2a3f5f\"},\"type\":\"carpet\"}],\"choropleth\":[{\"colorbar\":{\"outlinewidth\":0,\"ticks\":\"\"},\"type\":\"choropleth\"}],\"contour\":[{\"colorbar\":{\"outlinewidth\":0,\"ticks\":\"\"},\"colorscale\":[[0.0,\"#0d0887\"],[0.1111111111111111,\"#46039f\"],[0.2222222222222222,\"#7201a8\"],[0.3333333333333333,\"#9c179e\"],[0.4444444444444444,\"#bd3786\"],[0.5555555555555556,\"#d8576b\"],[0.6666666666666666,\"#ed7953\"],[0.7777777777777778,\"#fb9f3a\"],[0.8888888888888888,\"#fdca26\"],[1.0,\"#f0f921\"]],\"type\":\"contour\"}],\"contourcarpet\":[{\"colorbar\":{\"outlinewidth\":0,\"ticks\":\"\"},\"type\":\"contourcarpet\"}],\"heatmap\":[{\"colorbar\":{\"outlinewidth\":0,\"ticks\":\"\"},\"colorscale\":[[0.0,\"#0d0887\"],[0.1111111111111111,\"#46039f\"],[0.2222222222222222,\"#7201a8\"],[0.3333333333333333,\"#9c179e\"],[0.4444444444444444,\"#bd3786\"],[0.5555555555555556,\"#d8576b\"],[0.6666666666666666,\"#ed7953\"],[0.7777777777777778,\"#fb9f3a\"],[0.8888888888888888,\"#fdca26\"],[1.0,\"#f0f921\"]],\"type\":\"heatmap\"}],\"heatmapgl\":[{\"colorbar\":{\"outlinewidth\":0,\"ticks\":\"\"},\"colorscale\":[[0.0,\"#0d0887\"],[0.1111111111111111,\"#46039f\"],[0.2222222222222222,\"#7201a8\"],[0.3333333333333333,\"#9c179e\"],[0.4444444444444444,\"#bd3786\"],[0.5555555555555556,\"#d8576b\"],[0.6666666666666666,\"#ed7953\"],[0.7777777777777778,\"#fb9f3a\"],[0.8888888888888888,\"#fdca26\"],[1.0,\"#f0f921\"]],\"type\":\"heatmapgl\"}],\"histogram\":[{\"marker\":{\"pattern\":{\"fillmode\":\"overlay\",\"size\":10,\"solidity\":0.2}},\"type\":\"histogram\"}],\"histogram2d\":[{\"colorbar\":{\"outlinewidth\":0,\"ticks\":\"\"},\"colorscale\":[[0.0,\"#0d0887\"],[0.1111111111111111,\"#46039f\"],[0.2222222222222222,\"#7201a8\"],[0.3333333333333333,\"#9c179e\"],[0.4444444444444444,\"#bd3786\"],[0.5555555555555556,\"#d8576b\"],[0.6666666666666666,\"#ed7953\"],[0.7777777777777778,\"#fb9f3a\"],[0.8888888888888888,\"#fdca26\"],[1.0,\"#f0f921\"]],\"type\":\"histogram2d\"}],\"histogram2dcontour\":[{\"colorbar\":{\"outlinewidth\":0,\"ticks\":\"\"},\"colorscale\":[[0.0,\"#0d0887\"],[0.1111111111111111,\"#46039f\"],[0.2222222222222222,\"#7201a8\"],[0.3333333333333333,\"#9c179e\"],[0.4444444444444444,\"#bd3786\"],[0.5555555555555556,\"#d8576b\"],[0.6666666666666666,\"#ed7953\"],[0.7777777777777778,\"#fb9f3a\"],[0.8888888888888888,\"#fdca26\"],[1.0,\"#f0f921\"]],\"type\":\"histogram2dcontour\"}],\"mesh3d\":[{\"colorbar\":{\"outlinewidth\":0,\"ticks\":\"\"},\"type\":\"mesh3d\"}],\"parcoords\":[{\"line\":{\"colorbar\":{\"outlinewidth\":0,\"ticks\":\"\"}},\"type\":\"parcoords\"}],\"pie\":[{\"automargin\":true,\"type\":\"pie\"}],\"scatter\":[{\"marker\":{\"colorbar\":{\"outlinewidth\":0,\"ticks\":\"\"}},\"type\":\"scatter\"}],\"scatter3d\":[{\"line\":{\"colorbar\":{\"outlinewidth\":0,\"ticks\":\"\"}},\"marker\":{\"colorbar\":{\"outlinewidth\":0,\"ticks\":\"\"}},\"type\":\"scatter3d\"}],\"scattercarpet\":[{\"marker\":{\"colorbar\":{\"outlinewidth\":0,\"ticks\":\"\"}},\"type\":\"scattercarpet\"}],\"scattergeo\":[{\"marker\":{\"colorbar\":{\"outlinewidth\":0,\"ticks\":\"\"}},\"type\":\"scattergeo\"}],\"scattergl\":[{\"marker\":{\"colorbar\":{\"outlinewidth\":0,\"ticks\":\"\"}},\"type\":\"scattergl\"}],\"scattermapbox\":[{\"marker\":{\"colorbar\":{\"outlinewidth\":0,\"ticks\":\"\"}},\"type\":\"scattermapbox\"}],\"scatterpolar\":[{\"marker\":{\"colorbar\":{\"outlinewidth\":0,\"ticks\":\"\"}},\"type\":\"scatterpolar\"}],\"scatterpolargl\":[{\"marker\":{\"colorbar\":{\"outlinewidth\":0,\"ticks\":\"\"}},\"type\":\"scatterpolargl\"}],\"scatterternary\":[{\"marker\":{\"colorbar\":{\"outlinewidth\":0,\"ticks\":\"\"}},\"type\":\"scatterternary\"}],\"surface\":[{\"colorbar\":{\"outlinewidth\":0,\"ticks\":\"\"},\"colorscale\":[[0.0,\"#0d0887\"],[0.1111111111111111,\"#46039f\"],[0.2222222222222222,\"#7201a8\"],[0.3333333333333333,\"#9c179e\"],[0.4444444444444444,\"#bd3786\"],[0.5555555555555556,\"#d8576b\"],[0.6666666666666666,\"#ed7953\"],[0.7777777777777778,\"#fb9f3a\"],[0.8888888888888888,\"#fdca26\"],[1.0,\"#f0f921\"]],\"type\":\"surface\"}],\"table\":[{\"cells\":{\"fill\":{\"color\":\"#EBF0F8\"},\"line\":{\"color\":\"white\"}},\"header\":{\"fill\":{\"color\":\"#C8D4E3\"},\"line\":{\"color\":\"white\"}},\"type\":\"table\"}]},\"layout\":{\"annotationdefaults\":{\"arrowcolor\":\"#2a3f5f\",\"arrowhead\":0,\"arrowwidth\":1},\"autotypenumbers\":\"strict\",\"coloraxis\":{\"colorbar\":{\"outlinewidth\":0,\"ticks\":\"\"}},\"colorscale\":{\"diverging\":[[0,\"#8e0152\"],[0.1,\"#c51b7d\"],[0.2,\"#de77ae\"],[0.3,\"#f1b6da\"],[0.4,\"#fde0ef\"],[0.5,\"#f7f7f7\"],[0.6,\"#e6f5d0\"],[0.7,\"#b8e186\"],[0.8,\"#7fbc41\"],[0.9,\"#4d9221\"],[1,\"#276419\"]],\"sequential\":[[0.0,\"#0d0887\"],[0.1111111111111111,\"#46039f\"],[0.2222222222222222,\"#7201a8\"],[0.3333333333333333,\"#9c179e\"],[0.4444444444444444,\"#bd3786\"],[0.5555555555555556,\"#d8576b\"],[0.6666666666666666,\"#ed7953\"],[0.7777777777777778,\"#fb9f3a\"],[0.8888888888888888,\"#fdca26\"],[1.0,\"#f0f921\"]],\"sequentialminus\":[[0.0,\"#0d0887\"],[0.1111111111111111,\"#46039f\"],[0.2222222222222222,\"#7201a8\"],[0.3333333333333333,\"#9c179e\"],[0.4444444444444444,\"#bd3786\"],[0.5555555555555556,\"#d8576b\"],[0.6666666666666666,\"#ed7953\"],[0.7777777777777778,\"#fb9f3a\"],[0.8888888888888888,\"#fdca26\"],[1.0,\"#f0f921\"]]},\"colorway\":[\"#636efa\",\"#EF553B\",\"#00cc96\",\"#ab63fa\",\"#FFA15A\",\"#19d3f3\",\"#FF6692\",\"#B6E880\",\"#FF97FF\",\"#FECB52\"],\"font\":{\"color\":\"#2a3f5f\"},\"geo\":{\"bgcolor\":\"white\",\"lakecolor\":\"white\",\"landcolor\":\"#E5ECF6\",\"showlakes\":true,\"showland\":true,\"subunitcolor\":\"white\"},\"hoverlabel\":{\"align\":\"left\"},\"hovermode\":\"closest\",\"mapbox\":{\"style\":\"light\"},\"paper_bgcolor\":\"white\",\"plot_bgcolor\":\"#E5ECF6\",\"polar\":{\"angularaxis\":{\"gridcolor\":\"white\",\"linecolor\":\"white\",\"ticks\":\"\"},\"bgcolor\":\"#E5ECF6\",\"radialaxis\":{\"gridcolor\":\"white\",\"linecolor\":\"white\",\"ticks\":\"\"}},\"scene\":{\"xaxis\":{\"backgroundcolor\":\"#E5ECF6\",\"gridcolor\":\"white\",\"gridwidth\":2,\"linecolor\":\"white\",\"showbackground\":true,\"ticks\":\"\",\"zerolinecolor\":\"white\"},\"yaxis\":{\"backgroundcolor\":\"#E5ECF6\",\"gridcolor\":\"white\",\"gridwidth\":2,\"linecolor\":\"white\",\"showbackground\":true,\"ticks\":\"\",\"zerolinecolor\":\"white\"},\"zaxis\":{\"backgroundcolor\":\"#E5ECF6\",\"gridcolor\":\"white\",\"gridwidth\":2,\"linecolor\":\"white\",\"showbackground\":true,\"ticks\":\"\",\"zerolinecolor\":\"white\"}},\"shapedefaults\":{\"line\":{\"color\":\"#2a3f5f\"}},\"ternary\":{\"aaxis\":{\"gridcolor\":\"white\",\"linecolor\":\"white\",\"ticks\":\"\"},\"baxis\":{\"gridcolor\":\"white\",\"linecolor\":\"white\",\"ticks\":\"\"},\"bgcolor\":\"#E5ECF6\",\"caxis\":{\"gridcolor\":\"white\",\"linecolor\":\"white\",\"ticks\":\"\"}},\"title\":{\"x\":0.05},\"xaxis\":{\"automargin\":true,\"gridcolor\":\"white\",\"linecolor\":\"white\",\"ticks\":\"\",\"title\":{\"standoff\":15},\"zerolinecolor\":\"white\",\"zerolinewidth\":2},\"yaxis\":{\"automargin\":true,\"gridcolor\":\"white\",\"linecolor\":\"white\",\"ticks\":\"\",\"title\":{\"standoff\":15},\"zerolinecolor\":\"white\",\"zerolinewidth\":2}}},\"xaxis\":{\"anchor\":\"y\",\"domain\":[0.0,1.0],\"title\":{\"text\":\"batsman\"}},\"yaxis\":{\"anchor\":\"x\",\"domain\":[0.0,1.0],\"title\":{\"text\":\"STRIKE_RATE\"}},\"legend\":{\"tracegroupgap\":0},\"title\":{\"text\":\"Strike Rates of a batsman\"},\"barmode\":\"relative\"},                        {\"responsive\": true}                    ).then(function(){\n",
              "                            \n",
              "var gd = document.getElementById('e1579bc1-3423-4d91-8ebf-a74c761908d4');\n",
              "var x = new MutationObserver(function (mutations, observer) {{\n",
              "        var display = window.getComputedStyle(gd).display;\n",
              "        if (!display || display === 'none') {{\n",
              "            console.log([gd, 'removed!']);\n",
              "            Plotly.purge(gd);\n",
              "            observer.disconnect();\n",
              "        }}\n",
              "}});\n",
              "\n",
              "// Listen for the removal of the full notebook cells\n",
              "var notebookContainer = gd.closest('#notebook-container');\n",
              "if (notebookContainer) {{\n",
              "    x.observe(notebookContainer, {childList: true});\n",
              "}}\n",
              "\n",
              "// Listen for the clearing of the current output cell\n",
              "var outputEl = gd.closest('.output');\n",
              "if (outputEl) {{\n",
              "    x.observe(outputEl, {childList: true});\n",
              "}}\n",
              "\n",
              "                        })                };                            </script>        </div>\n",
              "</body>\n",
              "</html>"
            ]
          },
          "metadata": {}
        }
      ]
    },
    {
      "cell_type": "markdown",
      "source": [
        "### observations:\n",
        "1.  Batsman who is having the highest strike rate is **DJ Jacobs**.\n",
        "2.  Strike Rate is **133.33**."
      ],
      "metadata": {
        "id": "CJAYqt5T60IU"
      }
    },
    {
      "cell_type": "markdown",
      "source": [
        "## Question 5\n",
        "Write a query to return a report for highest extra runs in a venue(Stadium, City)"
      ],
      "metadata": {
        "id": "A0EPiR9K-qRS"
      }
    },
    {
      "cell_type": "code",
      "source": [
        "## joining the new and venue both the  dataframes and creating new dataframe\n",
        "new_df1 = new_df.join(df_venue, on='venue_id', how='inner')"
      ],
      "metadata": {
        "id": "utM2Cscjze0h"
      },
      "execution_count": null,
      "outputs": []
    },
    {
      "cell_type": "code",
      "source": [
        "# showing the top 5 records of the new dataframe\n",
        "new_df1.show(5)"
      ],
      "metadata": {
        "colab": {
          "base_uri": "https://localhost:8080/"
        },
        "id": "MRbSF3MY9f4G",
        "outputId": "5b71dd88-2b8d-40e5-86bf-ded79f183fac"
      },
      "execution_count": null,
      "outputs": [
        {
          "output_type": "stream",
          "name": "stdout",
          "text": [
            "+--------+--------+----------+---------------+-------------+--------------------+--------------+--------------------+-------------+--------------+------+-------------+----------+------+---------------+----------+------+-----+----+-------------+-------------+------------+------------+----------+----------+------------+---------+--------------+----------------+-------+-----------+--------------------+--------------+--------------------+---------+\n",
            "|venue_id|match_id|      date|player_of_match|neutral_venue|               team1|         team2|         toss_winner|toss_decision|        winner|result|result_margin|eliminator|method|        umpire1|   umpire2|inning|overs|ball|      batsman|  non_striker|      bowler|batsman_runs|extra_runs|total_runs|non_boundary|is_wicket|dismissal_kind|player_dismissed|fielder|extras_type|        batting_team|  bowling_team|               venue|     city|\n",
            "+--------+--------+----------+---------------+-------------+--------------------+--------------+--------------------+-------------+--------------+------+-------------+----------+------+---------------+----------+------+-----+----+-------------+-------------+------------+------------+----------+----------+------------+---------+--------------+----------------+-------+-----------+--------------------+--------------+--------------------+---------+\n",
            "|      35|  419157|2010-04-17|      R McLaren|            0|Royal Challengers...|Mumbai Indians|Royal Challengers...|        field|Mumbai Indians|  runs|           57|         N|    NA|HDPK Dharmasena|SJA Taufel|     2|   16|   4|      V Kohli|R Vinay Kumar|CRD Fernando|           0|         0|         0|           0|        0|            NA|              NA|     NA|         NA|Royal Challengers...|Mumbai Indians|M.Chinnaswamy Sta...|Bengaluru|\n",
            "|      35|  419157|2010-04-17|      R McLaren|            0|Royal Challengers...|Mumbai Indians|Royal Challengers...|        field|Mumbai Indians|  runs|           57|         N|    NA|HDPK Dharmasena|SJA Taufel|     2|   16|   5|      V Kohli|R Vinay Kumar|CRD Fernando|           1|         0|         1|           0|        0|            NA|              NA|     NA|         NA|Royal Challengers...|Mumbai Indians|M.Chinnaswamy Sta...|Bengaluru|\n",
            "|      35|  419157|2010-04-17|      R McLaren|            0|Royal Challengers...|Mumbai Indians|Royal Challengers...|        field|Mumbai Indians|  runs|           57|         N|    NA|HDPK Dharmasena|SJA Taufel|     2|   16|   6|R Vinay Kumar|      V Kohli|CRD Fernando|           1|         0|         1|           0|        0|            NA|              NA|     NA|         NA|Royal Challengers...|Mumbai Indians|M.Chinnaswamy Sta...|Bengaluru|\n",
            "|      35|  419157|2010-04-17|      R McLaren|            0|Royal Challengers...|Mumbai Indians|Royal Challengers...|        field|Mumbai Indians|  runs|           57|         N|    NA|HDPK Dharmasena|SJA Taufel|     2|   17|   1|R Vinay Kumar|      V Kohli|   R McLaren|           1|         0|         1|           0|        0|            NA|              NA|     NA|         NA|Royal Challengers...|Mumbai Indians|M.Chinnaswamy Sta...|Bengaluru|\n",
            "|      35|  419157|2010-04-17|      R McLaren|            0|Royal Challengers...|Mumbai Indians|Royal Challengers...|        field|Mumbai Indians|  runs|           57|         N|    NA|HDPK Dharmasena|SJA Taufel|     2|   17|   2|      V Kohli|R Vinay Kumar|   R McLaren|           1|         0|         1|           0|        0|            NA|              NA|     NA|         NA|Royal Challengers...|Mumbai Indians|M.Chinnaswamy Sta...|Bengaluru|\n",
            "+--------+--------+----------+---------------+-------------+--------------------+--------------+--------------------+-------------+--------------+------+-------------+----------+------+---------------+----------+------+-----+----+-------------+-------------+------------+------------+----------+----------+------------+---------+--------------+----------------+-------+-----------+--------------------+--------------+--------------------+---------+\n",
            "only showing top 5 rows\n",
            "\n"
          ]
        }
      ]
    },
    {
      "cell_type": "code",
      "source": [
        "# selecting the venue, city, extran_runs columns and groupby sum based on venue, city storing it into another dataframe\n",
        "ans5_df = new_df1.select(['venue', 'city', 'extra_runs']).groupBy(['venue', 'city']).sum()\n",
        "\n",
        "# sorting the Data in the asceind order and visualizing the top 3 records\n",
        "ans5_df.sort('sum(extra_runs)', ascending=False).head(3)"
      ],
      "metadata": {
        "colab": {
          "base_uri": "https://localhost:8080/"
        },
        "id": "_CX4fgP9-Fdc",
        "outputId": "c44cd32b-bc66-4edf-f70c-f1f0644d048c"
      },
      "execution_count": null,
      "outputs": [
        {
          "output_type": "execute_result",
          "data": {
            "text/plain": [
              "[Row(venue='M.Chinnaswamy Stadium', city='Bengaluru', sum(extra_runs)=1355),\n",
              " Row(venue='Wankhede Stadium', city='Mumbai', sum(extra_runs)=1232),\n",
              " Row(venue='Eden Gardens', city='Kolkata', sum(extra_runs)=1215)]"
            ]
          },
          "metadata": {},
          "execution_count": 109
        }
      ]
    },
    {
      "cell_type": "code",
      "source": [
        "# plotting the venues where highes extra runs are present\n",
        "fig = px.bar(ans5_df.sort('sum(extra_runs)', ascending=False).toPandas(), x='venue', y='sum(extra_runs)', title=\"venue where highest extra run present\")\n",
        "fig.show()"
      ],
      "metadata": {
        "colab": {
          "base_uri": "https://localhost:8080/"
        },
        "id": "NKJlf0ykbUa0",
        "outputId": "402e3d31-77fb-447d-8b96-b7afd42b862e"
      },
      "execution_count": null,
      "outputs": [
        {
          "output_type": "display_data",
          "data": {
            "text/html": [
              "<html>\n",
              "<head><meta charset=\"utf-8\" /></head>\n",
              "<body>\n",
              "    <div>            <script src=\"https://cdnjs.cloudflare.com/ajax/libs/mathjax/2.7.5/MathJax.js?config=TeX-AMS-MML_SVG\"></script><script type=\"text/javascript\">if (window.MathJax) {MathJax.Hub.Config({SVG: {font: \"STIX-Web\"}});}</script>                <script type=\"text/javascript\">window.PlotlyConfig = {MathJaxConfig: 'local'};</script>\n",
              "        <script src=\"https://cdn.plot.ly/plotly-2.8.3.min.js\"></script>                <div id=\"874fa73a-1e85-4bd6-9f01-060b65941e0d\" class=\"plotly-graph-div\" style=\"height:525px; width:100%;\"></div>            <script type=\"text/javascript\">                                    window.PLOTLYENV=window.PLOTLYENV || {};                                    if (document.getElementById(\"874fa73a-1e85-4bd6-9f01-060b65941e0d\")) {                    Plotly.newPlot(                        \"874fa73a-1e85-4bd6-9f01-060b65941e0d\",                        [{\"alignmentgroup\":\"True\",\"hovertemplate\":\"venue=%{x}<br>sum(extra_runs)=%{y}<extra></extra>\",\"legendgroup\":\"\",\"marker\":{\"color\":\"#636efa\",\"pattern\":{\"shape\":\"\"}},\"name\":\"\",\"offsetgroup\":\"\",\"orientation\":\"v\",\"showlegend\":false,\"textposition\":\"auto\",\"x\":[\"M.Chinnaswamy Stadium\",\"Wankhede Stadium\",\"Eden Gardens\",\"Feroz Shah Kotla\",\"MA Chidambaram Stadium, Chepauk\",\"Rajiv Gandhi International Stadium, Uppal\",\"Sawai Mansingh Stadium\",\"Punjab Cricket Association Stadium, Mohali\",\"Dubai International Cricket Stadium\",\"Sheikh Zayed Stadium\",\"Dr DY Patil Sports Academy\",\"Maharashtra Cricket Association Stadium\",\"Sharjah Cricket Stadium\",\"Kingsmead\",\"Punjab Cricket Association IS Bindra Stadium, Mohali\",\"Brabourne Stadium\",\"Subrata Roy Sahara Stadium\",\"SuperSport Park\",\"Himachal Pradesh Cricket Association Stadium\",\"Sardar Patel Stadium, Motera\",\"Dr. Y.S. Rajasekhara Reddy ACA-VDCA Cricket Stadium\",\"Holkar Cricket Stadium\",\"Saurashtra Cricket Association Stadium\",\"St George's Park\",\"Newlands\",\"New Wanderers Stadium\",\"JSCA International Stadium Complex\",\"Barabati Stadium\",\"Shaheed Veer Narayan Singh International Stadium\",\"Nehru Stadium\",\"Green Park\",\"Vidarbha Cricket Association Stadium, Jamtha\",\"Buffalo Park\",\"OUTsurance Oval\",\"De Beers Diamond Oval\"],\"xaxis\":\"x\",\"y\":[1355,1232,1215,1114,905,900,791,566,492,387,320,315,287,277,271,246,237,213,177,175,161,137,131,129,112,108,100,83,77,77,62,60,57,41,39],\"yaxis\":\"y\",\"type\":\"bar\"}],                        {\"template\":{\"data\":{\"bar\":[{\"error_x\":{\"color\":\"#2a3f5f\"},\"error_y\":{\"color\":\"#2a3f5f\"},\"marker\":{\"line\":{\"color\":\"#E5ECF6\",\"width\":0.5},\"pattern\":{\"fillmode\":\"overlay\",\"size\":10,\"solidity\":0.2}},\"type\":\"bar\"}],\"barpolar\":[{\"marker\":{\"line\":{\"color\":\"#E5ECF6\",\"width\":0.5},\"pattern\":{\"fillmode\":\"overlay\",\"size\":10,\"solidity\":0.2}},\"type\":\"barpolar\"}],\"carpet\":[{\"aaxis\":{\"endlinecolor\":\"#2a3f5f\",\"gridcolor\":\"white\",\"linecolor\":\"white\",\"minorgridcolor\":\"white\",\"startlinecolor\":\"#2a3f5f\"},\"baxis\":{\"endlinecolor\":\"#2a3f5f\",\"gridcolor\":\"white\",\"linecolor\":\"white\",\"minorgridcolor\":\"white\",\"startlinecolor\":\"#2a3f5f\"},\"type\":\"carpet\"}],\"choropleth\":[{\"colorbar\":{\"outlinewidth\":0,\"ticks\":\"\"},\"type\":\"choropleth\"}],\"contour\":[{\"colorbar\":{\"outlinewidth\":0,\"ticks\":\"\"},\"colorscale\":[[0.0,\"#0d0887\"],[0.1111111111111111,\"#46039f\"],[0.2222222222222222,\"#7201a8\"],[0.3333333333333333,\"#9c179e\"],[0.4444444444444444,\"#bd3786\"],[0.5555555555555556,\"#d8576b\"],[0.6666666666666666,\"#ed7953\"],[0.7777777777777778,\"#fb9f3a\"],[0.8888888888888888,\"#fdca26\"],[1.0,\"#f0f921\"]],\"type\":\"contour\"}],\"contourcarpet\":[{\"colorbar\":{\"outlinewidth\":0,\"ticks\":\"\"},\"type\":\"contourcarpet\"}],\"heatmap\":[{\"colorbar\":{\"outlinewidth\":0,\"ticks\":\"\"},\"colorscale\":[[0.0,\"#0d0887\"],[0.1111111111111111,\"#46039f\"],[0.2222222222222222,\"#7201a8\"],[0.3333333333333333,\"#9c179e\"],[0.4444444444444444,\"#bd3786\"],[0.5555555555555556,\"#d8576b\"],[0.6666666666666666,\"#ed7953\"],[0.7777777777777778,\"#fb9f3a\"],[0.8888888888888888,\"#fdca26\"],[1.0,\"#f0f921\"]],\"type\":\"heatmap\"}],\"heatmapgl\":[{\"colorbar\":{\"outlinewidth\":0,\"ticks\":\"\"},\"colorscale\":[[0.0,\"#0d0887\"],[0.1111111111111111,\"#46039f\"],[0.2222222222222222,\"#7201a8\"],[0.3333333333333333,\"#9c179e\"],[0.4444444444444444,\"#bd3786\"],[0.5555555555555556,\"#d8576b\"],[0.6666666666666666,\"#ed7953\"],[0.7777777777777778,\"#fb9f3a\"],[0.8888888888888888,\"#fdca26\"],[1.0,\"#f0f921\"]],\"type\":\"heatmapgl\"}],\"histogram\":[{\"marker\":{\"pattern\":{\"fillmode\":\"overlay\",\"size\":10,\"solidity\":0.2}},\"type\":\"histogram\"}],\"histogram2d\":[{\"colorbar\":{\"outlinewidth\":0,\"ticks\":\"\"},\"colorscale\":[[0.0,\"#0d0887\"],[0.1111111111111111,\"#46039f\"],[0.2222222222222222,\"#7201a8\"],[0.3333333333333333,\"#9c179e\"],[0.4444444444444444,\"#bd3786\"],[0.5555555555555556,\"#d8576b\"],[0.6666666666666666,\"#ed7953\"],[0.7777777777777778,\"#fb9f3a\"],[0.8888888888888888,\"#fdca26\"],[1.0,\"#f0f921\"]],\"type\":\"histogram2d\"}],\"histogram2dcontour\":[{\"colorbar\":{\"outlinewidth\":0,\"ticks\":\"\"},\"colorscale\":[[0.0,\"#0d0887\"],[0.1111111111111111,\"#46039f\"],[0.2222222222222222,\"#7201a8\"],[0.3333333333333333,\"#9c179e\"],[0.4444444444444444,\"#bd3786\"],[0.5555555555555556,\"#d8576b\"],[0.6666666666666666,\"#ed7953\"],[0.7777777777777778,\"#fb9f3a\"],[0.8888888888888888,\"#fdca26\"],[1.0,\"#f0f921\"]],\"type\":\"histogram2dcontour\"}],\"mesh3d\":[{\"colorbar\":{\"outlinewidth\":0,\"ticks\":\"\"},\"type\":\"mesh3d\"}],\"parcoords\":[{\"line\":{\"colorbar\":{\"outlinewidth\":0,\"ticks\":\"\"}},\"type\":\"parcoords\"}],\"pie\":[{\"automargin\":true,\"type\":\"pie\"}],\"scatter\":[{\"marker\":{\"colorbar\":{\"outlinewidth\":0,\"ticks\":\"\"}},\"type\":\"scatter\"}],\"scatter3d\":[{\"line\":{\"colorbar\":{\"outlinewidth\":0,\"ticks\":\"\"}},\"marker\":{\"colorbar\":{\"outlinewidth\":0,\"ticks\":\"\"}},\"type\":\"scatter3d\"}],\"scattercarpet\":[{\"marker\":{\"colorbar\":{\"outlinewidth\":0,\"ticks\":\"\"}},\"type\":\"scattercarpet\"}],\"scattergeo\":[{\"marker\":{\"colorbar\":{\"outlinewidth\":0,\"ticks\":\"\"}},\"type\":\"scattergeo\"}],\"scattergl\":[{\"marker\":{\"colorbar\":{\"outlinewidth\":0,\"ticks\":\"\"}},\"type\":\"scattergl\"}],\"scattermapbox\":[{\"marker\":{\"colorbar\":{\"outlinewidth\":0,\"ticks\":\"\"}},\"type\":\"scattermapbox\"}],\"scatterpolar\":[{\"marker\":{\"colorbar\":{\"outlinewidth\":0,\"ticks\":\"\"}},\"type\":\"scatterpolar\"}],\"scatterpolargl\":[{\"marker\":{\"colorbar\":{\"outlinewidth\":0,\"ticks\":\"\"}},\"type\":\"scatterpolargl\"}],\"scatterternary\":[{\"marker\":{\"colorbar\":{\"outlinewidth\":0,\"ticks\":\"\"}},\"type\":\"scatterternary\"}],\"surface\":[{\"colorbar\":{\"outlinewidth\":0,\"ticks\":\"\"},\"colorscale\":[[0.0,\"#0d0887\"],[0.1111111111111111,\"#46039f\"],[0.2222222222222222,\"#7201a8\"],[0.3333333333333333,\"#9c179e\"],[0.4444444444444444,\"#bd3786\"],[0.5555555555555556,\"#d8576b\"],[0.6666666666666666,\"#ed7953\"],[0.7777777777777778,\"#fb9f3a\"],[0.8888888888888888,\"#fdca26\"],[1.0,\"#f0f921\"]],\"type\":\"surface\"}],\"table\":[{\"cells\":{\"fill\":{\"color\":\"#EBF0F8\"},\"line\":{\"color\":\"white\"}},\"header\":{\"fill\":{\"color\":\"#C8D4E3\"},\"line\":{\"color\":\"white\"}},\"type\":\"table\"}]},\"layout\":{\"annotationdefaults\":{\"arrowcolor\":\"#2a3f5f\",\"arrowhead\":0,\"arrowwidth\":1},\"autotypenumbers\":\"strict\",\"coloraxis\":{\"colorbar\":{\"outlinewidth\":0,\"ticks\":\"\"}},\"colorscale\":{\"diverging\":[[0,\"#8e0152\"],[0.1,\"#c51b7d\"],[0.2,\"#de77ae\"],[0.3,\"#f1b6da\"],[0.4,\"#fde0ef\"],[0.5,\"#f7f7f7\"],[0.6,\"#e6f5d0\"],[0.7,\"#b8e186\"],[0.8,\"#7fbc41\"],[0.9,\"#4d9221\"],[1,\"#276419\"]],\"sequential\":[[0.0,\"#0d0887\"],[0.1111111111111111,\"#46039f\"],[0.2222222222222222,\"#7201a8\"],[0.3333333333333333,\"#9c179e\"],[0.4444444444444444,\"#bd3786\"],[0.5555555555555556,\"#d8576b\"],[0.6666666666666666,\"#ed7953\"],[0.7777777777777778,\"#fb9f3a\"],[0.8888888888888888,\"#fdca26\"],[1.0,\"#f0f921\"]],\"sequentialminus\":[[0.0,\"#0d0887\"],[0.1111111111111111,\"#46039f\"],[0.2222222222222222,\"#7201a8\"],[0.3333333333333333,\"#9c179e\"],[0.4444444444444444,\"#bd3786\"],[0.5555555555555556,\"#d8576b\"],[0.6666666666666666,\"#ed7953\"],[0.7777777777777778,\"#fb9f3a\"],[0.8888888888888888,\"#fdca26\"],[1.0,\"#f0f921\"]]},\"colorway\":[\"#636efa\",\"#EF553B\",\"#00cc96\",\"#ab63fa\",\"#FFA15A\",\"#19d3f3\",\"#FF6692\",\"#B6E880\",\"#FF97FF\",\"#FECB52\"],\"font\":{\"color\":\"#2a3f5f\"},\"geo\":{\"bgcolor\":\"white\",\"lakecolor\":\"white\",\"landcolor\":\"#E5ECF6\",\"showlakes\":true,\"showland\":true,\"subunitcolor\":\"white\"},\"hoverlabel\":{\"align\":\"left\"},\"hovermode\":\"closest\",\"mapbox\":{\"style\":\"light\"},\"paper_bgcolor\":\"white\",\"plot_bgcolor\":\"#E5ECF6\",\"polar\":{\"angularaxis\":{\"gridcolor\":\"white\",\"linecolor\":\"white\",\"ticks\":\"\"},\"bgcolor\":\"#E5ECF6\",\"radialaxis\":{\"gridcolor\":\"white\",\"linecolor\":\"white\",\"ticks\":\"\"}},\"scene\":{\"xaxis\":{\"backgroundcolor\":\"#E5ECF6\",\"gridcolor\":\"white\",\"gridwidth\":2,\"linecolor\":\"white\",\"showbackground\":true,\"ticks\":\"\",\"zerolinecolor\":\"white\"},\"yaxis\":{\"backgroundcolor\":\"#E5ECF6\",\"gridcolor\":\"white\",\"gridwidth\":2,\"linecolor\":\"white\",\"showbackground\":true,\"ticks\":\"\",\"zerolinecolor\":\"white\"},\"zaxis\":{\"backgroundcolor\":\"#E5ECF6\",\"gridcolor\":\"white\",\"gridwidth\":2,\"linecolor\":\"white\",\"showbackground\":true,\"ticks\":\"\",\"zerolinecolor\":\"white\"}},\"shapedefaults\":{\"line\":{\"color\":\"#2a3f5f\"}},\"ternary\":{\"aaxis\":{\"gridcolor\":\"white\",\"linecolor\":\"white\",\"ticks\":\"\"},\"baxis\":{\"gridcolor\":\"white\",\"linecolor\":\"white\",\"ticks\":\"\"},\"bgcolor\":\"#E5ECF6\",\"caxis\":{\"gridcolor\":\"white\",\"linecolor\":\"white\",\"ticks\":\"\"}},\"title\":{\"x\":0.05},\"xaxis\":{\"automargin\":true,\"gridcolor\":\"white\",\"linecolor\":\"white\",\"ticks\":\"\",\"title\":{\"standoff\":15},\"zerolinecolor\":\"white\",\"zerolinewidth\":2},\"yaxis\":{\"automargin\":true,\"gridcolor\":\"white\",\"linecolor\":\"white\",\"ticks\":\"\",\"title\":{\"standoff\":15},\"zerolinecolor\":\"white\",\"zerolinewidth\":2}}},\"xaxis\":{\"anchor\":\"y\",\"domain\":[0.0,1.0],\"title\":{\"text\":\"venue\"}},\"yaxis\":{\"anchor\":\"x\",\"domain\":[0.0,1.0],\"title\":{\"text\":\"sum(extra_runs)\"}},\"legend\":{\"tracegroupgap\":0},\"title\":{\"text\":\"venue where highest extra run present\"},\"barmode\":\"relative\"},                        {\"responsive\": true}                    ).then(function(){\n",
              "                            \n",
              "var gd = document.getElementById('874fa73a-1e85-4bd6-9f01-060b65941e0d');\n",
              "var x = new MutationObserver(function (mutations, observer) {{\n",
              "        var display = window.getComputedStyle(gd).display;\n",
              "        if (!display || display === 'none') {{\n",
              "            console.log([gd, 'removed!']);\n",
              "            Plotly.purge(gd);\n",
              "            observer.disconnect();\n",
              "        }}\n",
              "}});\n",
              "\n",
              "// Listen for the removal of the full notebook cells\n",
              "var notebookContainer = gd.closest('#notebook-container');\n",
              "if (notebookContainer) {{\n",
              "    x.observe(notebookContainer, {childList: true});\n",
              "}}\n",
              "\n",
              "// Listen for the clearing of the current output cell\n",
              "var outputEl = gd.closest('.output');\n",
              "if (outputEl) {{\n",
              "    x.observe(outputEl, {childList: true});\n",
              "}}\n",
              "\n",
              "                        })                };                            </script>        </div>\n",
              "</body>\n",
              "</html>"
            ]
          },
          "metadata": {}
        }
      ]
    },
    {
      "cell_type": "markdown",
      "source": [
        "### observations:\n",
        "1. Highest extra run in **M.chinnaswamy Stadium**, city=**Bengaluru**, extra_runs=**1355**."
      ],
      "metadata": {
        "id": "e2xv52N-CD91"
      }
    },
    {
      "cell_type": "markdown",
      "source": [
        "## Question 6: \n",
        "write a query to return a report for the cricketers with the most number of players of the match award in the neutral venues."
      ],
      "metadata": {
        "id": "2Z-32MyZChDj"
      }
    },
    {
      "cell_type": "code",
      "source": [
        "# selecting where the neutral_venue == 1 and put in into a separate DataFrame\n",
        "neutral_df = df_matches.filter(df_matches['neutral_venue']==1)"
      ],
      "metadata": {
        "id": "0UKA0V52DYro"
      },
      "execution_count": null,
      "outputs": []
    },
    {
      "cell_type": "code",
      "source": [
        "# groupby the players and based on the count sorting it printing the tail 20.\n",
        "players = neutral_df.groupby('player_of_match').count()\n",
        "players.sort('count', ascending=False).head(5)"
      ],
      "metadata": {
        "colab": {
          "base_uri": "https://localhost:8080/"
        },
        "id": "NpdmETk0DmMh",
        "outputId": "4231f2c0-261c-4f34-c664-e433df5762b6"
      },
      "execution_count": null,
      "outputs": [
        {
          "output_type": "execute_result",
          "data": {
            "text/plain": [
              "[Row(player_of_match='GJ Maxwell', count=3),\n",
              " Row(player_of_match='JH Kallis', count=3),\n",
              " Row(player_of_match='YK Pathan', count=3),\n",
              " Row(player_of_match='JP Duminy', count=3),\n",
              " Row(player_of_match='DR Smith', count=2)]"
            ]
          },
          "metadata": {},
          "execution_count": 112
        }
      ]
    },
    {
      "cell_type": "code",
      "source": [
        "# plotting the highest player of the award winning players\n",
        "pandas6_plot = players.sort('count', ascending=False).toPandas()\n",
        "fig = px.bar(pandas6_plot, x='player_of_match', y='count', title='Highes player of the award')\n",
        "fig.show()"
      ],
      "metadata": {
        "colab": {
          "base_uri": "https://localhost:8080/"
        },
        "id": "njxYeQvQWtIw",
        "outputId": "7cf7a8cc-07e0-4a3e-bacf-112b24523ec3"
      },
      "execution_count": null,
      "outputs": [
        {
          "output_type": "display_data",
          "data": {
            "text/html": [
              "<html>\n",
              "<head><meta charset=\"utf-8\" /></head>\n",
              "<body>\n",
              "    <div>            <script src=\"https://cdnjs.cloudflare.com/ajax/libs/mathjax/2.7.5/MathJax.js?config=TeX-AMS-MML_SVG\"></script><script type=\"text/javascript\">if (window.MathJax) {MathJax.Hub.Config({SVG: {font: \"STIX-Web\"}});}</script>                <script type=\"text/javascript\">window.PlotlyConfig = {MathJaxConfig: 'local'};</script>\n",
              "        <script src=\"https://cdn.plot.ly/plotly-2.8.3.min.js\"></script>                <div id=\"b04b4360-ec7d-4c11-8cd4-7bb99906c5e1\" class=\"plotly-graph-div\" style=\"height:525px; width:100%;\"></div>            <script type=\"text/javascript\">                                    window.PLOTLYENV=window.PLOTLYENV || {};                                    if (document.getElementById(\"b04b4360-ec7d-4c11-8cd4-7bb99906c5e1\")) {                    Plotly.newPlot(                        \"b04b4360-ec7d-4c11-8cd4-7bb99906c5e1\",                        [{\"alignmentgroup\":\"True\",\"hovertemplate\":\"player_of_match=%{x}<br>count=%{y}<extra></extra>\",\"legendgroup\":\"\",\"marker\":{\"color\":\"#636efa\",\"pattern\":{\"shape\":\"\"}},\"name\":\"\",\"offsetgroup\":\"\",\"orientation\":\"v\",\"showlegend\":false,\"textposition\":\"auto\",\"x\":[\"YK Pathan\",\"GJ Maxwell\",\"JH Kallis\",\"JP Duminy\",\"M Muralitharan\",\"DR Smith\",\"RG Sharma\",\"KC Sangakkara\",\"DPMD Jayawardene\",\"AB de Villiers\",\"LRPL Taylor\",\"MK Pandey\",\"SK Raina\",\"Yuvraj Singh\",\"ML Hayden\",\"Sandeep Sharma\",\"SR Tendulkar\",\"AC Gilchrist\",\"TM Dilshan\",\"B Lee\",\"S Badrinath\",\"A Singh\",\"B Kumar\",\"M Vijay\",\"V Sehwag\",\"R Dravid\",\"GC Smith\",\"AM Rahane\",\"R Bhatia\",\"A Kumble\",\"A Mishra\",\"YS Chahal\",\"LR Shukla\",\"Harbhajan Singh\",\"DP Nannes\",\"CH Gayle\",\"SB Jakati\",\"RS Bopara\",\"PP Ojha\",\"MM Sharma\",\"RP Singh\",\"HH Gibbs\",\"AJ Finch\",\"A Nehra\",\"G Gambhir\",\"BJ Hodge\",\"RA Jadeja\",\"DL Vettori\",\"SK Warne\",\"JP Faulkner\",\"MS Dhoni\",\"CA Lynn\",\"PV Tambe\",\"PA Patel\",\"MV Boucher\"],\"xaxis\":\"x\",\"y\":[3,3,3,3,2,2,2,2,2,2,2,2,2,2,2,2,2,2,1,1,1,1,1,1,1,1,1,1,1,1,1,1,1,1,1,1,1,1,1,1,1,1,1,1,1,1,1,1,1,1,1,1,1,1,1],\"yaxis\":\"y\",\"type\":\"bar\"}],                        {\"template\":{\"data\":{\"bar\":[{\"error_x\":{\"color\":\"#2a3f5f\"},\"error_y\":{\"color\":\"#2a3f5f\"},\"marker\":{\"line\":{\"color\":\"#E5ECF6\",\"width\":0.5},\"pattern\":{\"fillmode\":\"overlay\",\"size\":10,\"solidity\":0.2}},\"type\":\"bar\"}],\"barpolar\":[{\"marker\":{\"line\":{\"color\":\"#E5ECF6\",\"width\":0.5},\"pattern\":{\"fillmode\":\"overlay\",\"size\":10,\"solidity\":0.2}},\"type\":\"barpolar\"}],\"carpet\":[{\"aaxis\":{\"endlinecolor\":\"#2a3f5f\",\"gridcolor\":\"white\",\"linecolor\":\"white\",\"minorgridcolor\":\"white\",\"startlinecolor\":\"#2a3f5f\"},\"baxis\":{\"endlinecolor\":\"#2a3f5f\",\"gridcolor\":\"white\",\"linecolor\":\"white\",\"minorgridcolor\":\"white\",\"startlinecolor\":\"#2a3f5f\"},\"type\":\"carpet\"}],\"choropleth\":[{\"colorbar\":{\"outlinewidth\":0,\"ticks\":\"\"},\"type\":\"choropleth\"}],\"contour\":[{\"colorbar\":{\"outlinewidth\":0,\"ticks\":\"\"},\"colorscale\":[[0.0,\"#0d0887\"],[0.1111111111111111,\"#46039f\"],[0.2222222222222222,\"#7201a8\"],[0.3333333333333333,\"#9c179e\"],[0.4444444444444444,\"#bd3786\"],[0.5555555555555556,\"#d8576b\"],[0.6666666666666666,\"#ed7953\"],[0.7777777777777778,\"#fb9f3a\"],[0.8888888888888888,\"#fdca26\"],[1.0,\"#f0f921\"]],\"type\":\"contour\"}],\"contourcarpet\":[{\"colorbar\":{\"outlinewidth\":0,\"ticks\":\"\"},\"type\":\"contourcarpet\"}],\"heatmap\":[{\"colorbar\":{\"outlinewidth\":0,\"ticks\":\"\"},\"colorscale\":[[0.0,\"#0d0887\"],[0.1111111111111111,\"#46039f\"],[0.2222222222222222,\"#7201a8\"],[0.3333333333333333,\"#9c179e\"],[0.4444444444444444,\"#bd3786\"],[0.5555555555555556,\"#d8576b\"],[0.6666666666666666,\"#ed7953\"],[0.7777777777777778,\"#fb9f3a\"],[0.8888888888888888,\"#fdca26\"],[1.0,\"#f0f921\"]],\"type\":\"heatmap\"}],\"heatmapgl\":[{\"colorbar\":{\"outlinewidth\":0,\"ticks\":\"\"},\"colorscale\":[[0.0,\"#0d0887\"],[0.1111111111111111,\"#46039f\"],[0.2222222222222222,\"#7201a8\"],[0.3333333333333333,\"#9c179e\"],[0.4444444444444444,\"#bd3786\"],[0.5555555555555556,\"#d8576b\"],[0.6666666666666666,\"#ed7953\"],[0.7777777777777778,\"#fb9f3a\"],[0.8888888888888888,\"#fdca26\"],[1.0,\"#f0f921\"]],\"type\":\"heatmapgl\"}],\"histogram\":[{\"marker\":{\"pattern\":{\"fillmode\":\"overlay\",\"size\":10,\"solidity\":0.2}},\"type\":\"histogram\"}],\"histogram2d\":[{\"colorbar\":{\"outlinewidth\":0,\"ticks\":\"\"},\"colorscale\":[[0.0,\"#0d0887\"],[0.1111111111111111,\"#46039f\"],[0.2222222222222222,\"#7201a8\"],[0.3333333333333333,\"#9c179e\"],[0.4444444444444444,\"#bd3786\"],[0.5555555555555556,\"#d8576b\"],[0.6666666666666666,\"#ed7953\"],[0.7777777777777778,\"#fb9f3a\"],[0.8888888888888888,\"#fdca26\"],[1.0,\"#f0f921\"]],\"type\":\"histogram2d\"}],\"histogram2dcontour\":[{\"colorbar\":{\"outlinewidth\":0,\"ticks\":\"\"},\"colorscale\":[[0.0,\"#0d0887\"],[0.1111111111111111,\"#46039f\"],[0.2222222222222222,\"#7201a8\"],[0.3333333333333333,\"#9c179e\"],[0.4444444444444444,\"#bd3786\"],[0.5555555555555556,\"#d8576b\"],[0.6666666666666666,\"#ed7953\"],[0.7777777777777778,\"#fb9f3a\"],[0.8888888888888888,\"#fdca26\"],[1.0,\"#f0f921\"]],\"type\":\"histogram2dcontour\"}],\"mesh3d\":[{\"colorbar\":{\"outlinewidth\":0,\"ticks\":\"\"},\"type\":\"mesh3d\"}],\"parcoords\":[{\"line\":{\"colorbar\":{\"outlinewidth\":0,\"ticks\":\"\"}},\"type\":\"parcoords\"}],\"pie\":[{\"automargin\":true,\"type\":\"pie\"}],\"scatter\":[{\"marker\":{\"colorbar\":{\"outlinewidth\":0,\"ticks\":\"\"}},\"type\":\"scatter\"}],\"scatter3d\":[{\"line\":{\"colorbar\":{\"outlinewidth\":0,\"ticks\":\"\"}},\"marker\":{\"colorbar\":{\"outlinewidth\":0,\"ticks\":\"\"}},\"type\":\"scatter3d\"}],\"scattercarpet\":[{\"marker\":{\"colorbar\":{\"outlinewidth\":0,\"ticks\":\"\"}},\"type\":\"scattercarpet\"}],\"scattergeo\":[{\"marker\":{\"colorbar\":{\"outlinewidth\":0,\"ticks\":\"\"}},\"type\":\"scattergeo\"}],\"scattergl\":[{\"marker\":{\"colorbar\":{\"outlinewidth\":0,\"ticks\":\"\"}},\"type\":\"scattergl\"}],\"scattermapbox\":[{\"marker\":{\"colorbar\":{\"outlinewidth\":0,\"ticks\":\"\"}},\"type\":\"scattermapbox\"}],\"scatterpolar\":[{\"marker\":{\"colorbar\":{\"outlinewidth\":0,\"ticks\":\"\"}},\"type\":\"scatterpolar\"}],\"scatterpolargl\":[{\"marker\":{\"colorbar\":{\"outlinewidth\":0,\"ticks\":\"\"}},\"type\":\"scatterpolargl\"}],\"scatterternary\":[{\"marker\":{\"colorbar\":{\"outlinewidth\":0,\"ticks\":\"\"}},\"type\":\"scatterternary\"}],\"surface\":[{\"colorbar\":{\"outlinewidth\":0,\"ticks\":\"\"},\"colorscale\":[[0.0,\"#0d0887\"],[0.1111111111111111,\"#46039f\"],[0.2222222222222222,\"#7201a8\"],[0.3333333333333333,\"#9c179e\"],[0.4444444444444444,\"#bd3786\"],[0.5555555555555556,\"#d8576b\"],[0.6666666666666666,\"#ed7953\"],[0.7777777777777778,\"#fb9f3a\"],[0.8888888888888888,\"#fdca26\"],[1.0,\"#f0f921\"]],\"type\":\"surface\"}],\"table\":[{\"cells\":{\"fill\":{\"color\":\"#EBF0F8\"},\"line\":{\"color\":\"white\"}},\"header\":{\"fill\":{\"color\":\"#C8D4E3\"},\"line\":{\"color\":\"white\"}},\"type\":\"table\"}]},\"layout\":{\"annotationdefaults\":{\"arrowcolor\":\"#2a3f5f\",\"arrowhead\":0,\"arrowwidth\":1},\"autotypenumbers\":\"strict\",\"coloraxis\":{\"colorbar\":{\"outlinewidth\":0,\"ticks\":\"\"}},\"colorscale\":{\"diverging\":[[0,\"#8e0152\"],[0.1,\"#c51b7d\"],[0.2,\"#de77ae\"],[0.3,\"#f1b6da\"],[0.4,\"#fde0ef\"],[0.5,\"#f7f7f7\"],[0.6,\"#e6f5d0\"],[0.7,\"#b8e186\"],[0.8,\"#7fbc41\"],[0.9,\"#4d9221\"],[1,\"#276419\"]],\"sequential\":[[0.0,\"#0d0887\"],[0.1111111111111111,\"#46039f\"],[0.2222222222222222,\"#7201a8\"],[0.3333333333333333,\"#9c179e\"],[0.4444444444444444,\"#bd3786\"],[0.5555555555555556,\"#d8576b\"],[0.6666666666666666,\"#ed7953\"],[0.7777777777777778,\"#fb9f3a\"],[0.8888888888888888,\"#fdca26\"],[1.0,\"#f0f921\"]],\"sequentialminus\":[[0.0,\"#0d0887\"],[0.1111111111111111,\"#46039f\"],[0.2222222222222222,\"#7201a8\"],[0.3333333333333333,\"#9c179e\"],[0.4444444444444444,\"#bd3786\"],[0.5555555555555556,\"#d8576b\"],[0.6666666666666666,\"#ed7953\"],[0.7777777777777778,\"#fb9f3a\"],[0.8888888888888888,\"#fdca26\"],[1.0,\"#f0f921\"]]},\"colorway\":[\"#636efa\",\"#EF553B\",\"#00cc96\",\"#ab63fa\",\"#FFA15A\",\"#19d3f3\",\"#FF6692\",\"#B6E880\",\"#FF97FF\",\"#FECB52\"],\"font\":{\"color\":\"#2a3f5f\"},\"geo\":{\"bgcolor\":\"white\",\"lakecolor\":\"white\",\"landcolor\":\"#E5ECF6\",\"showlakes\":true,\"showland\":true,\"subunitcolor\":\"white\"},\"hoverlabel\":{\"align\":\"left\"},\"hovermode\":\"closest\",\"mapbox\":{\"style\":\"light\"},\"paper_bgcolor\":\"white\",\"plot_bgcolor\":\"#E5ECF6\",\"polar\":{\"angularaxis\":{\"gridcolor\":\"white\",\"linecolor\":\"white\",\"ticks\":\"\"},\"bgcolor\":\"#E5ECF6\",\"radialaxis\":{\"gridcolor\":\"white\",\"linecolor\":\"white\",\"ticks\":\"\"}},\"scene\":{\"xaxis\":{\"backgroundcolor\":\"#E5ECF6\",\"gridcolor\":\"white\",\"gridwidth\":2,\"linecolor\":\"white\",\"showbackground\":true,\"ticks\":\"\",\"zerolinecolor\":\"white\"},\"yaxis\":{\"backgroundcolor\":\"#E5ECF6\",\"gridcolor\":\"white\",\"gridwidth\":2,\"linecolor\":\"white\",\"showbackground\":true,\"ticks\":\"\",\"zerolinecolor\":\"white\"},\"zaxis\":{\"backgroundcolor\":\"#E5ECF6\",\"gridcolor\":\"white\",\"gridwidth\":2,\"linecolor\":\"white\",\"showbackground\":true,\"ticks\":\"\",\"zerolinecolor\":\"white\"}},\"shapedefaults\":{\"line\":{\"color\":\"#2a3f5f\"}},\"ternary\":{\"aaxis\":{\"gridcolor\":\"white\",\"linecolor\":\"white\",\"ticks\":\"\"},\"baxis\":{\"gridcolor\":\"white\",\"linecolor\":\"white\",\"ticks\":\"\"},\"bgcolor\":\"#E5ECF6\",\"caxis\":{\"gridcolor\":\"white\",\"linecolor\":\"white\",\"ticks\":\"\"}},\"title\":{\"x\":0.05},\"xaxis\":{\"automargin\":true,\"gridcolor\":\"white\",\"linecolor\":\"white\",\"ticks\":\"\",\"title\":{\"standoff\":15},\"zerolinecolor\":\"white\",\"zerolinewidth\":2},\"yaxis\":{\"automargin\":true,\"gridcolor\":\"white\",\"linecolor\":\"white\",\"ticks\":\"\",\"title\":{\"standoff\":15},\"zerolinecolor\":\"white\",\"zerolinewidth\":2}}},\"xaxis\":{\"anchor\":\"y\",\"domain\":[0.0,1.0],\"title\":{\"text\":\"player_of_match\"}},\"yaxis\":{\"anchor\":\"x\",\"domain\":[0.0,1.0],\"title\":{\"text\":\"count\"}},\"legend\":{\"tracegroupgap\":0},\"title\":{\"text\":\"Highes player of the award\"},\"barmode\":\"relative\"},                        {\"responsive\": true}                    ).then(function(){\n",
              "                            \n",
              "var gd = document.getElementById('b04b4360-ec7d-4c11-8cd4-7bb99906c5e1');\n",
              "var x = new MutationObserver(function (mutations, observer) {{\n",
              "        var display = window.getComputedStyle(gd).display;\n",
              "        if (!display || display === 'none') {{\n",
              "            console.log([gd, 'removed!']);\n",
              "            Plotly.purge(gd);\n",
              "            observer.disconnect();\n",
              "        }}\n",
              "}});\n",
              "\n",
              "// Listen for the removal of the full notebook cells\n",
              "var notebookContainer = gd.closest('#notebook-container');\n",
              "if (notebookContainer) {{\n",
              "    x.observe(notebookContainer, {childList: true});\n",
              "}}\n",
              "\n",
              "// Listen for the clearing of the current output cell\n",
              "var outputEl = gd.closest('.output');\n",
              "if (outputEl) {{\n",
              "    x.observe(outputEl, {childList: true});\n",
              "}}\n",
              "\n",
              "                        })                };                            </script>        </div>\n",
              "</body>\n",
              "</html>"
            ]
          },
          "metadata": {}
        }
      ]
    },
    {
      "cell_type": "markdown",
      "source": [
        "### observations:\n",
        "name of cricketers who got highest player award in neutral venue:\n",
        "1. **YK Pathan**  -> number of awards **3**\n",
        "2. **GJ Maxwell**    -> number of awards **3**\n",
        "3. **JH Kallis**  -> number of awards **3**\n",
        "4. **JP Duminy**  -> number of awards **3**\n"
      ],
      "metadata": {
        "id": "98JOT_cxEjSn"
      }
    },
    {
      "cell_type": "markdown",
      "source": [
        "## Question 7:\n",
        "Write a query to get a list of top 10 players with the highest batting average.\n",
        "NOTE: Batting average is the total number of runs scored divided by the number of times they have been out (Make sure to include runout (on Non-Striker end) as valid out while calculating average).\n"
      ],
      "metadata": {
        "id": "EcVHLzy5F-cr"
      }
    },
    {
      "cell_type": "code",
      "source": [
        "# showing the ipl ball by bll dataframe\n",
        "df_ipl_ball.show(5)"
      ],
      "metadata": {
        "id": "6Ql7r7UAxd0s",
        "colab": {
          "base_uri": "https://localhost:8080/"
        },
        "outputId": "4100bdda-22eb-491c-e037-6bc16d95995c"
      },
      "execution_count": null,
      "outputs": [
        {
          "output_type": "stream",
          "name": "stdout",
          "text": [
            "+--------+------+-----+----+-------------+-------------+------------+------------+----------+----------+------------+---------+--------------+----------------+-------+-----------+--------------------+--------------+\n",
            "|match_id|inning|overs|ball|      batsman|  non_striker|      bowler|batsman_runs|extra_runs|total_runs|non_boundary|is_wicket|dismissal_kind|player_dismissed|fielder|extras_type|        batting_team|  bowling_team|\n",
            "+--------+------+-----+----+-------------+-------------+------------+------------+----------+----------+------------+---------+--------------+----------------+-------+-----------+--------------------+--------------+\n",
            "|  419157|     2|   16|   4|      V Kohli|R Vinay Kumar|CRD Fernando|           0|         0|         0|           0|        0|            NA|              NA|     NA|         NA|Royal Challengers...|Mumbai Indians|\n",
            "|  419157|     2|   16|   5|      V Kohli|R Vinay Kumar|CRD Fernando|           1|         0|         1|           0|        0|            NA|              NA|     NA|         NA|Royal Challengers...|Mumbai Indians|\n",
            "|  419157|     2|   16|   6|R Vinay Kumar|      V Kohli|CRD Fernando|           1|         0|         1|           0|        0|            NA|              NA|     NA|         NA|Royal Challengers...|Mumbai Indians|\n",
            "|  419157|     2|   17|   1|R Vinay Kumar|      V Kohli|   R McLaren|           1|         0|         1|           0|        0|            NA|              NA|     NA|         NA|Royal Challengers...|Mumbai Indians|\n",
            "|  419157|     2|   17|   2|      V Kohli|R Vinay Kumar|   R McLaren|           1|         0|         1|           0|        0|            NA|              NA|     NA|         NA|Royal Challengers...|Mumbai Indians|\n",
            "+--------+------+-----+----+-------------+-------------+------------+------------+----------+----------+------------+---------+--------------+----------------+-------+-----------+--------------------+--------------+\n",
            "only showing top 5 rows\n",
            "\n"
          ]
        }
      ]
    },
    {
      "cell_type": "code",
      "source": [
        "# Take a total number of scores scored by a batsman and put it in a separate dataframe named scores\n",
        "scores = df_ipl_ball.select(['batsman', 'total_runs']).groupBy('batsman').sum().sort('sum(total_runs)')\n",
        "scores"
      ],
      "metadata": {
        "id": "mDIjkpkoxd3m",
        "colab": {
          "base_uri": "https://localhost:8080/"
        },
        "outputId": "1d02d956-0d3a-435f-ac20-4426eaae860d"
      },
      "execution_count": null,
      "outputs": [
        {
          "output_type": "execute_result",
          "data": {
            "text/plain": [
              "DataFrame[batsman: string, sum(total_runs): bigint]"
            ]
          },
          "metadata": {},
          "execution_count": 115
        }
      ]
    },
    {
      "cell_type": "code",
      "source": [
        "# Take a total number of time a batsman out as a batsman and put it in striker dataframe\n",
        "striker = df_ipl_ball.filter(((df_ipl_ball['dismissal_kind']!='NA')&(df_ipl_ball['dismissal_kind']!='retired hurt'))&(\n",
        "    df_ipl_ball.player_dismissed==df_ipl_ball.batsman)).select(\n",
        "    ['batsman', 'dismissal_kind']).groupBy('batsman').count()\n",
        "striker.show(5)"
      ],
      "metadata": {
        "id": "Uhy5IVaGxd70",
        "colab": {
          "base_uri": "https://localhost:8080/"
        },
        "outputId": "20ffd4fc-e9b0-4029-f034-09d77ed6be9d"
      },
      "execution_count": null,
      "outputs": [
        {
          "output_type": "stream",
          "name": "stdout",
          "text": [
            "+-------------+-----+\n",
            "|      batsman|count|\n",
            "+-------------+-----+\n",
            "|   TM Dilshan|   40|\n",
            "|   S Anirudha|    8|\n",
            "|Kuldeep Yadav|    4|\n",
            "|   KA Pollard|  100|\n",
            "|      J Botha|   20|\n",
            "+-------------+-----+\n",
            "only showing top 5 rows\n",
            "\n"
          ]
        }
      ]
    },
    {
      "cell_type": "code",
      "source": [
        "# Take a total number of times a batsman out as a non striker and put it in separate dataframe named non_striker\n",
        "non_striker = df_ipl_ball.filter((df_ipl_ball.dismissal_kind=='run out') & (df_ipl_ball.player_dismissed==df_ipl_ball.non_striker\n",
        "                                                              )).groupBy('non_striker').count()\n",
        "non_striker.show(5)"
      ],
      "metadata": {
        "colab": {
          "base_uri": "https://localhost:8080/"
        },
        "id": "t-RcGhJTJj-U",
        "outputId": "07201660-df79-451b-fc57-2d096e477abc"
      },
      "execution_count": null,
      "outputs": [
        {
          "output_type": "stream",
          "name": "stdout",
          "text": [
            "+-------------+-----+\n",
            "|  non_striker|count|\n",
            "+-------------+-----+\n",
            "|   TM Dilshan|    3|\n",
            "|Kuldeep Yadav|    2|\n",
            "|   KA Pollard|    1|\n",
            "|LA Carseldine|    1|\n",
            "|     DR Smith|    4|\n",
            "+-------------+-----+\n",
            "only showing top 5 rows\n",
            "\n"
          ]
        }
      ]
    },
    {
      "cell_type": "code",
      "source": [
        "# Renaming the columns for merging\n",
        "non_striker = non_striker.withColumnRenamed('non_striker', 'batsman')\n",
        "non_striker = non_striker.withColumnRenamed('count', 'count1')"
      ],
      "metadata": {
        "id": "b98hrWYWMw7X"
      },
      "execution_count": null,
      "outputs": []
    },
    {
      "cell_type": "code",
      "source": [
        "# joining the striker and non striker DataFrames\n",
        "new_df7 = striker.join(non_striker, on='batsman', how='inner')\n",
        "new_df7.show(5)"
      ],
      "metadata": {
        "colab": {
          "base_uri": "https://localhost:8080/"
        },
        "id": "f3sOjpRpNZAT",
        "outputId": "aa0d7e06-7499-4edf-8429-51a5e29ab26f"
      },
      "execution_count": null,
      "outputs": [
        {
          "output_type": "stream",
          "name": "stdout",
          "text": [
            "+-------------+-----+------+\n",
            "|      batsman|count|count1|\n",
            "+-------------+-----+------+\n",
            "|   TM Dilshan|   40|     3|\n",
            "|Kuldeep Yadav|    4|     2|\n",
            "|   KA Pollard|  100|     1|\n",
            "|LA Carseldine|    3|     1|\n",
            "|     DR Smith|   80|     4|\n",
            "+-------------+-----+------+\n",
            "only showing top 5 rows\n",
            "\n"
          ]
        }
      ]
    },
    {
      "cell_type": "code",
      "source": [
        "### calculating the total number of outs and put it in a new columns\n",
        "new_df7 = new_df7.withColumn('total_out', new_df7['count']+new_df7['count1'])\n",
        "new_df7.show(5)"
      ],
      "metadata": {
        "colab": {
          "base_uri": "https://localhost:8080/"
        },
        "id": "xp-32hgSNZDp",
        "outputId": "2c809601-2768-46ec-c84f-f90674eecae9"
      },
      "execution_count": null,
      "outputs": [
        {
          "output_type": "stream",
          "name": "stdout",
          "text": [
            "+-------------+-----+------+---------+\n",
            "|      batsman|count|count1|total_out|\n",
            "+-------------+-----+------+---------+\n",
            "|   TM Dilshan|   40|     3|       43|\n",
            "|Kuldeep Yadav|    4|     2|        6|\n",
            "|   KA Pollard|  100|     1|      101|\n",
            "|LA Carseldine|    3|     1|        4|\n",
            "|     DR Smith|   80|     4|       84|\n",
            "+-------------+-----+------+---------+\n",
            "only showing top 5 rows\n",
            "\n"
          ]
        }
      ]
    },
    {
      "cell_type": "code",
      "source": [
        "# mering the scores and new_df7 dataframe for calculating batting average\n",
        "ans_df7 = new_df7.join(scores, on='batsman', how='inner')\n",
        "ans_df7.show(5)"
      ],
      "metadata": {
        "id": "VtVsUaZYNZHN",
        "colab": {
          "base_uri": "https://localhost:8080/"
        },
        "outputId": "835ae3f7-d3ed-43f0-b810-89d2b70ba971"
      },
      "execution_count": null,
      "outputs": [
        {
          "output_type": "stream",
          "name": "stdout",
          "text": [
            "+-------------+-----+------+---------+---------------+\n",
            "|      batsman|count|count1|total_out|sum(total_runs)|\n",
            "+-------------+-----+------+---------+---------------+\n",
            "|   TM Dilshan|   40|     3|       43|           1251|\n",
            "|Kuldeep Yadav|    4|     2|        6|             59|\n",
            "|   KA Pollard|  100|     1|      101|           3188|\n",
            "|LA Carseldine|    3|     1|        4|             87|\n",
            "|     DR Smith|   80|     4|       84|           2515|\n",
            "+-------------+-----+------+---------+---------------+\n",
            "only showing top 5 rows\n",
            "\n"
          ]
        }
      ]
    },
    {
      "cell_type": "code",
      "source": [
        "ans_df7 = ans_df7.withColumn('Batting_avg', ans_df7['sum(total_runs)']/ans_df7['total_out'])\n",
        "\n",
        "### drop the unwanted features for clear visualization\n",
        "ans_df7 = ans_df7.drop('count')\n",
        "ans_df7 = ans_df7.drop('count1')\n",
        "\n",
        "ans_df7.sort('Batting_avg', ascending=False).show(10)"
      ],
      "metadata": {
        "id": "nU9AMWDQMjGi",
        "colab": {
          "base_uri": "https://localhost:8080/"
        },
        "outputId": "1e269c70-1af9-4835-a441-fd15411e8d58"
      },
      "execution_count": null,
      "outputs": [
        {
          "output_type": "stream",
          "name": "stdout",
          "text": [
            "+--------------+---------+---------------+------------------+\n",
            "|       batsman|total_out|sum(total_runs)|       Batting_avg|\n",
            "+--------------+---------+---------------+------------------+\n",
            "|    RD Gaikwad|        4|            220|              55.0|\n",
            "| Iqbal Abdulla|        2|             97|              48.5|\n",
            "|     DA Warner|      123|           5522| 44.89430894308943|\n",
            "|      CH Gayle|      116|           5103|43.991379310344826|\n",
            "|      MS Dhoni|      113|           4855|  42.9646017699115|\n",
            "|PD Collingwood|        5|            213|              42.6|\n",
            "|      SE Marsh|       62|           2598|41.903225806451616|\n",
            "|AB de Villiers|      120|           5016|              41.8|\n",
            "|     JP Duminy|       51|           2131| 41.78431372549019|\n",
            "|   LMP Simmons|       27|           1127| 41.74074074074074|\n",
            "+--------------+---------+---------------+------------------+\n",
            "only showing top 10 rows\n",
            "\n"
          ]
        }
      ]
    },
    {
      "cell_type": "code",
      "source": [
        "# plotting the Batting average of batsmans\n",
        "pandas7_plot = ans_df7.sort('Batting_avg', ascending=False).toPandas()\n",
        "fig = px.bar(pandas7_plot, x='batsman', y='Batting_avg', title='Batting average of batsmans')\n",
        "fig.show()"
      ],
      "metadata": {
        "colab": {
          "base_uri": "https://localhost:8080/"
        },
        "id": "ZhKjTR8XZG6Z",
        "outputId": "171f1573-d4ea-43a2-8c73-a0e8520f3860"
      },
      "execution_count": null,
      "outputs": [
        {
          "output_type": "display_data",
          "data": {
            "text/html": [
              "<html>\n",
              "<head><meta charset=\"utf-8\" /></head>\n",
              "<body>\n",
              "    <div>            <script src=\"https://cdnjs.cloudflare.com/ajax/libs/mathjax/2.7.5/MathJax.js?config=TeX-AMS-MML_SVG\"></script><script type=\"text/javascript\">if (window.MathJax) {MathJax.Hub.Config({SVG: {font: \"STIX-Web\"}});}</script>                <script type=\"text/javascript\">window.PlotlyConfig = {MathJaxConfig: 'local'};</script>\n",
              "        <script src=\"https://cdn.plot.ly/plotly-2.8.3.min.js\"></script>                <div id=\"1906f1ea-85d0-4249-b7bb-fe5272275176\" class=\"plotly-graph-div\" style=\"height:525px; width:100%;\"></div>            <script type=\"text/javascript\">                                    window.PLOTLYENV=window.PLOTLYENV || {};                                    if (document.getElementById(\"1906f1ea-85d0-4249-b7bb-fe5272275176\")) {                    Plotly.newPlot(                        \"1906f1ea-85d0-4249-b7bb-fe5272275176\",                        [{\"alignmentgroup\":\"True\",\"hovertemplate\":\"batsman=%{x}<br>Batting_avg=%{y}<extra></extra>\",\"legendgroup\":\"\",\"marker\":{\"color\":\"#636efa\",\"pattern\":{\"shape\":\"\"}},\"name\":\"\",\"offsetgroup\":\"\",\"orientation\":\"v\",\"showlegend\":false,\"textposition\":\"auto\",\"x\":[\"RD Gaikwad\",\"Iqbal Abdulla\",\"DA Warner\",\"CH Gayle\",\"MS Dhoni\",\"PD Collingwood\",\"SE Marsh\",\"AB de Villiers\",\"JP Duminy\",\"LMP Simmons\",\"KS Williamson\",\"MEK Hussey\",\"ML Hayden\",\"V Kohli\",\"KP Pietersen\",\"A Symonds\",\"SR Tendulkar\",\"SPD Smith\",\"RR Pant\",\"OA Shah\",\"JC Buttler\",\"S Dhawan\",\"DA Miller\",\"BJ Hodge\",\"CA Lynn\",\"SK Raina\",\"Shubman Gill\",\"F du Plessis\",\"D Padikkal\",\"AM Rahane\",\"Q de Kock\",\"G Gambhir\",\"SS Iyer\",\"RG Sharma\",\"SR Watson\",\"S Badrinath\",\"KA Pollard\",\"AD Russell\",\"SA Yadav\",\"MK Pandey\",\"RS Bopara\",\"V Shankar\",\"AT Rayudu\",\"YK Pathan\",\"TM Head\",\"DPMD Jayawardene\",\"JH Kallis\",\"MK Tiwary\",\"LA Pomersbach\",\"DR Smith\",\"Ishan Kishan\",\"HH Gibbs\",\"BB McCullum\",\"DJ Harris\",\"RV Uthappa\",\"R Dravid\",\"V Sehwag\",\"N Rana\",\"SS Tiwary\",\"AC Gilchrist\",\"TM Dilshan\",\"SV Samson\",\"DJ Hussey\",\"SC Ganguly\",\"AJ Finch\",\"CL White\",\"M Vijay\",\"KD Karthik\",\"LRPL Taylor\",\"EJG Morgan\",\"WP Saha\",\"RA Jadeja\",\"RA Tripathi\",\"Kamran Akmal\",\"KH Pandya\",\"Yuvraj Singh\",\"GJ Bailey\",\"JA Morkel\",\"SM Katich\",\"KK Nair\",\"M Vohra\",\"MJ Lumb\",\"AD Mathews\",\"PA Patel\",\"KM Jadhav\",\"DJ Bravo\",\"Y Venugopal Rao\",\"Bipul Sharma\",\"MS Bisla\",\"GJ Maxwell\",\"IK Pathan\",\"SA Asnodkar\",\"Mandeep Singh\",\"DB Das\",\"BCJ Cutting\",\"Shakib Al Hasan\",\"RR Powar\",\"JD Ryder\",\"PP Shaw\",\"UT Khawaja\",\"MA Agarwal\",\"CA Pujara\",\"LJ Wright\",\"NV Ojha\",\"TL Suman\",\"LA Carseldine\",\"MM Ali\",\"R Parag\",\"FY Fazal\",\"STR Binny\",\"S Sohal\",\"CM Gautam\",\"C de Grandhomme\",\"AB Agarkar\",\"RR Sarwan\",\"AR Patel\",\"AM Nayar\",\"DH Yagnik\",\"DT Christian\",\"SP Narine\",\"AA Jhunjhunwala\",\"MR Marsh\",\"DL Vettori\",\"DJ Hooda\",\"W Jaffer\",\"M Kartik\",\"R Sathish\",\"Mohammad Nabi\",\"Harbhajan Singh\",\"D Salunkhe\",\"VVS Laxman\",\"Washington Sundar\",\"KV Sharma\",\"S Aravind\",\"MD Mishra\",\"K Goel\",\"SP Goswami\",\"M Kaif\",\"C Munro\",\"MA Starc\",\"GH Vihari\",\"P Negi\",\"TG Southee\",\"A Kumble\",\"K Rabada\",\"MN Samuels\",\"B Akhil\",\"B Lee\",\"S Gopal\",\"A Mishra\",\"PP Chawla\",\"DS Kulkarni\",\"R Vinay Kumar\",\"P Dogra\",\"R Bhatia\",\"M Morkel\",\"RT Ponting\",\"AJ Tye\",\"R Ashwin\",\"S Sreesanth\",\"MS Gony\",\"WA Mota\",\"WPUJC Vaas\",\"SK Warne\",\"CR Woakes\",\"VR Aaron\",\"HV Patel\",\"PV Tambe\",\"Kuldeep Yadav\",\"A Chopra\",\"P Kumar\",\"UT Yadav\",\"NM Coulter-Nile\",\"MM Sharma\",\"DW Steyn\",\"SN Thakur\",\"SA Abbott\",\"B Kumar\",\"SB Bangar\",\"L Ronchi\",\"GB Hogg\",\"CJ Jordan\",\"MJ McClenaghan\",\"A Nehra\",\"MM Patel\",\"DT Patil\",\"T Henderson\",\"AA Chavan\",\"SL Malinga\",\"AS Rajpoot\",\"L Balaji\",\"R Sharma\",\"YS Chahal\",\"Harmeet Singh\",\"PJ Sangwan\",\"KMA Paul\",\"RP Singh\",\"AB Dinda\",\"S Kaul\",\"VRV Singh\",\"PP Ojha\"],\"xaxis\":\"x\",\"y\":[55.0,48.5,44.89430894308943,43.991379310344826,42.9646017699115,42.6,41.903225806451616,41.8,41.78431372549019,41.74074074074074,40.80487804878049,40.470588235294116,40.166666666666664,39.48701298701299,38.48148148148148,38.074074074074076,37.865671641791046,36.86363636363637,36.74576271186441,36.666666666666664,36.63265306122449,36.10596026490066,35.6,35.166666666666664,35.10526315789474,34.807453416149066,34.535714285714285,34.1,33.46666666666667,33.096774193548384,33.04838709677419,32.93382352941177,32.714285714285715,32.29940119760479,32.288,32.234042553191486,31.564356435643564,31.45098039215686,31.26865671641791,31.072727272727274,30.944444444444443,30.863636363636363,30.629032258064516,30.60909090909091,30.571428571428573,30.523809523809526,30.2,30.11864406779661,30.0,29.94047619047619,29.857142857142858,29.84375,29.798076923076923,29.75,29.563636363636363,29.48051948051948,29.444444444444443,29.215686274509803,29.2,29.144736842105264,29.093023255813954,28.634408602150536,28.244897959183675,27.62264150943396,27.44871794871795,27.305555555555557,27.217821782178216,27.183673469387756,27.1,26.98,26.935064935064936,26.91764705882353,26.435897435897434,26.4,26.25,25.945945945945947,25.62962962962963,25.625,25.4,25.131147540983605,24.813953488372093,24.75,24.677419354838708,24.134920634920636,24.0,23.90909090909091,23.886363636363637,23.75,23.526315789473685,23.470588235294116,23.37735849056604,23.1,23.026666666666667,22.928571428571427,22.818181818181817,22.714285714285715,22.666666666666668,22.5,22.36842105263158,22.333333333333332,22.1875,22.157894736842106,22.0,21.92,21.90625,21.75,21.6,21.583333333333332,20.7,20.065217391304348,20.0,19.9,19.8125,19.3,19.25,19.24,19.0,18.7,18.68,18.09433962264151,18.076923076923077,18.0,17.625,17.62162162162162,17.375,17.0,16.941176470588236,16.88888888888889,16.81132075471698,16.5,16.444444444444443,16.416666666666668,16.333333333333332,16.0,15.875,15.6,15.6,15.555555555555555,15.416666666666666,15.285714285714286,15.15,15.076923076923077,14.75,14.0,13.4,13.384615384615385,13.333333333333334,13.3,13.076923076923077,12.96774193548387,12.653061224489797,12.333333333333334,12.071428571428571,11.909090909090908,11.866666666666667,11.818181818181818,11.555555555555555,11.555555555555555,11.368421052631579,11.0,10.6,10.5,10.5,10.5,10.5,10.4,10.384615384615385,10.0,9.833333333333334,9.666666666666666,9.552631578947368,9.428571428571429,8.88888888888889,8.466666666666667,8.136363636363637,8.0,8.0,7.84,7.571428571428571,7.4,7.333333333333333,7.2,7.076923076923077,7.0,6.666666666666667,6.5,6.0,6.0,5.9375,5.4,5.125,5.071428571428571,4.5,4.5,4.428571428571429,4.4,3.933333333333333,3.0,3.0,2.5,1.8333333333333333],\"yaxis\":\"y\",\"type\":\"bar\"}],                        {\"template\":{\"data\":{\"bar\":[{\"error_x\":{\"color\":\"#2a3f5f\"},\"error_y\":{\"color\":\"#2a3f5f\"},\"marker\":{\"line\":{\"color\":\"#E5ECF6\",\"width\":0.5},\"pattern\":{\"fillmode\":\"overlay\",\"size\":10,\"solidity\":0.2}},\"type\":\"bar\"}],\"barpolar\":[{\"marker\":{\"line\":{\"color\":\"#E5ECF6\",\"width\":0.5},\"pattern\":{\"fillmode\":\"overlay\",\"size\":10,\"solidity\":0.2}},\"type\":\"barpolar\"}],\"carpet\":[{\"aaxis\":{\"endlinecolor\":\"#2a3f5f\",\"gridcolor\":\"white\",\"linecolor\":\"white\",\"minorgridcolor\":\"white\",\"startlinecolor\":\"#2a3f5f\"},\"baxis\":{\"endlinecolor\":\"#2a3f5f\",\"gridcolor\":\"white\",\"linecolor\":\"white\",\"minorgridcolor\":\"white\",\"startlinecolor\":\"#2a3f5f\"},\"type\":\"carpet\"}],\"choropleth\":[{\"colorbar\":{\"outlinewidth\":0,\"ticks\":\"\"},\"type\":\"choropleth\"}],\"contour\":[{\"colorbar\":{\"outlinewidth\":0,\"ticks\":\"\"},\"colorscale\":[[0.0,\"#0d0887\"],[0.1111111111111111,\"#46039f\"],[0.2222222222222222,\"#7201a8\"],[0.3333333333333333,\"#9c179e\"],[0.4444444444444444,\"#bd3786\"],[0.5555555555555556,\"#d8576b\"],[0.6666666666666666,\"#ed7953\"],[0.7777777777777778,\"#fb9f3a\"],[0.8888888888888888,\"#fdca26\"],[1.0,\"#f0f921\"]],\"type\":\"contour\"}],\"contourcarpet\":[{\"colorbar\":{\"outlinewidth\":0,\"ticks\":\"\"},\"type\":\"contourcarpet\"}],\"heatmap\":[{\"colorbar\":{\"outlinewidth\":0,\"ticks\":\"\"},\"colorscale\":[[0.0,\"#0d0887\"],[0.1111111111111111,\"#46039f\"],[0.2222222222222222,\"#7201a8\"],[0.3333333333333333,\"#9c179e\"],[0.4444444444444444,\"#bd3786\"],[0.5555555555555556,\"#d8576b\"],[0.6666666666666666,\"#ed7953\"],[0.7777777777777778,\"#fb9f3a\"],[0.8888888888888888,\"#fdca26\"],[1.0,\"#f0f921\"]],\"type\":\"heatmap\"}],\"heatmapgl\":[{\"colorbar\":{\"outlinewidth\":0,\"ticks\":\"\"},\"colorscale\":[[0.0,\"#0d0887\"],[0.1111111111111111,\"#46039f\"],[0.2222222222222222,\"#7201a8\"],[0.3333333333333333,\"#9c179e\"],[0.4444444444444444,\"#bd3786\"],[0.5555555555555556,\"#d8576b\"],[0.6666666666666666,\"#ed7953\"],[0.7777777777777778,\"#fb9f3a\"],[0.8888888888888888,\"#fdca26\"],[1.0,\"#f0f921\"]],\"type\":\"heatmapgl\"}],\"histogram\":[{\"marker\":{\"pattern\":{\"fillmode\":\"overlay\",\"size\":10,\"solidity\":0.2}},\"type\":\"histogram\"}],\"histogram2d\":[{\"colorbar\":{\"outlinewidth\":0,\"ticks\":\"\"},\"colorscale\":[[0.0,\"#0d0887\"],[0.1111111111111111,\"#46039f\"],[0.2222222222222222,\"#7201a8\"],[0.3333333333333333,\"#9c179e\"],[0.4444444444444444,\"#bd3786\"],[0.5555555555555556,\"#d8576b\"],[0.6666666666666666,\"#ed7953\"],[0.7777777777777778,\"#fb9f3a\"],[0.8888888888888888,\"#fdca26\"],[1.0,\"#f0f921\"]],\"type\":\"histogram2d\"}],\"histogram2dcontour\":[{\"colorbar\":{\"outlinewidth\":0,\"ticks\":\"\"},\"colorscale\":[[0.0,\"#0d0887\"],[0.1111111111111111,\"#46039f\"],[0.2222222222222222,\"#7201a8\"],[0.3333333333333333,\"#9c179e\"],[0.4444444444444444,\"#bd3786\"],[0.5555555555555556,\"#d8576b\"],[0.6666666666666666,\"#ed7953\"],[0.7777777777777778,\"#fb9f3a\"],[0.8888888888888888,\"#fdca26\"],[1.0,\"#f0f921\"]],\"type\":\"histogram2dcontour\"}],\"mesh3d\":[{\"colorbar\":{\"outlinewidth\":0,\"ticks\":\"\"},\"type\":\"mesh3d\"}],\"parcoords\":[{\"line\":{\"colorbar\":{\"outlinewidth\":0,\"ticks\":\"\"}},\"type\":\"parcoords\"}],\"pie\":[{\"automargin\":true,\"type\":\"pie\"}],\"scatter\":[{\"marker\":{\"colorbar\":{\"outlinewidth\":0,\"ticks\":\"\"}},\"type\":\"scatter\"}],\"scatter3d\":[{\"line\":{\"colorbar\":{\"outlinewidth\":0,\"ticks\":\"\"}},\"marker\":{\"colorbar\":{\"outlinewidth\":0,\"ticks\":\"\"}},\"type\":\"scatter3d\"}],\"scattercarpet\":[{\"marker\":{\"colorbar\":{\"outlinewidth\":0,\"ticks\":\"\"}},\"type\":\"scattercarpet\"}],\"scattergeo\":[{\"marker\":{\"colorbar\":{\"outlinewidth\":0,\"ticks\":\"\"}},\"type\":\"scattergeo\"}],\"scattergl\":[{\"marker\":{\"colorbar\":{\"outlinewidth\":0,\"ticks\":\"\"}},\"type\":\"scattergl\"}],\"scattermapbox\":[{\"marker\":{\"colorbar\":{\"outlinewidth\":0,\"ticks\":\"\"}},\"type\":\"scattermapbox\"}],\"scatterpolar\":[{\"marker\":{\"colorbar\":{\"outlinewidth\":0,\"ticks\":\"\"}},\"type\":\"scatterpolar\"}],\"scatterpolargl\":[{\"marker\":{\"colorbar\":{\"outlinewidth\":0,\"ticks\":\"\"}},\"type\":\"scatterpolargl\"}],\"scatterternary\":[{\"marker\":{\"colorbar\":{\"outlinewidth\":0,\"ticks\":\"\"}},\"type\":\"scatterternary\"}],\"surface\":[{\"colorbar\":{\"outlinewidth\":0,\"ticks\":\"\"},\"colorscale\":[[0.0,\"#0d0887\"],[0.1111111111111111,\"#46039f\"],[0.2222222222222222,\"#7201a8\"],[0.3333333333333333,\"#9c179e\"],[0.4444444444444444,\"#bd3786\"],[0.5555555555555556,\"#d8576b\"],[0.6666666666666666,\"#ed7953\"],[0.7777777777777778,\"#fb9f3a\"],[0.8888888888888888,\"#fdca26\"],[1.0,\"#f0f921\"]],\"type\":\"surface\"}],\"table\":[{\"cells\":{\"fill\":{\"color\":\"#EBF0F8\"},\"line\":{\"color\":\"white\"}},\"header\":{\"fill\":{\"color\":\"#C8D4E3\"},\"line\":{\"color\":\"white\"}},\"type\":\"table\"}]},\"layout\":{\"annotationdefaults\":{\"arrowcolor\":\"#2a3f5f\",\"arrowhead\":0,\"arrowwidth\":1},\"autotypenumbers\":\"strict\",\"coloraxis\":{\"colorbar\":{\"outlinewidth\":0,\"ticks\":\"\"}},\"colorscale\":{\"diverging\":[[0,\"#8e0152\"],[0.1,\"#c51b7d\"],[0.2,\"#de77ae\"],[0.3,\"#f1b6da\"],[0.4,\"#fde0ef\"],[0.5,\"#f7f7f7\"],[0.6,\"#e6f5d0\"],[0.7,\"#b8e186\"],[0.8,\"#7fbc41\"],[0.9,\"#4d9221\"],[1,\"#276419\"]],\"sequential\":[[0.0,\"#0d0887\"],[0.1111111111111111,\"#46039f\"],[0.2222222222222222,\"#7201a8\"],[0.3333333333333333,\"#9c179e\"],[0.4444444444444444,\"#bd3786\"],[0.5555555555555556,\"#d8576b\"],[0.6666666666666666,\"#ed7953\"],[0.7777777777777778,\"#fb9f3a\"],[0.8888888888888888,\"#fdca26\"],[1.0,\"#f0f921\"]],\"sequentialminus\":[[0.0,\"#0d0887\"],[0.1111111111111111,\"#46039f\"],[0.2222222222222222,\"#7201a8\"],[0.3333333333333333,\"#9c179e\"],[0.4444444444444444,\"#bd3786\"],[0.5555555555555556,\"#d8576b\"],[0.6666666666666666,\"#ed7953\"],[0.7777777777777778,\"#fb9f3a\"],[0.8888888888888888,\"#fdca26\"],[1.0,\"#f0f921\"]]},\"colorway\":[\"#636efa\",\"#EF553B\",\"#00cc96\",\"#ab63fa\",\"#FFA15A\",\"#19d3f3\",\"#FF6692\",\"#B6E880\",\"#FF97FF\",\"#FECB52\"],\"font\":{\"color\":\"#2a3f5f\"},\"geo\":{\"bgcolor\":\"white\",\"lakecolor\":\"white\",\"landcolor\":\"#E5ECF6\",\"showlakes\":true,\"showland\":true,\"subunitcolor\":\"white\"},\"hoverlabel\":{\"align\":\"left\"},\"hovermode\":\"closest\",\"mapbox\":{\"style\":\"light\"},\"paper_bgcolor\":\"white\",\"plot_bgcolor\":\"#E5ECF6\",\"polar\":{\"angularaxis\":{\"gridcolor\":\"white\",\"linecolor\":\"white\",\"ticks\":\"\"},\"bgcolor\":\"#E5ECF6\",\"radialaxis\":{\"gridcolor\":\"white\",\"linecolor\":\"white\",\"ticks\":\"\"}},\"scene\":{\"xaxis\":{\"backgroundcolor\":\"#E5ECF6\",\"gridcolor\":\"white\",\"gridwidth\":2,\"linecolor\":\"white\",\"showbackground\":true,\"ticks\":\"\",\"zerolinecolor\":\"white\"},\"yaxis\":{\"backgroundcolor\":\"#E5ECF6\",\"gridcolor\":\"white\",\"gridwidth\":2,\"linecolor\":\"white\",\"showbackground\":true,\"ticks\":\"\",\"zerolinecolor\":\"white\"},\"zaxis\":{\"backgroundcolor\":\"#E5ECF6\",\"gridcolor\":\"white\",\"gridwidth\":2,\"linecolor\":\"white\",\"showbackground\":true,\"ticks\":\"\",\"zerolinecolor\":\"white\"}},\"shapedefaults\":{\"line\":{\"color\":\"#2a3f5f\"}},\"ternary\":{\"aaxis\":{\"gridcolor\":\"white\",\"linecolor\":\"white\",\"ticks\":\"\"},\"baxis\":{\"gridcolor\":\"white\",\"linecolor\":\"white\",\"ticks\":\"\"},\"bgcolor\":\"#E5ECF6\",\"caxis\":{\"gridcolor\":\"white\",\"linecolor\":\"white\",\"ticks\":\"\"}},\"title\":{\"x\":0.05},\"xaxis\":{\"automargin\":true,\"gridcolor\":\"white\",\"linecolor\":\"white\",\"ticks\":\"\",\"title\":{\"standoff\":15},\"zerolinecolor\":\"white\",\"zerolinewidth\":2},\"yaxis\":{\"automargin\":true,\"gridcolor\":\"white\",\"linecolor\":\"white\",\"ticks\":\"\",\"title\":{\"standoff\":15},\"zerolinecolor\":\"white\",\"zerolinewidth\":2}}},\"xaxis\":{\"anchor\":\"y\",\"domain\":[0.0,1.0],\"title\":{\"text\":\"batsman\"}},\"yaxis\":{\"anchor\":\"x\",\"domain\":[0.0,1.0],\"title\":{\"text\":\"Batting_avg\"}},\"legend\":{\"tracegroupgap\":0},\"title\":{\"text\":\"Batting average of batsmans\"},\"barmode\":\"relative\"},                        {\"responsive\": true}                    ).then(function(){\n",
              "                            \n",
              "var gd = document.getElementById('1906f1ea-85d0-4249-b7bb-fe5272275176');\n",
              "var x = new MutationObserver(function (mutations, observer) {{\n",
              "        var display = window.getComputedStyle(gd).display;\n",
              "        if (!display || display === 'none') {{\n",
              "            console.log([gd, 'removed!']);\n",
              "            Plotly.purge(gd);\n",
              "            observer.disconnect();\n",
              "        }}\n",
              "}});\n",
              "\n",
              "// Listen for the removal of the full notebook cells\n",
              "var notebookContainer = gd.closest('#notebook-container');\n",
              "if (notebookContainer) {{\n",
              "    x.observe(notebookContainer, {childList: true});\n",
              "}}\n",
              "\n",
              "// Listen for the clearing of the current output cell\n",
              "var outputEl = gd.closest('.output');\n",
              "if (outputEl) {{\n",
              "    x.observe(outputEl, {childList: true});\n",
              "}}\n",
              "\n",
              "                        })                };                            </script>        </div>\n",
              "</body>\n",
              "</html>"
            ]
          },
          "metadata": {}
        }
      ]
    },
    {
      "cell_type": "markdown",
      "source": [
        "### observations:\n",
        "above are top ten batsmans having the highest batting average.\n",
        "1.  **RD Gaikwad** Batting average is **55.0**\n",
        "2.  **Iqbal Abdulla** Batting average is **48.5**\n",
        "3.  **DA Warner**  Batting average is **44.89**\n",
        "4.  **CH Gayle** Batting average is **43.99**\n",
        "5.  **MS Dhoni** Batting average is **42.96**\n",
        "6.  **PD Collingwood** Batting average is **42.6**\n",
        "7.  **SE Marsh** Batting average is **41.90**\n",
        "8.  **AB de villiers** Batting average is **41.8**\n",
        "9.  **JP Duminy** Batting average is **41.78**\n",
        "10. **LMP Simmons** Batting average is **41.74**\n",
        "\n"
      ],
      "metadata": {
        "id": "lTTQ6idOQoY7"
      }
    },
    {
      "cell_type": "markdown",
      "source": [
        "## Question 8:\n",
        "write a query to find out who has officiated as an(umpire) the most number of matches in IPL."
      ],
      "metadata": {
        "id": "Tre1M2MWS1C0"
      }
    },
    {
      "cell_type": "code",
      "source": [
        "# taking the frequency of umpire 1 and umpire 2\n",
        "count_umpire1 = df_matches.select('umpire1').groupBy('umpire1').count()\n",
        "count_umpire2 = df_matches.select('umpire2').groupBy('umpire2').count()\n",
        "print(count_umpire1.show(3))\n",
        "print()\n",
        "print(count_umpire2.show(3))"
      ],
      "metadata": {
        "id": "VWb-uOBJO79x",
        "colab": {
          "base_uri": "https://localhost:8080/"
        },
        "outputId": "b823b631-1120-43be-c096-740db761d27b"
      },
      "execution_count": null,
      "outputs": [
        {
          "output_type": "stream",
          "name": "stdout",
          "text": [
            "+--------------+-----+\n",
            "|       umpire1|count|\n",
            "+--------------+-----+\n",
            "|   RE Koertzen|   20|\n",
            "|      SJ Davis|    6|\n",
            "|AV Jayaprakash|    2|\n",
            "+--------------+-----+\n",
            "only showing top 3 rows\n",
            "\n",
            "None\n",
            "\n",
            "+--------------+-----+\n",
            "|       umpire2|count|\n",
            "+--------------+-----+\n",
            "|   RE Koertzen|   21|\n",
            "|      SJ Davis|    1|\n",
            "|AV Jayaprakash|    4|\n",
            "+--------------+-----+\n",
            "only showing top 3 rows\n",
            "\n",
            "None\n"
          ]
        }
      ]
    },
    {
      "cell_type": "code",
      "source": [
        "# Renaming the column in count_umpire2 dataframe for merging\n",
        "count_umpire2 = count_umpire2.withColumnRenamed('count', 'count1')\n",
        "count_umpire2 = count_umpire2.withColumnRenamed('umpire2', 'umpire1')\n",
        "count_umpire2.show(3)"
      ],
      "metadata": {
        "id": "wIa6X7qHVBLw",
        "colab": {
          "base_uri": "https://localhost:8080/"
        },
        "outputId": "00ae5eae-e499-41ff-afd6-eb464d47b8df"
      },
      "execution_count": null,
      "outputs": [
        {
          "output_type": "stream",
          "name": "stdout",
          "text": [
            "+--------------+------+\n",
            "|       umpire1|count1|\n",
            "+--------------+------+\n",
            "|   RE Koertzen|    21|\n",
            "|      SJ Davis|     1|\n",
            "|AV Jayaprakash|     4|\n",
            "+--------------+------+\n",
            "only showing top 3 rows\n",
            "\n"
          ]
        }
      ]
    },
    {
      "cell_type": "code",
      "source": [
        "# merging the count_umpire1 and count_umpire2 Dataframe\n",
        "ans_df8 = count_umpire1.join(count_umpire2, on='umpire1', how='inner')\n",
        "ans_df8.show(3)"
      ],
      "metadata": {
        "id": "03UAJlBqVBPS",
        "colab": {
          "base_uri": "https://localhost:8080/"
        },
        "outputId": "8d633d9a-6b34-40ad-f0f0-f960cde683fb"
      },
      "execution_count": null,
      "outputs": [
        {
          "output_type": "stream",
          "name": "stdout",
          "text": [
            "+--------------+-----+------+\n",
            "|       umpire1|count|count1|\n",
            "+--------------+-----+------+\n",
            "|   RE Koertzen|   20|    21|\n",
            "|      SJ Davis|    6|     1|\n",
            "|AV Jayaprakash|    2|     4|\n",
            "+--------------+-----+------+\n",
            "only showing top 3 rows\n",
            "\n"
          ]
        }
      ]
    },
    {
      "cell_type": "code",
      "source": [
        "# creating the new column total count and putting the sum of count1 and count 2 over there\n",
        "ans_df8 = ans_df8.withColumn('total_count', ans_df8['count']+ans_df8['count1'])\n",
        "ans_df8.show(3)"
      ],
      "metadata": {
        "id": "aS6hzJ_4VBSp",
        "colab": {
          "base_uri": "https://localhost:8080/"
        },
        "outputId": "49c48d96-9d00-436f-c210-891bc28ca047"
      },
      "execution_count": null,
      "outputs": [
        {
          "output_type": "stream",
          "name": "stdout",
          "text": [
            "+--------------+-----+------+-----------+\n",
            "|       umpire1|count|count1|total_count|\n",
            "+--------------+-----+------+-----------+\n",
            "|   RE Koertzen|   20|    21|         41|\n",
            "|      SJ Davis|    6|     1|          7|\n",
            "|AV Jayaprakash|    2|     4|          6|\n",
            "+--------------+-----+------+-----------+\n",
            "only showing top 3 rows\n",
            "\n"
          ]
        }
      ]
    },
    {
      "cell_type": "code",
      "source": [
        "## showing the results\n",
        "ans_df8.sort('total_count', ascending=False).show(5)"
      ],
      "metadata": {
        "id": "xW21wJDpVBWI",
        "colab": {
          "base_uri": "https://localhost:8080/"
        },
        "outputId": "bc2a678e-bd21-4423-c84a-51896757156c"
      },
      "execution_count": null,
      "outputs": [
        {
          "output_type": "stream",
          "name": "stdout",
          "text": [
            "+---------------+-----+------+-----------+\n",
            "|        umpire1|count|count1|total_count|\n",
            "+---------------+-----+------+-----------+\n",
            "|         S Ravi|   37|    84|        121|\n",
            "|HDPK Dharmasena|   78|    16|         94|\n",
            "|   AK Chaudhary|   56|    31|         87|\n",
            "|  C Shamshuddin|   22|    60|         82|\n",
            "|      M Erasmus|   40|    25|         65|\n",
            "+---------------+-----+------+-----------+\n",
            "only showing top 5 rows\n",
            "\n"
          ]
        }
      ]
    },
    {
      "cell_type": "code",
      "source": [
        "fig = px.bar(ans_df8.sort('total_count', ascending=False).toPandas(), x='umpire1', y='total_count', title='most umpire count')\n",
        "fig.show()"
      ],
      "metadata": {
        "colab": {
          "base_uri": "https://localhost:8080/"
        },
        "id": "CIwOm7kVcaOV",
        "outputId": "7e2d5a6c-329e-41c2-986e-281cb8bd2ad6"
      },
      "execution_count": null,
      "outputs": [
        {
          "output_type": "display_data",
          "data": {
            "text/html": [
              "<html>\n",
              "<head><meta charset=\"utf-8\" /></head>\n",
              "<body>\n",
              "    <div>            <script src=\"https://cdnjs.cloudflare.com/ajax/libs/mathjax/2.7.5/MathJax.js?config=TeX-AMS-MML_SVG\"></script><script type=\"text/javascript\">if (window.MathJax) {MathJax.Hub.Config({SVG: {font: \"STIX-Web\"}});}</script>                <script type=\"text/javascript\">window.PlotlyConfig = {MathJaxConfig: 'local'};</script>\n",
              "        <script src=\"https://cdn.plot.ly/plotly-2.8.3.min.js\"></script>                <div id=\"2b80f7f1-2cf3-486f-97f4-3d749a2b04c7\" class=\"plotly-graph-div\" style=\"height:525px; width:100%;\"></div>            <script type=\"text/javascript\">                                    window.PLOTLYENV=window.PLOTLYENV || {};                                    if (document.getElementById(\"2b80f7f1-2cf3-486f-97f4-3d749a2b04c7\")) {                    Plotly.newPlot(                        \"2b80f7f1-2cf3-486f-97f4-3d749a2b04c7\",                        [{\"alignmentgroup\":\"True\",\"hovertemplate\":\"umpire1=%{x}<br>total_count=%{y}<extra></extra>\",\"legendgroup\":\"\",\"marker\":{\"color\":\"#636efa\",\"pattern\":{\"shape\":\"\"}},\"name\":\"\",\"offsetgroup\":\"\",\"orientation\":\"v\",\"showlegend\":false,\"textposition\":\"auto\",\"x\":[\"S Ravi\",\"HDPK Dharmasena\",\"AK Chaudhary\",\"C Shamshuddin\",\"M Erasmus\",\"CK Nandan\",\"Nitin Menon\",\"SJA Taufel\",\"VA Kulkarni\",\"BNJ Oxenford\",\"CB Gaffaney\",\"RJ Tucker\",\"BR Doctrove\",\"RE Koertzen\",\"NJ Llong\",\"RK Illingworth\",\"SK Tarapore\",\"S Asnani\",\"DJ Harper\",\"AM Saheba\",\"VK Sharma\",\"A Nand Kishore\",\"PR Reiffel\",\"K Hariharan\",\"YC Barde\",\"JD Cloete\",\"BG Jerling\",\"SS Hazare\",\"S Das\",\"K Srinath\",\"SL Shastri\",\"IL Howell\",\"A Deshmukh\",\"MR Benson\",\"PG Pathak\",\"SJ Davis\",\"AV Jayaprakash\",\"IJ Gould\",\"SD Fry\"],\"xaxis\":\"x\",\"y\":[121,94,87,82,65,57,57,55,50,48,47,46,42,41,37,31,31,30,27,26,26,25,24,21,19,17,17,17,15,15,14,14,12,12,11,7,6,6,6],\"yaxis\":\"y\",\"type\":\"bar\"}],                        {\"template\":{\"data\":{\"bar\":[{\"error_x\":{\"color\":\"#2a3f5f\"},\"error_y\":{\"color\":\"#2a3f5f\"},\"marker\":{\"line\":{\"color\":\"#E5ECF6\",\"width\":0.5},\"pattern\":{\"fillmode\":\"overlay\",\"size\":10,\"solidity\":0.2}},\"type\":\"bar\"}],\"barpolar\":[{\"marker\":{\"line\":{\"color\":\"#E5ECF6\",\"width\":0.5},\"pattern\":{\"fillmode\":\"overlay\",\"size\":10,\"solidity\":0.2}},\"type\":\"barpolar\"}],\"carpet\":[{\"aaxis\":{\"endlinecolor\":\"#2a3f5f\",\"gridcolor\":\"white\",\"linecolor\":\"white\",\"minorgridcolor\":\"white\",\"startlinecolor\":\"#2a3f5f\"},\"baxis\":{\"endlinecolor\":\"#2a3f5f\",\"gridcolor\":\"white\",\"linecolor\":\"white\",\"minorgridcolor\":\"white\",\"startlinecolor\":\"#2a3f5f\"},\"type\":\"carpet\"}],\"choropleth\":[{\"colorbar\":{\"outlinewidth\":0,\"ticks\":\"\"},\"type\":\"choropleth\"}],\"contour\":[{\"colorbar\":{\"outlinewidth\":0,\"ticks\":\"\"},\"colorscale\":[[0.0,\"#0d0887\"],[0.1111111111111111,\"#46039f\"],[0.2222222222222222,\"#7201a8\"],[0.3333333333333333,\"#9c179e\"],[0.4444444444444444,\"#bd3786\"],[0.5555555555555556,\"#d8576b\"],[0.6666666666666666,\"#ed7953\"],[0.7777777777777778,\"#fb9f3a\"],[0.8888888888888888,\"#fdca26\"],[1.0,\"#f0f921\"]],\"type\":\"contour\"}],\"contourcarpet\":[{\"colorbar\":{\"outlinewidth\":0,\"ticks\":\"\"},\"type\":\"contourcarpet\"}],\"heatmap\":[{\"colorbar\":{\"outlinewidth\":0,\"ticks\":\"\"},\"colorscale\":[[0.0,\"#0d0887\"],[0.1111111111111111,\"#46039f\"],[0.2222222222222222,\"#7201a8\"],[0.3333333333333333,\"#9c179e\"],[0.4444444444444444,\"#bd3786\"],[0.5555555555555556,\"#d8576b\"],[0.6666666666666666,\"#ed7953\"],[0.7777777777777778,\"#fb9f3a\"],[0.8888888888888888,\"#fdca26\"],[1.0,\"#f0f921\"]],\"type\":\"heatmap\"}],\"heatmapgl\":[{\"colorbar\":{\"outlinewidth\":0,\"ticks\":\"\"},\"colorscale\":[[0.0,\"#0d0887\"],[0.1111111111111111,\"#46039f\"],[0.2222222222222222,\"#7201a8\"],[0.3333333333333333,\"#9c179e\"],[0.4444444444444444,\"#bd3786\"],[0.5555555555555556,\"#d8576b\"],[0.6666666666666666,\"#ed7953\"],[0.7777777777777778,\"#fb9f3a\"],[0.8888888888888888,\"#fdca26\"],[1.0,\"#f0f921\"]],\"type\":\"heatmapgl\"}],\"histogram\":[{\"marker\":{\"pattern\":{\"fillmode\":\"overlay\",\"size\":10,\"solidity\":0.2}},\"type\":\"histogram\"}],\"histogram2d\":[{\"colorbar\":{\"outlinewidth\":0,\"ticks\":\"\"},\"colorscale\":[[0.0,\"#0d0887\"],[0.1111111111111111,\"#46039f\"],[0.2222222222222222,\"#7201a8\"],[0.3333333333333333,\"#9c179e\"],[0.4444444444444444,\"#bd3786\"],[0.5555555555555556,\"#d8576b\"],[0.6666666666666666,\"#ed7953\"],[0.7777777777777778,\"#fb9f3a\"],[0.8888888888888888,\"#fdca26\"],[1.0,\"#f0f921\"]],\"type\":\"histogram2d\"}],\"histogram2dcontour\":[{\"colorbar\":{\"outlinewidth\":0,\"ticks\":\"\"},\"colorscale\":[[0.0,\"#0d0887\"],[0.1111111111111111,\"#46039f\"],[0.2222222222222222,\"#7201a8\"],[0.3333333333333333,\"#9c179e\"],[0.4444444444444444,\"#bd3786\"],[0.5555555555555556,\"#d8576b\"],[0.6666666666666666,\"#ed7953\"],[0.7777777777777778,\"#fb9f3a\"],[0.8888888888888888,\"#fdca26\"],[1.0,\"#f0f921\"]],\"type\":\"histogram2dcontour\"}],\"mesh3d\":[{\"colorbar\":{\"outlinewidth\":0,\"ticks\":\"\"},\"type\":\"mesh3d\"}],\"parcoords\":[{\"line\":{\"colorbar\":{\"outlinewidth\":0,\"ticks\":\"\"}},\"type\":\"parcoords\"}],\"pie\":[{\"automargin\":true,\"type\":\"pie\"}],\"scatter\":[{\"marker\":{\"colorbar\":{\"outlinewidth\":0,\"ticks\":\"\"}},\"type\":\"scatter\"}],\"scatter3d\":[{\"line\":{\"colorbar\":{\"outlinewidth\":0,\"ticks\":\"\"}},\"marker\":{\"colorbar\":{\"outlinewidth\":0,\"ticks\":\"\"}},\"type\":\"scatter3d\"}],\"scattercarpet\":[{\"marker\":{\"colorbar\":{\"outlinewidth\":0,\"ticks\":\"\"}},\"type\":\"scattercarpet\"}],\"scattergeo\":[{\"marker\":{\"colorbar\":{\"outlinewidth\":0,\"ticks\":\"\"}},\"type\":\"scattergeo\"}],\"scattergl\":[{\"marker\":{\"colorbar\":{\"outlinewidth\":0,\"ticks\":\"\"}},\"type\":\"scattergl\"}],\"scattermapbox\":[{\"marker\":{\"colorbar\":{\"outlinewidth\":0,\"ticks\":\"\"}},\"type\":\"scattermapbox\"}],\"scatterpolar\":[{\"marker\":{\"colorbar\":{\"outlinewidth\":0,\"ticks\":\"\"}},\"type\":\"scatterpolar\"}],\"scatterpolargl\":[{\"marker\":{\"colorbar\":{\"outlinewidth\":0,\"ticks\":\"\"}},\"type\":\"scatterpolargl\"}],\"scatterternary\":[{\"marker\":{\"colorbar\":{\"outlinewidth\":0,\"ticks\":\"\"}},\"type\":\"scatterternary\"}],\"surface\":[{\"colorbar\":{\"outlinewidth\":0,\"ticks\":\"\"},\"colorscale\":[[0.0,\"#0d0887\"],[0.1111111111111111,\"#46039f\"],[0.2222222222222222,\"#7201a8\"],[0.3333333333333333,\"#9c179e\"],[0.4444444444444444,\"#bd3786\"],[0.5555555555555556,\"#d8576b\"],[0.6666666666666666,\"#ed7953\"],[0.7777777777777778,\"#fb9f3a\"],[0.8888888888888888,\"#fdca26\"],[1.0,\"#f0f921\"]],\"type\":\"surface\"}],\"table\":[{\"cells\":{\"fill\":{\"color\":\"#EBF0F8\"},\"line\":{\"color\":\"white\"}},\"header\":{\"fill\":{\"color\":\"#C8D4E3\"},\"line\":{\"color\":\"white\"}},\"type\":\"table\"}]},\"layout\":{\"annotationdefaults\":{\"arrowcolor\":\"#2a3f5f\",\"arrowhead\":0,\"arrowwidth\":1},\"autotypenumbers\":\"strict\",\"coloraxis\":{\"colorbar\":{\"outlinewidth\":0,\"ticks\":\"\"}},\"colorscale\":{\"diverging\":[[0,\"#8e0152\"],[0.1,\"#c51b7d\"],[0.2,\"#de77ae\"],[0.3,\"#f1b6da\"],[0.4,\"#fde0ef\"],[0.5,\"#f7f7f7\"],[0.6,\"#e6f5d0\"],[0.7,\"#b8e186\"],[0.8,\"#7fbc41\"],[0.9,\"#4d9221\"],[1,\"#276419\"]],\"sequential\":[[0.0,\"#0d0887\"],[0.1111111111111111,\"#46039f\"],[0.2222222222222222,\"#7201a8\"],[0.3333333333333333,\"#9c179e\"],[0.4444444444444444,\"#bd3786\"],[0.5555555555555556,\"#d8576b\"],[0.6666666666666666,\"#ed7953\"],[0.7777777777777778,\"#fb9f3a\"],[0.8888888888888888,\"#fdca26\"],[1.0,\"#f0f921\"]],\"sequentialminus\":[[0.0,\"#0d0887\"],[0.1111111111111111,\"#46039f\"],[0.2222222222222222,\"#7201a8\"],[0.3333333333333333,\"#9c179e\"],[0.4444444444444444,\"#bd3786\"],[0.5555555555555556,\"#d8576b\"],[0.6666666666666666,\"#ed7953\"],[0.7777777777777778,\"#fb9f3a\"],[0.8888888888888888,\"#fdca26\"],[1.0,\"#f0f921\"]]},\"colorway\":[\"#636efa\",\"#EF553B\",\"#00cc96\",\"#ab63fa\",\"#FFA15A\",\"#19d3f3\",\"#FF6692\",\"#B6E880\",\"#FF97FF\",\"#FECB52\"],\"font\":{\"color\":\"#2a3f5f\"},\"geo\":{\"bgcolor\":\"white\",\"lakecolor\":\"white\",\"landcolor\":\"#E5ECF6\",\"showlakes\":true,\"showland\":true,\"subunitcolor\":\"white\"},\"hoverlabel\":{\"align\":\"left\"},\"hovermode\":\"closest\",\"mapbox\":{\"style\":\"light\"},\"paper_bgcolor\":\"white\",\"plot_bgcolor\":\"#E5ECF6\",\"polar\":{\"angularaxis\":{\"gridcolor\":\"white\",\"linecolor\":\"white\",\"ticks\":\"\"},\"bgcolor\":\"#E5ECF6\",\"radialaxis\":{\"gridcolor\":\"white\",\"linecolor\":\"white\",\"ticks\":\"\"}},\"scene\":{\"xaxis\":{\"backgroundcolor\":\"#E5ECF6\",\"gridcolor\":\"white\",\"gridwidth\":2,\"linecolor\":\"white\",\"showbackground\":true,\"ticks\":\"\",\"zerolinecolor\":\"white\"},\"yaxis\":{\"backgroundcolor\":\"#E5ECF6\",\"gridcolor\":\"white\",\"gridwidth\":2,\"linecolor\":\"white\",\"showbackground\":true,\"ticks\":\"\",\"zerolinecolor\":\"white\"},\"zaxis\":{\"backgroundcolor\":\"#E5ECF6\",\"gridcolor\":\"white\",\"gridwidth\":2,\"linecolor\":\"white\",\"showbackground\":true,\"ticks\":\"\",\"zerolinecolor\":\"white\"}},\"shapedefaults\":{\"line\":{\"color\":\"#2a3f5f\"}},\"ternary\":{\"aaxis\":{\"gridcolor\":\"white\",\"linecolor\":\"white\",\"ticks\":\"\"},\"baxis\":{\"gridcolor\":\"white\",\"linecolor\":\"white\",\"ticks\":\"\"},\"bgcolor\":\"#E5ECF6\",\"caxis\":{\"gridcolor\":\"white\",\"linecolor\":\"white\",\"ticks\":\"\"}},\"title\":{\"x\":0.05},\"xaxis\":{\"automargin\":true,\"gridcolor\":\"white\",\"linecolor\":\"white\",\"ticks\":\"\",\"title\":{\"standoff\":15},\"zerolinecolor\":\"white\",\"zerolinewidth\":2},\"yaxis\":{\"automargin\":true,\"gridcolor\":\"white\",\"linecolor\":\"white\",\"ticks\":\"\",\"title\":{\"standoff\":15},\"zerolinecolor\":\"white\",\"zerolinewidth\":2}}},\"xaxis\":{\"anchor\":\"y\",\"domain\":[0.0,1.0],\"title\":{\"text\":\"umpire1\"}},\"yaxis\":{\"anchor\":\"x\",\"domain\":[0.0,1.0],\"title\":{\"text\":\"total_count\"}},\"legend\":{\"tracegroupgap\":0},\"title\":{\"text\":\"most umpire count\"},\"barmode\":\"relative\"},                        {\"responsive\": true}                    ).then(function(){\n",
              "                            \n",
              "var gd = document.getElementById('2b80f7f1-2cf3-486f-97f4-3d749a2b04c7');\n",
              "var x = new MutationObserver(function (mutations, observer) {{\n",
              "        var display = window.getComputedStyle(gd).display;\n",
              "        if (!display || display === 'none') {{\n",
              "            console.log([gd, 'removed!']);\n",
              "            Plotly.purge(gd);\n",
              "            observer.disconnect();\n",
              "        }}\n",
              "}});\n",
              "\n",
              "// Listen for the removal of the full notebook cells\n",
              "var notebookContainer = gd.closest('#notebook-container');\n",
              "if (notebookContainer) {{\n",
              "    x.observe(notebookContainer, {childList: true});\n",
              "}}\n",
              "\n",
              "// Listen for the clearing of the current output cell\n",
              "var outputEl = gd.closest('.output');\n",
              "if (outputEl) {{\n",
              "    x.observe(outputEl, {childList: true});\n",
              "}}\n",
              "\n",
              "                        })                };                            </script>        </div>\n",
              "</body>\n",
              "</html>"
            ]
          },
          "metadata": {}
        }
      ]
    },
    {
      "cell_type": "markdown",
      "source": [
        "### observations:\n",
        "1. **S Ravi** has officiated as an umpire most number of matches. match count is **121**"
      ],
      "metadata": {
        "id": "eX_-lEUDWAIW"
      }
    },
    {
      "cell_type": "markdown",
      "source": [
        "# Quesiont 9 :\n",
        "Find venue Details of the match where V Kohli Scored his highest individual runs in ipl.\n"
      ],
      "metadata": {
        "id": "V2vI3uWXbdK4"
      }
    },
    {
      "cell_type": "code",
      "source": [
        "from pyspark.sql import functions as func"
      ],
      "metadata": {
        "id": "I9gpBSTCJIUO"
      },
      "execution_count": null,
      "outputs": []
    },
    {
      "cell_type": "code",
      "source": [
        "match_id = df_ipl_ball.filter(df_ipl_ball.batsman == 'V Kohli').groupBy('match_id').agg(\n",
        "    func.col('match_id'), func.sum('batsman_runs')).sort('sum(batsman_runs)', ascending=False).collect()[0]['match_id']\n",
        "match_id"
      ],
      "metadata": {
        "id": "WpXzZtGXcGoY",
        "colab": {
          "base_uri": "https://localhost:8080/"
        },
        "outputId": "29610769-f966-4da8-8933-7ab2ec3fdc2b"
      },
      "execution_count": null,
      "outputs": [
        {
          "output_type": "execute_result",
          "data": {
            "text/plain": [
              "980999"
            ]
          },
          "metadata": {},
          "execution_count": 131
        }
      ]
    },
    {
      "cell_type": "code",
      "source": [
        "df_venue.filter(df_venue['venue_id']==df_matches.filter(df_matches.match_id == match_id).collect()[0]['venue_id']).head()"
      ],
      "metadata": {
        "id": "AECaQhkQdVX-",
        "colab": {
          "base_uri": "https://localhost:8080/"
        },
        "outputId": "efe56f80-4450-4ac9-d2c1-72b437a8586e"
      },
      "execution_count": null,
      "outputs": [
        {
          "output_type": "execute_result",
          "data": {
            "text/plain": [
              "Row(venue_id=35, venue='M.Chinnaswamy Stadium', city='Bengaluru')"
            ]
          },
          "metadata": {},
          "execution_count": 132
        }
      ]
    },
    {
      "cell_type": "markdown",
      "source": [
        "### observations:\n",
        "1. V kohli Scored his highest ipl score **M.Chinnaswamy Stadium**. city is **Bengaluru**. venue_id is **35** "
      ],
      "metadata": {
        "id": "51KTD6mFegKP"
      }
    },
    {
      "cell_type": "markdown",
      "source": [
        "## Question 10: Creating Case Study\n",
        "Please Analys how winning/lossing tosses can impact a match and it's result?\n"
      ],
      "metadata": {
        "id": "JX3fekIzehES"
      }
    },
    {
      "cell_type": "markdown",
      "source": [
        "### in pyspark dataframe we don't have a visualization plots.\n",
        "so we can convert pyspark dataframe to pandas for visualization only."
      ],
      "metadata": {
        "id": "KPH9Z_Rv3TXF"
      }
    },
    {
      "cell_type": "code",
      "source": [
        "df_matches.show(5)"
      ],
      "metadata": {
        "id": "oCyjFobYeGqS",
        "colab": {
          "base_uri": "https://localhost:8080/"
        },
        "outputId": "a23eb62d-7406-42b9-afd9-e40066c68df4"
      },
      "execution_count": null,
      "outputs": [
        {
          "output_type": "stream",
          "name": "stdout",
          "text": [
            "+--------+----------+---------------+--------+-------------+--------------------+--------------------+--------------------+-------------+--------------------+-------+-------------+----------+------+---------+--------------+\n",
            "|match_id|      date|player_of_match|venue_id|neutral_venue|               team1|               team2|         toss_winner|toss_decision|              winner| result|result_margin|eliminator|method|  umpire1|       umpire2|\n",
            "+--------+----------+---------------+--------+-------------+--------------------+--------------------+--------------------+-------------+--------------------+-------+-------------+----------+------+---------+--------------+\n",
            "|  335982|2008-04-18|    BB McCullum|      35|            0|Royal Challengers...|Kolkata Knight Ri...|Royal Challengers...|        field|Kolkata Knight Ri...|   runs|          140|         N|    NA|Asad Rauf|   RE Koertzen|\n",
            "|  335983|2008-04-19|     MEK Hussey|      31|            0|     Kings XI Punjab| Chennai Super Kings| Chennai Super Kings|          bat| Chennai Super Kings|   runs|           33|         N|    NA|MR Benson|    SL Shastri|\n",
            "|  335984|2008-04-19|    MF Maharoof|      27|            0|    Delhi Daredevils|    Rajasthan Royals|    Rajasthan Royals|          bat|    Delhi Daredevils|wickets|            9|         N|    NA|Aleem Dar|GA Pratapkumar|\n",
            "|  335985|2008-04-20|     MV Boucher|      14|            0|      Mumbai Indians|Royal Challengers...|      Mumbai Indians|          bat|Royal Challengers...|wickets|            5|         N|    NA| SJ Davis|     DJ Harper|\n",
            "|  335986|2008-04-20|      DJ Hussey|      15|            0|Kolkata Knight Ri...|     Deccan Chargers|     Deccan Chargers|          bat|Kolkata Knight Ri...|wickets|            5|         N|    NA|BF Bowden|   K Hariharan|\n",
            "+--------+----------+---------------+--------+-------------+--------------------+--------------------+--------------------+-------------+--------------------+-------+-------------+----------+------+---------+--------------+\n",
            "only showing top 5 rows\n",
            "\n"
          ]
        }
      ]
    },
    {
      "cell_type": "code",
      "source": [
        "# filtering where the toss winner is match winner\n",
        "toss_mat_win = df_matches.select(['toss_winner', 'toss_decision', 'winner', 'result_margin']).filter(df_matches.toss_winner==df_matches.winner)\n",
        "\n",
        "# filtering where the toss winner is not match winner\n",
        "toss_mat_loss = df_matches.select(['toss_winner', 'toss_decision', 'winner', 'result_margin']).filter(df_matches.toss_winner!=df_matches.winner)"
      ],
      "metadata": {
        "id": "cw9Shp9h5K5L"
      },
      "execution_count": null,
      "outputs": []
    },
    {
      "cell_type": "code",
      "source": [
        "# adding a new column with value for the analysis\n",
        "toss_mat_win = toss_mat_win.withColumn('win1', toss_mat_win.result_margin-toss_mat_win.result_margin+1)\n",
        "\n",
        "# adding a new column for the analysis\n",
        "toss_mat_loss = toss_mat_loss.withColumn('win1', toss_mat_loss.result_margin-toss_mat_loss.result_margin+1)"
      ],
      "metadata": {
        "id": "W9fVg9OGTbzf"
      },
      "execution_count": null,
      "outputs": []
    },
    {
      "cell_type": "code",
      "source": [
        "# filtering the toss_decision==bat from the  toss winner == match_winner\n",
        "toss_win = toss_mat_win.filter(toss_mat_win.toss_decision=='bat')\n",
        "\n",
        "# filtering the toss_decision == bat from the toss winner == match_loser\n",
        "toss_loss = toss_mat_loss.filter(toss_mat_loss.toss_decision=='bat')"
      ],
      "metadata": {
        "id": "tGzNbDNDU37e"
      },
      "execution_count": null,
      "outputs": []
    },
    {
      "cell_type": "code",
      "source": [
        "# grouping with respect to toss inners\n",
        "toss_win_group = toss_win.groupBy('toss_winner').sum()\n",
        "toss_loss_group = toss_loss.groupBy('toss_winner').sum()"
      ],
      "metadata": {
        "id": "0IJjnW6Eaj6S"
      },
      "execution_count": null,
      "outputs": []
    },
    {
      "cell_type": "code",
      "source": [
        "# converting it into pandas DataFrame visualization\n",
        "toss_win1 = toss_win_group.toPandas()\n",
        "toss_loss1 = toss_loss_group.toPandas()"
      ],
      "metadata": {
        "id": "suP6y2izZ2Ml"
      },
      "execution_count": null,
      "outputs": []
    },
    {
      "cell_type": "code",
      "source": [
        "toss_win1.head(1)"
      ],
      "metadata": {
        "colab": {
          "base_uri": "https://localhost:8080/",
          "height": 81
        },
        "id": "-VraQPFVZ2ga",
        "outputId": "394e0661-8562-4a3f-88c6-7b8fa307a76a"
      },
      "execution_count": null,
      "outputs": [
        {
          "output_type": "execute_result",
          "data": {
            "text/html": [
              "\n",
              "  <div id=\"df-78887fa1-8ed7-4c0a-81e5-e1eb094512ae\">\n",
              "    <div class=\"colab-df-container\">\n",
              "      <div>\n",
              "<style scoped>\n",
              "    .dataframe tbody tr th:only-of-type {\n",
              "        vertical-align: middle;\n",
              "    }\n",
              "\n",
              "    .dataframe tbody tr th {\n",
              "        vertical-align: top;\n",
              "    }\n",
              "\n",
              "    .dataframe thead th {\n",
              "        text-align: right;\n",
              "    }\n",
              "</style>\n",
              "<table border=\"1\" class=\"dataframe\">\n",
              "  <thead>\n",
              "    <tr style=\"text-align: right;\">\n",
              "      <th></th>\n",
              "      <th>toss_winner</th>\n",
              "      <th>sum(win1)</th>\n",
              "    </tr>\n",
              "  </thead>\n",
              "  <tbody>\n",
              "    <tr>\n",
              "      <th>0</th>\n",
              "      <td>Sunrisers Hyderabad</td>\n",
              "      <td>10.0</td>\n",
              "    </tr>\n",
              "  </tbody>\n",
              "</table>\n",
              "</div>\n",
              "      <button class=\"colab-df-convert\" onclick=\"convertToInteractive('df-78887fa1-8ed7-4c0a-81e5-e1eb094512ae')\"\n",
              "              title=\"Convert this dataframe to an interactive table.\"\n",
              "              style=\"display:none;\">\n",
              "        \n",
              "  <svg xmlns=\"http://www.w3.org/2000/svg\" height=\"24px\"viewBox=\"0 0 24 24\"\n",
              "       width=\"24px\">\n",
              "    <path d=\"M0 0h24v24H0V0z\" fill=\"none\"/>\n",
              "    <path d=\"M18.56 5.44l.94 2.06.94-2.06 2.06-.94-2.06-.94-.94-2.06-.94 2.06-2.06.94zm-11 1L8.5 8.5l.94-2.06 2.06-.94-2.06-.94L8.5 2.5l-.94 2.06-2.06.94zm10 10l.94 2.06.94-2.06 2.06-.94-2.06-.94-.94-2.06-.94 2.06-2.06.94z\"/><path d=\"M17.41 7.96l-1.37-1.37c-.4-.4-.92-.59-1.43-.59-.52 0-1.04.2-1.43.59L10.3 9.45l-7.72 7.72c-.78.78-.78 2.05 0 2.83L4 21.41c.39.39.9.59 1.41.59.51 0 1.02-.2 1.41-.59l7.78-7.78 2.81-2.81c.8-.78.8-2.07 0-2.86zM5.41 20L4 18.59l7.72-7.72 1.47 1.35L5.41 20z\"/>\n",
              "  </svg>\n",
              "      </button>\n",
              "      \n",
              "  <style>\n",
              "    .colab-df-container {\n",
              "      display:flex;\n",
              "      flex-wrap:wrap;\n",
              "      gap: 12px;\n",
              "    }\n",
              "\n",
              "    .colab-df-convert {\n",
              "      background-color: #E8F0FE;\n",
              "      border: none;\n",
              "      border-radius: 50%;\n",
              "      cursor: pointer;\n",
              "      display: none;\n",
              "      fill: #1967D2;\n",
              "      height: 32px;\n",
              "      padding: 0 0 0 0;\n",
              "      width: 32px;\n",
              "    }\n",
              "\n",
              "    .colab-df-convert:hover {\n",
              "      background-color: #E2EBFA;\n",
              "      box-shadow: 0px 1px 2px rgba(60, 64, 67, 0.3), 0px 1px 3px 1px rgba(60, 64, 67, 0.15);\n",
              "      fill: #174EA6;\n",
              "    }\n",
              "\n",
              "    [theme=dark] .colab-df-convert {\n",
              "      background-color: #3B4455;\n",
              "      fill: #D2E3FC;\n",
              "    }\n",
              "\n",
              "    [theme=dark] .colab-df-convert:hover {\n",
              "      background-color: #434B5C;\n",
              "      box-shadow: 0px 1px 3px 1px rgba(0, 0, 0, 0.15);\n",
              "      filter: drop-shadow(0px 1px 2px rgba(0, 0, 0, 0.3));\n",
              "      fill: #FFFFFF;\n",
              "    }\n",
              "  </style>\n",
              "\n",
              "      <script>\n",
              "        const buttonEl =\n",
              "          document.querySelector('#df-78887fa1-8ed7-4c0a-81e5-e1eb094512ae button.colab-df-convert');\n",
              "        buttonEl.style.display =\n",
              "          google.colab.kernel.accessAllowed ? 'block' : 'none';\n",
              "\n",
              "        async function convertToInteractive(key) {\n",
              "          const element = document.querySelector('#df-78887fa1-8ed7-4c0a-81e5-e1eb094512ae');\n",
              "          const dataTable =\n",
              "            await google.colab.kernel.invokeFunction('convertToInteractive',\n",
              "                                                     [key], {});\n",
              "          if (!dataTable) return;\n",
              "\n",
              "          const docLinkHtml = 'Like what you see? Visit the ' +\n",
              "            '<a target=\"_blank\" href=https://colab.research.google.com/notebooks/data_table.ipynb>data table notebook</a>'\n",
              "            + ' to learn more about interactive tables.';\n",
              "          element.innerHTML = '';\n",
              "          dataTable['output_type'] = 'display_data';\n",
              "          await google.colab.output.renderOutput(dataTable, element);\n",
              "          const docLink = document.createElement('div');\n",
              "          docLink.innerHTML = docLinkHtml;\n",
              "          element.appendChild(docLink);\n",
              "        }\n",
              "      </script>\n",
              "    </div>\n",
              "  </div>\n",
              "  "
            ],
            "text/plain": [
              "           toss_winner  sum(win1)\n",
              "0  Sunrisers Hyderabad       10.0"
            ]
          },
          "metadata": {},
          "execution_count": 139
        }
      ]
    },
    {
      "cell_type": "code",
      "source": [
        "toss_loss1.head(1)"
      ],
      "metadata": {
        "colab": {
          "base_uri": "https://localhost:8080/",
          "height": 81
        },
        "id": "QVaUw9OqZU4u",
        "outputId": "62d75d76-3a4c-454e-975e-f0870dd45111"
      },
      "execution_count": null,
      "outputs": [
        {
          "output_type": "execute_result",
          "data": {
            "text/html": [
              "\n",
              "  <div id=\"df-f4d01269-8d56-4f2e-a9e1-9880a7e7c592\">\n",
              "    <div class=\"colab-df-container\">\n",
              "      <div>\n",
              "<style scoped>\n",
              "    .dataframe tbody tr th:only-of-type {\n",
              "        vertical-align: middle;\n",
              "    }\n",
              "\n",
              "    .dataframe tbody tr th {\n",
              "        vertical-align: top;\n",
              "    }\n",
              "\n",
              "    .dataframe thead th {\n",
              "        text-align: right;\n",
              "    }\n",
              "</style>\n",
              "<table border=\"1\" class=\"dataframe\">\n",
              "  <thead>\n",
              "    <tr style=\"text-align: right;\">\n",
              "      <th></th>\n",
              "      <th>toss_winner</th>\n",
              "      <th>sum(win1)</th>\n",
              "    </tr>\n",
              "  </thead>\n",
              "  <tbody>\n",
              "    <tr>\n",
              "      <th>0</th>\n",
              "      <td>Sunrisers Hyderabad</td>\n",
              "      <td>14.0</td>\n",
              "    </tr>\n",
              "  </tbody>\n",
              "</table>\n",
              "</div>\n",
              "      <button class=\"colab-df-convert\" onclick=\"convertToInteractive('df-f4d01269-8d56-4f2e-a9e1-9880a7e7c592')\"\n",
              "              title=\"Convert this dataframe to an interactive table.\"\n",
              "              style=\"display:none;\">\n",
              "        \n",
              "  <svg xmlns=\"http://www.w3.org/2000/svg\" height=\"24px\"viewBox=\"0 0 24 24\"\n",
              "       width=\"24px\">\n",
              "    <path d=\"M0 0h24v24H0V0z\" fill=\"none\"/>\n",
              "    <path d=\"M18.56 5.44l.94 2.06.94-2.06 2.06-.94-2.06-.94-.94-2.06-.94 2.06-2.06.94zm-11 1L8.5 8.5l.94-2.06 2.06-.94-2.06-.94L8.5 2.5l-.94 2.06-2.06.94zm10 10l.94 2.06.94-2.06 2.06-.94-2.06-.94-.94-2.06-.94 2.06-2.06.94z\"/><path d=\"M17.41 7.96l-1.37-1.37c-.4-.4-.92-.59-1.43-.59-.52 0-1.04.2-1.43.59L10.3 9.45l-7.72 7.72c-.78.78-.78 2.05 0 2.83L4 21.41c.39.39.9.59 1.41.59.51 0 1.02-.2 1.41-.59l7.78-7.78 2.81-2.81c.8-.78.8-2.07 0-2.86zM5.41 20L4 18.59l7.72-7.72 1.47 1.35L5.41 20z\"/>\n",
              "  </svg>\n",
              "      </button>\n",
              "      \n",
              "  <style>\n",
              "    .colab-df-container {\n",
              "      display:flex;\n",
              "      flex-wrap:wrap;\n",
              "      gap: 12px;\n",
              "    }\n",
              "\n",
              "    .colab-df-convert {\n",
              "      background-color: #E8F0FE;\n",
              "      border: none;\n",
              "      border-radius: 50%;\n",
              "      cursor: pointer;\n",
              "      display: none;\n",
              "      fill: #1967D2;\n",
              "      height: 32px;\n",
              "      padding: 0 0 0 0;\n",
              "      width: 32px;\n",
              "    }\n",
              "\n",
              "    .colab-df-convert:hover {\n",
              "      background-color: #E2EBFA;\n",
              "      box-shadow: 0px 1px 2px rgba(60, 64, 67, 0.3), 0px 1px 3px 1px rgba(60, 64, 67, 0.15);\n",
              "      fill: #174EA6;\n",
              "    }\n",
              "\n",
              "    [theme=dark] .colab-df-convert {\n",
              "      background-color: #3B4455;\n",
              "      fill: #D2E3FC;\n",
              "    }\n",
              "\n",
              "    [theme=dark] .colab-df-convert:hover {\n",
              "      background-color: #434B5C;\n",
              "      box-shadow: 0px 1px 3px 1px rgba(0, 0, 0, 0.15);\n",
              "      filter: drop-shadow(0px 1px 2px rgba(0, 0, 0, 0.3));\n",
              "      fill: #FFFFFF;\n",
              "    }\n",
              "  </style>\n",
              "\n",
              "      <script>\n",
              "        const buttonEl =\n",
              "          document.querySelector('#df-f4d01269-8d56-4f2e-a9e1-9880a7e7c592 button.colab-df-convert');\n",
              "        buttonEl.style.display =\n",
              "          google.colab.kernel.accessAllowed ? 'block' : 'none';\n",
              "\n",
              "        async function convertToInteractive(key) {\n",
              "          const element = document.querySelector('#df-f4d01269-8d56-4f2e-a9e1-9880a7e7c592');\n",
              "          const dataTable =\n",
              "            await google.colab.kernel.invokeFunction('convertToInteractive',\n",
              "                                                     [key], {});\n",
              "          if (!dataTable) return;\n",
              "\n",
              "          const docLinkHtml = 'Like what you see? Visit the ' +\n",
              "            '<a target=\"_blank\" href=https://colab.research.google.com/notebooks/data_table.ipynb>data table notebook</a>'\n",
              "            + ' to learn more about interactive tables.';\n",
              "          element.innerHTML = '';\n",
              "          dataTable['output_type'] = 'display_data';\n",
              "          await google.colab.output.renderOutput(dataTable, element);\n",
              "          const docLink = document.createElement('div');\n",
              "          docLink.innerHTML = docLinkHtml;\n",
              "          element.appendChild(docLink);\n",
              "        }\n",
              "      </script>\n",
              "    </div>\n",
              "  </div>\n",
              "  "
            ],
            "text/plain": [
              "           toss_winner  sum(win1)\n",
              "0  Sunrisers Hyderabad       14.0"
            ]
          },
          "metadata": {},
          "execution_count": 140
        }
      ]
    },
    {
      "cell_type": "code",
      "source": [
        "# total number of winning count for toss winners\n",
        "win_count = toss_mat_win.groupBy('toss_winner').sum()\n",
        "\n",
        "# total number of losing count for toss winners\n",
        "loss_count = toss_mat_win.groupBy('toss_winner').sum()"
      ],
      "metadata": {
        "id": "Y_9sus1hVoZs"
      },
      "execution_count": null,
      "outputs": []
    },
    {
      "cell_type": "code",
      "source": [
        "win_count1 = win_count.toPandas()\n",
        "loss_count1 = loss_count.toPandas()"
      ],
      "metadata": {
        "id": "6nZ8T5uaWUOC"
      },
      "execution_count": null,
      "outputs": []
    },
    {
      "cell_type": "code",
      "source": [
        "win_count1.head(1)"
      ],
      "metadata": {
        "colab": {
          "base_uri": "https://localhost:8080/",
          "height": 81
        },
        "id": "sUyY7L99XMU8",
        "outputId": "04b19e8c-9ff8-4ac9-87f7-e37fae18d234"
      },
      "execution_count": null,
      "outputs": [
        {
          "output_type": "execute_result",
          "data": {
            "text/html": [
              "\n",
              "  <div id=\"df-e328f335-c497-45e2-9d20-a27d4d9d3d68\">\n",
              "    <div class=\"colab-df-container\">\n",
              "      <div>\n",
              "<style scoped>\n",
              "    .dataframe tbody tr th:only-of-type {\n",
              "        vertical-align: middle;\n",
              "    }\n",
              "\n",
              "    .dataframe tbody tr th {\n",
              "        vertical-align: top;\n",
              "    }\n",
              "\n",
              "    .dataframe thead th {\n",
              "        text-align: right;\n",
              "    }\n",
              "</style>\n",
              "<table border=\"1\" class=\"dataframe\">\n",
              "  <thead>\n",
              "    <tr style=\"text-align: right;\">\n",
              "      <th></th>\n",
              "      <th>toss_winner</th>\n",
              "      <th>sum(win1)</th>\n",
              "    </tr>\n",
              "  </thead>\n",
              "  <tbody>\n",
              "    <tr>\n",
              "      <th>0</th>\n",
              "      <td>Sunrisers Hyderabad</td>\n",
              "      <td>29.0</td>\n",
              "    </tr>\n",
              "  </tbody>\n",
              "</table>\n",
              "</div>\n",
              "      <button class=\"colab-df-convert\" onclick=\"convertToInteractive('df-e328f335-c497-45e2-9d20-a27d4d9d3d68')\"\n",
              "              title=\"Convert this dataframe to an interactive table.\"\n",
              "              style=\"display:none;\">\n",
              "        \n",
              "  <svg xmlns=\"http://www.w3.org/2000/svg\" height=\"24px\"viewBox=\"0 0 24 24\"\n",
              "       width=\"24px\">\n",
              "    <path d=\"M0 0h24v24H0V0z\" fill=\"none\"/>\n",
              "    <path d=\"M18.56 5.44l.94 2.06.94-2.06 2.06-.94-2.06-.94-.94-2.06-.94 2.06-2.06.94zm-11 1L8.5 8.5l.94-2.06 2.06-.94-2.06-.94L8.5 2.5l-.94 2.06-2.06.94zm10 10l.94 2.06.94-2.06 2.06-.94-2.06-.94-.94-2.06-.94 2.06-2.06.94z\"/><path d=\"M17.41 7.96l-1.37-1.37c-.4-.4-.92-.59-1.43-.59-.52 0-1.04.2-1.43.59L10.3 9.45l-7.72 7.72c-.78.78-.78 2.05 0 2.83L4 21.41c.39.39.9.59 1.41.59.51 0 1.02-.2 1.41-.59l7.78-7.78 2.81-2.81c.8-.78.8-2.07 0-2.86zM5.41 20L4 18.59l7.72-7.72 1.47 1.35L5.41 20z\"/>\n",
              "  </svg>\n",
              "      </button>\n",
              "      \n",
              "  <style>\n",
              "    .colab-df-container {\n",
              "      display:flex;\n",
              "      flex-wrap:wrap;\n",
              "      gap: 12px;\n",
              "    }\n",
              "\n",
              "    .colab-df-convert {\n",
              "      background-color: #E8F0FE;\n",
              "      border: none;\n",
              "      border-radius: 50%;\n",
              "      cursor: pointer;\n",
              "      display: none;\n",
              "      fill: #1967D2;\n",
              "      height: 32px;\n",
              "      padding: 0 0 0 0;\n",
              "      width: 32px;\n",
              "    }\n",
              "\n",
              "    .colab-df-convert:hover {\n",
              "      background-color: #E2EBFA;\n",
              "      box-shadow: 0px 1px 2px rgba(60, 64, 67, 0.3), 0px 1px 3px 1px rgba(60, 64, 67, 0.15);\n",
              "      fill: #174EA6;\n",
              "    }\n",
              "\n",
              "    [theme=dark] .colab-df-convert {\n",
              "      background-color: #3B4455;\n",
              "      fill: #D2E3FC;\n",
              "    }\n",
              "\n",
              "    [theme=dark] .colab-df-convert:hover {\n",
              "      background-color: #434B5C;\n",
              "      box-shadow: 0px 1px 3px 1px rgba(0, 0, 0, 0.15);\n",
              "      filter: drop-shadow(0px 1px 2px rgba(0, 0, 0, 0.3));\n",
              "      fill: #FFFFFF;\n",
              "    }\n",
              "  </style>\n",
              "\n",
              "      <script>\n",
              "        const buttonEl =\n",
              "          document.querySelector('#df-e328f335-c497-45e2-9d20-a27d4d9d3d68 button.colab-df-convert');\n",
              "        buttonEl.style.display =\n",
              "          google.colab.kernel.accessAllowed ? 'block' : 'none';\n",
              "\n",
              "        async function convertToInteractive(key) {\n",
              "          const element = document.querySelector('#df-e328f335-c497-45e2-9d20-a27d4d9d3d68');\n",
              "          const dataTable =\n",
              "            await google.colab.kernel.invokeFunction('convertToInteractive',\n",
              "                                                     [key], {});\n",
              "          if (!dataTable) return;\n",
              "\n",
              "          const docLinkHtml = 'Like what you see? Visit the ' +\n",
              "            '<a target=\"_blank\" href=https://colab.research.google.com/notebooks/data_table.ipynb>data table notebook</a>'\n",
              "            + ' to learn more about interactive tables.';\n",
              "          element.innerHTML = '';\n",
              "          dataTable['output_type'] = 'display_data';\n",
              "          await google.colab.output.renderOutput(dataTable, element);\n",
              "          const docLink = document.createElement('div');\n",
              "          docLink.innerHTML = docLinkHtml;\n",
              "          element.appendChild(docLink);\n",
              "        }\n",
              "      </script>\n",
              "    </div>\n",
              "  </div>\n",
              "  "
            ],
            "text/plain": [
              "           toss_winner  sum(win1)\n",
              "0  Sunrisers Hyderabad       29.0"
            ]
          },
          "metadata": {},
          "execution_count": 143
        }
      ]
    },
    {
      "cell_type": "code",
      "source": [
        "loss_count1.head(1)"
      ],
      "metadata": {
        "colab": {
          "base_uri": "https://localhost:8080/",
          "height": 81
        },
        "id": "-CGl27kDXMfJ",
        "outputId": "aab33080-a47e-4bf7-af6e-2f9253ed13ca"
      },
      "execution_count": null,
      "outputs": [
        {
          "output_type": "execute_result",
          "data": {
            "text/html": [
              "\n",
              "  <div id=\"df-93ffa1cc-a6c3-4586-a3b8-af5747dabd43\">\n",
              "    <div class=\"colab-df-container\">\n",
              "      <div>\n",
              "<style scoped>\n",
              "    .dataframe tbody tr th:only-of-type {\n",
              "        vertical-align: middle;\n",
              "    }\n",
              "\n",
              "    .dataframe tbody tr th {\n",
              "        vertical-align: top;\n",
              "    }\n",
              "\n",
              "    .dataframe thead th {\n",
              "        text-align: right;\n",
              "    }\n",
              "</style>\n",
              "<table border=\"1\" class=\"dataframe\">\n",
              "  <thead>\n",
              "    <tr style=\"text-align: right;\">\n",
              "      <th></th>\n",
              "      <th>toss_winner</th>\n",
              "      <th>sum(win1)</th>\n",
              "    </tr>\n",
              "  </thead>\n",
              "  <tbody>\n",
              "    <tr>\n",
              "      <th>0</th>\n",
              "      <td>Sunrisers Hyderabad</td>\n",
              "      <td>29.0</td>\n",
              "    </tr>\n",
              "  </tbody>\n",
              "</table>\n",
              "</div>\n",
              "      <button class=\"colab-df-convert\" onclick=\"convertToInteractive('df-93ffa1cc-a6c3-4586-a3b8-af5747dabd43')\"\n",
              "              title=\"Convert this dataframe to an interactive table.\"\n",
              "              style=\"display:none;\">\n",
              "        \n",
              "  <svg xmlns=\"http://www.w3.org/2000/svg\" height=\"24px\"viewBox=\"0 0 24 24\"\n",
              "       width=\"24px\">\n",
              "    <path d=\"M0 0h24v24H0V0z\" fill=\"none\"/>\n",
              "    <path d=\"M18.56 5.44l.94 2.06.94-2.06 2.06-.94-2.06-.94-.94-2.06-.94 2.06-2.06.94zm-11 1L8.5 8.5l.94-2.06 2.06-.94-2.06-.94L8.5 2.5l-.94 2.06-2.06.94zm10 10l.94 2.06.94-2.06 2.06-.94-2.06-.94-.94-2.06-.94 2.06-2.06.94z\"/><path d=\"M17.41 7.96l-1.37-1.37c-.4-.4-.92-.59-1.43-.59-.52 0-1.04.2-1.43.59L10.3 9.45l-7.72 7.72c-.78.78-.78 2.05 0 2.83L4 21.41c.39.39.9.59 1.41.59.51 0 1.02-.2 1.41-.59l7.78-7.78 2.81-2.81c.8-.78.8-2.07 0-2.86zM5.41 20L4 18.59l7.72-7.72 1.47 1.35L5.41 20z\"/>\n",
              "  </svg>\n",
              "      </button>\n",
              "      \n",
              "  <style>\n",
              "    .colab-df-container {\n",
              "      display:flex;\n",
              "      flex-wrap:wrap;\n",
              "      gap: 12px;\n",
              "    }\n",
              "\n",
              "    .colab-df-convert {\n",
              "      background-color: #E8F0FE;\n",
              "      border: none;\n",
              "      border-radius: 50%;\n",
              "      cursor: pointer;\n",
              "      display: none;\n",
              "      fill: #1967D2;\n",
              "      height: 32px;\n",
              "      padding: 0 0 0 0;\n",
              "      width: 32px;\n",
              "    }\n",
              "\n",
              "    .colab-df-convert:hover {\n",
              "      background-color: #E2EBFA;\n",
              "      box-shadow: 0px 1px 2px rgba(60, 64, 67, 0.3), 0px 1px 3px 1px rgba(60, 64, 67, 0.15);\n",
              "      fill: #174EA6;\n",
              "    }\n",
              "\n",
              "    [theme=dark] .colab-df-convert {\n",
              "      background-color: #3B4455;\n",
              "      fill: #D2E3FC;\n",
              "    }\n",
              "\n",
              "    [theme=dark] .colab-df-convert:hover {\n",
              "      background-color: #434B5C;\n",
              "      box-shadow: 0px 1px 3px 1px rgba(0, 0, 0, 0.15);\n",
              "      filter: drop-shadow(0px 1px 2px rgba(0, 0, 0, 0.3));\n",
              "      fill: #FFFFFF;\n",
              "    }\n",
              "  </style>\n",
              "\n",
              "      <script>\n",
              "        const buttonEl =\n",
              "          document.querySelector('#df-93ffa1cc-a6c3-4586-a3b8-af5747dabd43 button.colab-df-convert');\n",
              "        buttonEl.style.display =\n",
              "          google.colab.kernel.accessAllowed ? 'block' : 'none';\n",
              "\n",
              "        async function convertToInteractive(key) {\n",
              "          const element = document.querySelector('#df-93ffa1cc-a6c3-4586-a3b8-af5747dabd43');\n",
              "          const dataTable =\n",
              "            await google.colab.kernel.invokeFunction('convertToInteractive',\n",
              "                                                     [key], {});\n",
              "          if (!dataTable) return;\n",
              "\n",
              "          const docLinkHtml = 'Like what you see? Visit the ' +\n",
              "            '<a target=\"_blank\" href=https://colab.research.google.com/notebooks/data_table.ipynb>data table notebook</a>'\n",
              "            + ' to learn more about interactive tables.';\n",
              "          element.innerHTML = '';\n",
              "          dataTable['output_type'] = 'display_data';\n",
              "          await google.colab.output.renderOutput(dataTable, element);\n",
              "          const docLink = document.createElement('div');\n",
              "          docLink.innerHTML = docLinkHtml;\n",
              "          element.appendChild(docLink);\n",
              "        }\n",
              "      </script>\n",
              "    </div>\n",
              "  </div>\n",
              "  "
            ],
            "text/plain": [
              "           toss_winner  sum(win1)\n",
              "0  Sunrisers Hyderabad       29.0"
            ]
          },
          "metadata": {},
          "execution_count": 144
        }
      ]
    },
    {
      "cell_type": "code",
      "source": [
        "# Bar chart for where the toss winner == match_winner\n",
        "import plotly.express as px\n",
        "fig = px.bar(win_count1, x='toss_winner', y='sum(win1)', title='toss_winner is  match_winner')\n",
        "fig.show()"
      ],
      "metadata": {
        "colab": {
          "base_uri": "https://localhost:8080/",
          "height": 542
        },
        "id": "0bQYe0slW-rg",
        "outputId": "5bf22ae2-687d-474b-9245-6833b0e442c4"
      },
      "execution_count": null,
      "outputs": [
        {
          "output_type": "display_data",
          "data": {
            "text/html": [
              "<html>\n",
              "<head><meta charset=\"utf-8\" /></head>\n",
              "<body>\n",
              "    <div>            <script src=\"https://cdnjs.cloudflare.com/ajax/libs/mathjax/2.7.5/MathJax.js?config=TeX-AMS-MML_SVG\"></script><script type=\"text/javascript\">if (window.MathJax) {MathJax.Hub.Config({SVG: {font: \"STIX-Web\"}});}</script>                <script type=\"text/javascript\">window.PlotlyConfig = {MathJaxConfig: 'local'};</script>\n",
              "        <script src=\"https://cdn.plot.ly/plotly-2.8.3.min.js\"></script>                <div id=\"de0f523f-b4da-489c-bc6b-5b026364ef91\" class=\"plotly-graph-div\" style=\"height:525px; width:100%;\"></div>            <script type=\"text/javascript\">                                    window.PLOTLYENV=window.PLOTLYENV || {};                                    if (document.getElementById(\"de0f523f-b4da-489c-bc6b-5b026364ef91\")) {                    Plotly.newPlot(                        \"de0f523f-b4da-489c-bc6b-5b026364ef91\",                        [{\"alignmentgroup\":\"True\",\"hovertemplate\":\"toss_winner=%{x}<br>sum(win1)=%{y}<extra></extra>\",\"legendgroup\":\"\",\"marker\":{\"color\":\"#636efa\",\"pattern\":{\"shape\":\"\"}},\"name\":\"\",\"offsetgroup\":\"\",\"orientation\":\"v\",\"showlegend\":false,\"textposition\":\"auto\",\"x\":[\"Sunrisers Hyderabad\",\"Chennai Super Kings\",\"Rising Pune Supergiant\",\"Deccan Chargers\",\"Kochi Tuskers Kerala\",\"Rajasthan Royals\",\"Gujarat Lions\",\"Royal Challengers Bangalore\",\"Kolkata Knight Riders\",\"Rising Pune Supergiants\",\"Kings XI Punjab\",\"Pune Warriors\",\"Delhi Daredevils\",\"Delhi Capitals\",\"Mumbai Indians\"],\"xaxis\":\"x\",\"y\":[29.0,61.0,5.0,19.0,4.0,43.0,10.0,42.0,55.0,3.0,35.0,3.0,35.0,9.0,60.0],\"yaxis\":\"y\",\"type\":\"bar\"}],                        {\"template\":{\"data\":{\"bar\":[{\"error_x\":{\"color\":\"#2a3f5f\"},\"error_y\":{\"color\":\"#2a3f5f\"},\"marker\":{\"line\":{\"color\":\"#E5ECF6\",\"width\":0.5},\"pattern\":{\"fillmode\":\"overlay\",\"size\":10,\"solidity\":0.2}},\"type\":\"bar\"}],\"barpolar\":[{\"marker\":{\"line\":{\"color\":\"#E5ECF6\",\"width\":0.5},\"pattern\":{\"fillmode\":\"overlay\",\"size\":10,\"solidity\":0.2}},\"type\":\"barpolar\"}],\"carpet\":[{\"aaxis\":{\"endlinecolor\":\"#2a3f5f\",\"gridcolor\":\"white\",\"linecolor\":\"white\",\"minorgridcolor\":\"white\",\"startlinecolor\":\"#2a3f5f\"},\"baxis\":{\"endlinecolor\":\"#2a3f5f\",\"gridcolor\":\"white\",\"linecolor\":\"white\",\"minorgridcolor\":\"white\",\"startlinecolor\":\"#2a3f5f\"},\"type\":\"carpet\"}],\"choropleth\":[{\"colorbar\":{\"outlinewidth\":0,\"ticks\":\"\"},\"type\":\"choropleth\"}],\"contour\":[{\"colorbar\":{\"outlinewidth\":0,\"ticks\":\"\"},\"colorscale\":[[0.0,\"#0d0887\"],[0.1111111111111111,\"#46039f\"],[0.2222222222222222,\"#7201a8\"],[0.3333333333333333,\"#9c179e\"],[0.4444444444444444,\"#bd3786\"],[0.5555555555555556,\"#d8576b\"],[0.6666666666666666,\"#ed7953\"],[0.7777777777777778,\"#fb9f3a\"],[0.8888888888888888,\"#fdca26\"],[1.0,\"#f0f921\"]],\"type\":\"contour\"}],\"contourcarpet\":[{\"colorbar\":{\"outlinewidth\":0,\"ticks\":\"\"},\"type\":\"contourcarpet\"}],\"heatmap\":[{\"colorbar\":{\"outlinewidth\":0,\"ticks\":\"\"},\"colorscale\":[[0.0,\"#0d0887\"],[0.1111111111111111,\"#46039f\"],[0.2222222222222222,\"#7201a8\"],[0.3333333333333333,\"#9c179e\"],[0.4444444444444444,\"#bd3786\"],[0.5555555555555556,\"#d8576b\"],[0.6666666666666666,\"#ed7953\"],[0.7777777777777778,\"#fb9f3a\"],[0.8888888888888888,\"#fdca26\"],[1.0,\"#f0f921\"]],\"type\":\"heatmap\"}],\"heatmapgl\":[{\"colorbar\":{\"outlinewidth\":0,\"ticks\":\"\"},\"colorscale\":[[0.0,\"#0d0887\"],[0.1111111111111111,\"#46039f\"],[0.2222222222222222,\"#7201a8\"],[0.3333333333333333,\"#9c179e\"],[0.4444444444444444,\"#bd3786\"],[0.5555555555555556,\"#d8576b\"],[0.6666666666666666,\"#ed7953\"],[0.7777777777777778,\"#fb9f3a\"],[0.8888888888888888,\"#fdca26\"],[1.0,\"#f0f921\"]],\"type\":\"heatmapgl\"}],\"histogram\":[{\"marker\":{\"pattern\":{\"fillmode\":\"overlay\",\"size\":10,\"solidity\":0.2}},\"type\":\"histogram\"}],\"histogram2d\":[{\"colorbar\":{\"outlinewidth\":0,\"ticks\":\"\"},\"colorscale\":[[0.0,\"#0d0887\"],[0.1111111111111111,\"#46039f\"],[0.2222222222222222,\"#7201a8\"],[0.3333333333333333,\"#9c179e\"],[0.4444444444444444,\"#bd3786\"],[0.5555555555555556,\"#d8576b\"],[0.6666666666666666,\"#ed7953\"],[0.7777777777777778,\"#fb9f3a\"],[0.8888888888888888,\"#fdca26\"],[1.0,\"#f0f921\"]],\"type\":\"histogram2d\"}],\"histogram2dcontour\":[{\"colorbar\":{\"outlinewidth\":0,\"ticks\":\"\"},\"colorscale\":[[0.0,\"#0d0887\"],[0.1111111111111111,\"#46039f\"],[0.2222222222222222,\"#7201a8\"],[0.3333333333333333,\"#9c179e\"],[0.4444444444444444,\"#bd3786\"],[0.5555555555555556,\"#d8576b\"],[0.6666666666666666,\"#ed7953\"],[0.7777777777777778,\"#fb9f3a\"],[0.8888888888888888,\"#fdca26\"],[1.0,\"#f0f921\"]],\"type\":\"histogram2dcontour\"}],\"mesh3d\":[{\"colorbar\":{\"outlinewidth\":0,\"ticks\":\"\"},\"type\":\"mesh3d\"}],\"parcoords\":[{\"line\":{\"colorbar\":{\"outlinewidth\":0,\"ticks\":\"\"}},\"type\":\"parcoords\"}],\"pie\":[{\"automargin\":true,\"type\":\"pie\"}],\"scatter\":[{\"marker\":{\"colorbar\":{\"outlinewidth\":0,\"ticks\":\"\"}},\"type\":\"scatter\"}],\"scatter3d\":[{\"line\":{\"colorbar\":{\"outlinewidth\":0,\"ticks\":\"\"}},\"marker\":{\"colorbar\":{\"outlinewidth\":0,\"ticks\":\"\"}},\"type\":\"scatter3d\"}],\"scattercarpet\":[{\"marker\":{\"colorbar\":{\"outlinewidth\":0,\"ticks\":\"\"}},\"type\":\"scattercarpet\"}],\"scattergeo\":[{\"marker\":{\"colorbar\":{\"outlinewidth\":0,\"ticks\":\"\"}},\"type\":\"scattergeo\"}],\"scattergl\":[{\"marker\":{\"colorbar\":{\"outlinewidth\":0,\"ticks\":\"\"}},\"type\":\"scattergl\"}],\"scattermapbox\":[{\"marker\":{\"colorbar\":{\"outlinewidth\":0,\"ticks\":\"\"}},\"type\":\"scattermapbox\"}],\"scatterpolar\":[{\"marker\":{\"colorbar\":{\"outlinewidth\":0,\"ticks\":\"\"}},\"type\":\"scatterpolar\"}],\"scatterpolargl\":[{\"marker\":{\"colorbar\":{\"outlinewidth\":0,\"ticks\":\"\"}},\"type\":\"scatterpolargl\"}],\"scatterternary\":[{\"marker\":{\"colorbar\":{\"outlinewidth\":0,\"ticks\":\"\"}},\"type\":\"scatterternary\"}],\"surface\":[{\"colorbar\":{\"outlinewidth\":0,\"ticks\":\"\"},\"colorscale\":[[0.0,\"#0d0887\"],[0.1111111111111111,\"#46039f\"],[0.2222222222222222,\"#7201a8\"],[0.3333333333333333,\"#9c179e\"],[0.4444444444444444,\"#bd3786\"],[0.5555555555555556,\"#d8576b\"],[0.6666666666666666,\"#ed7953\"],[0.7777777777777778,\"#fb9f3a\"],[0.8888888888888888,\"#fdca26\"],[1.0,\"#f0f921\"]],\"type\":\"surface\"}],\"table\":[{\"cells\":{\"fill\":{\"color\":\"#EBF0F8\"},\"line\":{\"color\":\"white\"}},\"header\":{\"fill\":{\"color\":\"#C8D4E3\"},\"line\":{\"color\":\"white\"}},\"type\":\"table\"}]},\"layout\":{\"annotationdefaults\":{\"arrowcolor\":\"#2a3f5f\",\"arrowhead\":0,\"arrowwidth\":1},\"autotypenumbers\":\"strict\",\"coloraxis\":{\"colorbar\":{\"outlinewidth\":0,\"ticks\":\"\"}},\"colorscale\":{\"diverging\":[[0,\"#8e0152\"],[0.1,\"#c51b7d\"],[0.2,\"#de77ae\"],[0.3,\"#f1b6da\"],[0.4,\"#fde0ef\"],[0.5,\"#f7f7f7\"],[0.6,\"#e6f5d0\"],[0.7,\"#b8e186\"],[0.8,\"#7fbc41\"],[0.9,\"#4d9221\"],[1,\"#276419\"]],\"sequential\":[[0.0,\"#0d0887\"],[0.1111111111111111,\"#46039f\"],[0.2222222222222222,\"#7201a8\"],[0.3333333333333333,\"#9c179e\"],[0.4444444444444444,\"#bd3786\"],[0.5555555555555556,\"#d8576b\"],[0.6666666666666666,\"#ed7953\"],[0.7777777777777778,\"#fb9f3a\"],[0.8888888888888888,\"#fdca26\"],[1.0,\"#f0f921\"]],\"sequentialminus\":[[0.0,\"#0d0887\"],[0.1111111111111111,\"#46039f\"],[0.2222222222222222,\"#7201a8\"],[0.3333333333333333,\"#9c179e\"],[0.4444444444444444,\"#bd3786\"],[0.5555555555555556,\"#d8576b\"],[0.6666666666666666,\"#ed7953\"],[0.7777777777777778,\"#fb9f3a\"],[0.8888888888888888,\"#fdca26\"],[1.0,\"#f0f921\"]]},\"colorway\":[\"#636efa\",\"#EF553B\",\"#00cc96\",\"#ab63fa\",\"#FFA15A\",\"#19d3f3\",\"#FF6692\",\"#B6E880\",\"#FF97FF\",\"#FECB52\"],\"font\":{\"color\":\"#2a3f5f\"},\"geo\":{\"bgcolor\":\"white\",\"lakecolor\":\"white\",\"landcolor\":\"#E5ECF6\",\"showlakes\":true,\"showland\":true,\"subunitcolor\":\"white\"},\"hoverlabel\":{\"align\":\"left\"},\"hovermode\":\"closest\",\"mapbox\":{\"style\":\"light\"},\"paper_bgcolor\":\"white\",\"plot_bgcolor\":\"#E5ECF6\",\"polar\":{\"angularaxis\":{\"gridcolor\":\"white\",\"linecolor\":\"white\",\"ticks\":\"\"},\"bgcolor\":\"#E5ECF6\",\"radialaxis\":{\"gridcolor\":\"white\",\"linecolor\":\"white\",\"ticks\":\"\"}},\"scene\":{\"xaxis\":{\"backgroundcolor\":\"#E5ECF6\",\"gridcolor\":\"white\",\"gridwidth\":2,\"linecolor\":\"white\",\"showbackground\":true,\"ticks\":\"\",\"zerolinecolor\":\"white\"},\"yaxis\":{\"backgroundcolor\":\"#E5ECF6\",\"gridcolor\":\"white\",\"gridwidth\":2,\"linecolor\":\"white\",\"showbackground\":true,\"ticks\":\"\",\"zerolinecolor\":\"white\"},\"zaxis\":{\"backgroundcolor\":\"#E5ECF6\",\"gridcolor\":\"white\",\"gridwidth\":2,\"linecolor\":\"white\",\"showbackground\":true,\"ticks\":\"\",\"zerolinecolor\":\"white\"}},\"shapedefaults\":{\"line\":{\"color\":\"#2a3f5f\"}},\"ternary\":{\"aaxis\":{\"gridcolor\":\"white\",\"linecolor\":\"white\",\"ticks\":\"\"},\"baxis\":{\"gridcolor\":\"white\",\"linecolor\":\"white\",\"ticks\":\"\"},\"bgcolor\":\"#E5ECF6\",\"caxis\":{\"gridcolor\":\"white\",\"linecolor\":\"white\",\"ticks\":\"\"}},\"title\":{\"x\":0.05},\"xaxis\":{\"automargin\":true,\"gridcolor\":\"white\",\"linecolor\":\"white\",\"ticks\":\"\",\"title\":{\"standoff\":15},\"zerolinecolor\":\"white\",\"zerolinewidth\":2},\"yaxis\":{\"automargin\":true,\"gridcolor\":\"white\",\"linecolor\":\"white\",\"ticks\":\"\",\"title\":{\"standoff\":15},\"zerolinecolor\":\"white\",\"zerolinewidth\":2}}},\"xaxis\":{\"anchor\":\"y\",\"domain\":[0.0,1.0],\"title\":{\"text\":\"toss_winner\"}},\"yaxis\":{\"anchor\":\"x\",\"domain\":[0.0,1.0],\"title\":{\"text\":\"sum(win1)\"}},\"legend\":{\"tracegroupgap\":0},\"title\":{\"text\":\"toss_winner is  match_winner\"},\"barmode\":\"relative\"},                        {\"responsive\": true}                    ).then(function(){\n",
              "                            \n",
              "var gd = document.getElementById('de0f523f-b4da-489c-bc6b-5b026364ef91');\n",
              "var x = new MutationObserver(function (mutations, observer) {{\n",
              "        var display = window.getComputedStyle(gd).display;\n",
              "        if (!display || display === 'none') {{\n",
              "            console.log([gd, 'removed!']);\n",
              "            Plotly.purge(gd);\n",
              "            observer.disconnect();\n",
              "        }}\n",
              "}});\n",
              "\n",
              "// Listen for the removal of the full notebook cells\n",
              "var notebookContainer = gd.closest('#notebook-container');\n",
              "if (notebookContainer) {{\n",
              "    x.observe(notebookContainer, {childList: true});\n",
              "}}\n",
              "\n",
              "// Listen for the clearing of the current output cell\n",
              "var outputEl = gd.closest('.output');\n",
              "if (outputEl) {{\n",
              "    x.observe(outputEl, {childList: true});\n",
              "}}\n",
              "\n",
              "                        })                };                            </script>        </div>\n",
              "</body>\n",
              "</html>"
            ]
          },
          "metadata": {}
        }
      ]
    },
    {
      "cell_type": "code",
      "source": [
        "## # Bar chart for where the toss winner != match_winner\n",
        "import plotly.express as px\n",
        "fig = px.bar(loss_count1, x='toss_winner', y='sum(win1)', title='toss_winner is not a match_winner')\n",
        "fig.show()"
      ],
      "metadata": {
        "colab": {
          "base_uri": "https://localhost:8080/",
          "height": 542
        },
        "id": "KNjfjasRXZ_b",
        "outputId": "891de460-67a1-4f76-b1e3-19b95f5bcdcc"
      },
      "execution_count": null,
      "outputs": [
        {
          "output_type": "display_data",
          "data": {
            "text/html": [
              "<html>\n",
              "<head><meta charset=\"utf-8\" /></head>\n",
              "<body>\n",
              "    <div>            <script src=\"https://cdnjs.cloudflare.com/ajax/libs/mathjax/2.7.5/MathJax.js?config=TeX-AMS-MML_SVG\"></script><script type=\"text/javascript\">if (window.MathJax) {MathJax.Hub.Config({SVG: {font: \"STIX-Web\"}});}</script>                <script type=\"text/javascript\">window.PlotlyConfig = {MathJaxConfig: 'local'};</script>\n",
              "        <script src=\"https://cdn.plot.ly/plotly-2.8.3.min.js\"></script>                <div id=\"2820f4eb-0055-4aa3-95a6-a5b7dcb33f25\" class=\"plotly-graph-div\" style=\"height:525px; width:100%;\"></div>            <script type=\"text/javascript\">                                    window.PLOTLYENV=window.PLOTLYENV || {};                                    if (document.getElementById(\"2820f4eb-0055-4aa3-95a6-a5b7dcb33f25\")) {                    Plotly.newPlot(                        \"2820f4eb-0055-4aa3-95a6-a5b7dcb33f25\",                        [{\"alignmentgroup\":\"True\",\"hovertemplate\":\"toss_winner=%{x}<br>sum(win1)=%{y}<extra></extra>\",\"legendgroup\":\"\",\"marker\":{\"color\":\"#636efa\",\"pattern\":{\"shape\":\"\"}},\"name\":\"\",\"offsetgroup\":\"\",\"orientation\":\"v\",\"showlegend\":false,\"textposition\":\"auto\",\"x\":[\"Sunrisers Hyderabad\",\"Chennai Super Kings\",\"Rising Pune Supergiant\",\"Deccan Chargers\",\"Kochi Tuskers Kerala\",\"Rajasthan Royals\",\"Gujarat Lions\",\"Royal Challengers Bangalore\",\"Kolkata Knight Riders\",\"Rising Pune Supergiants\",\"Kings XI Punjab\",\"Pune Warriors\",\"Delhi Daredevils\",\"Delhi Capitals\",\"Mumbai Indians\"],\"xaxis\":\"x\",\"y\":[29.0,61.0,5.0,19.0,4.0,43.0,10.0,42.0,55.0,3.0,35.0,3.0,35.0,9.0,60.0],\"yaxis\":\"y\",\"type\":\"bar\"}],                        {\"template\":{\"data\":{\"bar\":[{\"error_x\":{\"color\":\"#2a3f5f\"},\"error_y\":{\"color\":\"#2a3f5f\"},\"marker\":{\"line\":{\"color\":\"#E5ECF6\",\"width\":0.5},\"pattern\":{\"fillmode\":\"overlay\",\"size\":10,\"solidity\":0.2}},\"type\":\"bar\"}],\"barpolar\":[{\"marker\":{\"line\":{\"color\":\"#E5ECF6\",\"width\":0.5},\"pattern\":{\"fillmode\":\"overlay\",\"size\":10,\"solidity\":0.2}},\"type\":\"barpolar\"}],\"carpet\":[{\"aaxis\":{\"endlinecolor\":\"#2a3f5f\",\"gridcolor\":\"white\",\"linecolor\":\"white\",\"minorgridcolor\":\"white\",\"startlinecolor\":\"#2a3f5f\"},\"baxis\":{\"endlinecolor\":\"#2a3f5f\",\"gridcolor\":\"white\",\"linecolor\":\"white\",\"minorgridcolor\":\"white\",\"startlinecolor\":\"#2a3f5f\"},\"type\":\"carpet\"}],\"choropleth\":[{\"colorbar\":{\"outlinewidth\":0,\"ticks\":\"\"},\"type\":\"choropleth\"}],\"contour\":[{\"colorbar\":{\"outlinewidth\":0,\"ticks\":\"\"},\"colorscale\":[[0.0,\"#0d0887\"],[0.1111111111111111,\"#46039f\"],[0.2222222222222222,\"#7201a8\"],[0.3333333333333333,\"#9c179e\"],[0.4444444444444444,\"#bd3786\"],[0.5555555555555556,\"#d8576b\"],[0.6666666666666666,\"#ed7953\"],[0.7777777777777778,\"#fb9f3a\"],[0.8888888888888888,\"#fdca26\"],[1.0,\"#f0f921\"]],\"type\":\"contour\"}],\"contourcarpet\":[{\"colorbar\":{\"outlinewidth\":0,\"ticks\":\"\"},\"type\":\"contourcarpet\"}],\"heatmap\":[{\"colorbar\":{\"outlinewidth\":0,\"ticks\":\"\"},\"colorscale\":[[0.0,\"#0d0887\"],[0.1111111111111111,\"#46039f\"],[0.2222222222222222,\"#7201a8\"],[0.3333333333333333,\"#9c179e\"],[0.4444444444444444,\"#bd3786\"],[0.5555555555555556,\"#d8576b\"],[0.6666666666666666,\"#ed7953\"],[0.7777777777777778,\"#fb9f3a\"],[0.8888888888888888,\"#fdca26\"],[1.0,\"#f0f921\"]],\"type\":\"heatmap\"}],\"heatmapgl\":[{\"colorbar\":{\"outlinewidth\":0,\"ticks\":\"\"},\"colorscale\":[[0.0,\"#0d0887\"],[0.1111111111111111,\"#46039f\"],[0.2222222222222222,\"#7201a8\"],[0.3333333333333333,\"#9c179e\"],[0.4444444444444444,\"#bd3786\"],[0.5555555555555556,\"#d8576b\"],[0.6666666666666666,\"#ed7953\"],[0.7777777777777778,\"#fb9f3a\"],[0.8888888888888888,\"#fdca26\"],[1.0,\"#f0f921\"]],\"type\":\"heatmapgl\"}],\"histogram\":[{\"marker\":{\"pattern\":{\"fillmode\":\"overlay\",\"size\":10,\"solidity\":0.2}},\"type\":\"histogram\"}],\"histogram2d\":[{\"colorbar\":{\"outlinewidth\":0,\"ticks\":\"\"},\"colorscale\":[[0.0,\"#0d0887\"],[0.1111111111111111,\"#46039f\"],[0.2222222222222222,\"#7201a8\"],[0.3333333333333333,\"#9c179e\"],[0.4444444444444444,\"#bd3786\"],[0.5555555555555556,\"#d8576b\"],[0.6666666666666666,\"#ed7953\"],[0.7777777777777778,\"#fb9f3a\"],[0.8888888888888888,\"#fdca26\"],[1.0,\"#f0f921\"]],\"type\":\"histogram2d\"}],\"histogram2dcontour\":[{\"colorbar\":{\"outlinewidth\":0,\"ticks\":\"\"},\"colorscale\":[[0.0,\"#0d0887\"],[0.1111111111111111,\"#46039f\"],[0.2222222222222222,\"#7201a8\"],[0.3333333333333333,\"#9c179e\"],[0.4444444444444444,\"#bd3786\"],[0.5555555555555556,\"#d8576b\"],[0.6666666666666666,\"#ed7953\"],[0.7777777777777778,\"#fb9f3a\"],[0.8888888888888888,\"#fdca26\"],[1.0,\"#f0f921\"]],\"type\":\"histogram2dcontour\"}],\"mesh3d\":[{\"colorbar\":{\"outlinewidth\":0,\"ticks\":\"\"},\"type\":\"mesh3d\"}],\"parcoords\":[{\"line\":{\"colorbar\":{\"outlinewidth\":0,\"ticks\":\"\"}},\"type\":\"parcoords\"}],\"pie\":[{\"automargin\":true,\"type\":\"pie\"}],\"scatter\":[{\"marker\":{\"colorbar\":{\"outlinewidth\":0,\"ticks\":\"\"}},\"type\":\"scatter\"}],\"scatter3d\":[{\"line\":{\"colorbar\":{\"outlinewidth\":0,\"ticks\":\"\"}},\"marker\":{\"colorbar\":{\"outlinewidth\":0,\"ticks\":\"\"}},\"type\":\"scatter3d\"}],\"scattercarpet\":[{\"marker\":{\"colorbar\":{\"outlinewidth\":0,\"ticks\":\"\"}},\"type\":\"scattercarpet\"}],\"scattergeo\":[{\"marker\":{\"colorbar\":{\"outlinewidth\":0,\"ticks\":\"\"}},\"type\":\"scattergeo\"}],\"scattergl\":[{\"marker\":{\"colorbar\":{\"outlinewidth\":0,\"ticks\":\"\"}},\"type\":\"scattergl\"}],\"scattermapbox\":[{\"marker\":{\"colorbar\":{\"outlinewidth\":0,\"ticks\":\"\"}},\"type\":\"scattermapbox\"}],\"scatterpolar\":[{\"marker\":{\"colorbar\":{\"outlinewidth\":0,\"ticks\":\"\"}},\"type\":\"scatterpolar\"}],\"scatterpolargl\":[{\"marker\":{\"colorbar\":{\"outlinewidth\":0,\"ticks\":\"\"}},\"type\":\"scatterpolargl\"}],\"scatterternary\":[{\"marker\":{\"colorbar\":{\"outlinewidth\":0,\"ticks\":\"\"}},\"type\":\"scatterternary\"}],\"surface\":[{\"colorbar\":{\"outlinewidth\":0,\"ticks\":\"\"},\"colorscale\":[[0.0,\"#0d0887\"],[0.1111111111111111,\"#46039f\"],[0.2222222222222222,\"#7201a8\"],[0.3333333333333333,\"#9c179e\"],[0.4444444444444444,\"#bd3786\"],[0.5555555555555556,\"#d8576b\"],[0.6666666666666666,\"#ed7953\"],[0.7777777777777778,\"#fb9f3a\"],[0.8888888888888888,\"#fdca26\"],[1.0,\"#f0f921\"]],\"type\":\"surface\"}],\"table\":[{\"cells\":{\"fill\":{\"color\":\"#EBF0F8\"},\"line\":{\"color\":\"white\"}},\"header\":{\"fill\":{\"color\":\"#C8D4E3\"},\"line\":{\"color\":\"white\"}},\"type\":\"table\"}]},\"layout\":{\"annotationdefaults\":{\"arrowcolor\":\"#2a3f5f\",\"arrowhead\":0,\"arrowwidth\":1},\"autotypenumbers\":\"strict\",\"coloraxis\":{\"colorbar\":{\"outlinewidth\":0,\"ticks\":\"\"}},\"colorscale\":{\"diverging\":[[0,\"#8e0152\"],[0.1,\"#c51b7d\"],[0.2,\"#de77ae\"],[0.3,\"#f1b6da\"],[0.4,\"#fde0ef\"],[0.5,\"#f7f7f7\"],[0.6,\"#e6f5d0\"],[0.7,\"#b8e186\"],[0.8,\"#7fbc41\"],[0.9,\"#4d9221\"],[1,\"#276419\"]],\"sequential\":[[0.0,\"#0d0887\"],[0.1111111111111111,\"#46039f\"],[0.2222222222222222,\"#7201a8\"],[0.3333333333333333,\"#9c179e\"],[0.4444444444444444,\"#bd3786\"],[0.5555555555555556,\"#d8576b\"],[0.6666666666666666,\"#ed7953\"],[0.7777777777777778,\"#fb9f3a\"],[0.8888888888888888,\"#fdca26\"],[1.0,\"#f0f921\"]],\"sequentialminus\":[[0.0,\"#0d0887\"],[0.1111111111111111,\"#46039f\"],[0.2222222222222222,\"#7201a8\"],[0.3333333333333333,\"#9c179e\"],[0.4444444444444444,\"#bd3786\"],[0.5555555555555556,\"#d8576b\"],[0.6666666666666666,\"#ed7953\"],[0.7777777777777778,\"#fb9f3a\"],[0.8888888888888888,\"#fdca26\"],[1.0,\"#f0f921\"]]},\"colorway\":[\"#636efa\",\"#EF553B\",\"#00cc96\",\"#ab63fa\",\"#FFA15A\",\"#19d3f3\",\"#FF6692\",\"#B6E880\",\"#FF97FF\",\"#FECB52\"],\"font\":{\"color\":\"#2a3f5f\"},\"geo\":{\"bgcolor\":\"white\",\"lakecolor\":\"white\",\"landcolor\":\"#E5ECF6\",\"showlakes\":true,\"showland\":true,\"subunitcolor\":\"white\"},\"hoverlabel\":{\"align\":\"left\"},\"hovermode\":\"closest\",\"mapbox\":{\"style\":\"light\"},\"paper_bgcolor\":\"white\",\"plot_bgcolor\":\"#E5ECF6\",\"polar\":{\"angularaxis\":{\"gridcolor\":\"white\",\"linecolor\":\"white\",\"ticks\":\"\"},\"bgcolor\":\"#E5ECF6\",\"radialaxis\":{\"gridcolor\":\"white\",\"linecolor\":\"white\",\"ticks\":\"\"}},\"scene\":{\"xaxis\":{\"backgroundcolor\":\"#E5ECF6\",\"gridcolor\":\"white\",\"gridwidth\":2,\"linecolor\":\"white\",\"showbackground\":true,\"ticks\":\"\",\"zerolinecolor\":\"white\"},\"yaxis\":{\"backgroundcolor\":\"#E5ECF6\",\"gridcolor\":\"white\",\"gridwidth\":2,\"linecolor\":\"white\",\"showbackground\":true,\"ticks\":\"\",\"zerolinecolor\":\"white\"},\"zaxis\":{\"backgroundcolor\":\"#E5ECF6\",\"gridcolor\":\"white\",\"gridwidth\":2,\"linecolor\":\"white\",\"showbackground\":true,\"ticks\":\"\",\"zerolinecolor\":\"white\"}},\"shapedefaults\":{\"line\":{\"color\":\"#2a3f5f\"}},\"ternary\":{\"aaxis\":{\"gridcolor\":\"white\",\"linecolor\":\"white\",\"ticks\":\"\"},\"baxis\":{\"gridcolor\":\"white\",\"linecolor\":\"white\",\"ticks\":\"\"},\"bgcolor\":\"#E5ECF6\",\"caxis\":{\"gridcolor\":\"white\",\"linecolor\":\"white\",\"ticks\":\"\"}},\"title\":{\"x\":0.05},\"xaxis\":{\"automargin\":true,\"gridcolor\":\"white\",\"linecolor\":\"white\",\"ticks\":\"\",\"title\":{\"standoff\":15},\"zerolinecolor\":\"white\",\"zerolinewidth\":2},\"yaxis\":{\"automargin\":true,\"gridcolor\":\"white\",\"linecolor\":\"white\",\"ticks\":\"\",\"title\":{\"standoff\":15},\"zerolinecolor\":\"white\",\"zerolinewidth\":2}}},\"xaxis\":{\"anchor\":\"y\",\"domain\":[0.0,1.0],\"title\":{\"text\":\"toss_winner\"}},\"yaxis\":{\"anchor\":\"x\",\"domain\":[0.0,1.0],\"title\":{\"text\":\"sum(win1)\"}},\"legend\":{\"tracegroupgap\":0},\"title\":{\"text\":\"toss_winner is not a match_winner\"},\"barmode\":\"relative\"},                        {\"responsive\": true}                    ).then(function(){\n",
              "                            \n",
              "var gd = document.getElementById('2820f4eb-0055-4aa3-95a6-a5b7dcb33f25');\n",
              "var x = new MutationObserver(function (mutations, observer) {{\n",
              "        var display = window.getComputedStyle(gd).display;\n",
              "        if (!display || display === 'none') {{\n",
              "            console.log([gd, 'removed!']);\n",
              "            Plotly.purge(gd);\n",
              "            observer.disconnect();\n",
              "        }}\n",
              "}});\n",
              "\n",
              "// Listen for the removal of the full notebook cells\n",
              "var notebookContainer = gd.closest('#notebook-container');\n",
              "if (notebookContainer) {{\n",
              "    x.observe(notebookContainer, {childList: true});\n",
              "}}\n",
              "\n",
              "// Listen for the clearing of the current output cell\n",
              "var outputEl = gd.closest('.output');\n",
              "if (outputEl) {{\n",
              "    x.observe(outputEl, {childList: true});\n",
              "}}\n",
              "\n",
              "                        })                };                            </script>        </div>\n",
              "</body>\n",
              "</html>"
            ]
          },
          "metadata": {}
        }
      ]
    },
    {
      "cell_type": "markdown",
      "source": [
        "### observations:\n",
        "1. above 2 plots we can conclude that.  Toss winners are winning the match and Toss winners are losing the match both are equal.  So there is no impact with respect to toss.  We can start analyzing the toss decision."
      ],
      "metadata": {
        "id": "qaNSt8QnYhvo"
      }
    },
    {
      "cell_type": "markdown",
      "source": [
        "### Here we are checking whether there is any change in result with respect to toss_decision."
      ],
      "metadata": {
        "id": "uE7Hnb1qbNAJ"
      }
    },
    {
      "cell_type": "code",
      "source": [
        "import plotly.express as px\n",
        "fig = px.bar(toss_win1, x='toss_winner', y='sum(win1)', title='toss_winner==match_winner and toss_decition == bat')\n",
        "fig.show()"
      ],
      "metadata": {
        "colab": {
          "base_uri": "https://localhost:8080/",
          "height": 542
        },
        "id": "v_k-3kYTX-nm",
        "outputId": "ca7e0b58-3171-412e-d815-018b6e2920b6"
      },
      "execution_count": null,
      "outputs": [
        {
          "output_type": "display_data",
          "data": {
            "text/html": [
              "<html>\n",
              "<head><meta charset=\"utf-8\" /></head>\n",
              "<body>\n",
              "    <div>            <script src=\"https://cdnjs.cloudflare.com/ajax/libs/mathjax/2.7.5/MathJax.js?config=TeX-AMS-MML_SVG\"></script><script type=\"text/javascript\">if (window.MathJax) {MathJax.Hub.Config({SVG: {font: \"STIX-Web\"}});}</script>                <script type=\"text/javascript\">window.PlotlyConfig = {MathJaxConfig: 'local'};</script>\n",
              "        <script src=\"https://cdn.plot.ly/plotly-2.8.3.min.js\"></script>                <div id=\"292f9de8-e43e-4a40-9f7f-b71babbdfb08\" class=\"plotly-graph-div\" style=\"height:525px; width:100%;\"></div>            <script type=\"text/javascript\">                                    window.PLOTLYENV=window.PLOTLYENV || {};                                    if (document.getElementById(\"292f9de8-e43e-4a40-9f7f-b71babbdfb08\")) {                    Plotly.newPlot(                        \"292f9de8-e43e-4a40-9f7f-b71babbdfb08\",                        [{\"alignmentgroup\":\"True\",\"hovertemplate\":\"toss_winner=%{x}<br>sum(win1)=%{y}<extra></extra>\",\"legendgroup\":\"\",\"marker\":{\"color\":\"#636efa\",\"pattern\":{\"shape\":\"\"}},\"name\":\"\",\"offsetgroup\":\"\",\"orientation\":\"v\",\"showlegend\":false,\"textposition\":\"auto\",\"x\":[\"Sunrisers Hyderabad\",\"Chennai Super Kings\",\"Deccan Chargers\",\"Rajasthan Royals\",\"Royal Challengers Bangalore\",\"Kolkata Knight Riders\",\"Kings XI Punjab\",\"Pune Warriors\",\"Delhi Daredevils\",\"Delhi Capitals\",\"Mumbai Indians\"],\"xaxis\":\"x\",\"y\":[10.0,31.0,11.0,14.0,11.0,17.0,6.0,3.0,11.0,3.0,26.0],\"yaxis\":\"y\",\"type\":\"bar\"}],                        {\"template\":{\"data\":{\"bar\":[{\"error_x\":{\"color\":\"#2a3f5f\"},\"error_y\":{\"color\":\"#2a3f5f\"},\"marker\":{\"line\":{\"color\":\"#E5ECF6\",\"width\":0.5},\"pattern\":{\"fillmode\":\"overlay\",\"size\":10,\"solidity\":0.2}},\"type\":\"bar\"}],\"barpolar\":[{\"marker\":{\"line\":{\"color\":\"#E5ECF6\",\"width\":0.5},\"pattern\":{\"fillmode\":\"overlay\",\"size\":10,\"solidity\":0.2}},\"type\":\"barpolar\"}],\"carpet\":[{\"aaxis\":{\"endlinecolor\":\"#2a3f5f\",\"gridcolor\":\"white\",\"linecolor\":\"white\",\"minorgridcolor\":\"white\",\"startlinecolor\":\"#2a3f5f\"},\"baxis\":{\"endlinecolor\":\"#2a3f5f\",\"gridcolor\":\"white\",\"linecolor\":\"white\",\"minorgridcolor\":\"white\",\"startlinecolor\":\"#2a3f5f\"},\"type\":\"carpet\"}],\"choropleth\":[{\"colorbar\":{\"outlinewidth\":0,\"ticks\":\"\"},\"type\":\"choropleth\"}],\"contour\":[{\"colorbar\":{\"outlinewidth\":0,\"ticks\":\"\"},\"colorscale\":[[0.0,\"#0d0887\"],[0.1111111111111111,\"#46039f\"],[0.2222222222222222,\"#7201a8\"],[0.3333333333333333,\"#9c179e\"],[0.4444444444444444,\"#bd3786\"],[0.5555555555555556,\"#d8576b\"],[0.6666666666666666,\"#ed7953\"],[0.7777777777777778,\"#fb9f3a\"],[0.8888888888888888,\"#fdca26\"],[1.0,\"#f0f921\"]],\"type\":\"contour\"}],\"contourcarpet\":[{\"colorbar\":{\"outlinewidth\":0,\"ticks\":\"\"},\"type\":\"contourcarpet\"}],\"heatmap\":[{\"colorbar\":{\"outlinewidth\":0,\"ticks\":\"\"},\"colorscale\":[[0.0,\"#0d0887\"],[0.1111111111111111,\"#46039f\"],[0.2222222222222222,\"#7201a8\"],[0.3333333333333333,\"#9c179e\"],[0.4444444444444444,\"#bd3786\"],[0.5555555555555556,\"#d8576b\"],[0.6666666666666666,\"#ed7953\"],[0.7777777777777778,\"#fb9f3a\"],[0.8888888888888888,\"#fdca26\"],[1.0,\"#f0f921\"]],\"type\":\"heatmap\"}],\"heatmapgl\":[{\"colorbar\":{\"outlinewidth\":0,\"ticks\":\"\"},\"colorscale\":[[0.0,\"#0d0887\"],[0.1111111111111111,\"#46039f\"],[0.2222222222222222,\"#7201a8\"],[0.3333333333333333,\"#9c179e\"],[0.4444444444444444,\"#bd3786\"],[0.5555555555555556,\"#d8576b\"],[0.6666666666666666,\"#ed7953\"],[0.7777777777777778,\"#fb9f3a\"],[0.8888888888888888,\"#fdca26\"],[1.0,\"#f0f921\"]],\"type\":\"heatmapgl\"}],\"histogram\":[{\"marker\":{\"pattern\":{\"fillmode\":\"overlay\",\"size\":10,\"solidity\":0.2}},\"type\":\"histogram\"}],\"histogram2d\":[{\"colorbar\":{\"outlinewidth\":0,\"ticks\":\"\"},\"colorscale\":[[0.0,\"#0d0887\"],[0.1111111111111111,\"#46039f\"],[0.2222222222222222,\"#7201a8\"],[0.3333333333333333,\"#9c179e\"],[0.4444444444444444,\"#bd3786\"],[0.5555555555555556,\"#d8576b\"],[0.6666666666666666,\"#ed7953\"],[0.7777777777777778,\"#fb9f3a\"],[0.8888888888888888,\"#fdca26\"],[1.0,\"#f0f921\"]],\"type\":\"histogram2d\"}],\"histogram2dcontour\":[{\"colorbar\":{\"outlinewidth\":0,\"ticks\":\"\"},\"colorscale\":[[0.0,\"#0d0887\"],[0.1111111111111111,\"#46039f\"],[0.2222222222222222,\"#7201a8\"],[0.3333333333333333,\"#9c179e\"],[0.4444444444444444,\"#bd3786\"],[0.5555555555555556,\"#d8576b\"],[0.6666666666666666,\"#ed7953\"],[0.7777777777777778,\"#fb9f3a\"],[0.8888888888888888,\"#fdca26\"],[1.0,\"#f0f921\"]],\"type\":\"histogram2dcontour\"}],\"mesh3d\":[{\"colorbar\":{\"outlinewidth\":0,\"ticks\":\"\"},\"type\":\"mesh3d\"}],\"parcoords\":[{\"line\":{\"colorbar\":{\"outlinewidth\":0,\"ticks\":\"\"}},\"type\":\"parcoords\"}],\"pie\":[{\"automargin\":true,\"type\":\"pie\"}],\"scatter\":[{\"marker\":{\"colorbar\":{\"outlinewidth\":0,\"ticks\":\"\"}},\"type\":\"scatter\"}],\"scatter3d\":[{\"line\":{\"colorbar\":{\"outlinewidth\":0,\"ticks\":\"\"}},\"marker\":{\"colorbar\":{\"outlinewidth\":0,\"ticks\":\"\"}},\"type\":\"scatter3d\"}],\"scattercarpet\":[{\"marker\":{\"colorbar\":{\"outlinewidth\":0,\"ticks\":\"\"}},\"type\":\"scattercarpet\"}],\"scattergeo\":[{\"marker\":{\"colorbar\":{\"outlinewidth\":0,\"ticks\":\"\"}},\"type\":\"scattergeo\"}],\"scattergl\":[{\"marker\":{\"colorbar\":{\"outlinewidth\":0,\"ticks\":\"\"}},\"type\":\"scattergl\"}],\"scattermapbox\":[{\"marker\":{\"colorbar\":{\"outlinewidth\":0,\"ticks\":\"\"}},\"type\":\"scattermapbox\"}],\"scatterpolar\":[{\"marker\":{\"colorbar\":{\"outlinewidth\":0,\"ticks\":\"\"}},\"type\":\"scatterpolar\"}],\"scatterpolargl\":[{\"marker\":{\"colorbar\":{\"outlinewidth\":0,\"ticks\":\"\"}},\"type\":\"scatterpolargl\"}],\"scatterternary\":[{\"marker\":{\"colorbar\":{\"outlinewidth\":0,\"ticks\":\"\"}},\"type\":\"scatterternary\"}],\"surface\":[{\"colorbar\":{\"outlinewidth\":0,\"ticks\":\"\"},\"colorscale\":[[0.0,\"#0d0887\"],[0.1111111111111111,\"#46039f\"],[0.2222222222222222,\"#7201a8\"],[0.3333333333333333,\"#9c179e\"],[0.4444444444444444,\"#bd3786\"],[0.5555555555555556,\"#d8576b\"],[0.6666666666666666,\"#ed7953\"],[0.7777777777777778,\"#fb9f3a\"],[0.8888888888888888,\"#fdca26\"],[1.0,\"#f0f921\"]],\"type\":\"surface\"}],\"table\":[{\"cells\":{\"fill\":{\"color\":\"#EBF0F8\"},\"line\":{\"color\":\"white\"}},\"header\":{\"fill\":{\"color\":\"#C8D4E3\"},\"line\":{\"color\":\"white\"}},\"type\":\"table\"}]},\"layout\":{\"annotationdefaults\":{\"arrowcolor\":\"#2a3f5f\",\"arrowhead\":0,\"arrowwidth\":1},\"autotypenumbers\":\"strict\",\"coloraxis\":{\"colorbar\":{\"outlinewidth\":0,\"ticks\":\"\"}},\"colorscale\":{\"diverging\":[[0,\"#8e0152\"],[0.1,\"#c51b7d\"],[0.2,\"#de77ae\"],[0.3,\"#f1b6da\"],[0.4,\"#fde0ef\"],[0.5,\"#f7f7f7\"],[0.6,\"#e6f5d0\"],[0.7,\"#b8e186\"],[0.8,\"#7fbc41\"],[0.9,\"#4d9221\"],[1,\"#276419\"]],\"sequential\":[[0.0,\"#0d0887\"],[0.1111111111111111,\"#46039f\"],[0.2222222222222222,\"#7201a8\"],[0.3333333333333333,\"#9c179e\"],[0.4444444444444444,\"#bd3786\"],[0.5555555555555556,\"#d8576b\"],[0.6666666666666666,\"#ed7953\"],[0.7777777777777778,\"#fb9f3a\"],[0.8888888888888888,\"#fdca26\"],[1.0,\"#f0f921\"]],\"sequentialminus\":[[0.0,\"#0d0887\"],[0.1111111111111111,\"#46039f\"],[0.2222222222222222,\"#7201a8\"],[0.3333333333333333,\"#9c179e\"],[0.4444444444444444,\"#bd3786\"],[0.5555555555555556,\"#d8576b\"],[0.6666666666666666,\"#ed7953\"],[0.7777777777777778,\"#fb9f3a\"],[0.8888888888888888,\"#fdca26\"],[1.0,\"#f0f921\"]]},\"colorway\":[\"#636efa\",\"#EF553B\",\"#00cc96\",\"#ab63fa\",\"#FFA15A\",\"#19d3f3\",\"#FF6692\",\"#B6E880\",\"#FF97FF\",\"#FECB52\"],\"font\":{\"color\":\"#2a3f5f\"},\"geo\":{\"bgcolor\":\"white\",\"lakecolor\":\"white\",\"landcolor\":\"#E5ECF6\",\"showlakes\":true,\"showland\":true,\"subunitcolor\":\"white\"},\"hoverlabel\":{\"align\":\"left\"},\"hovermode\":\"closest\",\"mapbox\":{\"style\":\"light\"},\"paper_bgcolor\":\"white\",\"plot_bgcolor\":\"#E5ECF6\",\"polar\":{\"angularaxis\":{\"gridcolor\":\"white\",\"linecolor\":\"white\",\"ticks\":\"\"},\"bgcolor\":\"#E5ECF6\",\"radialaxis\":{\"gridcolor\":\"white\",\"linecolor\":\"white\",\"ticks\":\"\"}},\"scene\":{\"xaxis\":{\"backgroundcolor\":\"#E5ECF6\",\"gridcolor\":\"white\",\"gridwidth\":2,\"linecolor\":\"white\",\"showbackground\":true,\"ticks\":\"\",\"zerolinecolor\":\"white\"},\"yaxis\":{\"backgroundcolor\":\"#E5ECF6\",\"gridcolor\":\"white\",\"gridwidth\":2,\"linecolor\":\"white\",\"showbackground\":true,\"ticks\":\"\",\"zerolinecolor\":\"white\"},\"zaxis\":{\"backgroundcolor\":\"#E5ECF6\",\"gridcolor\":\"white\",\"gridwidth\":2,\"linecolor\":\"white\",\"showbackground\":true,\"ticks\":\"\",\"zerolinecolor\":\"white\"}},\"shapedefaults\":{\"line\":{\"color\":\"#2a3f5f\"}},\"ternary\":{\"aaxis\":{\"gridcolor\":\"white\",\"linecolor\":\"white\",\"ticks\":\"\"},\"baxis\":{\"gridcolor\":\"white\",\"linecolor\":\"white\",\"ticks\":\"\"},\"bgcolor\":\"#E5ECF6\",\"caxis\":{\"gridcolor\":\"white\",\"linecolor\":\"white\",\"ticks\":\"\"}},\"title\":{\"x\":0.05},\"xaxis\":{\"automargin\":true,\"gridcolor\":\"white\",\"linecolor\":\"white\",\"ticks\":\"\",\"title\":{\"standoff\":15},\"zerolinecolor\":\"white\",\"zerolinewidth\":2},\"yaxis\":{\"automargin\":true,\"gridcolor\":\"white\",\"linecolor\":\"white\",\"ticks\":\"\",\"title\":{\"standoff\":15},\"zerolinecolor\":\"white\",\"zerolinewidth\":2}}},\"xaxis\":{\"anchor\":\"y\",\"domain\":[0.0,1.0],\"title\":{\"text\":\"toss_winner\"}},\"yaxis\":{\"anchor\":\"x\",\"domain\":[0.0,1.0],\"title\":{\"text\":\"sum(win1)\"}},\"legend\":{\"tracegroupgap\":0},\"title\":{\"text\":\"toss_winner==match_winner and toss_decition == bat\"},\"barmode\":\"relative\"},                        {\"responsive\": true}                    ).then(function(){\n",
              "                            \n",
              "var gd = document.getElementById('292f9de8-e43e-4a40-9f7f-b71babbdfb08');\n",
              "var x = new MutationObserver(function (mutations, observer) {{\n",
              "        var display = window.getComputedStyle(gd).display;\n",
              "        if (!display || display === 'none') {{\n",
              "            console.log([gd, 'removed!']);\n",
              "            Plotly.purge(gd);\n",
              "            observer.disconnect();\n",
              "        }}\n",
              "}});\n",
              "\n",
              "// Listen for the removal of the full notebook cells\n",
              "var notebookContainer = gd.closest('#notebook-container');\n",
              "if (notebookContainer) {{\n",
              "    x.observe(notebookContainer, {childList: true});\n",
              "}}\n",
              "\n",
              "// Listen for the clearing of the current output cell\n",
              "var outputEl = gd.closest('.output');\n",
              "if (outputEl) {{\n",
              "    x.observe(outputEl, {childList: true});\n",
              "}}\n",
              "\n",
              "                        })                };                            </script>        </div>\n",
              "</body>\n",
              "</html>"
            ]
          },
          "metadata": {}
        }
      ]
    },
    {
      "cell_type": "code",
      "source": [
        "import plotly.express as px\n",
        "fig = px.bar(toss_loss1, x='toss_winner', y='sum(win1)', title='toss_winner is not match_loser and toss_decition == bat')\n",
        "fig.show()"
      ],
      "metadata": {
        "colab": {
          "base_uri": "https://localhost:8080/",
          "height": 542
        },
        "id": "X5PmL0O1bpkg",
        "outputId": "34af194a-e4a0-4007-c4c2-3436cc862718"
      },
      "execution_count": null,
      "outputs": [
        {
          "output_type": "display_data",
          "data": {
            "text/html": [
              "<html>\n",
              "<head><meta charset=\"utf-8\" /></head>\n",
              "<body>\n",
              "    <div>            <script src=\"https://cdnjs.cloudflare.com/ajax/libs/mathjax/2.7.5/MathJax.js?config=TeX-AMS-MML_SVG\"></script><script type=\"text/javascript\">if (window.MathJax) {MathJax.Hub.Config({SVG: {font: \"STIX-Web\"}});}</script>                <script type=\"text/javascript\">window.PlotlyConfig = {MathJaxConfig: 'local'};</script>\n",
              "        <script src=\"https://cdn.plot.ly/plotly-2.8.3.min.js\"></script>                <div id=\"4dbd518a-e0c1-4647-939e-e487cb1be70d\" class=\"plotly-graph-div\" style=\"height:525px; width:100%;\"></div>            <script type=\"text/javascript\">                                    window.PLOTLYENV=window.PLOTLYENV || {};                                    if (document.getElementById(\"4dbd518a-e0c1-4647-939e-e487cb1be70d\")) {                    Plotly.newPlot(                        \"4dbd518a-e0c1-4647-939e-e487cb1be70d\",                        [{\"alignmentgroup\":\"True\",\"hovertemplate\":\"toss_winner=%{x}<br>sum(win1)=%{y}<extra></extra>\",\"legendgroup\":\"\",\"marker\":{\"color\":\"#636efa\",\"pattern\":{\"shape\":\"\"}},\"name\":\"\",\"offsetgroup\":\"\",\"orientation\":\"v\",\"showlegend\":false,\"textposition\":\"auto\",\"x\":[\"Sunrisers Hyderabad\",\"Chennai Super Kings\",\"Deccan Chargers\",\"Kochi Tuskers Kerala\",\"Rajasthan Royals\",\"Gujarat Lions\",\"Royal Challengers Bangalore\",\"Kolkata Knight Riders\",\"Rising Pune Supergiants\",\"Kings XI Punjab\",\"Pune Warriors\",\"Delhi Daredevils\",\"Delhi Capitals\",\"Mumbai Indians\"],\"xaxis\":\"x\",\"y\":[14.0,20.0,13.0,3.0,19.0,null,12.0,17.0,3.0,21.0,8.0,17.0,4.0,20.0],\"yaxis\":\"y\",\"type\":\"bar\"}],                        {\"template\":{\"data\":{\"bar\":[{\"error_x\":{\"color\":\"#2a3f5f\"},\"error_y\":{\"color\":\"#2a3f5f\"},\"marker\":{\"line\":{\"color\":\"#E5ECF6\",\"width\":0.5},\"pattern\":{\"fillmode\":\"overlay\",\"size\":10,\"solidity\":0.2}},\"type\":\"bar\"}],\"barpolar\":[{\"marker\":{\"line\":{\"color\":\"#E5ECF6\",\"width\":0.5},\"pattern\":{\"fillmode\":\"overlay\",\"size\":10,\"solidity\":0.2}},\"type\":\"barpolar\"}],\"carpet\":[{\"aaxis\":{\"endlinecolor\":\"#2a3f5f\",\"gridcolor\":\"white\",\"linecolor\":\"white\",\"minorgridcolor\":\"white\",\"startlinecolor\":\"#2a3f5f\"},\"baxis\":{\"endlinecolor\":\"#2a3f5f\",\"gridcolor\":\"white\",\"linecolor\":\"white\",\"minorgridcolor\":\"white\",\"startlinecolor\":\"#2a3f5f\"},\"type\":\"carpet\"}],\"choropleth\":[{\"colorbar\":{\"outlinewidth\":0,\"ticks\":\"\"},\"type\":\"choropleth\"}],\"contour\":[{\"colorbar\":{\"outlinewidth\":0,\"ticks\":\"\"},\"colorscale\":[[0.0,\"#0d0887\"],[0.1111111111111111,\"#46039f\"],[0.2222222222222222,\"#7201a8\"],[0.3333333333333333,\"#9c179e\"],[0.4444444444444444,\"#bd3786\"],[0.5555555555555556,\"#d8576b\"],[0.6666666666666666,\"#ed7953\"],[0.7777777777777778,\"#fb9f3a\"],[0.8888888888888888,\"#fdca26\"],[1.0,\"#f0f921\"]],\"type\":\"contour\"}],\"contourcarpet\":[{\"colorbar\":{\"outlinewidth\":0,\"ticks\":\"\"},\"type\":\"contourcarpet\"}],\"heatmap\":[{\"colorbar\":{\"outlinewidth\":0,\"ticks\":\"\"},\"colorscale\":[[0.0,\"#0d0887\"],[0.1111111111111111,\"#46039f\"],[0.2222222222222222,\"#7201a8\"],[0.3333333333333333,\"#9c179e\"],[0.4444444444444444,\"#bd3786\"],[0.5555555555555556,\"#d8576b\"],[0.6666666666666666,\"#ed7953\"],[0.7777777777777778,\"#fb9f3a\"],[0.8888888888888888,\"#fdca26\"],[1.0,\"#f0f921\"]],\"type\":\"heatmap\"}],\"heatmapgl\":[{\"colorbar\":{\"outlinewidth\":0,\"ticks\":\"\"},\"colorscale\":[[0.0,\"#0d0887\"],[0.1111111111111111,\"#46039f\"],[0.2222222222222222,\"#7201a8\"],[0.3333333333333333,\"#9c179e\"],[0.4444444444444444,\"#bd3786\"],[0.5555555555555556,\"#d8576b\"],[0.6666666666666666,\"#ed7953\"],[0.7777777777777778,\"#fb9f3a\"],[0.8888888888888888,\"#fdca26\"],[1.0,\"#f0f921\"]],\"type\":\"heatmapgl\"}],\"histogram\":[{\"marker\":{\"pattern\":{\"fillmode\":\"overlay\",\"size\":10,\"solidity\":0.2}},\"type\":\"histogram\"}],\"histogram2d\":[{\"colorbar\":{\"outlinewidth\":0,\"ticks\":\"\"},\"colorscale\":[[0.0,\"#0d0887\"],[0.1111111111111111,\"#46039f\"],[0.2222222222222222,\"#7201a8\"],[0.3333333333333333,\"#9c179e\"],[0.4444444444444444,\"#bd3786\"],[0.5555555555555556,\"#d8576b\"],[0.6666666666666666,\"#ed7953\"],[0.7777777777777778,\"#fb9f3a\"],[0.8888888888888888,\"#fdca26\"],[1.0,\"#f0f921\"]],\"type\":\"histogram2d\"}],\"histogram2dcontour\":[{\"colorbar\":{\"outlinewidth\":0,\"ticks\":\"\"},\"colorscale\":[[0.0,\"#0d0887\"],[0.1111111111111111,\"#46039f\"],[0.2222222222222222,\"#7201a8\"],[0.3333333333333333,\"#9c179e\"],[0.4444444444444444,\"#bd3786\"],[0.5555555555555556,\"#d8576b\"],[0.6666666666666666,\"#ed7953\"],[0.7777777777777778,\"#fb9f3a\"],[0.8888888888888888,\"#fdca26\"],[1.0,\"#f0f921\"]],\"type\":\"histogram2dcontour\"}],\"mesh3d\":[{\"colorbar\":{\"outlinewidth\":0,\"ticks\":\"\"},\"type\":\"mesh3d\"}],\"parcoords\":[{\"line\":{\"colorbar\":{\"outlinewidth\":0,\"ticks\":\"\"}},\"type\":\"parcoords\"}],\"pie\":[{\"automargin\":true,\"type\":\"pie\"}],\"scatter\":[{\"marker\":{\"colorbar\":{\"outlinewidth\":0,\"ticks\":\"\"}},\"type\":\"scatter\"}],\"scatter3d\":[{\"line\":{\"colorbar\":{\"outlinewidth\":0,\"ticks\":\"\"}},\"marker\":{\"colorbar\":{\"outlinewidth\":0,\"ticks\":\"\"}},\"type\":\"scatter3d\"}],\"scattercarpet\":[{\"marker\":{\"colorbar\":{\"outlinewidth\":0,\"ticks\":\"\"}},\"type\":\"scattercarpet\"}],\"scattergeo\":[{\"marker\":{\"colorbar\":{\"outlinewidth\":0,\"ticks\":\"\"}},\"type\":\"scattergeo\"}],\"scattergl\":[{\"marker\":{\"colorbar\":{\"outlinewidth\":0,\"ticks\":\"\"}},\"type\":\"scattergl\"}],\"scattermapbox\":[{\"marker\":{\"colorbar\":{\"outlinewidth\":0,\"ticks\":\"\"}},\"type\":\"scattermapbox\"}],\"scatterpolar\":[{\"marker\":{\"colorbar\":{\"outlinewidth\":0,\"ticks\":\"\"}},\"type\":\"scatterpolar\"}],\"scatterpolargl\":[{\"marker\":{\"colorbar\":{\"outlinewidth\":0,\"ticks\":\"\"}},\"type\":\"scatterpolargl\"}],\"scatterternary\":[{\"marker\":{\"colorbar\":{\"outlinewidth\":0,\"ticks\":\"\"}},\"type\":\"scatterternary\"}],\"surface\":[{\"colorbar\":{\"outlinewidth\":0,\"ticks\":\"\"},\"colorscale\":[[0.0,\"#0d0887\"],[0.1111111111111111,\"#46039f\"],[0.2222222222222222,\"#7201a8\"],[0.3333333333333333,\"#9c179e\"],[0.4444444444444444,\"#bd3786\"],[0.5555555555555556,\"#d8576b\"],[0.6666666666666666,\"#ed7953\"],[0.7777777777777778,\"#fb9f3a\"],[0.8888888888888888,\"#fdca26\"],[1.0,\"#f0f921\"]],\"type\":\"surface\"}],\"table\":[{\"cells\":{\"fill\":{\"color\":\"#EBF0F8\"},\"line\":{\"color\":\"white\"}},\"header\":{\"fill\":{\"color\":\"#C8D4E3\"},\"line\":{\"color\":\"white\"}},\"type\":\"table\"}]},\"layout\":{\"annotationdefaults\":{\"arrowcolor\":\"#2a3f5f\",\"arrowhead\":0,\"arrowwidth\":1},\"autotypenumbers\":\"strict\",\"coloraxis\":{\"colorbar\":{\"outlinewidth\":0,\"ticks\":\"\"}},\"colorscale\":{\"diverging\":[[0,\"#8e0152\"],[0.1,\"#c51b7d\"],[0.2,\"#de77ae\"],[0.3,\"#f1b6da\"],[0.4,\"#fde0ef\"],[0.5,\"#f7f7f7\"],[0.6,\"#e6f5d0\"],[0.7,\"#b8e186\"],[0.8,\"#7fbc41\"],[0.9,\"#4d9221\"],[1,\"#276419\"]],\"sequential\":[[0.0,\"#0d0887\"],[0.1111111111111111,\"#46039f\"],[0.2222222222222222,\"#7201a8\"],[0.3333333333333333,\"#9c179e\"],[0.4444444444444444,\"#bd3786\"],[0.5555555555555556,\"#d8576b\"],[0.6666666666666666,\"#ed7953\"],[0.7777777777777778,\"#fb9f3a\"],[0.8888888888888888,\"#fdca26\"],[1.0,\"#f0f921\"]],\"sequentialminus\":[[0.0,\"#0d0887\"],[0.1111111111111111,\"#46039f\"],[0.2222222222222222,\"#7201a8\"],[0.3333333333333333,\"#9c179e\"],[0.4444444444444444,\"#bd3786\"],[0.5555555555555556,\"#d8576b\"],[0.6666666666666666,\"#ed7953\"],[0.7777777777777778,\"#fb9f3a\"],[0.8888888888888888,\"#fdca26\"],[1.0,\"#f0f921\"]]},\"colorway\":[\"#636efa\",\"#EF553B\",\"#00cc96\",\"#ab63fa\",\"#FFA15A\",\"#19d3f3\",\"#FF6692\",\"#B6E880\",\"#FF97FF\",\"#FECB52\"],\"font\":{\"color\":\"#2a3f5f\"},\"geo\":{\"bgcolor\":\"white\",\"lakecolor\":\"white\",\"landcolor\":\"#E5ECF6\",\"showlakes\":true,\"showland\":true,\"subunitcolor\":\"white\"},\"hoverlabel\":{\"align\":\"left\"},\"hovermode\":\"closest\",\"mapbox\":{\"style\":\"light\"},\"paper_bgcolor\":\"white\",\"plot_bgcolor\":\"#E5ECF6\",\"polar\":{\"angularaxis\":{\"gridcolor\":\"white\",\"linecolor\":\"white\",\"ticks\":\"\"},\"bgcolor\":\"#E5ECF6\",\"radialaxis\":{\"gridcolor\":\"white\",\"linecolor\":\"white\",\"ticks\":\"\"}},\"scene\":{\"xaxis\":{\"backgroundcolor\":\"#E5ECF6\",\"gridcolor\":\"white\",\"gridwidth\":2,\"linecolor\":\"white\",\"showbackground\":true,\"ticks\":\"\",\"zerolinecolor\":\"white\"},\"yaxis\":{\"backgroundcolor\":\"#E5ECF6\",\"gridcolor\":\"white\",\"gridwidth\":2,\"linecolor\":\"white\",\"showbackground\":true,\"ticks\":\"\",\"zerolinecolor\":\"white\"},\"zaxis\":{\"backgroundcolor\":\"#E5ECF6\",\"gridcolor\":\"white\",\"gridwidth\":2,\"linecolor\":\"white\",\"showbackground\":true,\"ticks\":\"\",\"zerolinecolor\":\"white\"}},\"shapedefaults\":{\"line\":{\"color\":\"#2a3f5f\"}},\"ternary\":{\"aaxis\":{\"gridcolor\":\"white\",\"linecolor\":\"white\",\"ticks\":\"\"},\"baxis\":{\"gridcolor\":\"white\",\"linecolor\":\"white\",\"ticks\":\"\"},\"bgcolor\":\"#E5ECF6\",\"caxis\":{\"gridcolor\":\"white\",\"linecolor\":\"white\",\"ticks\":\"\"}},\"title\":{\"x\":0.05},\"xaxis\":{\"automargin\":true,\"gridcolor\":\"white\",\"linecolor\":\"white\",\"ticks\":\"\",\"title\":{\"standoff\":15},\"zerolinecolor\":\"white\",\"zerolinewidth\":2},\"yaxis\":{\"automargin\":true,\"gridcolor\":\"white\",\"linecolor\":\"white\",\"ticks\":\"\",\"title\":{\"standoff\":15},\"zerolinecolor\":\"white\",\"zerolinewidth\":2}}},\"xaxis\":{\"anchor\":\"y\",\"domain\":[0.0,1.0],\"title\":{\"text\":\"toss_winner\"}},\"yaxis\":{\"anchor\":\"x\",\"domain\":[0.0,1.0],\"title\":{\"text\":\"sum(win1)\"}},\"legend\":{\"tracegroupgap\":0},\"title\":{\"text\":\"toss_winner is not match_loser and toss_decition == bat\"},\"barmode\":\"relative\"},                        {\"responsive\": true}                    ).then(function(){\n",
              "                            \n",
              "var gd = document.getElementById('4dbd518a-e0c1-4647-939e-e487cb1be70d');\n",
              "var x = new MutationObserver(function (mutations, observer) {{\n",
              "        var display = window.getComputedStyle(gd).display;\n",
              "        if (!display || display === 'none') {{\n",
              "            console.log([gd, 'removed!']);\n",
              "            Plotly.purge(gd);\n",
              "            observer.disconnect();\n",
              "        }}\n",
              "}});\n",
              "\n",
              "// Listen for the removal of the full notebook cells\n",
              "var notebookContainer = gd.closest('#notebook-container');\n",
              "if (notebookContainer) {{\n",
              "    x.observe(notebookContainer, {childList: true});\n",
              "}}\n",
              "\n",
              "// Listen for the clearing of the current output cell\n",
              "var outputEl = gd.closest('.output');\n",
              "if (outputEl) {{\n",
              "    x.observe(outputEl, {childList: true});\n",
              "}}\n",
              "\n",
              "                        })                };                            </script>        </div>\n",
              "</body>\n",
              "</html>"
            ]
          },
          "metadata": {}
        }
      ]
    },
    {
      "cell_type": "markdown",
      "source": [
        "### observations:\n",
        "1.  when compared to 1 st plot we can clearly see that some of the teams losing because of choosing the batting.  There is impact with respect to toss_decision.  Further we can start analysing it."
      ],
      "metadata": {
        "id": "PdfmDTmfcLbn"
      }
    },
    {
      "cell_type": "markdown",
      "source": [
        "## Question 10:\n",
        "part 2 analysis.  in the below analysis we are going to predict the percentage of winning with respect to toss decision for each team. "
      ],
      "metadata": {
        "id": "IJrW5IxW6eTC"
      }
    },
    {
      "cell_type": "code",
      "source": [
        "# selecting where the toss winning team is match winning team also toss decision is bat\n",
        "batting = df_matches.select(['toss_winner', 'toss_decision', 'winner']).filter((df_matches['toss_winner']==df_matches['winner']) & \n",
        "                                                                     (df_matches['toss_decision']=='bat')).select('toss_winner').groupBy('toss_winner').count().toPandas()\n",
        "# selecting where the toss winning team is match winning team also toss decision is bat                                                             \n",
        "fielding = df_matches.select(['toss_winner', 'toss_decision', 'winner']).filter((df_matches['toss_winner']==df_matches['winner']) & \n",
        "                                                                     (df_matches['toss_decision']=='field')).select('toss_winner').groupBy('toss_winner').count().toPandas()\n"
      ],
      "metadata": {
        "id": "m-hxhFtt6iGN"
      },
      "execution_count": null,
      "outputs": []
    },
    {
      "cell_type": "code",
      "source": [
        "total_count = df_matches.select('toss_winner').groupBy('toss_winner').count().toPandas()"
      ],
      "metadata": {
        "id": "vUHyop-x9GHK"
      },
      "execution_count": null,
      "outputs": []
    },
    {
      "cell_type": "code",
      "source": [
        "batting['percentage_winning'] = batting['count']/total_count['count']\n",
        "fielding['percentage_winning'] = fielding['count']/total_count['count']"
      ],
      "metadata": {
        "id": "y91ngj5BAjTJ"
      },
      "execution_count": null,
      "outputs": []
    },
    {
      "cell_type": "code",
      "source": [
        "fig_final = px.bar(batting, x='toss_winner', y='percentage_winning', title = 'Percentage of team win where the toss decision is bat')\n",
        "fig_final.show()"
      ],
      "metadata": {
        "colab": {
          "base_uri": "https://localhost:8080/",
          "height": 542
        },
        "id": "mOFQCHdW6iKO",
        "outputId": "9cf5cc82-c557-435f-e972-07647342af55"
      },
      "execution_count": null,
      "outputs": [
        {
          "output_type": "display_data",
          "data": {
            "text/html": [
              "<html>\n",
              "<head><meta charset=\"utf-8\" /></head>\n",
              "<body>\n",
              "    <div>            <script src=\"https://cdnjs.cloudflare.com/ajax/libs/mathjax/2.7.5/MathJax.js?config=TeX-AMS-MML_SVG\"></script><script type=\"text/javascript\">if (window.MathJax) {MathJax.Hub.Config({SVG: {font: \"STIX-Web\"}});}</script>                <script type=\"text/javascript\">window.PlotlyConfig = {MathJaxConfig: 'local'};</script>\n",
              "        <script src=\"https://cdn.plot.ly/plotly-2.8.3.min.js\"></script>                <div id=\"b5a3b2ef-1570-46f7-94bc-c07700c2adde\" class=\"plotly-graph-div\" style=\"height:525px; width:100%;\"></div>            <script type=\"text/javascript\">                                    window.PLOTLYENV=window.PLOTLYENV || {};                                    if (document.getElementById(\"b5a3b2ef-1570-46f7-94bc-c07700c2adde\")) {                    Plotly.newPlot(                        \"b5a3b2ef-1570-46f7-94bc-c07700c2adde\",                        [{\"alignmentgroup\":\"True\",\"hovertemplate\":\"toss_winner=%{x}<br>percentage_winning=%{y}<extra></extra>\",\"legendgroup\":\"\",\"marker\":{\"color\":\"#636efa\",\"pattern\":{\"shape\":\"\"}},\"name\":\"\",\"offsetgroup\":\"\",\"orientation\":\"v\",\"showlegend\":false,\"textposition\":\"auto\",\"x\":[\"Sunrisers Hyderabad\",\"Chennai Super Kings\",\"Deccan Chargers\",\"Rajasthan Royals\",\"Royal Challengers Bangalore\",\"Kolkata Knight Riders\",\"Kings XI Punjab\",\"Pune Warriors\",\"Delhi Daredevils\",\"Delhi Capitals\",\"Mumbai Indians\"],\"xaxis\":\"x\",\"y\":[0.17543859649122806,0.31958762886597936,1.8333333333333333,0.3488372093023256,1.375,0.19540229885057472,0.4,0.034482758620689655,0.11224489795918367,0.42857142857142855,0.3176470588235294],\"yaxis\":\"y\",\"type\":\"bar\"}],                        {\"template\":{\"data\":{\"bar\":[{\"error_x\":{\"color\":\"#2a3f5f\"},\"error_y\":{\"color\":\"#2a3f5f\"},\"marker\":{\"line\":{\"color\":\"#E5ECF6\",\"width\":0.5},\"pattern\":{\"fillmode\":\"overlay\",\"size\":10,\"solidity\":0.2}},\"type\":\"bar\"}],\"barpolar\":[{\"marker\":{\"line\":{\"color\":\"#E5ECF6\",\"width\":0.5},\"pattern\":{\"fillmode\":\"overlay\",\"size\":10,\"solidity\":0.2}},\"type\":\"barpolar\"}],\"carpet\":[{\"aaxis\":{\"endlinecolor\":\"#2a3f5f\",\"gridcolor\":\"white\",\"linecolor\":\"white\",\"minorgridcolor\":\"white\",\"startlinecolor\":\"#2a3f5f\"},\"baxis\":{\"endlinecolor\":\"#2a3f5f\",\"gridcolor\":\"white\",\"linecolor\":\"white\",\"minorgridcolor\":\"white\",\"startlinecolor\":\"#2a3f5f\"},\"type\":\"carpet\"}],\"choropleth\":[{\"colorbar\":{\"outlinewidth\":0,\"ticks\":\"\"},\"type\":\"choropleth\"}],\"contour\":[{\"colorbar\":{\"outlinewidth\":0,\"ticks\":\"\"},\"colorscale\":[[0.0,\"#0d0887\"],[0.1111111111111111,\"#46039f\"],[0.2222222222222222,\"#7201a8\"],[0.3333333333333333,\"#9c179e\"],[0.4444444444444444,\"#bd3786\"],[0.5555555555555556,\"#d8576b\"],[0.6666666666666666,\"#ed7953\"],[0.7777777777777778,\"#fb9f3a\"],[0.8888888888888888,\"#fdca26\"],[1.0,\"#f0f921\"]],\"type\":\"contour\"}],\"contourcarpet\":[{\"colorbar\":{\"outlinewidth\":0,\"ticks\":\"\"},\"type\":\"contourcarpet\"}],\"heatmap\":[{\"colorbar\":{\"outlinewidth\":0,\"ticks\":\"\"},\"colorscale\":[[0.0,\"#0d0887\"],[0.1111111111111111,\"#46039f\"],[0.2222222222222222,\"#7201a8\"],[0.3333333333333333,\"#9c179e\"],[0.4444444444444444,\"#bd3786\"],[0.5555555555555556,\"#d8576b\"],[0.6666666666666666,\"#ed7953\"],[0.7777777777777778,\"#fb9f3a\"],[0.8888888888888888,\"#fdca26\"],[1.0,\"#f0f921\"]],\"type\":\"heatmap\"}],\"heatmapgl\":[{\"colorbar\":{\"outlinewidth\":0,\"ticks\":\"\"},\"colorscale\":[[0.0,\"#0d0887\"],[0.1111111111111111,\"#46039f\"],[0.2222222222222222,\"#7201a8\"],[0.3333333333333333,\"#9c179e\"],[0.4444444444444444,\"#bd3786\"],[0.5555555555555556,\"#d8576b\"],[0.6666666666666666,\"#ed7953\"],[0.7777777777777778,\"#fb9f3a\"],[0.8888888888888888,\"#fdca26\"],[1.0,\"#f0f921\"]],\"type\":\"heatmapgl\"}],\"histogram\":[{\"marker\":{\"pattern\":{\"fillmode\":\"overlay\",\"size\":10,\"solidity\":0.2}},\"type\":\"histogram\"}],\"histogram2d\":[{\"colorbar\":{\"outlinewidth\":0,\"ticks\":\"\"},\"colorscale\":[[0.0,\"#0d0887\"],[0.1111111111111111,\"#46039f\"],[0.2222222222222222,\"#7201a8\"],[0.3333333333333333,\"#9c179e\"],[0.4444444444444444,\"#bd3786\"],[0.5555555555555556,\"#d8576b\"],[0.6666666666666666,\"#ed7953\"],[0.7777777777777778,\"#fb9f3a\"],[0.8888888888888888,\"#fdca26\"],[1.0,\"#f0f921\"]],\"type\":\"histogram2d\"}],\"histogram2dcontour\":[{\"colorbar\":{\"outlinewidth\":0,\"ticks\":\"\"},\"colorscale\":[[0.0,\"#0d0887\"],[0.1111111111111111,\"#46039f\"],[0.2222222222222222,\"#7201a8\"],[0.3333333333333333,\"#9c179e\"],[0.4444444444444444,\"#bd3786\"],[0.5555555555555556,\"#d8576b\"],[0.6666666666666666,\"#ed7953\"],[0.7777777777777778,\"#fb9f3a\"],[0.8888888888888888,\"#fdca26\"],[1.0,\"#f0f921\"]],\"type\":\"histogram2dcontour\"}],\"mesh3d\":[{\"colorbar\":{\"outlinewidth\":0,\"ticks\":\"\"},\"type\":\"mesh3d\"}],\"parcoords\":[{\"line\":{\"colorbar\":{\"outlinewidth\":0,\"ticks\":\"\"}},\"type\":\"parcoords\"}],\"pie\":[{\"automargin\":true,\"type\":\"pie\"}],\"scatter\":[{\"marker\":{\"colorbar\":{\"outlinewidth\":0,\"ticks\":\"\"}},\"type\":\"scatter\"}],\"scatter3d\":[{\"line\":{\"colorbar\":{\"outlinewidth\":0,\"ticks\":\"\"}},\"marker\":{\"colorbar\":{\"outlinewidth\":0,\"ticks\":\"\"}},\"type\":\"scatter3d\"}],\"scattercarpet\":[{\"marker\":{\"colorbar\":{\"outlinewidth\":0,\"ticks\":\"\"}},\"type\":\"scattercarpet\"}],\"scattergeo\":[{\"marker\":{\"colorbar\":{\"outlinewidth\":0,\"ticks\":\"\"}},\"type\":\"scattergeo\"}],\"scattergl\":[{\"marker\":{\"colorbar\":{\"outlinewidth\":0,\"ticks\":\"\"}},\"type\":\"scattergl\"}],\"scattermapbox\":[{\"marker\":{\"colorbar\":{\"outlinewidth\":0,\"ticks\":\"\"}},\"type\":\"scattermapbox\"}],\"scatterpolar\":[{\"marker\":{\"colorbar\":{\"outlinewidth\":0,\"ticks\":\"\"}},\"type\":\"scatterpolar\"}],\"scatterpolargl\":[{\"marker\":{\"colorbar\":{\"outlinewidth\":0,\"ticks\":\"\"}},\"type\":\"scatterpolargl\"}],\"scatterternary\":[{\"marker\":{\"colorbar\":{\"outlinewidth\":0,\"ticks\":\"\"}},\"type\":\"scatterternary\"}],\"surface\":[{\"colorbar\":{\"outlinewidth\":0,\"ticks\":\"\"},\"colorscale\":[[0.0,\"#0d0887\"],[0.1111111111111111,\"#46039f\"],[0.2222222222222222,\"#7201a8\"],[0.3333333333333333,\"#9c179e\"],[0.4444444444444444,\"#bd3786\"],[0.5555555555555556,\"#d8576b\"],[0.6666666666666666,\"#ed7953\"],[0.7777777777777778,\"#fb9f3a\"],[0.8888888888888888,\"#fdca26\"],[1.0,\"#f0f921\"]],\"type\":\"surface\"}],\"table\":[{\"cells\":{\"fill\":{\"color\":\"#EBF0F8\"},\"line\":{\"color\":\"white\"}},\"header\":{\"fill\":{\"color\":\"#C8D4E3\"},\"line\":{\"color\":\"white\"}},\"type\":\"table\"}]},\"layout\":{\"annotationdefaults\":{\"arrowcolor\":\"#2a3f5f\",\"arrowhead\":0,\"arrowwidth\":1},\"autotypenumbers\":\"strict\",\"coloraxis\":{\"colorbar\":{\"outlinewidth\":0,\"ticks\":\"\"}},\"colorscale\":{\"diverging\":[[0,\"#8e0152\"],[0.1,\"#c51b7d\"],[0.2,\"#de77ae\"],[0.3,\"#f1b6da\"],[0.4,\"#fde0ef\"],[0.5,\"#f7f7f7\"],[0.6,\"#e6f5d0\"],[0.7,\"#b8e186\"],[0.8,\"#7fbc41\"],[0.9,\"#4d9221\"],[1,\"#276419\"]],\"sequential\":[[0.0,\"#0d0887\"],[0.1111111111111111,\"#46039f\"],[0.2222222222222222,\"#7201a8\"],[0.3333333333333333,\"#9c179e\"],[0.4444444444444444,\"#bd3786\"],[0.5555555555555556,\"#d8576b\"],[0.6666666666666666,\"#ed7953\"],[0.7777777777777778,\"#fb9f3a\"],[0.8888888888888888,\"#fdca26\"],[1.0,\"#f0f921\"]],\"sequentialminus\":[[0.0,\"#0d0887\"],[0.1111111111111111,\"#46039f\"],[0.2222222222222222,\"#7201a8\"],[0.3333333333333333,\"#9c179e\"],[0.4444444444444444,\"#bd3786\"],[0.5555555555555556,\"#d8576b\"],[0.6666666666666666,\"#ed7953\"],[0.7777777777777778,\"#fb9f3a\"],[0.8888888888888888,\"#fdca26\"],[1.0,\"#f0f921\"]]},\"colorway\":[\"#636efa\",\"#EF553B\",\"#00cc96\",\"#ab63fa\",\"#FFA15A\",\"#19d3f3\",\"#FF6692\",\"#B6E880\",\"#FF97FF\",\"#FECB52\"],\"font\":{\"color\":\"#2a3f5f\"},\"geo\":{\"bgcolor\":\"white\",\"lakecolor\":\"white\",\"landcolor\":\"#E5ECF6\",\"showlakes\":true,\"showland\":true,\"subunitcolor\":\"white\"},\"hoverlabel\":{\"align\":\"left\"},\"hovermode\":\"closest\",\"mapbox\":{\"style\":\"light\"},\"paper_bgcolor\":\"white\",\"plot_bgcolor\":\"#E5ECF6\",\"polar\":{\"angularaxis\":{\"gridcolor\":\"white\",\"linecolor\":\"white\",\"ticks\":\"\"},\"bgcolor\":\"#E5ECF6\",\"radialaxis\":{\"gridcolor\":\"white\",\"linecolor\":\"white\",\"ticks\":\"\"}},\"scene\":{\"xaxis\":{\"backgroundcolor\":\"#E5ECF6\",\"gridcolor\":\"white\",\"gridwidth\":2,\"linecolor\":\"white\",\"showbackground\":true,\"ticks\":\"\",\"zerolinecolor\":\"white\"},\"yaxis\":{\"backgroundcolor\":\"#E5ECF6\",\"gridcolor\":\"white\",\"gridwidth\":2,\"linecolor\":\"white\",\"showbackground\":true,\"ticks\":\"\",\"zerolinecolor\":\"white\"},\"zaxis\":{\"backgroundcolor\":\"#E5ECF6\",\"gridcolor\":\"white\",\"gridwidth\":2,\"linecolor\":\"white\",\"showbackground\":true,\"ticks\":\"\",\"zerolinecolor\":\"white\"}},\"shapedefaults\":{\"line\":{\"color\":\"#2a3f5f\"}},\"ternary\":{\"aaxis\":{\"gridcolor\":\"white\",\"linecolor\":\"white\",\"ticks\":\"\"},\"baxis\":{\"gridcolor\":\"white\",\"linecolor\":\"white\",\"ticks\":\"\"},\"bgcolor\":\"#E5ECF6\",\"caxis\":{\"gridcolor\":\"white\",\"linecolor\":\"white\",\"ticks\":\"\"}},\"title\":{\"x\":0.05},\"xaxis\":{\"automargin\":true,\"gridcolor\":\"white\",\"linecolor\":\"white\",\"ticks\":\"\",\"title\":{\"standoff\":15},\"zerolinecolor\":\"white\",\"zerolinewidth\":2},\"yaxis\":{\"automargin\":true,\"gridcolor\":\"white\",\"linecolor\":\"white\",\"ticks\":\"\",\"title\":{\"standoff\":15},\"zerolinecolor\":\"white\",\"zerolinewidth\":2}}},\"xaxis\":{\"anchor\":\"y\",\"domain\":[0.0,1.0],\"title\":{\"text\":\"toss_winner\"}},\"yaxis\":{\"anchor\":\"x\",\"domain\":[0.0,1.0],\"title\":{\"text\":\"percentage_winning\"}},\"legend\":{\"tracegroupgap\":0},\"title\":{\"text\":\"Percentage of team win where the toss decision is bat\"},\"barmode\":\"relative\"},                        {\"responsive\": true}                    ).then(function(){\n",
              "                            \n",
              "var gd = document.getElementById('b5a3b2ef-1570-46f7-94bc-c07700c2adde');\n",
              "var x = new MutationObserver(function (mutations, observer) {{\n",
              "        var display = window.getComputedStyle(gd).display;\n",
              "        if (!display || display === 'none') {{\n",
              "            console.log([gd, 'removed!']);\n",
              "            Plotly.purge(gd);\n",
              "            observer.disconnect();\n",
              "        }}\n",
              "}});\n",
              "\n",
              "// Listen for the removal of the full notebook cells\n",
              "var notebookContainer = gd.closest('#notebook-container');\n",
              "if (notebookContainer) {{\n",
              "    x.observe(notebookContainer, {childList: true});\n",
              "}}\n",
              "\n",
              "// Listen for the clearing of the current output cell\n",
              "var outputEl = gd.closest('.output');\n",
              "if (outputEl) {{\n",
              "    x.observe(outputEl, {childList: true});\n",
              "}}\n",
              "\n",
              "                        })                };                            </script>        </div>\n",
              "</body>\n",
              "</html>"
            ]
          },
          "metadata": {}
        }
      ]
    },
    {
      "cell_type": "code",
      "source": [
        "fig_final1 = px.bar(fielding, x='toss_winner', y='percentage_winning', title = 'Percentage of team win where the toss decision is fielding')\n",
        "fig_final1.show()"
      ],
      "metadata": {
        "colab": {
          "base_uri": "https://localhost:8080/",
          "height": 542
        },
        "id": "Kh_HVbR36iNd",
        "outputId": "fa13f4df-a4a6-4553-84e7-522e6c644ab9"
      },
      "execution_count": null,
      "outputs": [
        {
          "output_type": "display_data",
          "data": {
            "text/html": [
              "<html>\n",
              "<head><meta charset=\"utf-8\" /></head>\n",
              "<body>\n",
              "    <div>            <script src=\"https://cdnjs.cloudflare.com/ajax/libs/mathjax/2.7.5/MathJax.js?config=TeX-AMS-MML_SVG\"></script><script type=\"text/javascript\">if (window.MathJax) {MathJax.Hub.Config({SVG: {font: \"STIX-Web\"}});}</script>                <script type=\"text/javascript\">window.PlotlyConfig = {MathJaxConfig: 'local'};</script>\n",
              "        <script src=\"https://cdn.plot.ly/plotly-2.8.3.min.js\"></script>                <div id=\"6305fca5-7fef-4adf-b2a1-ae3292fefdd3\" class=\"plotly-graph-div\" style=\"height:525px; width:100%;\"></div>            <script type=\"text/javascript\">                                    window.PLOTLYENV=window.PLOTLYENV || {};                                    if (document.getElementById(\"6305fca5-7fef-4adf-b2a1-ae3292fefdd3\")) {                    Plotly.newPlot(                        \"6305fca5-7fef-4adf-b2a1-ae3292fefdd3\",                        [{\"alignmentgroup\":\"True\",\"hovertemplate\":\"toss_winner=%{x}<br>percentage_winning=%{y}<extra></extra>\",\"legendgroup\":\"\",\"marker\":{\"color\":\"#636efa\",\"pattern\":{\"shape\":\"\"}},\"name\":\"\",\"offsetgroup\":\"\",\"orientation\":\"v\",\"showlegend\":false,\"textposition\":\"auto\",\"x\":[\"Sunrisers Hyderabad\",\"Chennai Super Kings\",\"Rising Pune Supergiant\",\"Deccan Chargers\",\"Kochi Tuskers Kerala\",\"Rajasthan Royals\",\"Gujarat Lions\",\"Royal Challengers Bangalore\",\"Kolkata Knight Riders\",\"Rising Pune Supergiants\",\"Kings XI Punjab\",\"Delhi Daredevils\",\"Delhi Capitals\",\"Mumbai Indians\"],\"xaxis\":\"x\",\"y\":[0.3333333333333333,0.30927835051546393,0.8333333333333334,0.18604651162790697,0.5,0.3333333333333333,0.6666666666666666,0.367816091954023,0.3877551020408163,0.42857142857142855,0.35294117647058826,1.2,0.0875,1.7],\"yaxis\":\"y\",\"type\":\"bar\"}],                        {\"template\":{\"data\":{\"bar\":[{\"error_x\":{\"color\":\"#2a3f5f\"},\"error_y\":{\"color\":\"#2a3f5f\"},\"marker\":{\"line\":{\"color\":\"#E5ECF6\",\"width\":0.5},\"pattern\":{\"fillmode\":\"overlay\",\"size\":10,\"solidity\":0.2}},\"type\":\"bar\"}],\"barpolar\":[{\"marker\":{\"line\":{\"color\":\"#E5ECF6\",\"width\":0.5},\"pattern\":{\"fillmode\":\"overlay\",\"size\":10,\"solidity\":0.2}},\"type\":\"barpolar\"}],\"carpet\":[{\"aaxis\":{\"endlinecolor\":\"#2a3f5f\",\"gridcolor\":\"white\",\"linecolor\":\"white\",\"minorgridcolor\":\"white\",\"startlinecolor\":\"#2a3f5f\"},\"baxis\":{\"endlinecolor\":\"#2a3f5f\",\"gridcolor\":\"white\",\"linecolor\":\"white\",\"minorgridcolor\":\"white\",\"startlinecolor\":\"#2a3f5f\"},\"type\":\"carpet\"}],\"choropleth\":[{\"colorbar\":{\"outlinewidth\":0,\"ticks\":\"\"},\"type\":\"choropleth\"}],\"contour\":[{\"colorbar\":{\"outlinewidth\":0,\"ticks\":\"\"},\"colorscale\":[[0.0,\"#0d0887\"],[0.1111111111111111,\"#46039f\"],[0.2222222222222222,\"#7201a8\"],[0.3333333333333333,\"#9c179e\"],[0.4444444444444444,\"#bd3786\"],[0.5555555555555556,\"#d8576b\"],[0.6666666666666666,\"#ed7953\"],[0.7777777777777778,\"#fb9f3a\"],[0.8888888888888888,\"#fdca26\"],[1.0,\"#f0f921\"]],\"type\":\"contour\"}],\"contourcarpet\":[{\"colorbar\":{\"outlinewidth\":0,\"ticks\":\"\"},\"type\":\"contourcarpet\"}],\"heatmap\":[{\"colorbar\":{\"outlinewidth\":0,\"ticks\":\"\"},\"colorscale\":[[0.0,\"#0d0887\"],[0.1111111111111111,\"#46039f\"],[0.2222222222222222,\"#7201a8\"],[0.3333333333333333,\"#9c179e\"],[0.4444444444444444,\"#bd3786\"],[0.5555555555555556,\"#d8576b\"],[0.6666666666666666,\"#ed7953\"],[0.7777777777777778,\"#fb9f3a\"],[0.8888888888888888,\"#fdca26\"],[1.0,\"#f0f921\"]],\"type\":\"heatmap\"}],\"heatmapgl\":[{\"colorbar\":{\"outlinewidth\":0,\"ticks\":\"\"},\"colorscale\":[[0.0,\"#0d0887\"],[0.1111111111111111,\"#46039f\"],[0.2222222222222222,\"#7201a8\"],[0.3333333333333333,\"#9c179e\"],[0.4444444444444444,\"#bd3786\"],[0.5555555555555556,\"#d8576b\"],[0.6666666666666666,\"#ed7953\"],[0.7777777777777778,\"#fb9f3a\"],[0.8888888888888888,\"#fdca26\"],[1.0,\"#f0f921\"]],\"type\":\"heatmapgl\"}],\"histogram\":[{\"marker\":{\"pattern\":{\"fillmode\":\"overlay\",\"size\":10,\"solidity\":0.2}},\"type\":\"histogram\"}],\"histogram2d\":[{\"colorbar\":{\"outlinewidth\":0,\"ticks\":\"\"},\"colorscale\":[[0.0,\"#0d0887\"],[0.1111111111111111,\"#46039f\"],[0.2222222222222222,\"#7201a8\"],[0.3333333333333333,\"#9c179e\"],[0.4444444444444444,\"#bd3786\"],[0.5555555555555556,\"#d8576b\"],[0.6666666666666666,\"#ed7953\"],[0.7777777777777778,\"#fb9f3a\"],[0.8888888888888888,\"#fdca26\"],[1.0,\"#f0f921\"]],\"type\":\"histogram2d\"}],\"histogram2dcontour\":[{\"colorbar\":{\"outlinewidth\":0,\"ticks\":\"\"},\"colorscale\":[[0.0,\"#0d0887\"],[0.1111111111111111,\"#46039f\"],[0.2222222222222222,\"#7201a8\"],[0.3333333333333333,\"#9c179e\"],[0.4444444444444444,\"#bd3786\"],[0.5555555555555556,\"#d8576b\"],[0.6666666666666666,\"#ed7953\"],[0.7777777777777778,\"#fb9f3a\"],[0.8888888888888888,\"#fdca26\"],[1.0,\"#f0f921\"]],\"type\":\"histogram2dcontour\"}],\"mesh3d\":[{\"colorbar\":{\"outlinewidth\":0,\"ticks\":\"\"},\"type\":\"mesh3d\"}],\"parcoords\":[{\"line\":{\"colorbar\":{\"outlinewidth\":0,\"ticks\":\"\"}},\"type\":\"parcoords\"}],\"pie\":[{\"automargin\":true,\"type\":\"pie\"}],\"scatter\":[{\"marker\":{\"colorbar\":{\"outlinewidth\":0,\"ticks\":\"\"}},\"type\":\"scatter\"}],\"scatter3d\":[{\"line\":{\"colorbar\":{\"outlinewidth\":0,\"ticks\":\"\"}},\"marker\":{\"colorbar\":{\"outlinewidth\":0,\"ticks\":\"\"}},\"type\":\"scatter3d\"}],\"scattercarpet\":[{\"marker\":{\"colorbar\":{\"outlinewidth\":0,\"ticks\":\"\"}},\"type\":\"scattercarpet\"}],\"scattergeo\":[{\"marker\":{\"colorbar\":{\"outlinewidth\":0,\"ticks\":\"\"}},\"type\":\"scattergeo\"}],\"scattergl\":[{\"marker\":{\"colorbar\":{\"outlinewidth\":0,\"ticks\":\"\"}},\"type\":\"scattergl\"}],\"scattermapbox\":[{\"marker\":{\"colorbar\":{\"outlinewidth\":0,\"ticks\":\"\"}},\"type\":\"scattermapbox\"}],\"scatterpolar\":[{\"marker\":{\"colorbar\":{\"outlinewidth\":0,\"ticks\":\"\"}},\"type\":\"scatterpolar\"}],\"scatterpolargl\":[{\"marker\":{\"colorbar\":{\"outlinewidth\":0,\"ticks\":\"\"}},\"type\":\"scatterpolargl\"}],\"scatterternary\":[{\"marker\":{\"colorbar\":{\"outlinewidth\":0,\"ticks\":\"\"}},\"type\":\"scatterternary\"}],\"surface\":[{\"colorbar\":{\"outlinewidth\":0,\"ticks\":\"\"},\"colorscale\":[[0.0,\"#0d0887\"],[0.1111111111111111,\"#46039f\"],[0.2222222222222222,\"#7201a8\"],[0.3333333333333333,\"#9c179e\"],[0.4444444444444444,\"#bd3786\"],[0.5555555555555556,\"#d8576b\"],[0.6666666666666666,\"#ed7953\"],[0.7777777777777778,\"#fb9f3a\"],[0.8888888888888888,\"#fdca26\"],[1.0,\"#f0f921\"]],\"type\":\"surface\"}],\"table\":[{\"cells\":{\"fill\":{\"color\":\"#EBF0F8\"},\"line\":{\"color\":\"white\"}},\"header\":{\"fill\":{\"color\":\"#C8D4E3\"},\"line\":{\"color\":\"white\"}},\"type\":\"table\"}]},\"layout\":{\"annotationdefaults\":{\"arrowcolor\":\"#2a3f5f\",\"arrowhead\":0,\"arrowwidth\":1},\"autotypenumbers\":\"strict\",\"coloraxis\":{\"colorbar\":{\"outlinewidth\":0,\"ticks\":\"\"}},\"colorscale\":{\"diverging\":[[0,\"#8e0152\"],[0.1,\"#c51b7d\"],[0.2,\"#de77ae\"],[0.3,\"#f1b6da\"],[0.4,\"#fde0ef\"],[0.5,\"#f7f7f7\"],[0.6,\"#e6f5d0\"],[0.7,\"#b8e186\"],[0.8,\"#7fbc41\"],[0.9,\"#4d9221\"],[1,\"#276419\"]],\"sequential\":[[0.0,\"#0d0887\"],[0.1111111111111111,\"#46039f\"],[0.2222222222222222,\"#7201a8\"],[0.3333333333333333,\"#9c179e\"],[0.4444444444444444,\"#bd3786\"],[0.5555555555555556,\"#d8576b\"],[0.6666666666666666,\"#ed7953\"],[0.7777777777777778,\"#fb9f3a\"],[0.8888888888888888,\"#fdca26\"],[1.0,\"#f0f921\"]],\"sequentialminus\":[[0.0,\"#0d0887\"],[0.1111111111111111,\"#46039f\"],[0.2222222222222222,\"#7201a8\"],[0.3333333333333333,\"#9c179e\"],[0.4444444444444444,\"#bd3786\"],[0.5555555555555556,\"#d8576b\"],[0.6666666666666666,\"#ed7953\"],[0.7777777777777778,\"#fb9f3a\"],[0.8888888888888888,\"#fdca26\"],[1.0,\"#f0f921\"]]},\"colorway\":[\"#636efa\",\"#EF553B\",\"#00cc96\",\"#ab63fa\",\"#FFA15A\",\"#19d3f3\",\"#FF6692\",\"#B6E880\",\"#FF97FF\",\"#FECB52\"],\"font\":{\"color\":\"#2a3f5f\"},\"geo\":{\"bgcolor\":\"white\",\"lakecolor\":\"white\",\"landcolor\":\"#E5ECF6\",\"showlakes\":true,\"showland\":true,\"subunitcolor\":\"white\"},\"hoverlabel\":{\"align\":\"left\"},\"hovermode\":\"closest\",\"mapbox\":{\"style\":\"light\"},\"paper_bgcolor\":\"white\",\"plot_bgcolor\":\"#E5ECF6\",\"polar\":{\"angularaxis\":{\"gridcolor\":\"white\",\"linecolor\":\"white\",\"ticks\":\"\"},\"bgcolor\":\"#E5ECF6\",\"radialaxis\":{\"gridcolor\":\"white\",\"linecolor\":\"white\",\"ticks\":\"\"}},\"scene\":{\"xaxis\":{\"backgroundcolor\":\"#E5ECF6\",\"gridcolor\":\"white\",\"gridwidth\":2,\"linecolor\":\"white\",\"showbackground\":true,\"ticks\":\"\",\"zerolinecolor\":\"white\"},\"yaxis\":{\"backgroundcolor\":\"#E5ECF6\",\"gridcolor\":\"white\",\"gridwidth\":2,\"linecolor\":\"white\",\"showbackground\":true,\"ticks\":\"\",\"zerolinecolor\":\"white\"},\"zaxis\":{\"backgroundcolor\":\"#E5ECF6\",\"gridcolor\":\"white\",\"gridwidth\":2,\"linecolor\":\"white\",\"showbackground\":true,\"ticks\":\"\",\"zerolinecolor\":\"white\"}},\"shapedefaults\":{\"line\":{\"color\":\"#2a3f5f\"}},\"ternary\":{\"aaxis\":{\"gridcolor\":\"white\",\"linecolor\":\"white\",\"ticks\":\"\"},\"baxis\":{\"gridcolor\":\"white\",\"linecolor\":\"white\",\"ticks\":\"\"},\"bgcolor\":\"#E5ECF6\",\"caxis\":{\"gridcolor\":\"white\",\"linecolor\":\"white\",\"ticks\":\"\"}},\"title\":{\"x\":0.05},\"xaxis\":{\"automargin\":true,\"gridcolor\":\"white\",\"linecolor\":\"white\",\"ticks\":\"\",\"title\":{\"standoff\":15},\"zerolinecolor\":\"white\",\"zerolinewidth\":2},\"yaxis\":{\"automargin\":true,\"gridcolor\":\"white\",\"linecolor\":\"white\",\"ticks\":\"\",\"title\":{\"standoff\":15},\"zerolinecolor\":\"white\",\"zerolinewidth\":2}}},\"xaxis\":{\"anchor\":\"y\",\"domain\":[0.0,1.0],\"title\":{\"text\":\"toss_winner\"}},\"yaxis\":{\"anchor\":\"x\",\"domain\":[0.0,1.0],\"title\":{\"text\":\"percentage_winning\"}},\"legend\":{\"tracegroupgap\":0},\"title\":{\"text\":\"Percentage of team win where the toss decision is fielding\"},\"barmode\":\"relative\"},                        {\"responsive\": true}                    ).then(function(){\n",
              "                            \n",
              "var gd = document.getElementById('6305fca5-7fef-4adf-b2a1-ae3292fefdd3');\n",
              "var x = new MutationObserver(function (mutations, observer) {{\n",
              "        var display = window.getComputedStyle(gd).display;\n",
              "        if (!display || display === 'none') {{\n",
              "            console.log([gd, 'removed!']);\n",
              "            Plotly.purge(gd);\n",
              "            observer.disconnect();\n",
              "        }}\n",
              "}});\n",
              "\n",
              "// Listen for the removal of the full notebook cells\n",
              "var notebookContainer = gd.closest('#notebook-container');\n",
              "if (notebookContainer) {{\n",
              "    x.observe(notebookContainer, {childList: true});\n",
              "}}\n",
              "\n",
              "// Listen for the clearing of the current output cell\n",
              "var outputEl = gd.closest('.output');\n",
              "if (outputEl) {{\n",
              "    x.observe(outputEl, {childList: true});\n",
              "}}\n",
              "\n",
              "                        })                };                            </script>        </div>\n",
              "</body>\n",
              "</html>"
            ]
          },
          "metadata": {}
        }
      ]
    },
    {
      "cell_type": "code",
      "source": [
        ""
      ],
      "metadata": {
        "id": "T4FwyqjT6iRl"
      },
      "execution_count": null,
      "outputs": []
    },
    {
      "cell_type": "markdown",
      "source": [
        "### observations:\n",
        "1. from the above 2 plots we can clearly see that.  team who won the toss and choosing the batting less number of winning over there.  teams who won the toss and choosing the fielding having the more winning.  But the percentage of winning is high who won the toss and winning the match.  from the toss winning we can assume that teams who didn't won the toss and and given fielding has the huge number of winning and less number of winning percentage.  and teams who did't won the toss and give bat has the high numberr of winning and less number of winning percentage.\n",
        "2. Finally we can conclude that toss winning is not impact the result of the match.  who won the toss or doesn't won the toss propbablity of winning and losing is equal.  But when compared to toss decision.  it impacts the result of the match.  some of the teams like deccan challengers royal challengers Bengaluru having the highest probablity of winning because of toss decision is batting.  but some teams are losing the match.  because of batting.  But whover take the batting has the highest probablity of winning and less number of losing."
      ],
      "metadata": {
        "id": "lLbEpu18BlM6"
      }
    },
    {
      "cell_type": "markdown",
      "source": [
        "# SECTION 3"
      ],
      "metadata": {
        "id": "FpHBqaK3WGFo"
      }
    },
    {
      "cell_type": "code",
      "source": [
        "from pyspark.sql import SparkSession\n",
        "import plotly.express as px\n",
        "\n",
        "# Creating a class database\n",
        "class Database:\n",
        "\n",
        "  # Creating a constructor for a class\n",
        "  # constructor take a value from a csv file\n",
        "  def __init__(self, appName='Work'):\n",
        "    self.spark = (SparkSession\n",
        "    .builder\n",
        "    .appName(appName)\n",
        "    .getOrCreate())\n",
        "\n",
        "    # loading the vanue dataset\n",
        "    try:\n",
        "      self.df_venue = self.spark.read.csv('/content/drive/MyDrive/Colab Notebooks/DataSet/ipl_venue.csv', header=True, inferSchema=True)\n",
        "    except:\n",
        "      print(\"Can't load venue dataset. pleach check file path and syntax\")\n",
        "    \n",
        "    # loading the ipl_ball_by_ball dataset\n",
        "    try:\n",
        "      self.df_ipl_ball = self.spark.read.csv('/content/drive/MyDrive/Colab Notebooks/DataSet/ipl_ball_by_ball.csv', header=True, inferSchema=True)\n",
        "    except:\n",
        "      print(\"Can't load ipl_ball by ball dataset. please check file path and syntax\")\n",
        "    \n",
        "    # loading the matches dataset\n",
        "    try:\n",
        "      self.df_matches = self.spark.read.csv('/content/drive/MyDrive/Colab Notebooks/DataSet/ipl_matches.csv', header=True, inferSchema=True)\n",
        "    except:\n",
        "      print(\"can't load matches dataset. please check the file path and syntax\")\n",
        "\n",
        "    # putting all the data inside the cluster using catalog\n",
        "    self.df_venue.createOrReplaceTempView('venue_df')\n",
        "    self.df_ipl_ball.createOrReplaceTempView('ipl_df')\n",
        "    self.df_matches.createOrReplaceTempView('match_df')\n",
        "    #self.spark.catalog.listTables()\n",
        "\n",
        "\n",
        "  # return the answer to Q1 in Section 2 - return the answer as a dictionary\n",
        "  def get_query1_result(self):\n",
        "    try:\n",
        "      self.new_df = self.df_venue.join(self.df_matches, on='venue_id', how='inner')\n",
        "      self.new_ans_df1 = self.new_df.filter(self.new_df['eliminator']=='Y').select(['venue', 'eliminator']).groupBy('venue').count()\n",
        "      self.ans = self.new_ans_df1.sort('count', ascending=False).select(\"venue\").toPandas()\n",
        "      self.panda1_plot = self.new_ans_df1.sort('count', ascending=False).toPandas()\n",
        "      self.fig = px.bar(panda1_plot, x='venue', y='count', title='Top most hosted venues')\n",
        "      self.fig.show()\n",
        "      return {\"Q1\" : list(self.ans.venue.values)[:3]}\n",
        "    except:\n",
        "      print('Something is Wrong with Query1.  Please check the Query1 code, and try to execute section2.')\n",
        "\n",
        "  # return the answer to Q2 in Section 2 - return the answer as a dictionary\n",
        "  def get_query2_result(self):\n",
        "    try:\n",
        "      self.df_caught = self.df_ipl_ball.where(self.df_ipl_ball['dismissal_kind'] == 'caught').select('fielder').groupBy('fielder').count()\n",
        "      self.query2 = self.df_caught.sort('count', ascending=False).select('fielder').toPandas()\n",
        "      self.panda2_plot = self.query2\n",
        "      self.fig = px.bar(panda2_plot, x='fielder', y='count', title='Most Number of catche taking players')\n",
        "      self.fig.show()\n",
        "      return {'Q2':list(self.query2.fielder.values)[0]}\n",
        "    except:\n",
        "      print('Somethig is wrong with the Query2 code. please check the code and syntax and try to execute section2')\n",
        "\n",
        "  # return the answer to Q3 in Section 2 - return the answer as a dictionary\n",
        "  def get_query3_result(self):\n",
        "    try:\n",
        "      self.new_df = self.df_matches.join(df_ipl_ball, on='match_id', how='inner')\n",
        "      self.method_df = self.new_df.filter(self.new_df['method']=='D/L')\n",
        "\n",
        "      self.pandas3_plot = self.method_df.select(['bowler', 'fielder', 'dismissal_kind']).filter(self.method_df['is_wicket']==1).groupBy(\n",
        "      ['bowler', 'fielder', 'dismissal_kind']).count().sort('count', ascending=False).toPandas()\n",
        "      self.fig = px.bar(pandas3_plot, x='bowler', y='count', title='Most Number of wicket taker')\n",
        "      self.fig.show()\n",
        "      self.query3 = self.method_df.select(['bowler', 'fielder', 'dismissal_kind']).filter(self.method_df['is_wicket']==1).groupBy(\n",
        "      ['bowler', 'fielder', 'dismissal_kind']).count().sort('count', ascending=False).toPandas()\n",
        "\n",
        "      self.pandas3_plot3 = self.new_df.select(['bowler', 'fielder', 'dismissal_kind']).filter(new_df['is_wicket']==1).groupBy(\n",
        "      ['bowler', 'fielder', 'dismissal_kind']).count().sort('count', ascending=False).toPandas()\n",
        "      self.fig = px.bar(pandas3_plot3, x='bowler', y='count', title='most number of wicket taking bowler')\n",
        "      self.fig.show()\n",
        "\n",
        "      self.ans33 = self.new_df.select(['bowler', 'fielder', 'dismissal_kind']).filter(new_df['is_wicket']==1).groupBy(\n",
        "      ['bowler', 'fielder', 'dismissal_kind']).count().sort('count', ascending=False).toPandas()\n",
        "\n",
        "      return {'Q3 most wicket taker ':list(self.query3.bowler.values)[0], \"Q3 most wicket taking bowler:\":list(self.ans33.bowler.values)[0]}\n",
        "    except:\n",
        "      print('Something is wrong with the query3 code.  Please Check and correct it. and try to execute section2')\n",
        "\n",
        "  # return the answer to Q4 in Section 2 - return the answer as a dictionary\n",
        "  def get_query4_result(self):\n",
        "    try:\n",
        "      self.normal_ball_df = self.df_ipl_ball.filter((self.df_ipl_ball['extras_type'] == 'NA') & (self.df_ipl_ball['overs']>7))\n",
        "      self.sum_ipl_df = self.normal_ball_df.groupBy('batsman').sum()\n",
        "      self.ans4_df = self.sum_ipl_df.withColumn('STRIKE_RATE', (self.sum_ipl_df['sum(total_runs)']/self.sum_ipl_df['sum(ball)'])*100).select(['batsman', 'STRIKE_RATE'])\n",
        "      self.query4 = self.ans4_df.sort('STRIKE_RATE', ascending=False).select(['batsman', 'STRIKE_RATE']).toPandas()\n",
        "      self.fig = px.bar(self.ans4_df.sort('STRIKE_RATE', ascending=False).toPandas(), x='batsman', y='STRIKE_RATE', title='Strike Rates of a Batsman')\n",
        "      self.fig.show()\n",
        "      return {'Q4':list(self.query4.batsman.values)[0], 'Q4i':list(self.query4.STRIKE_RATE.values)[0]}\n",
        "    except:\n",
        "      print('Something is wrong with the query4 code.  Please check and correct it and try to execute section 2')\n",
        "\n",
        "  # return the answer to Q5 in Section 2 - return the answer as a dictionary\n",
        "  def get_query5_result(self):\n",
        "    try:\n",
        "      self.new_df = self.df_matches.join(df_ipl_ball, on='match_id', how='inner')\n",
        "      self.new_df1 = self.new_df.join(df_venue, on='venue_id', how='inner')\n",
        "      self.ans5_df = self.new_df1.select(['venue', 'city', 'extra_runs']).groupBy(['venue', 'city']).sum()\n",
        "      self.query5 = self.ans5_df.sort('sum(extra_runs)', ascending=False).select(['venue','city']).toPandas()\n",
        "      self.fig = px.bar(self.ans5_df.sort('sum(extra_runs)', ascending=False).toPandas(), x='venue', y='sum(extra_runs)', title=\"venue where highest extra run present\")\n",
        "      self.fig.show()\n",
        "      return {'Q5':list(self.query5.venue.values)[0], 'Q5i':list(self.query5.city.values)[0]}\n",
        "    except:\n",
        "      print('Something is wrong with the query5 code.  Please check and correct it and try to execute section2')\n",
        "\n",
        "  # return the answer to Q6 in Section 2 - return the answer as a dictionary\n",
        "  def get_query6_result(self):\n",
        "    try:\n",
        "      self.neutral_df = self.df_matches.filter(self.df_matches['neutral_venue']==1)\n",
        "      self.players = self.neutral_df.groupby('player_of_match').count()\n",
        "      self.query6 = self.players.sort('count', ascending=False).select('player_of_match').toPandas()\n",
        "      self.pandas6_plot = self.players.sort('count', ascending=False).toPandas()\n",
        "      self.fig = px.bar(pandas6_plot, x='player_of_match', y='count', title='Highest player of match award')\n",
        "      self.fig.show()\n",
        "      return {'Q6':list(self.query6.player_of_match.values)[0]}\n",
        "    except:\n",
        "      print('Something is wrong with the query6 code.  Please check and correct it and try to execute section2')\n",
        "\n",
        "  # return the answer to Q7 in Section 2 - return the answer as a dictionary\n",
        "  def get_query7_result(self):\n",
        "    try:\n",
        "      self.scores = self.df_ipl_ball.select(['batsman', 'total_runs']).groupBy('batsman').sum().sort('sum(total_runs)')\n",
        "      self.striker = self.df_ipl_ball.filter(((self.df_ipl_ball['dismissal_kind']!='NA')&(self.df_ipl_ball['dismissal_kind']!='retired hurt'))&(\n",
        "      self.df_ipl_ball.player_dismissed==self.df_ipl_ball.batsman)).select(\n",
        "      ['batsman', 'dismissal_kind']).groupBy('batsman').count()\n",
        "      self.non_striker = self.df_ipl_ball.filter((self.df_ipl_ball.dismissal_kind=='run out') & (self.df_ipl_ball.player_dismissed==self.df_ipl_ball.non_striker\n",
        "                                                                )).groupBy('non_striker').count()\n",
        "      self.non_striker = self.non_striker.withColumnRenamed('non_striker', 'batsman')\n",
        "      self.non_striker = self.non_striker.withColumnRenamed('count', 'count1')\n",
        "      self.new_df7 = self.striker.join(non_striker, on='batsman', how='inner')\n",
        "      self.new_df7 = self.new_df7.withColumn('total_out', self.new_df7['count']+self.new_df7['count1'])\n",
        "      self.ans_df7 = self.new_df7.join(scores, on='batsman', how='inner')\n",
        "      self.ans_df7 = self.ans_df7.withColumn('Batting_avg', self.ans_df7['sum(total_runs)']/self.ans_df7['total_out'])\n",
        "      self.ans_df7 = self.ans_df7.drop('count')\n",
        "      self.ans_df7 = self.ans_df7.drop('count1')\n",
        "      self.query7 = self.ans_df7.sort('Batting_avg', ascending=False).select('batsman').toPandas()\n",
        "      self.pandas7_plot = ans_df7.sort('Batting_avg', ascending=False).toPandas()\n",
        "      self.fig = px.bar(pandas7_plot, x='batsman', y='Batting_avg', title='Batting Avg of Batsmans')\n",
        "      self.fig.show()\n",
        "      return {\"Q7\": list(self.query7.batsman.values)[:10]}\n",
        "    except:\n",
        "      print('Something is wrong with the query7 code.  Please check and correct it. and try to execute section2.')\n",
        "\n",
        "  # return the answer to Q8 in Section 2 - return the answer as a dictionary\n",
        "  def get_query8_result(self):\n",
        "    try:\n",
        "      self.count_umpire1 = self.df_matches.select('umpire1').groupBy('umpire1').count()\n",
        "      self.count_umpire2 = self.df_matches.select('umpire2').groupBy('umpire2').count()\n",
        "      self.count_umpire2 = self.count_umpire2.withColumnRenamed('count', 'count1')\n",
        "      self.count_umpire2 = self.count_umpire2.withColumnRenamed('umpire2', 'umpire1')\n",
        "      self.ans_df8 = self.count_umpire1.join(count_umpire2, on='umpire1', how='inner')\n",
        "      self.ans_df8 = self.ans_df8.withColumn('total_count', self.ans_df8['count']+self.ans_df8['count1'])\n",
        "      self.query8 = self.ans_df8.sort('total_count', ascending=False).select('umpire1').toPandas()\n",
        "      self.fig = px.bar(self.ans_df8.sort('total_count', ascending=False).toPandas(), x='umpire1', y='total_count')\n",
        "      self.fig.show()\n",
        "      return {'Q8': list(self.query8.umpire1.values)[0]}\n",
        "    except:\n",
        "      print('Something is wrong with the query8 code.  Please check and correct it and try to execute section 2')\n",
        "\n",
        "  # return the answer to Q9 in Section 2 - return the answer as a dictionary\n",
        "  def get_query9_result(self):\n",
        "    try:\n",
        "      self.match_id = self.df_ipl_ball.filter(self.df_ipl_ball.batsman == 'V Kohli').groupBy('match_id').agg(\n",
        "        func.col('match_id'), func.sum('batsman_runs')).sort('sum(batsman_runs)', ascending=False).collect()[0]['match_id']\n",
        "      self.query9 = self.df_venue.filter(self.df_venue['venue_id']==self.df_matches.filter(self.df_matches.match_id == match_id).collect()[0]['venue_id']).select(['venue', 'city']).toPandas()\n",
        "      return {'Q9':list(self.query9.venue.values)[0], 'Q9i':list(self.query9.city.values)[0]}\n",
        "    except:\n",
        "      print('Something is wrong with the query9 code.  Please check and correct it and try to execute section 2')\n",
        "\n",
        "  # return the aswer to Q10 in Section 2 - return the answer as a dictionary\n",
        "  def get_query10_result(self):\n",
        "    try:\n",
        "      self.toss_mat_win = self.df_matches.select(['toss_winner', 'toss_decision', 'winner', 'result_margin']).filter(self.df_matches.toss_winner==self.df_matches.winner)\n",
        "      self.toss_mat_loss = self.df_matches.select(['toss_winner', 'toss_decision', 'winner', 'result_margin']).filter(self.df_matches.toss_winner!=self.df_matches.winner)\n",
        "      self.toss_mat_win = self.toss_mat_win.withColumn('win1', self.toss_mat_win.result_margin-self.toss_mat_win.result_margin+1)\n",
        "      self.toss_mat_loss = self.toss_mat_loss.withColumn('win1', self.toss_mat_loss.result_margin-self.toss_mat_loss.result_margin+1)\n",
        "      self.toss_win = self.toss_mat_win.filter(self.toss_mat_win.toss_decision=='bat')\n",
        "      self.toss_loss = self.toss_mat_loss.filter(self.toss_mat_loss.toss_decision=='bat')\n",
        "      self.toss_win_group = self.toss_win.groupBy('toss_winner').sum()\n",
        "      self.toss_loss_group = self.toss_loss.groupBy('toss_winner').sum()\n",
        "      self.toss_win1 = self.toss_win_group.toPandas()\n",
        "      self.toss_loss1 = self.toss_loss_group.toPandas()\n",
        "      self.fig = px.bar(win_count1, x='toss_winner', y='sum(win1)', title='toss_winner is  match_winner')\n",
        "      self.fig.show()\n",
        "      self.fig1 = px.bar(loss_count1, x='toss_winner', y='sum(win1)', title='toss_winner is not a match_winner')\n",
        "      self.fig1.show()\n",
        "      self.fig2 = px.bar(toss_win1, x='toss_winner', y='sum(win1)', title='toss_winner==match_winner and toss_decition == bat')\n",
        "      self.fig2.show()\n",
        "      self.fig3 = px.bar(toss_loss1, x='toss_winner', y='sum(win1)', title='toss_winner is not match_loser and toss_decition == bat')\n",
        "      self.fig3.show()\n",
        "\n",
        "\n",
        "      self.batting = self.df_matches.select(['toss_winner', 'toss_decision', 'winner']).filter((self.df_matches['toss_winner']==self.df_matches['winner']) & \n",
        "                                                                     (self.df_matches['toss_decision']=='bat')).select('toss_winner').groupBy('toss_winner').count().toPandas()                                                            \n",
        "      self.fielding = self.df_matches.select(['toss_winner', 'toss_decision', 'winner']).filter((self.df_matches['toss_winner']==self.df_matches['winner']) & \n",
        "                                                                     (self.df_matches['toss_decision']=='field')).select('toss_winner').groupBy('toss_winner').count().toPandas()\n",
        "      self.total_count = self.df_matches.select('toss_winner').groupBy('toss_winner').count().toPandas()     \n",
        "      self.batting['percentage_winning'] = self.batting['count']/self.total_count['count']\n",
        "      self.fielding['percentage_winning'] = self.fielding['count']/self.total_count['count'] \n",
        "      self.fig_final = px.bar(batting, x='toss_winner', y='percentage_winning', title = 'Percentage of team win where the toss decision is bat')\n",
        "      self.fig_final.show() \n",
        "      self.fig_final1 = px.bar(fielding, x='toss_winner', y='percentage_winning', title = 'Percentage of team win where the toss decision is fielding')\n",
        "      self.fig_final1.show()\n",
        "      return {'Q10': 'With respect to toss decision there is a impact in result'}                                                   \n",
        "\n",
        "\n",
        "    except:\n",
        "      print('Something Wrong with the query10 code.  Please check and correct it, or try to run section 2 also')\n"
      ],
      "metadata": {
        "id": "y5cEQBLSd6jH"
      },
      "execution_count": null,
      "outputs": []
    },
    {
      "cell_type": "code",
      "source": [
        "db = Database()\n",
        "db.get_query1_result()"
      ],
      "metadata": {
        "colab": {
          "base_uri": "https://localhost:8080/",
          "height": 594
        },
        "id": "nApcIFu-37XX",
        "outputId": "35ce44f5-48f6-4ef8-8b98-54288b371364"
      },
      "execution_count": null,
      "outputs": [
        {
          "output_type": "display_data",
          "data": {
            "text/html": [
              "<html>\n",
              "<head><meta charset=\"utf-8\" /></head>\n",
              "<body>\n",
              "    <div>            <script src=\"https://cdnjs.cloudflare.com/ajax/libs/mathjax/2.7.5/MathJax.js?config=TeX-AMS-MML_SVG\"></script><script type=\"text/javascript\">if (window.MathJax) {MathJax.Hub.Config({SVG: {font: \"STIX-Web\"}});}</script>                <script type=\"text/javascript\">window.PlotlyConfig = {MathJaxConfig: 'local'};</script>\n",
              "        <script src=\"https://cdn.plot.ly/plotly-2.8.3.min.js\"></script>                <div id=\"d7ff16b6-a7d6-47c3-b28f-bd57ba970f5f\" class=\"plotly-graph-div\" style=\"height:525px; width:100%;\"></div>            <script type=\"text/javascript\">                                    window.PLOTLYENV=window.PLOTLYENV || {};                                    if (document.getElementById(\"d7ff16b6-a7d6-47c3-b28f-bd57ba970f5f\")) {                    Plotly.newPlot(                        \"d7ff16b6-a7d6-47c3-b28f-bd57ba970f5f\",                        [{\"alignmentgroup\":\"True\",\"hovertemplate\":\"venue=%{x}<br>count=%{y}<extra></extra>\",\"legendgroup\":\"\",\"marker\":{\"color\":\"#636efa\",\"pattern\":{\"shape\":\"\"}},\"name\":\"\",\"offsetgroup\":\"\",\"orientation\":\"v\",\"showlegend\":false,\"textposition\":\"auto\",\"x\":[\"Dubai International Cricket Stadium\",\"Sheikh Zayed Stadium\",\"Sardar Patel Stadium, Motera\",\"Feroz Shah Kotla\",\"Rajiv Gandhi International Stadium, Uppal\",\"M.Chinnaswamy Stadium\",\"Wankhede Stadium\",\"Newlands\",\"Saurashtra Cricket Association Stadium\",\"MA Chidambaram Stadium, Chepauk\"],\"xaxis\":\"x\",\"y\":[3,2,1,1,1,1,1,1,1,1],\"yaxis\":\"y\",\"type\":\"bar\"}],                        {\"template\":{\"data\":{\"bar\":[{\"error_x\":{\"color\":\"#2a3f5f\"},\"error_y\":{\"color\":\"#2a3f5f\"},\"marker\":{\"line\":{\"color\":\"#E5ECF6\",\"width\":0.5},\"pattern\":{\"fillmode\":\"overlay\",\"size\":10,\"solidity\":0.2}},\"type\":\"bar\"}],\"barpolar\":[{\"marker\":{\"line\":{\"color\":\"#E5ECF6\",\"width\":0.5},\"pattern\":{\"fillmode\":\"overlay\",\"size\":10,\"solidity\":0.2}},\"type\":\"barpolar\"}],\"carpet\":[{\"aaxis\":{\"endlinecolor\":\"#2a3f5f\",\"gridcolor\":\"white\",\"linecolor\":\"white\",\"minorgridcolor\":\"white\",\"startlinecolor\":\"#2a3f5f\"},\"baxis\":{\"endlinecolor\":\"#2a3f5f\",\"gridcolor\":\"white\",\"linecolor\":\"white\",\"minorgridcolor\":\"white\",\"startlinecolor\":\"#2a3f5f\"},\"type\":\"carpet\"}],\"choropleth\":[{\"colorbar\":{\"outlinewidth\":0,\"ticks\":\"\"},\"type\":\"choropleth\"}],\"contour\":[{\"colorbar\":{\"outlinewidth\":0,\"ticks\":\"\"},\"colorscale\":[[0.0,\"#0d0887\"],[0.1111111111111111,\"#46039f\"],[0.2222222222222222,\"#7201a8\"],[0.3333333333333333,\"#9c179e\"],[0.4444444444444444,\"#bd3786\"],[0.5555555555555556,\"#d8576b\"],[0.6666666666666666,\"#ed7953\"],[0.7777777777777778,\"#fb9f3a\"],[0.8888888888888888,\"#fdca26\"],[1.0,\"#f0f921\"]],\"type\":\"contour\"}],\"contourcarpet\":[{\"colorbar\":{\"outlinewidth\":0,\"ticks\":\"\"},\"type\":\"contourcarpet\"}],\"heatmap\":[{\"colorbar\":{\"outlinewidth\":0,\"ticks\":\"\"},\"colorscale\":[[0.0,\"#0d0887\"],[0.1111111111111111,\"#46039f\"],[0.2222222222222222,\"#7201a8\"],[0.3333333333333333,\"#9c179e\"],[0.4444444444444444,\"#bd3786\"],[0.5555555555555556,\"#d8576b\"],[0.6666666666666666,\"#ed7953\"],[0.7777777777777778,\"#fb9f3a\"],[0.8888888888888888,\"#fdca26\"],[1.0,\"#f0f921\"]],\"type\":\"heatmap\"}],\"heatmapgl\":[{\"colorbar\":{\"outlinewidth\":0,\"ticks\":\"\"},\"colorscale\":[[0.0,\"#0d0887\"],[0.1111111111111111,\"#46039f\"],[0.2222222222222222,\"#7201a8\"],[0.3333333333333333,\"#9c179e\"],[0.4444444444444444,\"#bd3786\"],[0.5555555555555556,\"#d8576b\"],[0.6666666666666666,\"#ed7953\"],[0.7777777777777778,\"#fb9f3a\"],[0.8888888888888888,\"#fdca26\"],[1.0,\"#f0f921\"]],\"type\":\"heatmapgl\"}],\"histogram\":[{\"marker\":{\"pattern\":{\"fillmode\":\"overlay\",\"size\":10,\"solidity\":0.2}},\"type\":\"histogram\"}],\"histogram2d\":[{\"colorbar\":{\"outlinewidth\":0,\"ticks\":\"\"},\"colorscale\":[[0.0,\"#0d0887\"],[0.1111111111111111,\"#46039f\"],[0.2222222222222222,\"#7201a8\"],[0.3333333333333333,\"#9c179e\"],[0.4444444444444444,\"#bd3786\"],[0.5555555555555556,\"#d8576b\"],[0.6666666666666666,\"#ed7953\"],[0.7777777777777778,\"#fb9f3a\"],[0.8888888888888888,\"#fdca26\"],[1.0,\"#f0f921\"]],\"type\":\"histogram2d\"}],\"histogram2dcontour\":[{\"colorbar\":{\"outlinewidth\":0,\"ticks\":\"\"},\"colorscale\":[[0.0,\"#0d0887\"],[0.1111111111111111,\"#46039f\"],[0.2222222222222222,\"#7201a8\"],[0.3333333333333333,\"#9c179e\"],[0.4444444444444444,\"#bd3786\"],[0.5555555555555556,\"#d8576b\"],[0.6666666666666666,\"#ed7953\"],[0.7777777777777778,\"#fb9f3a\"],[0.8888888888888888,\"#fdca26\"],[1.0,\"#f0f921\"]],\"type\":\"histogram2dcontour\"}],\"mesh3d\":[{\"colorbar\":{\"outlinewidth\":0,\"ticks\":\"\"},\"type\":\"mesh3d\"}],\"parcoords\":[{\"line\":{\"colorbar\":{\"outlinewidth\":0,\"ticks\":\"\"}},\"type\":\"parcoords\"}],\"pie\":[{\"automargin\":true,\"type\":\"pie\"}],\"scatter\":[{\"marker\":{\"colorbar\":{\"outlinewidth\":0,\"ticks\":\"\"}},\"type\":\"scatter\"}],\"scatter3d\":[{\"line\":{\"colorbar\":{\"outlinewidth\":0,\"ticks\":\"\"}},\"marker\":{\"colorbar\":{\"outlinewidth\":0,\"ticks\":\"\"}},\"type\":\"scatter3d\"}],\"scattercarpet\":[{\"marker\":{\"colorbar\":{\"outlinewidth\":0,\"ticks\":\"\"}},\"type\":\"scattercarpet\"}],\"scattergeo\":[{\"marker\":{\"colorbar\":{\"outlinewidth\":0,\"ticks\":\"\"}},\"type\":\"scattergeo\"}],\"scattergl\":[{\"marker\":{\"colorbar\":{\"outlinewidth\":0,\"ticks\":\"\"}},\"type\":\"scattergl\"}],\"scattermapbox\":[{\"marker\":{\"colorbar\":{\"outlinewidth\":0,\"ticks\":\"\"}},\"type\":\"scattermapbox\"}],\"scatterpolar\":[{\"marker\":{\"colorbar\":{\"outlinewidth\":0,\"ticks\":\"\"}},\"type\":\"scatterpolar\"}],\"scatterpolargl\":[{\"marker\":{\"colorbar\":{\"outlinewidth\":0,\"ticks\":\"\"}},\"type\":\"scatterpolargl\"}],\"scatterternary\":[{\"marker\":{\"colorbar\":{\"outlinewidth\":0,\"ticks\":\"\"}},\"type\":\"scatterternary\"}],\"surface\":[{\"colorbar\":{\"outlinewidth\":0,\"ticks\":\"\"},\"colorscale\":[[0.0,\"#0d0887\"],[0.1111111111111111,\"#46039f\"],[0.2222222222222222,\"#7201a8\"],[0.3333333333333333,\"#9c179e\"],[0.4444444444444444,\"#bd3786\"],[0.5555555555555556,\"#d8576b\"],[0.6666666666666666,\"#ed7953\"],[0.7777777777777778,\"#fb9f3a\"],[0.8888888888888888,\"#fdca26\"],[1.0,\"#f0f921\"]],\"type\":\"surface\"}],\"table\":[{\"cells\":{\"fill\":{\"color\":\"#EBF0F8\"},\"line\":{\"color\":\"white\"}},\"header\":{\"fill\":{\"color\":\"#C8D4E3\"},\"line\":{\"color\":\"white\"}},\"type\":\"table\"}]},\"layout\":{\"annotationdefaults\":{\"arrowcolor\":\"#2a3f5f\",\"arrowhead\":0,\"arrowwidth\":1},\"autotypenumbers\":\"strict\",\"coloraxis\":{\"colorbar\":{\"outlinewidth\":0,\"ticks\":\"\"}},\"colorscale\":{\"diverging\":[[0,\"#8e0152\"],[0.1,\"#c51b7d\"],[0.2,\"#de77ae\"],[0.3,\"#f1b6da\"],[0.4,\"#fde0ef\"],[0.5,\"#f7f7f7\"],[0.6,\"#e6f5d0\"],[0.7,\"#b8e186\"],[0.8,\"#7fbc41\"],[0.9,\"#4d9221\"],[1,\"#276419\"]],\"sequential\":[[0.0,\"#0d0887\"],[0.1111111111111111,\"#46039f\"],[0.2222222222222222,\"#7201a8\"],[0.3333333333333333,\"#9c179e\"],[0.4444444444444444,\"#bd3786\"],[0.5555555555555556,\"#d8576b\"],[0.6666666666666666,\"#ed7953\"],[0.7777777777777778,\"#fb9f3a\"],[0.8888888888888888,\"#fdca26\"],[1.0,\"#f0f921\"]],\"sequentialminus\":[[0.0,\"#0d0887\"],[0.1111111111111111,\"#46039f\"],[0.2222222222222222,\"#7201a8\"],[0.3333333333333333,\"#9c179e\"],[0.4444444444444444,\"#bd3786\"],[0.5555555555555556,\"#d8576b\"],[0.6666666666666666,\"#ed7953\"],[0.7777777777777778,\"#fb9f3a\"],[0.8888888888888888,\"#fdca26\"],[1.0,\"#f0f921\"]]},\"colorway\":[\"#636efa\",\"#EF553B\",\"#00cc96\",\"#ab63fa\",\"#FFA15A\",\"#19d3f3\",\"#FF6692\",\"#B6E880\",\"#FF97FF\",\"#FECB52\"],\"font\":{\"color\":\"#2a3f5f\"},\"geo\":{\"bgcolor\":\"white\",\"lakecolor\":\"white\",\"landcolor\":\"#E5ECF6\",\"showlakes\":true,\"showland\":true,\"subunitcolor\":\"white\"},\"hoverlabel\":{\"align\":\"left\"},\"hovermode\":\"closest\",\"mapbox\":{\"style\":\"light\"},\"paper_bgcolor\":\"white\",\"plot_bgcolor\":\"#E5ECF6\",\"polar\":{\"angularaxis\":{\"gridcolor\":\"white\",\"linecolor\":\"white\",\"ticks\":\"\"},\"bgcolor\":\"#E5ECF6\",\"radialaxis\":{\"gridcolor\":\"white\",\"linecolor\":\"white\",\"ticks\":\"\"}},\"scene\":{\"xaxis\":{\"backgroundcolor\":\"#E5ECF6\",\"gridcolor\":\"white\",\"gridwidth\":2,\"linecolor\":\"white\",\"showbackground\":true,\"ticks\":\"\",\"zerolinecolor\":\"white\"},\"yaxis\":{\"backgroundcolor\":\"#E5ECF6\",\"gridcolor\":\"white\",\"gridwidth\":2,\"linecolor\":\"white\",\"showbackground\":true,\"ticks\":\"\",\"zerolinecolor\":\"white\"},\"zaxis\":{\"backgroundcolor\":\"#E5ECF6\",\"gridcolor\":\"white\",\"gridwidth\":2,\"linecolor\":\"white\",\"showbackground\":true,\"ticks\":\"\",\"zerolinecolor\":\"white\"}},\"shapedefaults\":{\"line\":{\"color\":\"#2a3f5f\"}},\"ternary\":{\"aaxis\":{\"gridcolor\":\"white\",\"linecolor\":\"white\",\"ticks\":\"\"},\"baxis\":{\"gridcolor\":\"white\",\"linecolor\":\"white\",\"ticks\":\"\"},\"bgcolor\":\"#E5ECF6\",\"caxis\":{\"gridcolor\":\"white\",\"linecolor\":\"white\",\"ticks\":\"\"}},\"title\":{\"x\":0.05},\"xaxis\":{\"automargin\":true,\"gridcolor\":\"white\",\"linecolor\":\"white\",\"ticks\":\"\",\"title\":{\"standoff\":15},\"zerolinecolor\":\"white\",\"zerolinewidth\":2},\"yaxis\":{\"automargin\":true,\"gridcolor\":\"white\",\"linecolor\":\"white\",\"ticks\":\"\",\"title\":{\"standoff\":15},\"zerolinecolor\":\"white\",\"zerolinewidth\":2}}},\"xaxis\":{\"anchor\":\"y\",\"domain\":[0.0,1.0],\"title\":{\"text\":\"venue\"}},\"yaxis\":{\"anchor\":\"x\",\"domain\":[0.0,1.0],\"title\":{\"text\":\"count\"}},\"legend\":{\"tracegroupgap\":0},\"title\":{\"text\":\"Top most hosted venues\"},\"barmode\":\"relative\"},                        {\"responsive\": true}                    ).then(function(){\n",
              "                            \n",
              "var gd = document.getElementById('d7ff16b6-a7d6-47c3-b28f-bd57ba970f5f');\n",
              "var x = new MutationObserver(function (mutations, observer) {{\n",
              "        var display = window.getComputedStyle(gd).display;\n",
              "        if (!display || display === 'none') {{\n",
              "            console.log([gd, 'removed!']);\n",
              "            Plotly.purge(gd);\n",
              "            observer.disconnect();\n",
              "        }}\n",
              "}});\n",
              "\n",
              "// Listen for the removal of the full notebook cells\n",
              "var notebookContainer = gd.closest('#notebook-container');\n",
              "if (notebookContainer) {{\n",
              "    x.observe(notebookContainer, {childList: true});\n",
              "}}\n",
              "\n",
              "// Listen for the clearing of the current output cell\n",
              "var outputEl = gd.closest('.output');\n",
              "if (outputEl) {{\n",
              "    x.observe(outputEl, {childList: true});\n",
              "}}\n",
              "\n",
              "                        })                };                            </script>        </div>\n",
              "</body>\n",
              "</html>"
            ]
          },
          "metadata": {}
        },
        {
          "output_type": "execute_result",
          "data": {
            "text/plain": [
              "{'Q1': ['Dubai International Cricket Stadium',\n",
              "  'Sheikh Zayed Stadium',\n",
              "  'Sardar Patel Stadium, Motera']}"
            ]
          },
          "metadata": {},
          "execution_count": 163
        }
      ]
    },
    {
      "cell_type": "code",
      "source": [
        "\n"
      ],
      "metadata": {
        "id": "jKBxUStB5k_S"
      },
      "execution_count": null,
      "outputs": []
    }
  ]
}